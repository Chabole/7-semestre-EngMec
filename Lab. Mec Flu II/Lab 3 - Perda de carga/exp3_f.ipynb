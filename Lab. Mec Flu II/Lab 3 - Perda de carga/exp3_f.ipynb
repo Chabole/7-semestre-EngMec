{
 "cells": [
  {
   "cell_type": "code",
   "execution_count": 40,
   "metadata": {},
   "outputs": [
    {
     "data": {
      "text/html": [
       "<div>\n",
       "<style scoped>\n",
       "    .dataframe tbody tr th:only-of-type {\n",
       "        vertical-align: middle;\n",
       "    }\n",
       "\n",
       "    .dataframe tbody tr th {\n",
       "        vertical-align: top;\n",
       "    }\n",
       "\n",
       "    .dataframe thead th {\n",
       "        text-align: right;\n",
       "    }\n",
       "</style>\n",
       "<table border=\"1\" class=\"dataframe\">\n",
       "  <thead>\n",
       "    <tr style=\"text-align: right;\">\n",
       "      <th></th>\n",
       "      <th>PO_TL</th>\n",
       "      <th>TL</th>\n",
       "      <th>PO_TR</th>\n",
       "      <th>TR</th>\n",
       "    </tr>\n",
       "  </thead>\n",
       "  <tbody>\n",
       "    <tr>\n",
       "      <th>0</th>\n",
       "      <td>6.4</td>\n",
       "      <td>1.9</td>\n",
       "      <td>2.3</td>\n",
       "      <td>2.7</td>\n",
       "    </tr>\n",
       "    <tr>\n",
       "      <th>4</th>\n",
       "      <td>13.6</td>\n",
       "      <td>3.6</td>\n",
       "      <td>6.5</td>\n",
       "      <td>7.2</td>\n",
       "    </tr>\n",
       "    <tr>\n",
       "      <th>8</th>\n",
       "      <td>17.6</td>\n",
       "      <td>4.3</td>\n",
       "      <td>8.0</td>\n",
       "      <td>8.9</td>\n",
       "    </tr>\n",
       "    <tr>\n",
       "      <th>12</th>\n",
       "      <td>18.7</td>\n",
       "      <td>4.5</td>\n",
       "      <td>8.6</td>\n",
       "      <td>9.7</td>\n",
       "    </tr>\n",
       "  </tbody>\n",
       "</table>\n",
       "</div>"
      ],
      "text/plain": [
       "    PO_TL   TL  PO_TR   TR\n",
       "0     6.4  1.9    2.3  2.7\n",
       "4    13.6  3.6    6.5  7.2\n",
       "8    17.6  4.3    8.0  8.9\n",
       "12   18.7  4.5    8.6  9.7"
      ]
     },
     "execution_count": 40,
     "metadata": {},
     "output_type": "execute_result"
    }
   ],
   "source": [
    "import sys\n",
    "sys.path.append('D:/UNESP/EngMec-UNESP/')\n",
    "import frankenstein as fk\n",
    "\n",
    "import numpy as np\n",
    "import matplotlib.pyplot as plt\n",
    "import pandas as pd\n",
    "from scipy.stats import linregress\n",
    "from uncertainties import ufloat\n",
    "from uncertainties.umath import *  # sin(), etc.\n",
    "import ZebraLib as zb\n",
    "import uncertainties.unumpy as un\n",
    "\n",
    "D1=0.0385; A1 = np.pi*(D1**2)/4\n",
    "Dt=0.0257; At = np.pi*(Dt**2)/4\n",
    "beta = Dt/D1\n",
    "\n",
    "def f_distrib(delta_h):\n",
    "\n",
    "    Vm = calc_vazão(delta_h)[2]\n",
    "    hl = hl_(delta_h)\n",
    "\n",
    "    D1=0.0385 #m\n",
    "    L = 5     #m\n",
    "    return (2*D1*hl)/(L*Vm**2)\n",
    "\n",
    "def f_blassius(delta_h):\n",
    "    Re = calc_vazão(delta_h)[1]\n",
    "    return 0.316/(Re**0.25)\n",
    "\n",
    "def calc_rugosidade(delta_h):\n",
    "\n",
    "    Re = calc_vazão(delta_h)[1]\n",
    "\n",
    "    def rugosidade(Rug, args):\n",
    "        f = f_blassius(delta_h)\n",
    "        #f = f_distrib(delta_h)\n",
    "\n",
    "        A = ((Rug/3.7)**1.11) + (6.9/Re)\n",
    "        return 1/np.sqrt(f) + 1.8*np.log10(A)\n",
    "    Rug, it, res = zb.robustNewton(rugosidade, np.array([3e-4]), args=Re)\n",
    "    return Rug\n",
    "\n",
    "def hl_(delta_h):\n",
    "    '''\n",
    "    Calcula a perda de carga hl dado  \n",
    "    diferença de H do tubo em U [cm] com água.\n",
    "    '''\n",
    "    delta_P = fk.rho_agua*fk.g*(delta_h/100)\n",
    "    return delta_P/fk.rho_ar\n",
    "\n",
    "def calc_vazão(delta_h):\n",
    "    '''\n",
    "    Calcula a vazão em massa, número de Reynouds e velocidade. Obs: delta_h [cm]\n",
    "    '''\n",
    "    D1=0.0385; A1 = np.pi*(D1**2)/4\n",
    "    Dt=0.0257; At = np.pi*(Dt**2)/4\n",
    "    beta = Dt/D1\n",
    "\n",
    "    def residuo_Re(Re, delta_h):\n",
    "        delta_P = fk.rho_agua*fk.g*(delta_h/100)\n",
    "\n",
    "        C = 0.5959 + (0.0312*(beta**2.1)) - (0.184*beta**8) + ((91.71*beta**2.5)/(Re**0.75))\n",
    "        K = C/np.sqrt(1 - beta**4)\n",
    "        return ((fk.rho_ar*Re*fk.mi*A1)/D1) - (K*At*np.sqrt(2*fk.rho_ar*delta_P))\n",
    "        \n",
    "    Re, it, res = (zb.robustNewton(residuo_Re, np.array([1e6]), args=delta_h))\n",
    "    \n",
    "    dot_m = (fk.rho_ar*Re*fk.mi*A1)/D1\n",
    "    velocidade = (Re*fk.mi)/D1\n",
    "    return float(dot_m), float(Re), float(velocidade) #kg/s, adim, m/s\n",
    "\n",
    "def vazão_from_dataframe(df_, key=0):\n",
    "    '''\n",
    "    Calcula a vazão em massa, número de Reynouds e velocidade e retorna em um Dataframe. Obs: delta_h [cm]\n",
    "    '''\n",
    "    arr_po = np.zeros((df_.shape[0], df_.shape[1]-2))\n",
    "    for j in range(arr_po.shape[1]):\n",
    "        col_nome = ['PO_TL', 'PO_TR'][j]\n",
    "        for i in range(arr_po.shape[0]):\n",
    "            delta_h = df_[col_nome].values[i]\n",
    "            arr_po[i, j] = calc_vazão(delta_h)[key] #[0]kg/s, [1]adim, [2]m/s\n",
    "            \n",
    "    return pd.DataFrame(arr_po, columns=['PO_TL', 'PO_TR'])\n",
    "\n",
    "df = pd.read_excel('D:/UNESP/EngMec-UNESP/Lab. Mec Flu II/Lab 3 - Perda de carga/dados3.xlsx', \n",
    "                    sheet_name='df_data')\n",
    "\n",
    "dfr = df[0:15:4]\n",
    "dfr"
   ]
  },
  {
   "cell_type": "code",
   "execution_count": 12,
   "metadata": {},
   "outputs": [
    {
     "data": {
      "text/html": [
       "<div>\n",
       "<style scoped>\n",
       "    .dataframe tbody tr th:only-of-type {\n",
       "        vertical-align: middle;\n",
       "    }\n",
       "\n",
       "    .dataframe tbody tr th {\n",
       "        vertical-align: top;\n",
       "    }\n",
       "\n",
       "    .dataframe thead th {\n",
       "        text-align: right;\n",
       "    }\n",
       "</style>\n",
       "<table border=\"1\" class=\"dataframe\">\n",
       "  <thead>\n",
       "    <tr style=\"text-align: right;\">\n",
       "      <th></th>\n",
       "      <th>key_TL</th>\n",
       "      <th>key_TR</th>\n",
       "      <th>h_TL</th>\n",
       "      <th>h_TR</th>\n",
       "    </tr>\n",
       "  </thead>\n",
       "  <tbody>\n",
       "    <tr>\n",
       "      <th>0</th>\n",
       "      <td>21350.889278</td>\n",
       "      <td>12975.858923</td>\n",
       "      <td>154.859025</td>\n",
       "      <td>220.062825</td>\n",
       "    </tr>\n",
       "    <tr>\n",
       "      <th>1</th>\n",
       "      <td>30894.658717</td>\n",
       "      <td>21513.333229</td>\n",
       "      <td>293.417100</td>\n",
       "      <td>586.834200</td>\n",
       "    </tr>\n",
       "    <tr>\n",
       "      <th>2</th>\n",
       "      <td>35071.422566</td>\n",
       "      <td>23813.883712</td>\n",
       "      <td>350.470425</td>\n",
       "      <td>725.392275</td>\n",
       "    </tr>\n",
       "    <tr>\n",
       "      <th>3</th>\n",
       "      <td>36133.845122</td>\n",
       "      <td>24672.558253</td>\n",
       "      <td>366.771375</td>\n",
       "      <td>790.596075</td>\n",
       "    </tr>\n",
       "  </tbody>\n",
       "</table>\n",
       "</div>"
      ],
      "text/plain": [
       "         key_TL        key_TR        h_TL        h_TR\n",
       "0  21350.889278  12975.858923  154.859025  220.062825\n",
       "1  30894.658717  21513.333229  293.417100  586.834200\n",
       "2  35071.422566  23813.883712  350.470425  725.392275\n",
       "3  36133.845122  24672.558253  366.771375  790.596075"
      ]
     },
     "execution_count": 12,
     "metadata": {},
     "output_type": "execute_result"
    }
   ],
   "source": [
    "df_ = dfr; key=1\n",
    "\n",
    "arr_po = np.zeros((df_.shape[0], df_.shape[1]))\n",
    "for j in range(arr_po.shape[1]):\n",
    "    col_nome = ['PO_TL', 'PO_TR', 'TL', 'TR'][j]\n",
    "    fun = [calc_vazão, calc_vazão, hl, hl]\n",
    "    for i in range(arr_po.shape[0]):\n",
    "\n",
    "        delta_h = df_[col_nome].values[i]\n",
    "        try:\n",
    "            value = fun[j](delta_h)[key]\n",
    "        except:\n",
    "            value = fun[j](delta_h)\n",
    "\n",
    "        arr_po[i, j] = value #[0]kg/s, [1]adim, [2]m/s\n",
    "        \n",
    "df1 = pd.DataFrame(arr_po, columns=['key_TL', 'key_TR', 'h_TL', 'h_TR'])\n",
    "df1"
   ]
  },
  {
   "cell_type": "code",
   "execution_count": 22,
   "metadata": {},
   "outputs": [
    {
     "data": {
      "image/png": "[encoded data removed]",
      "text/plain": [
       "<Figure size 432x288 with 1 Axes>"
      ]
     },
     "metadata": {
      "needs_background": "light"
     },
     "output_type": "display_data"
    }
   ],
   "source": [
    "fig, ax = plt.subplots()\n",
    "ax.set(xlabel=r'$R_e$', ylabel=r'$H_l$', ylim=(0,900))\n",
    "\n",
    "ax.scatter(df1['key_TL'].values, df1['h_TL'].values, label='Tubo liso')\n",
    "ax.scatter(df1['key_TR'].values, df1['h_TR'].values, label='Tubo Rugoso')\n",
    "\n",
    "ax.legend()\n",
    "ax.grid(ls='dotted')\n",
    "\n",
    "fig.savefig('h_Re.pdf', bbox_inches='tight')"
   ]
  },
  {
   "cell_type": "code",
   "execution_count": 30,
   "metadata": {},
   "outputs": [
    {
     "data": {
      "text/html": [
       "<div>\n",
       "<style scoped>\n",
       "    .dataframe tbody tr th:only-of-type {\n",
       "        vertical-align: middle;\n",
       "    }\n",
       "\n",
       "    .dataframe tbody tr th {\n",
       "        vertical-align: top;\n",
       "    }\n",
       "\n",
       "    .dataframe thead th {\n",
       "        text-align: right;\n",
       "    }\n",
       "</style>\n",
       "<table border=\"1\" class=\"dataframe\">\n",
       "  <thead>\n",
       "    <tr style=\"text-align: right;\">\n",
       "      <th></th>\n",
       "      <th>PO_TL</th>\n",
       "      <th>TL</th>\n",
       "      <th>PO_TR</th>\n",
       "      <th>TR</th>\n",
       "    </tr>\n",
       "  </thead>\n",
       "  <tbody>\n",
       "    <tr>\n",
       "      <th>0</th>\n",
       "      <td>6.4</td>\n",
       "      <td>1.9</td>\n",
       "      <td>2.3</td>\n",
       "      <td>2.7</td>\n",
       "    </tr>\n",
       "    <tr>\n",
       "      <th>4</th>\n",
       "      <td>13.6</td>\n",
       "      <td>3.6</td>\n",
       "      <td>6.5</td>\n",
       "      <td>7.2</td>\n",
       "    </tr>\n",
       "    <tr>\n",
       "      <th>8</th>\n",
       "      <td>17.6</td>\n",
       "      <td>4.3</td>\n",
       "      <td>8.0</td>\n",
       "      <td>8.9</td>\n",
       "    </tr>\n",
       "    <tr>\n",
       "      <th>12</th>\n",
       "      <td>18.7</td>\n",
       "      <td>4.5</td>\n",
       "      <td>8.6</td>\n",
       "      <td>9.7</td>\n",
       "    </tr>\n",
       "  </tbody>\n",
       "</table>\n",
       "</div>"
      ],
      "text/plain": [
       "    PO_TL   TL  PO_TR   TR\n",
       "0     6.4  1.9    2.3  2.7\n",
       "4    13.6  3.6    6.5  7.2\n",
       "8    17.6  4.3    8.0  8.9\n",
       "12   18.7  4.5    8.6  9.7"
      ]
     },
     "execution_count": 30,
     "metadata": {},
     "output_type": "execute_result"
    }
   ],
   "source": [
    "dfr"
   ]
  },
  {
   "cell_type": "code",
   "execution_count": 52,
   "metadata": {},
   "outputs": [
    {
     "data": {
      "text/html": [
       "<div>\n",
       "<style scoped>\n",
       "    .dataframe tbody tr th:only-of-type {\n",
       "        vertical-align: middle;\n",
       "    }\n",
       "\n",
       "    .dataframe tbody tr th {\n",
       "        vertical-align: top;\n",
       "    }\n",
       "\n",
       "    .dataframe thead th {\n",
       "        text-align: right;\n",
       "    }\n",
       "</style>\n",
       "<table border=\"1\" class=\"dataframe\">\n",
       "  <thead>\n",
       "    <tr style=\"text-align: right;\">\n",
       "      <th></th>\n",
       "      <th>ed_TL</th>\n",
       "      <th>ed_TR</th>\n",
       "      <th>f_TL</th>\n",
       "      <th>f_TR</th>\n",
       "    </tr>\n",
       "  </thead>\n",
       "  <tbody>\n",
       "    <tr>\n",
       "      <th>0</th>\n",
       "      <td>0.062207</td>\n",
       "      <td>0.057622</td>\n",
       "      <td>0.077951</td>\n",
       "      <td>0.078829</td>\n",
       "    </tr>\n",
       "    <tr>\n",
       "      <th>1</th>\n",
       "      <td>0.064672</td>\n",
       "      <td>0.062265</td>\n",
       "      <td>0.079480</td>\n",
       "      <td>0.080825</td>\n",
       "    </tr>\n",
       "    <tr>\n",
       "      <th>2</th>\n",
       "      <td>0.065373</td>\n",
       "      <td>0.063007</td>\n",
       "      <td>0.079854</td>\n",
       "      <td>0.081180</td>\n",
       "    </tr>\n",
       "    <tr>\n",
       "      <th>3</th>\n",
       "      <td>0.065529</td>\n",
       "      <td>0.063253</td>\n",
       "      <td>0.079946</td>\n",
       "      <td>0.081317</td>\n",
       "    </tr>\n",
       "  </tbody>\n",
       "</table>\n",
       "</div>"
      ],
      "text/plain": [
       "      ed_TL     ed_TR      f_TL      f_TR\n",
       "0  0.062207  0.057622  0.077951  0.078829\n",
       "1  0.064672  0.062265  0.079480  0.080825\n",
       "2  0.065373  0.063007  0.079854  0.081180\n",
       "3  0.065529  0.063253  0.079946  0.081317"
      ]
     },
     "execution_count": 52,
     "metadata": {},
     "output_type": "execute_result"
    }
   ],
   "source": [
    "df_ = dfr; key=1\n",
    "\n",
    "arr_po = np.zeros((df_.shape[0], df_.shape[1]))\n",
    "for j in range(arr_po.shape[1]):\n",
    "    col_nome = ['PO_TL', 'PO_TR', 'TL', 'TR'][j]\n",
    "    fun = [calc_rugosidade, calc_rugosidade, f_distrib, f_distrib]\n",
    "    for i in range(arr_po.shape[0]):\n",
    "\n",
    "        delta_h = df_[col_nome].values[i]\n",
    "        value = fun[j](delta_h)\n",
    "\n",
    "        arr_po[i, j] = value #[0]kg/s, [1]adim, [2]m/s\n",
    "        \n",
    "df1 = pd.DataFrame(arr_po, columns=['ed_TL', 'ed_TR', 'f_TL', 'f_TR'])\n",
    "df1"
   ]
  },
  {
   "cell_type": "code",
   "execution_count": 44,
   "metadata": {},
   "outputs": [
    {
     "name": "stdout",
     "output_type": "stream",
     "text": [
      "\\begin{tabular}{rrrr}\n",
      "\\toprule\n",
      "   ed\\_TL &    ed\\_TR &     f\\_TL &     f\\_TR \\\\\n",
      "\\midrule\n",
      "0.062207 & 0.057622 & 0.077951 & 0.078829 \\\\\n",
      "0.064672 & 0.062265 & 0.079480 & 0.080825 \\\\\n",
      "0.065373 & 0.063007 & 0.079854 & 0.081180 \\\\\n",
      "0.065529 & 0.063253 & 0.079946 & 0.081317 \\\\\n",
      "\\bottomrule\n",
      "\\end{tabular}\n",
      "\n"
     ]
    }
   ],
   "source": [
    "print(df1.to_latex(index=0))"
   ]
  },
  {
   "cell_type": "code",
   "execution_count": 47,
   "metadata": {},
   "outputs": [
    {
     "data": {
      "image/png": "[encoded data removed]",
      "text/plain": [
       "<Figure size 432x288 with 1 Axes>"
      ]
     },
     "metadata": {
      "needs_background": "light"
     },
     "output_type": "display_data"
    }
   ],
   "source": [
    "fig, ax = plt.subplots()\n",
    "ax.set(xlabel=r'$e/D$', ylabel=r'$f$')\n",
    "\n",
    "ax.scatter(df1['ed_TL'].values, df1['f_TL'].values, label='Tubo liso')\n",
    "ax.scatter(df1['ed_TL'].values, df1['f_TR'].values, label='Tubo Rugoso')\n",
    "\n",
    "ax.legend()\n",
    "ax.grid(ls='dotted')\n",
    "\n",
    "fig.savefig('f_ed.pdf', bbox_inches='tight')"
   ]
  },
  {
   "cell_type": "code",
   "execution_count": 48,
   "metadata": {},
   "outputs": [
    {
     "data": {
      "text/html": [
       "<div>\n",
       "<style scoped>\n",
       "    .dataframe tbody tr th:only-of-type {\n",
       "        vertical-align: middle;\n",
       "    }\n",
       "\n",
       "    .dataframe tbody tr th {\n",
       "        vertical-align: top;\n",
       "    }\n",
       "\n",
       "    .dataframe thead th {\n",
       "        text-align: right;\n",
       "    }\n",
       "</style>\n",
       "<table border=\"1\" class=\"dataframe\">\n",
       "  <thead>\n",
       "    <tr style=\"text-align: right;\">\n",
       "      <th></th>\n",
       "      <th>fb_TL</th>\n",
       "      <th>fb_TR</th>\n",
       "      <th>fd_TL</th>\n",
       "      <th>fd_TR</th>\n",
       "    </tr>\n",
       "  </thead>\n",
       "  <tbody>\n",
       "    <tr>\n",
       "      <th>0</th>\n",
       "      <td>0.026142</td>\n",
       "      <td>0.029608</td>\n",
       "      <td>0.077951</td>\n",
       "      <td>0.078829</td>\n",
       "    </tr>\n",
       "    <tr>\n",
       "      <th>1</th>\n",
       "      <td>0.023835</td>\n",
       "      <td>0.026092</td>\n",
       "      <td>0.079480</td>\n",
       "      <td>0.080825</td>\n",
       "    </tr>\n",
       "    <tr>\n",
       "      <th>2</th>\n",
       "      <td>0.023091</td>\n",
       "      <td>0.025438</td>\n",
       "      <td>0.079854</td>\n",
       "      <td>0.081180</td>\n",
       "    </tr>\n",
       "    <tr>\n",
       "      <th>3</th>\n",
       "      <td>0.022920</td>\n",
       "      <td>0.025214</td>\n",
       "      <td>0.079946</td>\n",
       "      <td>0.081317</td>\n",
       "    </tr>\n",
       "  </tbody>\n",
       "</table>\n",
       "</div>"
      ],
      "text/plain": [
       "      fb_TL     fb_TR     fd_TL     fd_TR\n",
       "0  0.026142  0.029608  0.077951  0.078829\n",
       "1  0.023835  0.026092  0.079480  0.080825\n",
       "2  0.023091  0.025438  0.079854  0.081180\n",
       "3  0.022920  0.025214  0.079946  0.081317"
      ]
     },
     "execution_count": 48,
     "metadata": {},
     "output_type": "execute_result"
    }
   ],
   "source": [
    "df_ = dfr\n",
    "\n",
    "arr_po = np.zeros((df_.shape[0], df_.shape[1]))\n",
    "for j in range(arr_po.shape[1]):\n",
    "    col_nome = ['PO_TL', 'PO_TR', 'TL', 'TR'][j]\n",
    "    fun = [f_blassius, f_blassius, f_distrib, f_distrib]\n",
    "    for i in range(arr_po.shape[0]):\n",
    "\n",
    "        delta_h = df_[col_nome].values[i]\n",
    "        value = fun[j](delta_h)\n",
    "\n",
    "        arr_po[i, j] = value #[0]kg/s, [1]adim, [2]m/s\n",
    "        \n",
    "df2 = pd.DataFrame(arr_po, columns=['fb_TL', 'fb_TR', 'fd_TL', 'fd_TR'])\n",
    "df2"
   ]
  },
  {
   "cell_type": "code",
   "execution_count": 49,
   "metadata": {},
   "outputs": [
    {
     "name": "stdout",
     "output_type": "stream",
     "text": [
      "\\begin{tabular}{rrrr}\n",
      "\\toprule\n",
      "   fb\\_TL &    fb\\_TR &    fd\\_TL &    fd\\_TR \\\\\n",
      "\\midrule\n",
      "0.026142 & 0.029608 & 0.077951 & 0.078829 \\\\\n",
      "0.023835 & 0.026092 & 0.079480 & 0.080825 \\\\\n",
      "0.023091 & 0.025438 & 0.079854 & 0.081180 \\\\\n",
      "0.022920 & 0.025214 & 0.079946 & 0.081317 \\\\\n",
      "\\bottomrule\n",
      "\\end{tabular}\n",
      "\n"
     ]
    }
   ],
   "source": [
    "print(df2.to_latex(index=0))"
   ]
  },
  {
   "cell_type": "code",
   "execution_count": 60,
   "metadata": {},
   "outputs": [
    {
     "data": {
      "text/html": [
       "<div>\n",
       "<style scoped>\n",
       "    .dataframe tbody tr th:only-of-type {\n",
       "        vertical-align: middle;\n",
       "    }\n",
       "\n",
       "    .dataframe tbody tr th {\n",
       "        vertical-align: top;\n",
       "    }\n",
       "\n",
       "    .dataframe thead th {\n",
       "        text-align: right;\n",
       "    }\n",
       "</style>\n",
       "<table border=\"1\" class=\"dataframe\">\n",
       "  <thead>\n",
       "    <tr style=\"text-align: right;\">\n",
       "      <th></th>\n",
       "      <th>ed_TL</th>\n",
       "      <th>ed_TR</th>\n",
       "      <th>fb_TL</th>\n",
       "      <th>fb_TR</th>\n",
       "    </tr>\n",
       "  </thead>\n",
       "  <tbody>\n",
       "    <tr>\n",
       "      <th>0</th>\n",
       "      <td>0.062207</td>\n",
       "      <td>0.057622</td>\n",
       "      <td>0.030299</td>\n",
       "      <td>0.029038</td>\n",
       "    </tr>\n",
       "    <tr>\n",
       "      <th>1</th>\n",
       "      <td>0.064672</td>\n",
       "      <td>0.062265</td>\n",
       "      <td>0.028041</td>\n",
       "      <td>0.025768</td>\n",
       "    </tr>\n",
       "    <tr>\n",
       "      <th>2</th>\n",
       "      <td>0.065373</td>\n",
       "      <td>0.063007</td>\n",
       "      <td>0.027441</td>\n",
       "      <td>0.025108</td>\n",
       "    </tr>\n",
       "    <tr>\n",
       "      <th>3</th>\n",
       "      <td>0.065529</td>\n",
       "      <td>0.063253</td>\n",
       "      <td>0.027290</td>\n",
       "      <td>0.024844</td>\n",
       "    </tr>\n",
       "  </tbody>\n",
       "</table>\n",
       "</div>"
      ],
      "text/plain": [
       "      ed_TL     ed_TR     fb_TL     fb_TR\n",
       "0  0.062207  0.057622  0.030299  0.029038\n",
       "1  0.064672  0.062265  0.028041  0.025768\n",
       "2  0.065373  0.063007  0.027441  0.025108\n",
       "3  0.065529  0.063253  0.027290  0.024844"
      ]
     },
     "execution_count": 60,
     "metadata": {},
     "output_type": "execute_result"
    }
   ],
   "source": [
    "df_ = dfr\n",
    "\n",
    "arr_po = np.zeros((df_.shape[0], df_.shape[1]))\n",
    "for j in range(arr_po.shape[1]):\n",
    "    col_nome = ['PO_TL', 'PO_TR', 'TL', 'TR'][j]\n",
    "    fun = [calc_rugosidade, calc_rugosidade, f_blassius, f_blassius]\n",
    "    for i in range(arr_po.shape[0]):\n",
    "\n",
    "        delta_h = df_[col_nome].values[i]\n",
    "        value = fun[j](delta_h)\n",
    "\n",
    "        arr_po[i, j] = value #[0]kg/s, [1]adim, [2]m/s\n",
    "        \n",
    "df2 = pd.DataFrame(arr_po, columns=['ed_TL', 'ed_TR', 'fb_TL', 'fb_TR'])\n",
    "df2"
   ]
  },
  {
   "cell_type": "code",
   "execution_count": 65,
   "metadata": {},
   "outputs": [
    {
     "data": {
      "image/png": "[encoded data removed]",
      "text/plain": [
       "<Figure size 432x288 with 1 Axes>"
      ]
     },
     "metadata": {
      "needs_background": "light"
     },
     "output_type": "display_data"
    }
   ],
   "source": [
    "\n",
    "fig, ax = plt.subplots()\n",
    "ax.set(xlabel=r'$e/D$', ylabel=r'$f$')\n",
    "\n",
    "ax.plot(df1['ed_TL'].values, df1['f_TL'].values,  marker='o', label='Tubo liso')\n",
    "ax.plot(df1['ed_TL'].values, df1['f_TR'].values,  marker='o', label='Tubo Rugoso')\n",
    "ax.plot(df2['ed_TL'].values, df2['fb_TL'].values, marker='o', label='Tubo liso - Blassius')\n",
    "ax.plot(df2['ed_TL'].values, df2['fb_TR'].values, marker='o', label='Tubo Rugoso - Blassius')\n",
    "\n",
    "ax.legend()\n",
    "ax.grid(ls='dotted')\n",
    "\n",
    "fig.savefig('fb_ed.pdf', bbox_inches='tight')"
   ]
  },
  {
   "cell_type": "code",
   "execution_count": null,
   "metadata": {},
   "outputs": [],
   "source": []
  }
 ],
 "metadata": {
  "kernelspec": {
   "display_name": "Python 3.8.8 ('base')",
   "language": "python",
   "name": "python3"
  },
  "language_info": {
   "codemirror_mode": {
    "name": "ipython",
    "version": 3
   },
   "file_extension": ".py",
   "mimetype": "text/x-python",
   "name": "python",
   "nbconvert_exporter": "python",
   "pygments_lexer": "ipython3",
   "version": "3.8.8 (default, Apr 13 2021, 15:08:03) [MSC v.1916 64 bit (AMD64)]"
  },
  "orig_nbformat": 4,
  "vscode": {
   "interpreter": {
    "hash": "e38bdacfe1d6e2b7e20a64d2eef782d7715e4314dc541be72f500d3c69b94a4f"
   }
  }
 },
 "nbformat": 4,
 "nbformat_minor": 2
}
