{
 "cells": [
  {
   "cell_type": "code",
   "execution_count": 64,
   "metadata": {},
   "outputs": [],
   "source": [
    "import sys\n",
    "sys.path.append('D:/UNESP/EngMec-UNESP/')\n",
    "import frankenstein as fk\n",
    "\n",
    "import numpy as np\n",
    "import matplotlib.pyplot as plt\n",
    "import pandas as pd\n",
    "from scipy.stats import linregress\n",
    "from uncertainties import ufloat\n",
    "from uncertainties.umath import *  # sin(), etc.\n",
    "import uncertainties.unumpy as un\n",
    "import ZebraLib as zb"
   ]
  },
  {
   "cell_type": "markdown",
   "metadata": {},
   "source": [
    "## Tubo de prandtl"
   ]
  },
  {
   "cell_type": "code",
   "execution_count": 65,
   "metadata": {},
   "outputs": [],
   "source": [
    "#medidas do tubo\n",
    "y =  np.array([12.65, 8.75, 6.35, 4.95, 3.4, 0, -3.4, -4.95, -6.35, -8.75, -12.65, ])/1000\n",
    "\n",
    "df_tubo = pd.read_excel('D:/UNESP/EngMec-UNESP/Lab. Mec Flu II/Lab 2 - Perfil velocidade/dados2.xlsx', \n",
    "                        sheet_name='tubo', index_col=0)\n",
    "#print(df_tubo.T.to_latex(index=False))"
   ]
  },
  {
   "cell_type": "code",
   "execution_count": 66,
   "metadata": {},
   "outputs": [
    {
     "data": {
      "image/png": "[encoded data removed]",
      "text/plain": [
       "<Figure size 432x288 with 1 Axes>"
      ]
     },
     "metadata": {
      "needs_background": "light"
     },
     "output_type": "display_data"
    }
   ],
   "source": [
    "#%matplotlib\n",
    "fig, ax = plt.subplots()\n",
    "ax.set(xlabel='Velocidade [m/s]', ylabel='Posição no tubo [cm]', xlim=(0, 55))\n",
    "vv = np.array([4, 6, 8, 10, 12])\n",
    "\n",
    "for i in range(5):\n",
    "    v = fk.h2v(df_tubo.T[i+1].values)\n",
    "    ax.scatter(v, y*100, label=f'Nº {vv[i]} voltas')\n",
    "ax.grid(ls='dotted')\n",
    "ax.legend()\n",
    "\n",
    "fig.savefig('perfil_vel.pdf', bbox_inches='tight')"
   ]
  },
  {
   "cell_type": "code",
   "execution_count": 67,
   "metadata": {},
   "outputs": [
    {
     "name": "stdout",
     "output_type": "stream",
     "text": [
      "Nº voltas 4 --- vel média 16.32 m/s --- Re 84693.28\n",
      "Nº voltas 6 --- vel média 24.45 m/s --- Re 126912.86\n",
      "Nº voltas 8 --- vel média 31.56 m/s --- Re 163777.67\n",
      "Nº voltas 10 --- vel média 36.92 m/s --- Re 191620.02\n",
      "Nº voltas 12 --- vel média 39.14 m/s --- Re 203143.80\n"
     ]
    }
   ],
   "source": [
    "def Re(v):\n",
    "    nu = 1.5e-5\n",
    "    D = 0.038925*2\n",
    "    return (v*D)/nu\n",
    "\n",
    "def calc_velocidade(index):\n",
    "    y =  np.array([12.65, 8.75, 6.35, 4.95, 3.4, 0, -3.4, -4.95, -6.35, -8.75, -12.65, ])/1000\n",
    "    vp = fk.h2v(df_tubo.T[index].values)\n",
    "\n",
    "    r = 0.038925\n",
    "    Q = -2*np.pi*r*zb.integral(vp, y, y.min(), y.max())\n",
    "    A = np.pi*r**2\n",
    "    return Q/A\n",
    "\n",
    "tubo_Vmed = []\n",
    "for i in range(1, 6):\n",
    "    print(f'Nº voltas {vv[i-1]} --- vel média {calc_velocidade(i):.2f} m/s --- Re {Re(calc_velocidade(i)):.2f}')\n",
    "    tubo_Vmed.append(calc_velocidade(i))\n",
    "    \n",
    "tubo_Vmed = np.array(tubo_Vmed) #velocidade média pela integração do persil de velocidade"
   ]
  },
  {
   "cell_type": "markdown",
   "metadata": {},
   "source": [
    "## Placa de ofício"
   ]
  },
  {
   "cell_type": "code",
   "execution_count": 68,
   "metadata": {},
   "outputs": [
    {
     "data": {
      "text/html": [
       "<div>\n",
       "<style scoped>\n",
       "    .dataframe tbody tr th:only-of-type {\n",
       "        vertical-align: middle;\n",
       "    }\n",
       "\n",
       "    .dataframe tbody tr th {\n",
       "        vertical-align: top;\n",
       "    }\n",
       "\n",
       "    .dataframe thead th {\n",
       "        text-align: right;\n",
       "    }\n",
       "</style>\n",
       "<table border=\"1\" class=\"dataframe\">\n",
       "  <thead>\n",
       "    <tr style=\"text-align: right;\">\n",
       "      <th></th>\n",
       "      <th>delta_h</th>\n",
       "    </tr>\n",
       "    <tr>\n",
       "      <th>medida</th>\n",
       "      <th></th>\n",
       "    </tr>\n",
       "  </thead>\n",
       "  <tbody>\n",
       "    <tr>\n",
       "      <th>1</th>\n",
       "      <td>10.0</td>\n",
       "    </tr>\n",
       "    <tr>\n",
       "      <th>2</th>\n",
       "      <td>17.0</td>\n",
       "    </tr>\n",
       "    <tr>\n",
       "      <th>3</th>\n",
       "      <td>21.7</td>\n",
       "    </tr>\n",
       "    <tr>\n",
       "      <th>4</th>\n",
       "      <td>23.9</td>\n",
       "    </tr>\n",
       "    <tr>\n",
       "      <th>5</th>\n",
       "      <td>25.1</td>\n",
       "    </tr>\n",
       "  </tbody>\n",
       "</table>\n",
       "</div>"
      ],
      "text/plain": [
       "        delta_h\n",
       "medida         \n",
       "1          10.0\n",
       "2          17.0\n",
       "3          21.7\n",
       "4          23.9\n",
       "5          25.1"
      ]
     },
     "execution_count": 68,
     "metadata": {},
     "output_type": "execute_result"
    }
   ],
   "source": [
    "## Placa de oficio\n",
    "df_placa = pd.read_excel('D:/UNESP/EngMec-UNESP/Lab. Mec Flu II/Lab 2 - Perfil velocidade/dados2.xlsx', \n",
    "                        sheet_name='placa', index_col=0)\n",
    "df_placa"
   ]
  },
  {
   "cell_type": "code",
   "execution_count": 69,
   "metadata": {},
   "outputs": [
    {
     "data": {
      "text/plain": [
       "array([12.37984371, 16.07593137, 18.13326303, 19.01877485, 19.48456521])"
      ]
     },
     "execution_count": 69,
     "metadata": {},
     "output_type": "execute_result"
    }
   ],
   "source": [
    "placa_Vmed = fk.calc_vazão(df_placa['delta_h'].values)[2]\n",
    "placa_Vmed"
   ]
  },
  {
   "cell_type": "code",
   "execution_count": 70,
   "metadata": {},
   "outputs": [
    {
     "data": {
      "text/html": [
       "<div>\n",
       "<style scoped>\n",
       "    .dataframe tbody tr th:only-of-type {\n",
       "        vertical-align: middle;\n",
       "    }\n",
       "\n",
       "    .dataframe tbody tr th {\n",
       "        vertical-align: top;\n",
       "    }\n",
       "\n",
       "    .dataframe thead th {\n",
       "        text-align: right;\n",
       "    }\n",
       "</style>\n",
       "<table border=\"1\" class=\"dataframe\">\n",
       "  <thead>\n",
       "    <tr style=\"text-align: right;\">\n",
       "      <th></th>\n",
       "      <th>tubo_v</th>\n",
       "      <th>tubo_Re</th>\n",
       "      <th>placa_v</th>\n",
       "      <th>placa_Re</th>\n",
       "    </tr>\n",
       "  </thead>\n",
       "  <tbody>\n",
       "    <tr>\n",
       "      <th>0</th>\n",
       "      <td>16.318551</td>\n",
       "      <td>84693.280040</td>\n",
       "      <td>12.379844</td>\n",
       "      <td>64251.388834</td>\n",
       "    </tr>\n",
       "    <tr>\n",
       "      <th>1</th>\n",
       "      <td>24.453345</td>\n",
       "      <td>126912.859179</td>\n",
       "      <td>16.075931</td>\n",
       "      <td>83434.083833</td>\n",
       "    </tr>\n",
       "    <tr>\n",
       "      <th>2</th>\n",
       "      <td>31.556392</td>\n",
       "      <td>163777.674518</td>\n",
       "      <td>18.133263</td>\n",
       "      <td>94111.635136</td>\n",
       "    </tr>\n",
       "    <tr>\n",
       "      <th>3</th>\n",
       "      <td>36.921006</td>\n",
       "      <td>191620.019383</td>\n",
       "      <td>19.018775</td>\n",
       "      <td>98707.441481</td>\n",
       "    </tr>\n",
       "    <tr>\n",
       "      <th>4</th>\n",
       "      <td>39.141388</td>\n",
       "      <td>203143.801849</td>\n",
       "      <td>19.484565</td>\n",
       "      <td>101124.893454</td>\n",
       "    </tr>\n",
       "  </tbody>\n",
       "</table>\n",
       "</div>"
      ],
      "text/plain": [
       "      tubo_v        tubo_Re    placa_v       placa_Re\n",
       "0  16.318551   84693.280040  12.379844   64251.388834\n",
       "1  24.453345  126912.859179  16.075931   83434.083833\n",
       "2  31.556392  163777.674518  18.133263   94111.635136\n",
       "3  36.921006  191620.019383  19.018775   98707.441481\n",
       "4  39.141388  203143.801849  19.484565  101124.893454"
      ]
     },
     "execution_count": 70,
     "metadata": {},
     "output_type": "execute_result"
    }
   ],
   "source": [
    "res = pd.DataFrame({'tubo_v':tubo_Vmed, 'tubo_Re':Re(tubo_Vmed), 'placa_v':placa_Vmed, 'placa_Re':Re(placa_Vmed)})\n",
    "res"
   ]
  },
  {
   "cell_type": "code",
   "execution_count": 71,
   "metadata": {},
   "outputs": [
    {
     "name": "stdout",
     "output_type": "stream",
     "text": [
      "\\begin{tabular}{rrrr}\n",
      "\\toprule\n",
      "   tubo\\_v &       tubo\\_Re &   placa\\_v &      placa\\_Re \\\\\n",
      "\\midrule\n",
      "16.318551 &  84693.280040 & 12.379844 &  64251.388834 \\\\\n",
      "24.453345 & 126912.859179 & 16.075931 &  83434.083833 \\\\\n",
      "31.556392 & 163777.674518 & 18.133263 &  94111.635136 \\\\\n",
      "36.921006 & 191620.019383 & 19.018775 &  98707.441481 \\\\\n",
      "39.141388 & 203143.801849 & 19.484565 & 101124.893454 \\\\\n",
      "\\bottomrule\n",
      "\\end{tabular}\n",
      "\n"
     ]
    }
   ],
   "source": [
    "print(res.to_latex(index=False))"
   ]
  },
  {
   "cell_type": "code",
   "execution_count": 72,
   "metadata": {},
   "outputs": [
    {
     "data": {
      "text/html": [
       "<div>\n",
       "<style scoped>\n",
       "    .dataframe tbody tr th:only-of-type {\n",
       "        vertical-align: middle;\n",
       "    }\n",
       "\n",
       "    .dataframe tbody tr th {\n",
       "        vertical-align: top;\n",
       "    }\n",
       "\n",
       "    .dataframe thead th {\n",
       "        text-align: right;\n",
       "    }\n",
       "</style>\n",
       "<table border=\"1\" class=\"dataframe\">\n",
       "  <thead>\n",
       "    <tr style=\"text-align: right;\">\n",
       "      <th></th>\n",
       "      <th>tubo</th>\n",
       "      <th>placa</th>\n",
       "      <th>err</th>\n",
       "    </tr>\n",
       "  </thead>\n",
       "  <tbody>\n",
       "    <tr>\n",
       "      <th>0</th>\n",
       "      <td>0.077676</td>\n",
       "      <td>0.058928</td>\n",
       "      <td>24.136379</td>\n",
       "    </tr>\n",
       "    <tr>\n",
       "      <th>1</th>\n",
       "      <td>0.116398</td>\n",
       "      <td>0.076521</td>\n",
       "      <td>34.258763</td>\n",
       "    </tr>\n",
       "    <tr>\n",
       "      <th>2</th>\n",
       "      <td>0.150208</td>\n",
       "      <td>0.086314</td>\n",
       "      <td>42.536957</td>\n",
       "    </tr>\n",
       "    <tr>\n",
       "      <th>3</th>\n",
       "      <td>0.175744</td>\n",
       "      <td>0.090529</td>\n",
       "      <td>48.487928</td>\n",
       "    </tr>\n",
       "    <tr>\n",
       "      <th>4</th>\n",
       "      <td>0.186313</td>\n",
       "      <td>0.092747</td>\n",
       "      <td>50.220045</td>\n",
       "    </tr>\n",
       "  </tbody>\n",
       "</table>\n",
       "</div>"
      ],
      "text/plain": [
       "       tubo     placa        err\n",
       "0  0.077676  0.058928  24.136379\n",
       "1  0.116398  0.076521  34.258763\n",
       "2  0.150208  0.086314  42.536957\n",
       "3  0.175744  0.090529  48.487928\n",
       "4  0.186313  0.092747  50.220045"
      ]
     },
     "execution_count": 72,
     "metadata": {},
     "output_type": "execute_result"
    }
   ],
   "source": [
    "#comparativo das vazões medidas\n",
    "r = 0.038925\n",
    "A = np.pi*r**2\n",
    "\n",
    "res = pd.DataFrame({'tubo':tubo_Vmed*A, 'placa':placa_Vmed*A})\n",
    "res['err'] = abs(res['placa'] - res['tubo'])/res['tubo']*100\n",
    "res"
   ]
  },
  {
   "cell_type": "code",
   "execution_count": null,
   "metadata": {},
   "outputs": [],
   "source": []
  }
 ],
 "metadata": {
  "interpreter": {
   "hash": "e38bdacfe1d6e2b7e20a64d2eef782d7715e4314dc541be72f500d3c69b94a4f"
  },
  "kernelspec": {
   "display_name": "Python 3.8.8 ('base')",
   "language": "python",
   "name": "python3"
  },
  "language_info": {
   "codemirror_mode": {
    "name": "ipython",
    "version": 3
   },
   "file_extension": ".py",
   "mimetype": "text/x-python",
   "name": "python",
   "nbconvert_exporter": "python",
   "pygments_lexer": "ipython3",
   "version": "3.8.8"
  },
  "orig_nbformat": 4
 },
 "nbformat": 4,
 "nbformat_minor": 2
}
