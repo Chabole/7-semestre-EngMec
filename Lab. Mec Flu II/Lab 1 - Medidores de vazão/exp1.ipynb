{
 "cells": [
  {
   "cell_type": "code",
   "execution_count": 15,
   "metadata": {},
   "outputs": [],
   "source": [
    "import numpy as np\n",
    "import matplotlib.pyplot as plt\n",
    "import pandas as pd\n",
    "from uncertainties import ufloat\n",
    "from uncertainties.umath import *  # sin(), etc.\n",
    "import uncertainties.unumpy as un\n",
    "\n",
    "df_placa = pd.read_excel('D:/UNESP/EngMec-UNESP/Lab. Mec Flu II/Lab 1 - Medidores de vazão/dados.xlsx')\n",
    "df_vent = pd.read_excel('D:/UNESP/EngMec-UNESP/Lab. Mec Flu II/Lab 1 - Medidores de vazão/dados.xlsx', sheet_name='venturi')"
   ]
  },
  {
   "cell_type": "code",
   "execution_count": 16,
   "metadata": {},
   "outputs": [
    {
     "data": {
      "text/html": [
       "<div>\n",
       "<style scoped>\n",
       "    .dataframe tbody tr th:only-of-type {\n",
       "        vertical-align: middle;\n",
       "    }\n",
       "\n",
       "    .dataframe tbody tr th {\n",
       "        vertical-align: top;\n",
       "    }\n",
       "\n",
       "    .dataframe thead th {\n",
       "        text-align: right;\n",
       "    }\n",
       "</style>\n",
       "<table border=\"1\" class=\"dataframe\">\n",
       "  <thead>\n",
       "    <tr style=\"text-align: right;\">\n",
       "      <th></th>\n",
       "      <th>h1</th>\n",
       "      <th>h2</th>\n",
       "      <th>del</th>\n",
       "      <th>ve</th>\n",
       "    </tr>\n",
       "  </thead>\n",
       "  <tbody>\n",
       "    <tr>\n",
       "      <th>0</th>\n",
       "      <td>18.8</td>\n",
       "      <td>20.7</td>\n",
       "      <td>1.9</td>\n",
       "      <td>3.40</td>\n",
       "    </tr>\n",
       "    <tr>\n",
       "      <th>1</th>\n",
       "      <td>16.5</td>\n",
       "      <td>22.9</td>\n",
       "      <td>6.4</td>\n",
       "      <td>5.94</td>\n",
       "    </tr>\n",
       "    <tr>\n",
       "      <th>2</th>\n",
       "      <td>14.2</td>\n",
       "      <td>25.2</td>\n",
       "      <td>11.0</td>\n",
       "      <td>7.65</td>\n",
       "    </tr>\n",
       "    <tr>\n",
       "      <th>3</th>\n",
       "      <td>12.5</td>\n",
       "      <td>26.8</td>\n",
       "      <td>14.3</td>\n",
       "      <td>8.60</td>\n",
       "    </tr>\n",
       "    <tr>\n",
       "      <th>4</th>\n",
       "      <td>10.0</td>\n",
       "      <td>29.8</td>\n",
       "      <td>19.8</td>\n",
       "      <td>9.93</td>\n",
       "    </tr>\n",
       "  </tbody>\n",
       "</table>\n",
       "</div>"
      ],
      "text/plain": [
       "     h1    h2   del    ve\n",
       "0  18.8  20.7   1.9  3.40\n",
       "1  16.5  22.9   6.4  5.94\n",
       "2  14.2  25.2  11.0  7.65\n",
       "3  12.5  26.8  14.3  8.60\n",
       "4  10.0  29.8  19.8  9.93"
      ]
     },
     "execution_count": 16,
     "metadata": {},
     "output_type": "execute_result"
    }
   ],
   "source": [
    "df_placa"
   ]
  },
  {
   "cell_type": "code",
   "execution_count": 17,
   "metadata": {},
   "outputs": [
    {
     "name": "stdout",
     "output_type": "stream",
     "text": [
      "\\begin{tabular}{rrrr}\n",
      "\\toprule\n",
      "  h1 &   h2 &  del &   ve \\\\\n",
      "\\midrule\n",
      "18.8 & 20.7 &  1.9 & 3.40 \\\\\n",
      "16.5 & 22.9 &  6.4 & 5.94 \\\\\n",
      "14.2 & 25.2 & 11.0 & 7.65 \\\\\n",
      "12.5 & 26.8 & 14.3 & 8.60 \\\\\n",
      "10.0 & 29.8 & 19.8 & 9.93 \\\\\n",
      "\\bottomrule\n",
      "\\end{tabular}\n",
      "\n"
     ]
    }
   ],
   "source": [
    "print(df_placa.to_latex(index=False))"
   ]
  },
  {
   "cell_type": "code",
   "execution_count": 18,
   "metadata": {},
   "outputs": [
    {
     "data": {
      "text/html": [
       "<div>\n",
       "<style scoped>\n",
       "    .dataframe tbody tr th:only-of-type {\n",
       "        vertical-align: middle;\n",
       "    }\n",
       "\n",
       "    .dataframe tbody tr th {\n",
       "        vertical-align: top;\n",
       "    }\n",
       "\n",
       "    .dataframe thead th {\n",
       "        text-align: right;\n",
       "    }\n",
       "</style>\n",
       "<table border=\"1\" class=\"dataframe\">\n",
       "  <thead>\n",
       "    <tr style=\"text-align: right;\">\n",
       "      <th></th>\n",
       "      <th>h1</th>\n",
       "      <th>h2</th>\n",
       "      <th>del</th>\n",
       "      <th>ve</th>\n",
       "    </tr>\n",
       "  </thead>\n",
       "  <tbody>\n",
       "    <tr>\n",
       "      <th>0</th>\n",
       "      <td>19.3</td>\n",
       "      <td>20.5</td>\n",
       "      <td>1.2</td>\n",
       "      <td>3.60</td>\n",
       "    </tr>\n",
       "    <tr>\n",
       "      <th>1</th>\n",
       "      <td>17.8</td>\n",
       "      <td>22.0</td>\n",
       "      <td>4.2</td>\n",
       "      <td>6.40</td>\n",
       "    </tr>\n",
       "    <tr>\n",
       "      <th>2</th>\n",
       "      <td>15.9</td>\n",
       "      <td>24.0</td>\n",
       "      <td>8.1</td>\n",
       "      <td>8.80</td>\n",
       "    </tr>\n",
       "    <tr>\n",
       "      <th>3</th>\n",
       "      <td>14.1</td>\n",
       "      <td>26.0</td>\n",
       "      <td>11.9</td>\n",
       "      <td>10.58</td>\n",
       "    </tr>\n",
       "    <tr>\n",
       "      <th>4</th>\n",
       "      <td>9.5</td>\n",
       "      <td>30.8</td>\n",
       "      <td>21.3</td>\n",
       "      <td>13.00</td>\n",
       "    </tr>\n",
       "  </tbody>\n",
       "</table>\n",
       "</div>"
      ],
      "text/plain": [
       "     h1    h2   del     ve\n",
       "0  19.3  20.5   1.2   3.60\n",
       "1  17.8  22.0   4.2   6.40\n",
       "2  15.9  24.0   8.1   8.80\n",
       "3  14.1  26.0  11.9  10.58\n",
       "4   9.5  30.8  21.3  13.00"
      ]
     },
     "execution_count": 18,
     "metadata": {},
     "output_type": "execute_result"
    }
   ],
   "source": [
    "df_vent"
   ]
  },
  {
   "cell_type": "code",
   "execution_count": 19,
   "metadata": {},
   "outputs": [
    {
     "name": "stdout",
     "output_type": "stream",
     "text": [
      "\\begin{tabular}{rrrr}\n",
      "\\toprule\n",
      "  h1 &   h2 &  del &    ve \\\\\n",
      "\\midrule\n",
      "19.3 & 20.5 &  1.2 &  3.60 \\\\\n",
      "17.8 & 22.0 &  4.2 &  6.40 \\\\\n",
      "15.9 & 24.0 &  8.1 &  8.80 \\\\\n",
      "14.1 & 26.0 & 11.9 & 10.58 \\\\\n",
      " 9.5 & 30.8 & 21.3 & 13.00 \\\\\n",
      "\\bottomrule\n",
      "\\end{tabular}\n",
      "\n"
     ]
    }
   ],
   "source": [
    "print(df_vent.to_latex(index=False))"
   ]
  },
  {
   "cell_type": "code",
   "execution_count": 20,
   "metadata": {},
   "outputs": [],
   "source": [
    "rho_ar = 1.20\n",
    "rho_agua = 997\n",
    "mi = 1.80e-5\n",
    "g = 9.81\n",
    "\n",
    "def calc_vazão(Dt, D1, delta_h):\n",
    "    \n",
    "    beta = Dt/D1\n",
    "    At = np.pi*(Dt**2)/4\n",
    "    A1 = np.pi*(D1**2)/4\n",
    "\n",
    "    delta_P = rho_agua*g*(delta_h/100)\n",
    "\n",
    "    lista_m = []\n",
    "    for j in range(len(delta_P)):\n",
    "        m_dot  = 10.0\n",
    "        for i in range(100):\n",
    "\n",
    "            v = m_dot/(rho_ar*A1)\n",
    "            Re = (rho_ar*v*D1)/mi\n",
    "            C = 0.5959 + (0.0312*(beta**2.1)) - (0.184*beta**8) + ((91.71*beta**2.5)/(Re**0.75))\n",
    "            K = C/np.sqrt(1 - beta**4)\n",
    "            m_dot_new = K*At*np.sqrt(2*rho_ar*(delta_P[j]))\n",
    "            \n",
    "            if abs(m_dot - m_dot_new) < 1e-8:\n",
    "                break\n",
    "            else:\n",
    "                m_dot = m_dot_new\n",
    "\n",
    "        lista_m.append(m_dot_new)\n",
    "        \n",
    "    lista_m = np.array(lista_m)\n",
    "    lista_Q = lista_m/rho_ar\n",
    "    lista_V = lista_Q/A1\n",
    "\n",
    "    return lista_m, lista_Q, lista_V #kg/s, m^3/s, m/s"
   ]
  },
  {
   "cell_type": "code",
   "execution_count": 21,
   "metadata": {},
   "outputs": [
    {
     "data": {
      "text/plain": [
       "(array([0.00768234, 0.01389186, 0.01812435, 0.02062295, 0.0242119 ]),\n",
       " array([0.00640195, 0.01157655, 0.01510362, 0.0171858 , 0.02017659]),\n",
       " array([ 5.49921472,  9.94415423, 12.97387612, 14.76244508, 17.33150759]))"
      ]
     },
     "execution_count": 21,
     "metadata": {},
     "output_type": "execute_result"
    }
   ],
   "source": [
    "#Placa de orificio\n",
    "placa = calc_vazão(0.0257, 0.0385, df_placa['del'].values)\n",
    "placa"
   ]
  },
  {
   "cell_type": "code",
   "execution_count": 22,
   "metadata": {},
   "outputs": [
    {
     "data": {
      "text/html": [
       "<div>\n",
       "<style scoped>\n",
       "    .dataframe tbody tr th:only-of-type {\n",
       "        vertical-align: middle;\n",
       "    }\n",
       "\n",
       "    .dataframe tbody tr th {\n",
       "        vertical-align: top;\n",
       "    }\n",
       "\n",
       "    .dataframe thead th {\n",
       "        text-align: right;\n",
       "    }\n",
       "</style>\n",
       "<table border=\"1\" class=\"dataframe\">\n",
       "  <thead>\n",
       "    <tr style=\"text-align: right;\">\n",
       "      <th></th>\n",
       "      <th>teo</th>\n",
       "      <th>exp</th>\n",
       "      <th>erro</th>\n",
       "    </tr>\n",
       "  </thead>\n",
       "  <tbody>\n",
       "    <tr>\n",
       "      <th>0</th>\n",
       "      <td>5.499215</td>\n",
       "      <td>3.40</td>\n",
       "      <td>38.172991</td>\n",
       "    </tr>\n",
       "    <tr>\n",
       "      <th>1</th>\n",
       "      <td>9.944154</td>\n",
       "      <td>5.94</td>\n",
       "      <td>40.266413</td>\n",
       "    </tr>\n",
       "    <tr>\n",
       "      <th>2</th>\n",
       "      <td>12.973876</td>\n",
       "      <td>7.65</td>\n",
       "      <td>41.035355</td>\n",
       "    </tr>\n",
       "    <tr>\n",
       "      <th>3</th>\n",
       "      <td>14.762445</td>\n",
       "      <td>8.60</td>\n",
       "      <td>41.744068</td>\n",
       "    </tr>\n",
       "    <tr>\n",
       "      <th>4</th>\n",
       "      <td>17.331508</td>\n",
       "      <td>9.93</td>\n",
       "      <td>42.705504</td>\n",
       "    </tr>\n",
       "  </tbody>\n",
       "</table>\n",
       "</div>"
      ],
      "text/plain": [
       "         teo   exp       erro\n",
       "0   5.499215  3.40  38.172991\n",
       "1   9.944154  5.94  40.266413\n",
       "2  12.973876  7.65  41.035355\n",
       "3  14.762445  8.60  41.744068\n",
       "4  17.331508  9.93  42.705504"
      ]
     },
     "execution_count": 22,
     "metadata": {},
     "output_type": "execute_result"
    }
   ],
   "source": [
    "res_p = pd.DataFrame({'teo':placa[2], 'exp': df_placa['ve'].values, \n",
    "                     'erro':abs(df_placa['ve'].values - placa[2])/placa[2]*100})\n",
    "res_p"
   ]
  },
  {
   "cell_type": "code",
   "execution_count": 23,
   "metadata": {},
   "outputs": [
    {
     "name": "stdout",
     "output_type": "stream",
     "text": [
      "\\begin{tabular}{rrr}\n",
      "\\toprule\n",
      "      teo &  exp &      erro \\\\\n",
      "\\midrule\n",
      " 5.499215 & 3.40 & 38.172991 \\\\\n",
      " 9.944154 & 5.94 & 40.266413 \\\\\n",
      "12.973876 & 7.65 & 41.035355 \\\\\n",
      "14.762445 & 8.60 & 41.744068 \\\\\n",
      "17.331508 & 9.93 & 42.705504 \\\\\n",
      "\\bottomrule\n",
      "\\end{tabular}\n",
      "\n"
     ]
    }
   ],
   "source": [
    "print(res_p.to_latex(index=False))"
   ]
  },
  {
   "cell_type": "code",
   "execution_count": 24,
   "metadata": {},
   "outputs": [
    {
     "data": {
      "text/plain": [
       "(array([0.00542018, 0.00996726, 0.01375287, 0.01661733, 0.02214316]),\n",
       " array([0.00451682, 0.00830605, 0.01146073, 0.01384778, 0.01845263]),\n",
       " array([ 3.87990403,  7.1348258 ,  9.84466122, 11.89511582, 15.85064489]))"
      ]
     },
     "execution_count": 24,
     "metadata": {},
     "output_type": "execute_result"
    }
   ],
   "source": [
    "#Tubo de venturi\n",
    "tubo = calc_vazão(0.0244, 0.0385, df_vent['del'].values)\n",
    "tubo"
   ]
  },
  {
   "cell_type": "code",
   "execution_count": 25,
   "metadata": {},
   "outputs": [
    {
     "data": {
      "text/html": [
       "<div>\n",
       "<style scoped>\n",
       "    .dataframe tbody tr th:only-of-type {\n",
       "        vertical-align: middle;\n",
       "    }\n",
       "\n",
       "    .dataframe tbody tr th {\n",
       "        vertical-align: top;\n",
       "    }\n",
       "\n",
       "    .dataframe thead th {\n",
       "        text-align: right;\n",
       "    }\n",
       "</style>\n",
       "<table border=\"1\" class=\"dataframe\">\n",
       "  <thead>\n",
       "    <tr style=\"text-align: right;\">\n",
       "      <th></th>\n",
       "      <th>teo</th>\n",
       "      <th>exp</th>\n",
       "      <th>erro</th>\n",
       "    </tr>\n",
       "  </thead>\n",
       "  <tbody>\n",
       "    <tr>\n",
       "      <th>0</th>\n",
       "      <td>3.879904</td>\n",
       "      <td>3.60</td>\n",
       "      <td>7.214200</td>\n",
       "    </tr>\n",
       "    <tr>\n",
       "      <th>1</th>\n",
       "      <td>7.134826</td>\n",
       "      <td>6.40</td>\n",
       "      <td>10.299141</td>\n",
       "    </tr>\n",
       "    <tr>\n",
       "      <th>2</th>\n",
       "      <td>9.844661</td>\n",
       "      <td>8.80</td>\n",
       "      <td>10.611449</td>\n",
       "    </tr>\n",
       "    <tr>\n",
       "      <th>3</th>\n",
       "      <td>11.895116</td>\n",
       "      <td>10.58</td>\n",
       "      <td>11.055931</td>\n",
       "    </tr>\n",
       "    <tr>\n",
       "      <th>4</th>\n",
       "      <td>15.850645</td>\n",
       "      <td>13.00</td>\n",
       "      <td>17.984410</td>\n",
       "    </tr>\n",
       "  </tbody>\n",
       "</table>\n",
       "</div>"
      ],
      "text/plain": [
       "         teo    exp       erro\n",
       "0   3.879904   3.60   7.214200\n",
       "1   7.134826   6.40  10.299141\n",
       "2   9.844661   8.80  10.611449\n",
       "3  11.895116  10.58  11.055931\n",
       "4  15.850645  13.00  17.984410"
      ]
     },
     "execution_count": 25,
     "metadata": {},
     "output_type": "execute_result"
    }
   ],
   "source": [
    "res_t = pd.DataFrame({'teo':tubo[2], 'exp': df_vent['ve'].values, \n",
    "                     'erro':abs(df_vent['ve'].values - tubo[2])/tubo[2]*100})\n",
    "res_t"
   ]
  },
  {
   "cell_type": "code",
   "execution_count": 26,
   "metadata": {},
   "outputs": [
    {
     "name": "stdout",
     "output_type": "stream",
     "text": [
      "\\begin{tabular}{rrr}\n",
      "\\toprule\n",
      "      teo &   exp &      erro \\\\\n",
      "\\midrule\n",
      " 3.879904 &  3.60 &  7.214200 \\\\\n",
      " 7.134826 &  6.40 & 10.299141 \\\\\n",
      " 9.844661 &  8.80 & 10.611449 \\\\\n",
      "11.895116 & 10.58 & 11.055931 \\\\\n",
      "15.850645 & 13.00 & 17.984410 \\\\\n",
      "\\bottomrule\n",
      "\\end{tabular}\n",
      "\n"
     ]
    }
   ],
   "source": [
    "print(res_t.to_latex(index=False))"
   ]
  },
  {
   "cell_type": "code",
   "execution_count": 27,
   "metadata": {},
   "outputs": [
    {
     "data": {
      "text/html": [
       "<div>\n",
       "<style scoped>\n",
       "    .dataframe tbody tr th:only-of-type {\n",
       "        vertical-align: middle;\n",
       "    }\n",
       "\n",
       "    .dataframe tbody tr th {\n",
       "        vertical-align: top;\n",
       "    }\n",
       "\n",
       "    .dataframe thead th {\n",
       "        text-align: right;\n",
       "    }\n",
       "</style>\n",
       "<table border=\"1\" class=\"dataframe\">\n",
       "  <thead>\n",
       "    <tr style=\"text-align: right;\">\n",
       "      <th></th>\n",
       "      <th>placa</th>\n",
       "      <th>tubo</th>\n",
       "      <th>erro</th>\n",
       "    </tr>\n",
       "  </thead>\n",
       "  <tbody>\n",
       "    <tr>\n",
       "      <th>0</th>\n",
       "      <td>5.499215</td>\n",
       "      <td>3.879904</td>\n",
       "      <td>29.446217</td>\n",
       "    </tr>\n",
       "    <tr>\n",
       "      <th>1</th>\n",
       "      <td>9.944154</td>\n",
       "      <td>7.134826</td>\n",
       "      <td>28.251054</td>\n",
       "    </tr>\n",
       "    <tr>\n",
       "      <th>2</th>\n",
       "      <td>12.973876</td>\n",
       "      <td>9.844661</td>\n",
       "      <td>24.119352</td>\n",
       "    </tr>\n",
       "    <tr>\n",
       "      <th>3</th>\n",
       "      <td>14.762445</td>\n",
       "      <td>11.895116</td>\n",
       "      <td>19.423132</td>\n",
       "    </tr>\n",
       "    <tr>\n",
       "      <th>4</th>\n",
       "      <td>17.331508</td>\n",
       "      <td>15.850645</td>\n",
       "      <td>8.544339</td>\n",
       "    </tr>\n",
       "  </tbody>\n",
       "</table>\n",
       "</div>"
      ],
      "text/plain": [
       "       placa       tubo       erro\n",
       "0   5.499215   3.879904  29.446217\n",
       "1   9.944154   7.134826  28.251054\n",
       "2  12.973876   9.844661  24.119352\n",
       "3  14.762445  11.895116  19.423132\n",
       "4  17.331508  15.850645   8.544339"
      ]
     },
     "execution_count": 27,
     "metadata": {},
     "output_type": "execute_result"
    }
   ],
   "source": [
    "#ERROS ENTRE AS PLACAS\n",
    "res_t = pd.DataFrame({'placa':placa[2], 'tubo': tubo[2], \n",
    "                     'erro':abs(tubo[2] - placa[2])/placa[2]*100})\n",
    "res_t"
   ]
  },
  {
   "cell_type": "code",
   "execution_count": 28,
   "metadata": {},
   "outputs": [
    {
     "name": "stdout",
     "output_type": "stream",
     "text": [
      "\\begin{tabular}{rrr}\n",
      "\\toprule\n",
      "    placa &      tubo &      erro \\\\\n",
      "\\midrule\n",
      " 5.499215 &  3.879904 & 29.446217 \\\\\n",
      " 9.944154 &  7.134826 & 28.251054 \\\\\n",
      "12.973876 &  9.844661 & 24.119352 \\\\\n",
      "14.762445 & 11.895116 & 19.423132 \\\\\n",
      "17.331508 & 15.850645 &  8.544339 \\\\\n",
      "\\bottomrule\n",
      "\\end{tabular}\n",
      "\n"
     ]
    }
   ],
   "source": [
    "print(res_t.to_latex(index=False))"
   ]
  },
  {
   "cell_type": "code",
   "execution_count": null,
   "metadata": {},
   "outputs": [],
   "source": []
  }
 ],
 "metadata": {
  "kernelspec": {
   "display_name": "Python 3.8.8 ('base')",
   "language": "python",
   "name": "python3"
  },
  "language_info": {
   "codemirror_mode": {
    "name": "ipython",
    "version": 3
   },
   "file_extension": ".py",
   "mimetype": "text/x-python",
   "name": "python",
   "nbconvert_exporter": "python",
   "pygments_lexer": "ipython3",
   "version": "3.8.8"
  },
  "orig_nbformat": 4,
  "vscode": {
   "interpreter": {
    "hash": "e38bdacfe1d6e2b7e20a64d2eef782d7715e4314dc541be72f500d3c69b94a4f"
   }
  }
 },
 "nbformat": 4,
 "nbformat_minor": 2
}
