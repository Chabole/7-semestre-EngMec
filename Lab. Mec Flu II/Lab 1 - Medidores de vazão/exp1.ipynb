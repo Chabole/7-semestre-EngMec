{
 "cells": [
  {
   "cell_type": "code",
   "execution_count": 128,
   "metadata": {},
   "outputs": [],
   "source": [
    "import numpy as np\n",
    "import matplotlib.pyplot as plt\n",
    "import pandas as pd\n",
    "from uncertainties import ufloat\n",
    "from uncertainties.umath import *  # sin(), etc.\n",
    "import uncertainties.unumpy as un\n",
    "\n",
    "df_placa = pd.read_excel('D:/UNESP/EngMec-UNESP/Lab. Mec Flu II/Lab 1 - Medidores de vazão/dados.xlsx')\n",
    "df_vent = pd.read_excel('D:/UNESP/EngMec-UNESP/Lab. Mec Flu II/Lab 1 - Medidores de vazão/dados.xlsx', sheet_name='venturi')"
   ]
  },
  {
   "cell_type": "code",
   "execution_count": 129,
   "metadata": {},
   "outputs": [],
   "source": [
    "rho_ar =1.20\n",
    "rho_agua = 997\n",
    "mi = 1.8e-5\n",
    "g = 9.81\n",
    "\n",
    "def calc_vazão(Dt, D1, delta_h):\n",
    "    \n",
    "    beta = Dt/D1\n",
    "    At = np.pi*(Dt**2)/4\n",
    "    A1 = np.pi*(D1**2)/4\n",
    "\n",
    "    delta_P = rho_agua*g*(delta_h/100)\n",
    "    m_dot  = 1.0\n",
    "\n",
    "    lista_m = []\n",
    "    for j in range(len(delta_P)):\n",
    "        for i in range(100):\n",
    "            v = m_dot/(rho_ar*A1)\n",
    "            Re = (rho_ar*v*D1)/mi\n",
    "            C = 0.5959 + 0.0312*(beta**2.1) - 0.184*beta**8 + (91.71*beta**2.5)/(Re**0.75)\n",
    "            K = C/np.sqrt(1-beta**4)\n",
    "            m_dot_new = K*At*np.sqrt(2*rho_ar*(delta_P[j]))\n",
    "            \n",
    "            if abs(m_dot - m_dot_new) < 1e-8:\n",
    "                break\n",
    "            else:\n",
    "                m_dot = m_dot_new\n",
    "\n",
    "        lista_m.append(m_dot_new)\n",
    "        \n",
    "    lista_m = np.array(lista_m)\n",
    "    lista_Q = lista_m/rho_ar\n",
    "    lista_V = lista_Q/A1\n",
    "\n",
    "    return lista_m, lista_Q, lista_V #kg/s, m^3/s, m/s"
   ]
  },
  {
   "cell_type": "code",
   "execution_count": 130,
   "metadata": {},
   "outputs": [
    {
     "data": {
      "text/plain": [
       "(array([0.00768234, 0.01389186, 0.01812435, 0.02062295, 0.0242119 ]),\n",
       " array([0.00640195, 0.01157655, 0.01510362, 0.0171858 , 0.02017659]),\n",
       " array([ 5.49921472,  9.9441543 , 12.97387615, 14.76244499, 17.33150751]))"
      ]
     },
     "execution_count": 130,
     "metadata": {},
     "output_type": "execute_result"
    }
   ],
   "source": [
    "#Placa de orificio\n",
    "placa = calc_vazão(0.0257, 0.0385, df_placa['del'].values)\n",
    "placa"
   ]
  },
  {
   "cell_type": "code",
   "execution_count": 131,
   "metadata": {},
   "outputs": [
    {
     "data": {
      "text/html": [
       "<div>\n",
       "<style scoped>\n",
       "    .dataframe tbody tr th:only-of-type {\n",
       "        vertical-align: middle;\n",
       "    }\n",
       "\n",
       "    .dataframe tbody tr th {\n",
       "        vertical-align: top;\n",
       "    }\n",
       "\n",
       "    .dataframe thead th {\n",
       "        text-align: right;\n",
       "    }\n",
       "</style>\n",
       "<table border=\"1\" class=\"dataframe\">\n",
       "  <thead>\n",
       "    <tr style=\"text-align: right;\">\n",
       "      <th></th>\n",
       "      <th>teo</th>\n",
       "      <th>exp</th>\n",
       "      <th>erro</th>\n",
       "    </tr>\n",
       "  </thead>\n",
       "  <tbody>\n",
       "    <tr>\n",
       "      <th>0</th>\n",
       "      <td>5.499215</td>\n",
       "      <td>3.40</td>\n",
       "      <td>38.172991</td>\n",
       "    </tr>\n",
       "    <tr>\n",
       "      <th>1</th>\n",
       "      <td>9.944154</td>\n",
       "      <td>5.94</td>\n",
       "      <td>40.266414</td>\n",
       "    </tr>\n",
       "    <tr>\n",
       "      <th>2</th>\n",
       "      <td>12.973876</td>\n",
       "      <td>7.65</td>\n",
       "      <td>41.035355</td>\n",
       "    </tr>\n",
       "    <tr>\n",
       "      <th>3</th>\n",
       "      <td>14.762445</td>\n",
       "      <td>8.60</td>\n",
       "      <td>41.744067</td>\n",
       "    </tr>\n",
       "    <tr>\n",
       "      <th>4</th>\n",
       "      <td>17.331508</td>\n",
       "      <td>9.93</td>\n",
       "      <td>42.705503</td>\n",
       "    </tr>\n",
       "  </tbody>\n",
       "</table>\n",
       "</div>"
      ],
      "text/plain": [
       "         teo   exp       erro\n",
       "0   5.499215  3.40  38.172991\n",
       "1   9.944154  5.94  40.266414\n",
       "2  12.973876  7.65  41.035355\n",
       "3  14.762445  8.60  41.744067\n",
       "4  17.331508  9.93  42.705503"
      ]
     },
     "execution_count": 131,
     "metadata": {},
     "output_type": "execute_result"
    }
   ],
   "source": [
    "res_p = pd.DataFrame({'teo':placa[2], 'exp': df_placa['ve'].values, \n",
    "                     'erro':abs(df_placa['ve'].values - placa[2])/placa[2]*100})\n",
    "res_p"
   ]
  },
  {
   "cell_type": "code",
   "execution_count": 132,
   "metadata": {},
   "outputs": [
    {
     "data": {
      "text/plain": [
       "(array([0.0061508 , 0.01130399, 0.01559366, 0.01883936, 0.02510037]),\n",
       " array([0.00512567, 0.00942   , 0.01299472, 0.01569946, 0.02091697]),\n",
       " array([ 4.40290493,  8.09169203, 11.16234557, 13.48569917, 17.96749481]))"
      ]
     },
     "execution_count": 132,
     "metadata": {},
     "output_type": "execute_result"
    }
   ],
   "source": [
    "#Tubo de venturi\n",
    "tubo = calc_vazão(0.0257, 0.0385, df_vent['del'].values)\n",
    "tubo"
   ]
  },
  {
   "cell_type": "code",
   "execution_count": 133,
   "metadata": {},
   "outputs": [
    {
     "data": {
      "text/html": [
       "<div>\n",
       "<style scoped>\n",
       "    .dataframe tbody tr th:only-of-type {\n",
       "        vertical-align: middle;\n",
       "    }\n",
       "\n",
       "    .dataframe tbody tr th {\n",
       "        vertical-align: top;\n",
       "    }\n",
       "\n",
       "    .dataframe thead th {\n",
       "        text-align: right;\n",
       "    }\n",
       "</style>\n",
       "<table border=\"1\" class=\"dataframe\">\n",
       "  <thead>\n",
       "    <tr style=\"text-align: right;\">\n",
       "      <th></th>\n",
       "      <th>teo</th>\n",
       "      <th>exp</th>\n",
       "      <th>erro</th>\n",
       "    </tr>\n",
       "  </thead>\n",
       "  <tbody>\n",
       "    <tr>\n",
       "      <th>0</th>\n",
       "      <td>4.402905</td>\n",
       "      <td>3.60</td>\n",
       "      <td>18.235800</td>\n",
       "    </tr>\n",
       "    <tr>\n",
       "      <th>1</th>\n",
       "      <td>8.091692</td>\n",
       "      <td>6.40</td>\n",
       "      <td>20.906530</td>\n",
       "    </tr>\n",
       "    <tr>\n",
       "      <th>2</th>\n",
       "      <td>11.162346</td>\n",
       "      <td>8.80</td>\n",
       "      <td>21.163523</td>\n",
       "    </tr>\n",
       "    <tr>\n",
       "      <th>3</th>\n",
       "      <td>13.485699</td>\n",
       "      <td>10.58</td>\n",
       "      <td>21.546522</td>\n",
       "    </tr>\n",
       "    <tr>\n",
       "      <th>4</th>\n",
       "      <td>17.967495</td>\n",
       "      <td>13.00</td>\n",
       "      <td>27.647120</td>\n",
       "    </tr>\n",
       "  </tbody>\n",
       "</table>\n",
       "</div>"
      ],
      "text/plain": [
       "         teo    exp       erro\n",
       "0   4.402905   3.60  18.235800\n",
       "1   8.091692   6.40  20.906530\n",
       "2  11.162346   8.80  21.163523\n",
       "3  13.485699  10.58  21.546522\n",
       "4  17.967495  13.00  27.647120"
      ]
     },
     "execution_count": 133,
     "metadata": {},
     "output_type": "execute_result"
    }
   ],
   "source": [
    "res_t = pd.DataFrame({'teo':tubo[2], 'exp': df_vent['ve'].values, \n",
    "                     'erro':abs(df_vent['ve'].values - tubo[2])/tubo[2]*100})\n",
    "res_t"
   ]
  },
  {
   "cell_type": "code",
   "execution_count": 134,
   "metadata": {},
   "outputs": [
    {
     "data": {
      "text/html": [
       "<div>\n",
       "<style scoped>\n",
       "    .dataframe tbody tr th:only-of-type {\n",
       "        vertical-align: middle;\n",
       "    }\n",
       "\n",
       "    .dataframe tbody tr th {\n",
       "        vertical-align: top;\n",
       "    }\n",
       "\n",
       "    .dataframe thead th {\n",
       "        text-align: right;\n",
       "    }\n",
       "</style>\n",
       "<table border=\"1\" class=\"dataframe\">\n",
       "  <thead>\n",
       "    <tr style=\"text-align: right;\">\n",
       "      <th></th>\n",
       "      <th>placa</th>\n",
       "      <th>tubo</th>\n",
       "      <th>erro</th>\n",
       "    </tr>\n",
       "  </thead>\n",
       "  <tbody>\n",
       "    <tr>\n",
       "      <th>0</th>\n",
       "      <td>5.499215</td>\n",
       "      <td>4.402905</td>\n",
       "      <td>19.935752</td>\n",
       "    </tr>\n",
       "    <tr>\n",
       "      <th>1</th>\n",
       "      <td>9.944154</td>\n",
       "      <td>8.091692</td>\n",
       "      <td>18.628656</td>\n",
       "    </tr>\n",
       "    <tr>\n",
       "      <th>2</th>\n",
       "      <td>12.973876</td>\n",
       "      <td>11.162346</td>\n",
       "      <td>13.962909</td>\n",
       "    </tr>\n",
       "    <tr>\n",
       "      <th>3</th>\n",
       "      <td>14.762445</td>\n",
       "      <td>13.485699</td>\n",
       "      <td>8.648607</td>\n",
       "    </tr>\n",
       "    <tr>\n",
       "      <th>4</th>\n",
       "      <td>17.331508</td>\n",
       "      <td>17.967495</td>\n",
       "      <td>3.669544</td>\n",
       "    </tr>\n",
       "  </tbody>\n",
       "</table>\n",
       "</div>"
      ],
      "text/plain": [
       "       placa       tubo       erro\n",
       "0   5.499215   4.402905  19.935752\n",
       "1   9.944154   8.091692  18.628656\n",
       "2  12.973876  11.162346  13.962909\n",
       "3  14.762445  13.485699   8.648607\n",
       "4  17.331508  17.967495   3.669544"
      ]
     },
     "execution_count": 134,
     "metadata": {},
     "output_type": "execute_result"
    }
   ],
   "source": [
    "res_t = pd.DataFrame({'placa':placa[2], 'tubo': tubo[2], \n",
    "                     'erro':abs(tubo[2] - placa[2])/placa[2]*100})\n",
    "res_t"
   ]
  },
  {
   "cell_type": "code",
   "execution_count": null,
   "metadata": {},
   "outputs": [],
   "source": []
  }
 ],
 "metadata": {
  "kernelspec": {
   "display_name": "Python 3.8.8 ('base')",
   "language": "python",
   "name": "python3"
  },
  "language_info": {
   "codemirror_mode": {
    "name": "ipython",
    "version": 3
   },
   "file_extension": ".py",
   "mimetype": "text/x-python",
   "name": "python",
   "nbconvert_exporter": "python",
   "pygments_lexer": "ipython3",
   "version": "3.8.8"
  },
  "orig_nbformat": 4,
  "vscode": {
   "interpreter": {
    "hash": "e38bdacfe1d6e2b7e20a64d2eef782d7715e4314dc541be72f500d3c69b94a4f"
   }
  }
 },
 "nbformat": 4,
 "nbformat_minor": 2
}
