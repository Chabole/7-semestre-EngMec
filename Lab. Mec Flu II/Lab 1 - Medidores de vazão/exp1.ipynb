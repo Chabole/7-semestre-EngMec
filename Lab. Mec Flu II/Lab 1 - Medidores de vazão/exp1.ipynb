{
 "cells": [
  {
   "cell_type": "code",
   "execution_count": 45,
   "metadata": {},
   "outputs": [],
   "source": [
    "import numpy as np\n",
    "import matplotlib.pyplot as plt\n",
    "import pandas as pd\n",
    "from uncertainties import ufloat\n",
    "from uncertainties.umath import *  # sin(), etc.\n",
    "import uncertainties.unumpy as un\n",
    "\n",
    "df_placa = pd.read_excel('D:/UNESP/EngMec-UNESP/Lab. Mec Flu II/Lab 1 - Medidores de vazão/dados.xlsx')\n",
    "df_vent = pd.read_excel('D:/UNESP/EngMec-UNESP/Lab. Mec Flu II/Lab 1 - Medidores de vazão/dados.xlsx', sheet_name='venturi')"
   ]
  },
  {
   "cell_type": "code",
   "execution_count": 46,
   "metadata": {},
   "outputs": [
    {
     "data": {
      "text/html": [
       "<div>\n",
       "<style scoped>\n",
       "    .dataframe tbody tr th:only-of-type {\n",
       "        vertical-align: middle;\n",
       "    }\n",
       "\n",
       "    .dataframe tbody tr th {\n",
       "        vertical-align: top;\n",
       "    }\n",
       "\n",
       "    .dataframe thead th {\n",
       "        text-align: right;\n",
       "    }\n",
       "</style>\n",
       "<table border=\"1\" class=\"dataframe\">\n",
       "  <thead>\n",
       "    <tr style=\"text-align: right;\">\n",
       "      <th></th>\n",
       "      <th>h1</th>\n",
       "      <th>h2</th>\n",
       "      <th>del</th>\n",
       "      <th>ve</th>\n",
       "    </tr>\n",
       "  </thead>\n",
       "  <tbody>\n",
       "    <tr>\n",
       "      <th>0</th>\n",
       "      <td>18.8</td>\n",
       "      <td>20.7</td>\n",
       "      <td>1.9</td>\n",
       "      <td>3.40</td>\n",
       "    </tr>\n",
       "    <tr>\n",
       "      <th>1</th>\n",
       "      <td>16.5</td>\n",
       "      <td>22.9</td>\n",
       "      <td>6.4</td>\n",
       "      <td>5.94</td>\n",
       "    </tr>\n",
       "    <tr>\n",
       "      <th>2</th>\n",
       "      <td>14.2</td>\n",
       "      <td>25.2</td>\n",
       "      <td>11.0</td>\n",
       "      <td>7.65</td>\n",
       "    </tr>\n",
       "    <tr>\n",
       "      <th>3</th>\n",
       "      <td>12.5</td>\n",
       "      <td>26.8</td>\n",
       "      <td>14.3</td>\n",
       "      <td>8.60</td>\n",
       "    </tr>\n",
       "    <tr>\n",
       "      <th>4</th>\n",
       "      <td>10.0</td>\n",
       "      <td>29.8</td>\n",
       "      <td>19.8</td>\n",
       "      <td>9.93</td>\n",
       "    </tr>\n",
       "  </tbody>\n",
       "</table>\n",
       "</div>"
      ],
      "text/plain": [
       "     h1    h2   del    ve\n",
       "0  18.8  20.7   1.9  3.40\n",
       "1  16.5  22.9   6.4  5.94\n",
       "2  14.2  25.2  11.0  7.65\n",
       "3  12.5  26.8  14.3  8.60\n",
       "4  10.0  29.8  19.8  9.93"
      ]
     },
     "execution_count": 46,
     "metadata": {},
     "output_type": "execute_result"
    }
   ],
   "source": [
    "df_placa"
   ]
  },
  {
   "cell_type": "code",
   "execution_count": 47,
   "metadata": {},
   "outputs": [
    {
     "data": {
      "text/html": [
       "<div>\n",
       "<style scoped>\n",
       "    .dataframe tbody tr th:only-of-type {\n",
       "        vertical-align: middle;\n",
       "    }\n",
       "\n",
       "    .dataframe tbody tr th {\n",
       "        vertical-align: top;\n",
       "    }\n",
       "\n",
       "    .dataframe thead th {\n",
       "        text-align: right;\n",
       "    }\n",
       "</style>\n",
       "<table border=\"1\" class=\"dataframe\">\n",
       "  <thead>\n",
       "    <tr style=\"text-align: right;\">\n",
       "      <th></th>\n",
       "      <th>h1</th>\n",
       "      <th>h2</th>\n",
       "      <th>del</th>\n",
       "      <th>ve</th>\n",
       "    </tr>\n",
       "  </thead>\n",
       "  <tbody>\n",
       "    <tr>\n",
       "      <th>0</th>\n",
       "      <td>19.3</td>\n",
       "      <td>20.5</td>\n",
       "      <td>1.2</td>\n",
       "      <td>3.60</td>\n",
       "    </tr>\n",
       "    <tr>\n",
       "      <th>1</th>\n",
       "      <td>17.8</td>\n",
       "      <td>22.0</td>\n",
       "      <td>4.2</td>\n",
       "      <td>6.40</td>\n",
       "    </tr>\n",
       "    <tr>\n",
       "      <th>2</th>\n",
       "      <td>15.9</td>\n",
       "      <td>24.0</td>\n",
       "      <td>8.1</td>\n",
       "      <td>8.80</td>\n",
       "    </tr>\n",
       "    <tr>\n",
       "      <th>3</th>\n",
       "      <td>14.1</td>\n",
       "      <td>26.0</td>\n",
       "      <td>11.9</td>\n",
       "      <td>10.58</td>\n",
       "    </tr>\n",
       "    <tr>\n",
       "      <th>4</th>\n",
       "      <td>9.5</td>\n",
       "      <td>30.8</td>\n",
       "      <td>21.3</td>\n",
       "      <td>13.00</td>\n",
       "    </tr>\n",
       "  </tbody>\n",
       "</table>\n",
       "</div>"
      ],
      "text/plain": [
       "     h1    h2   del     ve\n",
       "0  19.3  20.5   1.2   3.60\n",
       "1  17.8  22.0   4.2   6.40\n",
       "2  15.9  24.0   8.1   8.80\n",
       "3  14.1  26.0  11.9  10.58\n",
       "4   9.5  30.8  21.3  13.00"
      ]
     },
     "execution_count": 47,
     "metadata": {},
     "output_type": "execute_result"
    }
   ],
   "source": [
    "df_vent"
   ]
  },
  {
   "cell_type": "code",
   "execution_count": 48,
   "metadata": {},
   "outputs": [],
   "source": [
    "rho_ar = 1.20\n",
    "rho_agua = 997\n",
    "mi = 1.80e-5\n",
    "g = 9.81\n",
    "\n",
    "def calc_vazão(Dt, D1, delta_h, venturi=True):\n",
    "    \n",
    "    beta = Dt/D1\n",
    "    At = np.pi*(Dt**2)/4\n",
    "    A1 = np.pi*(D1**2)/4\n",
    "\n",
    "    delta_P = rho_agua*g*(delta_h/100)\n",
    "\n",
    "    lista_m, lista_Re, lista_k = [], [], []\n",
    "    for j in range(len(delta_P)):\n",
    "        m_dot  = 10.0\n",
    "        for i in range(100):\n",
    "\n",
    "            v = m_dot/(rho_ar*A1)\n",
    "            Re = (rho_ar*v*D1)/mi\n",
    "\n",
    "            if venturi:\n",
    "                C = 0.99\n",
    "            else:\n",
    "                C = 0.5959 + (0.0312*(beta**2.1)) - (0.184*beta**8) + ((91.71*beta**2.5)/(Re**0.75))\n",
    "\n",
    "            K = C/np.sqrt(1 - beta**4)\n",
    "            m_dot_new = K*At*np.sqrt(2*rho_ar*(delta_P[j]))\n",
    "            \n",
    "            if abs(m_dot - m_dot_new) < 1e-8:\n",
    "                break\n",
    "            else:\n",
    "                m_dot = m_dot_new\n",
    "\n",
    "        lista_m.append(m_dot_new)\n",
    "        lista_Re.append(Re)\n",
    "        lista_k.append(K)\n",
    "        \n",
    "    lista_m = np.array(lista_m)\n",
    "    lista_Re = np.array(lista_Re)\n",
    "    lista_k = np.array(lista_k)\n",
    "\n",
    "    lista_Q = lista_m/rho_ar\n",
    "    lista_V = lista_Q/A1\n",
    "    return lista_m, lista_Q, lista_V, lista_Re, lista_k #kg/s, m^3/s, m/s"
   ]
  },
  {
   "cell_type": "code",
   "execution_count": 49,
   "metadata": {},
   "outputs": [],
   "source": [
    "#Placa de orificio\n",
    "placa = calc_vazão(0.0257, 0.0385, df_placa['del'].values, False)"
   ]
  },
  {
   "cell_type": "code",
   "execution_count": 50,
   "metadata": {},
   "outputs": [
    {
     "data": {
      "text/html": [
       "<div>\n",
       "<style scoped>\n",
       "    .dataframe tbody tr th:only-of-type {\n",
       "        vertical-align: middle;\n",
       "    }\n",
       "\n",
       "    .dataframe tbody tr th {\n",
       "        vertical-align: top;\n",
       "    }\n",
       "\n",
       "    .dataframe thead th {\n",
       "        text-align: right;\n",
       "    }\n",
       "</style>\n",
       "<table border=\"1\" class=\"dataframe\">\n",
       "  <thead>\n",
       "    <tr style=\"text-align: right;\">\n",
       "      <th></th>\n",
       "      <th>teo</th>\n",
       "      <th>exp</th>\n",
       "      <th>erro</th>\n",
       "    </tr>\n",
       "  </thead>\n",
       "  <tbody>\n",
       "    <tr>\n",
       "      <th>0</th>\n",
       "      <td>5.499215</td>\n",
       "      <td>3.40</td>\n",
       "      <td>38.172991</td>\n",
       "    </tr>\n",
       "    <tr>\n",
       "      <th>1</th>\n",
       "      <td>9.944154</td>\n",
       "      <td>5.94</td>\n",
       "      <td>40.266413</td>\n",
       "    </tr>\n",
       "    <tr>\n",
       "      <th>2</th>\n",
       "      <td>12.973876</td>\n",
       "      <td>7.65</td>\n",
       "      <td>41.035355</td>\n",
       "    </tr>\n",
       "    <tr>\n",
       "      <th>3</th>\n",
       "      <td>14.762445</td>\n",
       "      <td>8.60</td>\n",
       "      <td>41.744068</td>\n",
       "    </tr>\n",
       "    <tr>\n",
       "      <th>4</th>\n",
       "      <td>17.331508</td>\n",
       "      <td>9.93</td>\n",
       "      <td>42.705504</td>\n",
       "    </tr>\n",
       "  </tbody>\n",
       "</table>\n",
       "</div>"
      ],
      "text/plain": [
       "         teo   exp       erro\n",
       "0   5.499215  3.40  38.172991\n",
       "1   9.944154  5.94  40.266413\n",
       "2  12.973876  7.65  41.035355\n",
       "3  14.762445  8.60  41.744068\n",
       "4  17.331508  9.93  42.705504"
      ]
     },
     "execution_count": 50,
     "metadata": {},
     "output_type": "execute_result"
    }
   ],
   "source": [
    "res_p = pd.DataFrame({'teo':placa[2], 'exp': df_placa['ve'].values, \n",
    "                     'erro':abs(df_placa['ve'].values - placa[2])/placa[2]*100})\n",
    "res_p"
   ]
  },
  {
   "cell_type": "code",
   "execution_count": 51,
   "metadata": {},
   "outputs": [],
   "source": [
    "#Tubo de venturi\n",
    "tubo = calc_vazão(0.0244, 0.0385, df_vent['del'].values)"
   ]
  },
  {
   "cell_type": "code",
   "execution_count": 52,
   "metadata": {},
   "outputs": [
    {
     "data": {
      "text/html": [
       "<div>\n",
       "<style scoped>\n",
       "    .dataframe tbody tr th:only-of-type {\n",
       "        vertical-align: middle;\n",
       "    }\n",
       "\n",
       "    .dataframe tbody tr th {\n",
       "        vertical-align: top;\n",
       "    }\n",
       "\n",
       "    .dataframe thead th {\n",
       "        text-align: right;\n",
       "    }\n",
       "</style>\n",
       "<table border=\"1\" class=\"dataframe\">\n",
       "  <thead>\n",
       "    <tr style=\"text-align: right;\">\n",
       "      <th></th>\n",
       "      <th>teo</th>\n",
       "      <th>exp</th>\n",
       "      <th>erro</th>\n",
       "    </tr>\n",
       "  </thead>\n",
       "  <tbody>\n",
       "    <tr>\n",
       "      <th>0</th>\n",
       "      <td>6.072885</td>\n",
       "      <td>3.60</td>\n",
       "      <td>40.720100</td>\n",
       "    </tr>\n",
       "    <tr>\n",
       "      <th>1</th>\n",
       "      <td>11.361327</td>\n",
       "      <td>6.40</td>\n",
       "      <td>43.668552</td>\n",
       "    </tr>\n",
       "    <tr>\n",
       "      <th>2</th>\n",
       "      <td>15.777817</td>\n",
       "      <td>8.80</td>\n",
       "      <td>44.225492</td>\n",
       "    </tr>\n",
       "    <tr>\n",
       "      <th>3</th>\n",
       "      <td>19.123963</td>\n",
       "      <td>10.58</td>\n",
       "      <td>44.676739</td>\n",
       "    </tr>\n",
       "    <tr>\n",
       "      <th>4</th>\n",
       "      <td>25.585518</td>\n",
       "      <td>13.00</td>\n",
       "      <td>49.190007</td>\n",
       "    </tr>\n",
       "  </tbody>\n",
       "</table>\n",
       "</div>"
      ],
      "text/plain": [
       "         teo    exp       erro\n",
       "0   6.072885   3.60  40.720100\n",
       "1  11.361327   6.40  43.668552\n",
       "2  15.777817   8.80  44.225492\n",
       "3  19.123963  10.58  44.676739\n",
       "4  25.585518  13.00  49.190007"
      ]
     },
     "execution_count": 52,
     "metadata": {},
     "output_type": "execute_result"
    }
   ],
   "source": [
    "res_t = pd.DataFrame({'teo':tubo[2], 'exp': df_vent['ve'].values, \n",
    "                     'erro':abs(df_vent['ve'].values - tubo[2])/tubo[2]*100})\n",
    "res_t"
   ]
  },
  {
   "cell_type": "code",
   "execution_count": 53,
   "metadata": {},
   "outputs": [
    {
     "data": {
      "text/html": [
       "<div>\n",
       "<style scoped>\n",
       "    .dataframe tbody tr th:only-of-type {\n",
       "        vertical-align: middle;\n",
       "    }\n",
       "\n",
       "    .dataframe tbody tr th {\n",
       "        vertical-align: top;\n",
       "    }\n",
       "\n",
       "    .dataframe thead th {\n",
       "        text-align: right;\n",
       "    }\n",
       "</style>\n",
       "<table border=\"1\" class=\"dataframe\">\n",
       "  <thead>\n",
       "    <tr style=\"text-align: right;\">\n",
       "      <th></th>\n",
       "      <th>placa</th>\n",
       "      <th>tubo</th>\n",
       "      <th>erro</th>\n",
       "    </tr>\n",
       "  </thead>\n",
       "  <tbody>\n",
       "    <tr>\n",
       "      <th>0</th>\n",
       "      <td>5.499215</td>\n",
       "      <td>6.072885</td>\n",
       "      <td>10.431853</td>\n",
       "    </tr>\n",
       "    <tr>\n",
       "      <th>1</th>\n",
       "      <td>9.944154</td>\n",
       "      <td>11.361327</td>\n",
       "      <td>14.251315</td>\n",
       "    </tr>\n",
       "    <tr>\n",
       "      <th>2</th>\n",
       "      <td>12.973876</td>\n",
       "      <td>15.777817</td>\n",
       "      <td>21.612208</td>\n",
       "    </tr>\n",
       "    <tr>\n",
       "      <th>3</th>\n",
       "      <td>14.762445</td>\n",
       "      <td>19.123963</td>\n",
       "      <td>29.544685</td>\n",
       "    </tr>\n",
       "    <tr>\n",
       "      <th>4</th>\n",
       "      <td>17.331508</td>\n",
       "      <td>25.585518</td>\n",
       "      <td>47.624307</td>\n",
       "    </tr>\n",
       "  </tbody>\n",
       "</table>\n",
       "</div>"
      ],
      "text/plain": [
       "       placa       tubo       erro\n",
       "0   5.499215   6.072885  10.431853\n",
       "1   9.944154  11.361327  14.251315\n",
       "2  12.973876  15.777817  21.612208\n",
       "3  14.762445  19.123963  29.544685\n",
       "4  17.331508  25.585518  47.624307"
      ]
     },
     "execution_count": 53,
     "metadata": {},
     "output_type": "execute_result"
    }
   ],
   "source": [
    "#ERROS ENTRE AS PLACAS\n",
    "res_t = pd.DataFrame({'placa':placa[2], 'tubo': tubo[2], \n",
    "                     'erro':abs(tubo[2] - placa[2])/placa[2]*100})\n",
    "res_t"
   ]
  },
  {
   "cell_type": "code",
   "execution_count": 54,
   "metadata": {},
   "outputs": [
    {
     "name": "stdout",
     "output_type": "stream",
     "text": [
      "\\begin{tabular}{rrr}\n",
      "\\toprule\n",
      "    placa &      tubo &      erro \\\\\n",
      "\\midrule\n",
      " 5.499215 &  6.072885 & 10.431853 \\\\\n",
      " 9.944154 & 11.361327 & 14.251315 \\\\\n",
      "12.973876 & 15.777817 & 21.612208 \\\\\n",
      "14.762445 & 19.123963 & 29.544685 \\\\\n",
      "17.331508 & 25.585518 & 47.624307 \\\\\n",
      "\\bottomrule\n",
      "\\end{tabular}\n",
      "\n"
     ]
    }
   ],
   "source": [
    "print(res_t.to_latex(index=False))"
   ]
  },
  {
   "cell_type": "code",
   "execution_count": 55,
   "metadata": {},
   "outputs": [
    {
     "data": {
      "image/png": "[encoded data removed]",
      "text/plain": [
       "<Figure size 432x288 with 1 Axes>"
      ]
     },
     "metadata": {
      "needs_background": "light"
     },
     "output_type": "display_data"
    }
   ],
   "source": [
    "#%matplotlib\n",
    "fig, ax = plt.subplots()\n",
    "ax.set(xlabel=r'Re', ylabel=r'K')\n",
    "\n",
    "ax.plot(placa[3], placa[4], marker='o', ls='--', label='Placa de orifício')\n",
    "ax.plot(tubo[3], tubo[4], marker='^', ls='--', label='Tubo de venturi')\n",
    "\n",
    "ax.legend()\n",
    "ax.grid(ls='dotted')\n",
    "fig.savefig('Re_x_k.pdf', bbox_inches='tight')"
   ]
  },
  {
   "cell_type": "code",
   "execution_count": 57,
   "metadata": {},
   "outputs": [
    {
     "data": {
      "image/png": "[encoded data removed]",
      "text/plain": [
       "<Figure size 432x288 with 1 Axes>"
      ]
     },
     "metadata": {
      "needs_background": "light"
     },
     "output_type": "display_data"
    }
   ],
   "source": [
    "fig, ax = plt.subplots()\n",
    "ax.set(ylabel=r'Vazão medidores $[kg/s]$', xlabel=r'Vazão anemômetro $[kg/s]$')\n",
    "\n",
    "ax.plot(df_placa['ve'].values*1.2*np.pi*(0.0257**2)/4, placa[1], marker='o', ls='--', label='Placa de orifício')\n",
    "ax.plot(df_vent['ve'].values*1.2*np.pi*(0.0244**2)/4, tubo[1], marker='o', ls='--', label='Tubo de venturi')\n",
    "\n",
    "ax.legend()\n",
    "ax.grid(ls='dotted')\n",
    "\n",
    "fig.savefig('comparação_vazão.pdf', bbox_inches='tight')"
   ]
  },
  {
   "cell_type": "code",
   "execution_count": null,
   "metadata": {},
   "outputs": [],
   "source": []
  }
 ],
 "metadata": {
  "kernelspec": {
   "display_name": "Python 3.8.8 ('base')",
   "language": "python",
   "name": "python3"
  },
  "language_info": {
   "codemirror_mode": {
    "name": "ipython",
    "version": 3
   },
   "file_extension": ".py",
   "mimetype": "text/x-python",
   "name": "python",
   "nbconvert_exporter": "python",
   "pygments_lexer": "ipython3",
   "version": "3.8.8"
  },
  "orig_nbformat": 4,
  "vscode": {
   "interpreter": {
    "hash": "e38bdacfe1d6e2b7e20a64d2eef782d7715e4314dc541be72f500d3c69b94a4f"
   }
  }
 },
 "nbformat": 4,
 "nbformat_minor": 2
}
