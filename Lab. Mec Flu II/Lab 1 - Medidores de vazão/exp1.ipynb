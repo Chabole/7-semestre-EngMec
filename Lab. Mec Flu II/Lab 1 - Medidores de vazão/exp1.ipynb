{
 "cells": [
  {
   "cell_type": "code",
   "execution_count": 1,
   "metadata": {},
   "outputs": [],
   "source": [
    "import numpy as np\n",
    "import matplotlib.pyplot as plt\n",
    "import pandas as pd\n",
    "from uncertainties import ufloat\n",
    "from uncertainties.umath import *  # sin(), etc.\n",
    "import uncertainties.unumpy as un\n",
    "from scipy.optimize import curve_fit\n",
    "\n",
    "df_placa = pd.read_excel('D:/UNESP/EngMec-UNESP/Lab. Mec Flu II/Lab 1 - Medidores de vazão/dados.xlsx')\n",
    "df_vent = pd.read_excel('D:/UNESP/EngMec-UNESP/Lab. Mec Flu II/Lab 1 - Medidores de vazão/dados.xlsx', sheet_name='venturi')"
   ]
  },
  {
   "cell_type": "code",
   "execution_count": 3,
   "metadata": {},
   "outputs": [],
   "source": [
    "rho_ar = 1.20\n",
    "rho_agua = 997\n",
    "mi = 1.80e-5\n",
    "g = 9.81\n",
    "\n",
    "def C_calc(beta, Re, venturi):\n",
    "    if venturi:\n",
    "        C = 1.0011 + 0.0123*beta - 0.0169*np.e**(-0.4*Re/1e5)\n",
    "    else:\n",
    "        C = 0.5959 + (0.0312*(beta**2.1)) - (0.184*(beta**8)) + ((91.71*(beta**2.5))/(Re**0.75))\n",
    "    return C\n",
    "\n",
    "def calc_vazão(Dt, D1, delta_h, venturi=True, beta=None):\n",
    "    if beta:\n",
    "        pass\n",
    "    else: \n",
    "        beta = Dt/D1\n",
    "\n",
    "    At = np.pi*(Dt**2)/4\n",
    "    A1 = np.pi*(D1**2)/4\n",
    "\n",
    "    delta_P = rho_agua*g*(delta_h/100)\n",
    "\n",
    "    lista_m, lista_Re, lista_k = [], [], []\n",
    "    for j in range(len(delta_P)):\n",
    "        m_dot  = 10.0\n",
    "        for i in range(100):\n",
    "\n",
    "            v = m_dot/(rho_ar*A1)\n",
    "            Re = (rho_ar*v*D1)/mi\n",
    "\n",
    "            if venturi:\n",
    "                C = 1.0011 + 0.0123*beta - 0.0169*np.e**(-0.4*Re/1e5)\n",
    "            else:\n",
    "                C = 0.5959 + (0.0312*(beta**2.1)) - (0.184*beta**8) + ((91.71*beta**2.5)/(Re**0.75))\n",
    "\n",
    "            K = C/np.sqrt(1 - beta**4)\n",
    "            m_dot_new = K*At*np.sqrt(2*rho_ar*(delta_P[j]))\n",
    "            \n",
    "            if abs(m_dot - m_dot_new) < 1e-8:\n",
    "                break\n",
    "            else:\n",
    "                m_dot = m_dot_new\n",
    "\n",
    "        lista_m.append(m_dot_new)\n",
    "        lista_Re.append(Re)\n",
    "        lista_k.append(K)\n",
    "        \n",
    "    lista_m = np.array(lista_m)\n",
    "    lista_Re = np.array(lista_Re)\n",
    "    lista_k = np.array(lista_k)\n",
    "    #print(beta)\n",
    "    lista_Q = lista_m/rho_ar\n",
    "    lista_V = lista_Q/A1\n",
    "    return lista_m, lista_Q, lista_V, lista_Re, lista_k, beta #kg/s, m^3/s, m/s"
   ]
  },
  {
   "cell_type": "code",
   "execution_count": 4,
   "metadata": {},
   "outputs": [],
   "source": [
    "#Placa de orificio\n",
    "placa = calc_vazão(0.0257, 0.0385, df_placa['del'].values, False)"
   ]
  },
  {
   "cell_type": "code",
   "execution_count": 5,
   "metadata": {},
   "outputs": [
    {
     "data": {
      "text/html": [
       "<div>\n",
       "<style scoped>\n",
       "    .dataframe tbody tr th:only-of-type {\n",
       "        vertical-align: middle;\n",
       "    }\n",
       "\n",
       "    .dataframe tbody tr th {\n",
       "        vertical-align: top;\n",
       "    }\n",
       "\n",
       "    .dataframe thead th {\n",
       "        text-align: right;\n",
       "    }\n",
       "</style>\n",
       "<table border=\"1\" class=\"dataframe\">\n",
       "  <thead>\n",
       "    <tr style=\"text-align: right;\">\n",
       "      <th></th>\n",
       "      <th>teo</th>\n",
       "      <th>exp</th>\n",
       "      <th>erro</th>\n",
       "    </tr>\n",
       "  </thead>\n",
       "  <tbody>\n",
       "    <tr>\n",
       "      <th>0</th>\n",
       "      <td>5.499215</td>\n",
       "      <td>3.40</td>\n",
       "      <td>38.172991</td>\n",
       "    </tr>\n",
       "    <tr>\n",
       "      <th>1</th>\n",
       "      <td>9.944154</td>\n",
       "      <td>5.94</td>\n",
       "      <td>40.266413</td>\n",
       "    </tr>\n",
       "    <tr>\n",
       "      <th>2</th>\n",
       "      <td>12.973876</td>\n",
       "      <td>7.65</td>\n",
       "      <td>41.035355</td>\n",
       "    </tr>\n",
       "    <tr>\n",
       "      <th>3</th>\n",
       "      <td>14.762445</td>\n",
       "      <td>8.60</td>\n",
       "      <td>41.744068</td>\n",
       "    </tr>\n",
       "    <tr>\n",
       "      <th>4</th>\n",
       "      <td>17.331508</td>\n",
       "      <td>9.93</td>\n",
       "      <td>42.705504</td>\n",
       "    </tr>\n",
       "  </tbody>\n",
       "</table>\n",
       "</div>"
      ],
      "text/plain": [
       "         teo   exp       erro\n",
       "0   5.499215  3.40  38.172991\n",
       "1   9.944154  5.94  40.266413\n",
       "2  12.973876  7.65  41.035355\n",
       "3  14.762445  8.60  41.744068\n",
       "4  17.331508  9.93  42.705504"
      ]
     },
     "execution_count": 5,
     "metadata": {},
     "output_type": "execute_result"
    }
   ],
   "source": [
    "res_p = pd.DataFrame({'teo':placa[2], 'exp': df_placa['ve'].values, \n",
    "                     'erro':abs(df_placa['ve'].values - placa[2])/placa[2]*100})\n",
    "res_p"
   ]
  },
  {
   "cell_type": "code",
   "execution_count": 6,
   "metadata": {},
   "outputs": [],
   "source": [
    "#Tubo de venturi\n",
    "tubo = calc_vazão(0.0244, 0.0385, df_vent['del'].values)"
   ]
  },
  {
   "cell_type": "code",
   "execution_count": 7,
   "metadata": {},
   "outputs": [
    {
     "data": {
      "text/html": [
       "<div>\n",
       "<style scoped>\n",
       "    .dataframe tbody tr th:only-of-type {\n",
       "        vertical-align: middle;\n",
       "    }\n",
       "\n",
       "    .dataframe tbody tr th {\n",
       "        vertical-align: top;\n",
       "    }\n",
       "\n",
       "    .dataframe thead th {\n",
       "        text-align: right;\n",
       "    }\n",
       "</style>\n",
       "<table border=\"1\" class=\"dataframe\">\n",
       "  <thead>\n",
       "    <tr style=\"text-align: right;\">\n",
       "      <th></th>\n",
       "      <th>teo</th>\n",
       "      <th>exp</th>\n",
       "      <th>erro</th>\n",
       "    </tr>\n",
       "  </thead>\n",
       "  <tbody>\n",
       "    <tr>\n",
       "      <th>0</th>\n",
       "      <td>6.091409</td>\n",
       "      <td>3.60</td>\n",
       "      <td>40.900375</td>\n",
       "    </tr>\n",
       "    <tr>\n",
       "      <th>1</th>\n",
       "      <td>11.405657</td>\n",
       "      <td>6.40</td>\n",
       "      <td>43.887493</td>\n",
       "    </tr>\n",
       "    <tr>\n",
       "      <th>2</th>\n",
       "      <td>15.850066</td>\n",
       "      <td>8.80</td>\n",
       "      <td>44.479725</td>\n",
       "    </tr>\n",
       "    <tr>\n",
       "      <th>3</th>\n",
       "      <td>19.220971</td>\n",
       "      <td>10.58</td>\n",
       "      <td>44.955954</td>\n",
       "    </tr>\n",
       "    <tr>\n",
       "      <th>4</th>\n",
       "      <td>25.738509</td>\n",
       "      <td>13.00</td>\n",
       "      <td>49.492024</td>\n",
       "    </tr>\n",
       "  </tbody>\n",
       "</table>\n",
       "</div>"
      ],
      "text/plain": [
       "         teo    exp       erro\n",
       "0   6.091409   3.60  40.900375\n",
       "1  11.405657   6.40  43.887493\n",
       "2  15.850066   8.80  44.479725\n",
       "3  19.220971  10.58  44.955954\n",
       "4  25.738509  13.00  49.492024"
      ]
     },
     "execution_count": 7,
     "metadata": {},
     "output_type": "execute_result"
    }
   ],
   "source": [
    "res_t = pd.DataFrame({'teo':tubo[2], 'exp': df_vent['ve'].values, \n",
    "                     'erro':abs(df_vent['ve'].values - tubo[2])/tubo[2]*100})\n",
    "res_t"
   ]
  },
  {
   "cell_type": "code",
   "execution_count": 8,
   "metadata": {},
   "outputs": [
    {
     "name": "stdout",
     "output_type": "stream",
     "text": [
      "\\begin{tabular}{rrr}\n",
      "\\toprule\n",
      "      teo &   exp &      erro \\\\\n",
      "\\midrule\n",
      " 6.091409 &  3.60 & 40.900375 \\\\\n",
      "11.405657 &  6.40 & 43.887493 \\\\\n",
      "15.850066 &  8.80 & 44.479725 \\\\\n",
      "19.220971 & 10.58 & 44.955954 \\\\\n",
      "25.738509 & 13.00 & 49.492024 \\\\\n",
      "\\bottomrule\n",
      "\\end{tabular}\n",
      "\n"
     ]
    }
   ],
   "source": [
    "print(res_t.to_latex(index=False))"
   ]
  },
  {
   "cell_type": "code",
   "execution_count": 9,
   "metadata": {},
   "outputs": [
    {
     "data": {
      "text/html": [
       "<div>\n",
       "<style scoped>\n",
       "    .dataframe tbody tr th:only-of-type {\n",
       "        vertical-align: middle;\n",
       "    }\n",
       "\n",
       "    .dataframe tbody tr th {\n",
       "        vertical-align: top;\n",
       "    }\n",
       "\n",
       "    .dataframe thead th {\n",
       "        text-align: right;\n",
       "    }\n",
       "</style>\n",
       "<table border=\"1\" class=\"dataframe\">\n",
       "  <thead>\n",
       "    <tr style=\"text-align: right;\">\n",
       "      <th></th>\n",
       "      <th>placa</th>\n",
       "      <th>tubo</th>\n",
       "      <th>erro</th>\n",
       "    </tr>\n",
       "  </thead>\n",
       "  <tbody>\n",
       "    <tr>\n",
       "      <th>0</th>\n",
       "      <td>5.499215</td>\n",
       "      <td>6.091409</td>\n",
       "      <td>10.768709</td>\n",
       "    </tr>\n",
       "    <tr>\n",
       "      <th>1</th>\n",
       "      <td>9.944154</td>\n",
       "      <td>11.405657</td>\n",
       "      <td>14.697104</td>\n",
       "    </tr>\n",
       "    <tr>\n",
       "      <th>2</th>\n",
       "      <td>12.973876</td>\n",
       "      <td>15.850066</td>\n",
       "      <td>22.169084</td>\n",
       "    </tr>\n",
       "    <tr>\n",
       "      <th>3</th>\n",
       "      <td>14.762445</td>\n",
       "      <td>19.220971</td>\n",
       "      <td>30.201811</td>\n",
       "    </tr>\n",
       "    <tr>\n",
       "      <th>4</th>\n",
       "      <td>17.331508</td>\n",
       "      <td>25.738509</td>\n",
       "      <td>48.507041</td>\n",
       "    </tr>\n",
       "  </tbody>\n",
       "</table>\n",
       "</div>"
      ],
      "text/plain": [
       "       placa       tubo       erro\n",
       "0   5.499215   6.091409  10.768709\n",
       "1   9.944154  11.405657  14.697104\n",
       "2  12.973876  15.850066  22.169084\n",
       "3  14.762445  19.220971  30.201811\n",
       "4  17.331508  25.738509  48.507041"
      ]
     },
     "execution_count": 9,
     "metadata": {},
     "output_type": "execute_result"
    }
   ],
   "source": [
    "#ERROS ENTRE AS PLACAS\n",
    "res_t = pd.DataFrame({'placa':placa[2], 'tubo': tubo[2], \n",
    "                     'erro':abs(tubo[2] - placa[2])/placa[2]*100})\n",
    "res_t"
   ]
  },
  {
   "cell_type": "code",
   "execution_count": 10,
   "metadata": {},
   "outputs": [
    {
     "name": "stdout",
     "output_type": "stream",
     "text": [
      "\\begin{tabular}{rrr}\n",
      "\\toprule\n",
      "    placa &      tubo &      erro \\\\\n",
      "\\midrule\n",
      " 5.499215 &  6.091409 & 10.768709 \\\\\n",
      " 9.944154 & 11.405657 & 14.697104 \\\\\n",
      "12.973876 & 15.850066 & 22.169084 \\\\\n",
      "14.762445 & 19.220971 & 30.201811 \\\\\n",
      "17.331508 & 25.738509 & 48.507041 \\\\\n",
      "\\bottomrule\n",
      "\\end{tabular}\n",
      "\n"
     ]
    }
   ],
   "source": [
    "print(res_t.to_latex(index=False))"
   ]
  },
  {
   "cell_type": "code",
   "execution_count": 11,
   "metadata": {},
   "outputs": [],
   "source": [
    "#Modelo\n",
    "def func(x, a, b, c):\n",
    "    return a*x**2 + b*x + c\n",
    "\n",
    "#Fit do modelo\n",
    "popt_placa, pcov = curve_fit(func, placa[3], placa[4], p0=[1.9, 1, 1])\n",
    "popt_tubo, pcov = curve_fit(func, tubo[3], tubo[4], p0=[1.9, 1, 1])"
   ]
  },
  {
   "cell_type": "code",
   "execution_count": 12,
   "metadata": {},
   "outputs": [
    {
     "data": {
      "image/png": "[encoded data removed]",
      "text/plain": [
       "<Figure size 432x288 with 2 Axes>"
      ]
     },
     "metadata": {
      "needs_background": "light"
     },
     "output_type": "display_data"
    }
   ],
   "source": [
    "fig, ax = plt.subplots()\n",
    "ax.set(xlabel=r'Re', ylabel=r'K - Placa orifício', ylim=(0.68, 0.71), xscale='log')\n",
    "\n",
    "Re = np.linspace(placa[3].min(), placa[3].max())\n",
    "\n",
    "#ax.plot(Re, func(Re, *[ 1.64740266e-11, -1.49944632e-06, 7.2280440e-01]), ls='--', label='Placa - literatura')\n",
    "ax.scatter(placa[3], placa[4], marker='o', ls='--', label='Placa - experimental')\n",
    "ax.legend(loc=3)\n",
    "ax.grid(ls='dotted')\n",
    "\n",
    "Re = np.linspace(tubo[3].min(), tubo[3].max())\n",
    "\n",
    "ax2 = ax.twinx()\n",
    "ax2.set(xlabel=r'Re', ylabel=r'K - Tubo venturi', ylim=(1.08, 1.09))\n",
    "#ax2.plot(Re, func(Re, *[-1.25449448e-13,  7.30318185e-08,  1.082e+00]),  c='red', ls='--', label='Venturi - literatura')\n",
    "ax2.scatter(tubo[3], tubo[4], marker='^', c='red', ls='--', label='Venturi - experimental')\n",
    "ax2.legend()\n",
    "\n",
    "fig.savefig('Re_x_k.pdf', bbox_inches='tight')"
   ]
  },
  {
   "cell_type": "code",
   "execution_count": 13,
   "metadata": {},
   "outputs": [],
   "source": [
    "#Modelo\n",
    "def func(x, a, b):\n",
    "    return a*x + b\n",
    "\n",
    "#Fit do modelo\n",
    "popt_placa, pcov = curve_fit(func, df_placa['ve'].values*1.2*np.pi*(0.0257**2)/4, placa[1])\n",
    "popt_tubo, pcov = curve_fit(func, df_vent['ve'].values*1.2*np.pi*(0.0244**2)/4, tubo[1])\n",
    "\n",
    "D = df_vent['ve'].values*1.2*np.pi*(0.0257**2)/4\n",
    "new_x = np.linspace(D.min()-0.0002, D.max())"
   ]
  },
  {
   "cell_type": "code",
   "execution_count": 14,
   "metadata": {},
   "outputs": [
    {
     "data": {
      "image/png": "[encoded data removed]",
      "text/plain": [
       "<Figure size 432x288 with 1 Axes>"
      ]
     },
     "metadata": {
      "needs_background": "light"
     },
     "output_type": "display_data"
    }
   ],
   "source": [
    "#%matplotlib\n",
    "fig, ax = plt.subplots()\n",
    "ax.set(ylabel=r'Vazão medidores $[kg/s]$', xlabel=r'Vazão anemômetro $[kg/s]$')\n",
    "\n",
    "ax.scatter(df_placa['ve'].values*1.2*np.pi*(0.0257**2)/4, placa[1], marker='o', ls='--', label='Placa de orifício')\n",
    "ax.plot(new_x, func(new_x,  *popt_placa), ls='--')\n",
    "\n",
    "ax.scatter(df_vent['ve'].values*1.2*np.pi*(0.0244**2)/4, tubo[1], marker='o', ls='--', label='Tubo de venturi')\n",
    "ax.plot(new_x, func(new_x,  *popt_tubo), ls='--')\n",
    "\n",
    "ax.legend()\n",
    "ax.grid(ls='dotted')\n",
    "\n",
    "fig.savefig('comparação_vazão.pdf', bbox_inches='tight')"
   ]
  }
 ],
 "metadata": {
  "kernelspec": {
   "display_name": "Python 3.8.8 ('base')",
   "language": "python",
   "name": "python3"
  },
  "language_info": {
   "codemirror_mode": {
    "name": "ipython",
    "version": 3
   },
   "file_extension": ".py",
   "mimetype": "text/x-python",
   "name": "python",
   "nbconvert_exporter": "python",
   "pygments_lexer": "ipython3",
   "version": "3.8.8"
  },
  "orig_nbformat": 4,
  "vscode": {
   "interpreter": {
    "hash": "e38bdacfe1d6e2b7e20a64d2eef782d7715e4314dc541be72f500d3c69b94a4f"
   }
  }
 },
 "nbformat": 4,
 "nbformat_minor": 2
}
