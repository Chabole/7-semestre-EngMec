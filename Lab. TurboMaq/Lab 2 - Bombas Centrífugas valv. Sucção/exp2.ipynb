{
 "cells": [
  {
   "cell_type": "code",
   "execution_count": 37,
   "metadata": {},
   "outputs": [],
   "source": [
    "import numpy as np\n",
    "import matplotlib.pyplot as plt\n",
    "import pandas as pd\n",
    "from uncertainties import ufloat\n",
    "from uncertainties.umath import *  # sin(), etc.\n",
    "import uncertainties.unumpy as un\n",
    "from class_bomba import bomba, Q2v, incert_A, error\n",
    "\n",
    "rho, g = 997, 9.8067\n",
    "\n",
    "#Info dos instrumentos\n",
    "df_inst = pd.read_excel('D:/UNESP/EngMec-UNESP/Lab. TurboMaq/Lab 2 - Bombas Centrífugas valv. Sucção/dados.xlsx', sheet_name='instr')\n",
    "#Info medidas -> var pressão descarga\n",
    "df_desc = pd.read_excel('D:/UNESP/EngMec-UNESP/Lab. TurboMaq/Lab 2 - Bombas Centrífugas valv. Sucção/dados.xlsx', sheet_name='vazão1')\n",
    "#Info medidas -> var pressão sucção\n",
    "df_suc = pd.read_excel('D:/UNESP/EngMec-UNESP/Lab. TurboMaq/Lab 2 - Bombas Centrífugas valv. Sucção/dados.xlsx', sheet_name='vazão2')\n",
    "\n",
    "#Incerteza do tipo A\n",
    "ze = incert_A(df_inst.ze.values) / 100  #m\n",
    "zs = incert_A(df_inst.zs.values) / 100\n",
    "De = incert_A(df_inst.De.values) / 1000\n",
    "Ds = incert_A(df_inst.Ds.values) / 1000\n",
    "Drot = incert_A(df_inst.D.values) / 100\n",
    "\n",
    "#Incerteza do tipo B - a/raiz(3) - Val. descarga\n",
    "d_pe = un.uarray(df_desc.pe.values, (df_desc.pe.values*0.05)/np.sqrt(3)) * 98066.5 #Pa\n",
    "d_ps = un.uarray(df_desc.ps.values, (df_desc.ps.values*0.05)/np.sqrt(3)) * 98066.5 #Pa\n",
    "d_Q = un.uarray(df_desc.Q.values, (df_desc.Q.values*0.02)/np.sqrt(3)) #m^3/h\n",
    "d_w = un.uarray(df_desc.w.values, (df_desc.w.values*0.02)/np.sqrt(3)) * 0.016667 #Hz\n",
    "\n",
    "#Incerteza do tipo B - a/raiz(3) - Val. sucção\n",
    "s_pe = un.uarray(df_suc.pe.values, (-df_suc.pe.values*0.05)/np.sqrt(3)) * 98066.5 #Pa CUIDADO PORRA\n",
    "s_ps = un.uarray(df_suc.ps.values, (df_suc.ps.values*0.05)/np.sqrt(3)) * 98066.5 #Pa\n",
    "s_Q = un.uarray(df_suc.Q.values, (df_suc.Q.values*0.02)/np.sqrt(3)) #m^3/h\n",
    "s_w = un.uarray(df_suc.w.values, (df_suc.w.values*0.02)/np.sqrt(3)) * 0.016667 #Hz"
   ]
  },
  {
   "cell_type": "code",
   "execution_count": 38,
   "metadata": {},
   "outputs": [],
   "source": [
    "b1  = bomba(d_pe, d_ps, Q2v(d_Q, De), Q2v(d_Q, Ds), ze, zs)\n",
    "b2  = bomba(s_pe, s_ps, Q2v(s_Q, De), Q2v(s_Q, Ds), ze, zs)"
   ]
  },
  {
   "cell_type": "code",
   "execution_count": 39,
   "metadata": {},
   "outputs": [
    {
     "name": "stdout",
     "output_type": "stream",
     "text": [
      "Using matplotlib backend: Qt5Agg\n"
     ]
    }
   ],
   "source": [
    "# Figura 1 \n",
    "#%matplotlib\n",
    "fig, ax = plt.subplots()\n",
    "ax.set(ylabel=r'$H [m]$', xlabel=r'$Q [m^3/h]$')\n",
    "\n",
    "#descarga\n",
    "error(d_Q, b1.hm, 'o', r'Descarga $H_m$', ax)\n",
    "error(d_Q, b1.hu, 'o', r'Descarga $H_u$', ax)\n",
    "\n",
    "#sucção\n",
    "error(s_Q, b2.hm, '^', r'Sucção $H_m$', ax)\n",
    "error(s_Q, b2.hu, '^', r'Sucção $H_u$', ax)\n",
    "\n",
    "ax.legend()\n",
    "ax.grid(ls='dotted')\n",
    "fig.savefig('H_x_Q.pdf', bbox_inches='tight')"
   ]
  },
  {
   "cell_type": "code",
   "execution_count": 40,
   "metadata": {},
   "outputs": [
    {
     "name": "stdout",
     "output_type": "stream",
     "text": [
      "\\begin{tabular}{llll}\n",
      "\\toprule\n",
      "{} &              Q &            Hm &            Hu \\\\\n",
      "\\midrule\n",
      "0  &     31.7+/-0.4 &   5.82+/-0.12 &   6.35+/-0.12 \\\\\n",
      "1  &   29.80+/-0.34 &   8.02+/-0.17 &   8.56+/-0.17 \\\\\n",
      "2  &   27.70+/-0.32 &  10.13+/-0.23 &  10.66+/-0.23 \\\\\n",
      "3  &   23.68+/-0.27 &  11.43+/-0.29 &  11.97+/-0.29 \\\\\n",
      "4  &   21.45+/-0.25 &  11.08+/-0.29 &  11.61+/-0.29 \\\\\n",
      "5  &   19.60+/-0.23 &  11.08+/-0.29 &  11.61+/-0.29 \\\\\n",
      "6  &   15.62+/-0.18 &  10.24+/-0.29 &  10.77+/-0.29 \\\\\n",
      "7  &   14.64+/-0.17 &   9.93+/-0.29 &  10.46+/-0.29 \\\\\n",
      "8  &   12.24+/-0.14 &  10.03+/-0.29 &  10.56+/-0.29 \\\\\n",
      "9  &   10.78+/-0.12 &  10.03+/-0.29 &  10.56+/-0.29 \\\\\n",
      "10 &    8.65+/-0.10 &  10.03+/-0.29 &  10.56+/-0.29 \\\\\n",
      "11 &    6.24+/-0.07 &  10.03+/-0.29 &  10.56+/-0.29 \\\\\n",
      "12 &    4.28+/-0.05 &  10.03+/-0.29 &  10.56+/-0.29 \\\\\n",
      "13 &  2.640+/-0.030 &  10.03+/-0.29 &  10.56+/-0.29 \\\\\n",
      "14 &  0.400+/-0.005 &  10.03+/-0.29 &  10.56+/-0.29 \\\\\n",
      "\\bottomrule\n",
      "\\end{tabular}\n",
      "\n"
     ]
    }
   ],
   "source": [
    "tab = pd.DataFrame({'Q':s_Q, 'Hm':b2.hm, 'Hu':b2.hu})\n",
    "print(tab.to_latex())"
   ]
  },
  {
   "cell_type": "code",
   "execution_count": 41,
   "metadata": {},
   "outputs": [],
   "source": [
    "# Figura 2\n",
    "fig, ax = plt.subplots()\n",
    "ax.set(ylabel=r'$P_h[W]$', xlabel=r'$Q[m^3/h]$')\n",
    "\n",
    "error(d_Q, b1.ph(d_Q), 'o', 'Descarga', ax)\n",
    "error(s_Q, b2.ph(s_Q), '^', 'Sucção', ax)\n",
    "       \n",
    "ax.legend()\n",
    "ax.grid(ls='dotted')\n",
    "fig.savefig('P_x_Q.pdf', bbox_inches='tight')"
   ]
  },
  {
   "cell_type": "code",
   "execution_count": 42,
   "metadata": {},
   "outputs": [
    {
     "name": "stdout",
     "output_type": "stream",
     "text": [
      "\\begin{tabular}{lll}\n",
      "\\toprule\n",
      "{} &              Q &                   Ph \\\\\n",
      "\\midrule\n",
      "0  &     31.7+/-0.4 &    (1.97+/-0.04)e+06 \\\\\n",
      "1  &   29.80+/-0.34 &    (2.49+/-0.06)e+06 \\\\\n",
      "2  &   27.70+/-0.32 &    (2.89+/-0.07)e+06 \\\\\n",
      "3  &   23.68+/-0.27 &    (2.77+/-0.07)e+06 \\\\\n",
      "4  &   21.45+/-0.25 &    (2.44+/-0.07)e+06 \\\\\n",
      "5  &   19.60+/-0.23 &    (2.23+/-0.06)e+06 \\\\\n",
      "6  &   15.62+/-0.18 &    (1.65+/-0.05)e+06 \\\\\n",
      "7  &   14.64+/-0.17 &    (1.50+/-0.04)e+06 \\\\\n",
      "8  &   12.24+/-0.14 &    (1.26+/-0.04)e+06 \\\\\n",
      "9  &   10.78+/-0.12 &  (1.113+/-0.033)e+06 \\\\\n",
      "10 &    8.65+/-0.10 &    (8.93+/-0.27)e+05 \\\\\n",
      "11 &    6.24+/-0.07 &    (6.44+/-0.19)e+05 \\\\\n",
      "12 &    4.28+/-0.05 &    (4.42+/-0.13)e+05 \\\\\n",
      "13 &  2.640+/-0.030 &    (2.73+/-0.08)e+05 \\\\\n",
      "14 &  0.400+/-0.005 &    (4.13+/-0.12)e+04 \\\\\n",
      "\\bottomrule\n",
      "\\end{tabular}\n",
      "\n"
     ]
    }
   ],
   "source": [
    "tab = pd.DataFrame({'Q':s_Q, 'Ph':b2.ph(s_Q)})\n",
    "print(tab.to_latex())"
   ]
  },
  {
   "cell_type": "code",
   "execution_count": 43,
   "metadata": {},
   "outputs": [],
   "source": [
    "# Figura 3\n",
    "fig, ax = plt.subplots()\n",
    "ax.set(ylabel=r'$\\psi$', xlabel=r'$\\phi$')\n",
    "\n",
    "#descarga\n",
    "error(b1.phi(d_Q, d_w, De), b1.psi_m(d_w, De), 'o', r'Descarga $\\psi_{m}$', ax)\n",
    "error(b1.phi(d_Q, d_w, De), b1.psi_u(d_w, De), 'o', r'Descarga $\\psi_{u}$', ax)\n",
    "\n",
    "#sucção\n",
    "error(b2.phi(s_Q, s_w, De), b2.psi_m(s_w, De), '^', r'Sucção $\\psi_{m}$', ax)\n",
    "error(b2.phi(s_Q, s_w, De), b2.psi_u(s_w, De), '^', r'Sucção $\\psi_{u}$', ax)\n",
    "\n",
    "ax.legend()\n",
    "ax.grid(ls='dotted')\n",
    "fig.savefig('psi_x_phi.pdf', bbox_inches='tight')"
   ]
  },
  {
   "cell_type": "code",
   "execution_count": 44,
   "metadata": {},
   "outputs": [
    {
     "name": "stdout",
     "output_type": "stream",
     "text": [
      "\\begin{tabular}{llll}\n",
      "\\toprule\n",
      "{} &        psi\\_m &       psi\\_u &          phi \\\\\n",
      "\\midrule\n",
      "0  &   80.9+/-2.5 &  88.2+/-2.6 &   80.9+/-2.5 \\\\\n",
      "1  &  111.7+/-3.5 &     119+/-4 &  111.7+/-3.5 \\\\\n",
      "2  &      141+/-5 &     148+/-5 &      141+/-5 \\\\\n",
      "3  &      158+/-5 &     165+/-6 &      158+/-5 \\\\\n",
      "4  &      153+/-5 &     160+/-5 &      153+/-5 \\\\\n",
      "5  &      152+/-5 &     159+/-5 &      152+/-5 \\\\\n",
      "6  &      140+/-5 &     147+/-5 &      140+/-5 \\\\\n",
      "7  &      135+/-5 &     142+/-5 &      135+/-5 \\\\\n",
      "8  &      135+/-5 &     143+/-5 &      135+/-5 \\\\\n",
      "9  &      135+/-5 &     142+/-5 &      135+/-5 \\\\\n",
      "10 &      135+/-5 &     142+/-5 &      135+/-5 \\\\\n",
      "11 &      134+/-5 &     141+/-5 &      134+/-5 \\\\\n",
      "12 &      134+/-5 &     141+/-5 &      134+/-5 \\\\\n",
      "13 &      133+/-5 &     141+/-5 &      133+/-5 \\\\\n",
      "14 &      133+/-5 &     140+/-5 &      133+/-5 \\\\\n",
      "\\bottomrule\n",
      "\\end{tabular}\n",
      "\n"
     ]
    }
   ],
   "source": [
    "tab = pd.DataFrame({'psi_m':b2.psi_m(s_w, De), 'psi_u':b2.psi_u(s_w, De), 'phi':b2.psi_m(s_w, De)})\n",
    "print(tab.to_latex())"
   ]
  },
  {
   "cell_type": "code",
   "execution_count": 45,
   "metadata": {},
   "outputs": [],
   "source": [
    "# Figura 4\n",
    "fig, ax = plt.subplots()\n",
    "ax.set(ylabel=r'$\\psi$', xlabel=r'$n [m/s]$')\n",
    "\n",
    "#descarga\n",
    "error(b1.nq_m(d_Q, d_w), b1.psi_m(d_w, De), 'o', r'Descarga $\\psi_{m}$', ax)\n",
    "error(b1.nq_u(d_Q, d_w), b1.psi_u(d_w, De), 'o', r'Descarga $\\psi_{u}$', ax)\n",
    "\n",
    "#sucção\n",
    "error(b2.nq_m(s_Q, s_w), b2.psi_m(s_w, De), '^', r'Sucção $\\psi_{m}$', ax)\n",
    "error(b2.nq_u(s_Q, s_w), b2.psi_u(s_w, De), '^', r'Sucção $\\psi_{u}$', ax)\n",
    "\n",
    "ax.legend()\n",
    "ax.grid(ls='dotted')\n",
    "fig.savefig('psi_x_n.pdf', bbox_inches='tight')"
   ]
  },
  {
   "cell_type": "code",
   "execution_count": 46,
   "metadata": {},
   "outputs": [
    {
     "name": "stdout",
     "output_type": "stream",
     "text": [
      "\\begin{tabular}{lllll}\n",
      "\\toprule\n",
      "{} &        psi\\_m &       psi\\_u &           nqm &           nqu \\\\\n",
      "\\midrule\n",
      "0  &   80.9+/-2.5 &  88.2+/-2.6 &   166.1+/-3.2 &   166.1+/-3.2 \\\\\n",
      "1  &  111.7+/-3.5 &     119+/-4 &   128.7+/-2.5 &   128.7+/-2.5 \\\\\n",
      "2  &      141+/-5 &     148+/-5 &   105.3+/-2.2 &   105.3+/-2.2 \\\\\n",
      "3  &      158+/-5 &     165+/-6 &    89.5+/-2.0 &    89.5+/-2.0 \\\\\n",
      "4  &      153+/-5 &     160+/-5 &    87.2+/-2.0 &    87.2+/-2.0 \\\\\n",
      "5  &      152+/-5 &     159+/-5 &    83.6+/-1.9 &    83.6+/-1.9 \\\\\n",
      "6  &      140+/-5 &     147+/-5 &    79.2+/-1.9 &    79.2+/-1.9 \\\\\n",
      "7  &      135+/-5 &     142+/-5 &    78.5+/-1.9 &    78.5+/-1.9 \\\\\n",
      "8  &      135+/-5 &     143+/-5 &    71.5+/-1.7 &    71.5+/-1.7 \\\\\n",
      "9  &      135+/-5 &     142+/-5 &    67.2+/-1.6 &    67.2+/-1.6 \\\\\n",
      "10 &      135+/-5 &     142+/-5 &    60.3+/-1.5 &    60.3+/-1.5 \\\\\n",
      "11 &      134+/-5 &     141+/-5 &    51.4+/-1.2 &    51.4+/-1.2 \\\\\n",
      "12 &      134+/-5 &     141+/-5 &    42.6+/-1.0 &    42.6+/-1.0 \\\\\n",
      "13 &      133+/-5 &     141+/-5 &    33.4+/-0.8 &    33.4+/-0.8 \\\\\n",
      "14 &      133+/-5 &     140+/-5 &  13.05+/-0.32 &  13.05+/-0.32 \\\\\n",
      "\\bottomrule\n",
      "\\end{tabular}\n",
      "\n"
     ]
    }
   ],
   "source": [
    "tab = pd.DataFrame({'psi_m':b2.psi_m(s_w, De), 'psi_u':b2.psi_u(s_w, De), 'nqm':b2.nq_u(s_Q, s_w), 'nqu':b2.nq_u(s_Q, s_w)})\n",
    "print(tab.to_latex())"
   ]
  },
  {
   "cell_type": "code",
   "execution_count": 47,
   "metadata": {},
   "outputs": [],
   "source": [
    "# Figura 5\n",
    "viscosidade = 0.893e-6\n",
    "fig, ax = plt.subplots()\n",
    "ax.set(ylabel=r'$R_e$', xlabel=r'$n[m/s]$', ylim=(2.1e5,2.3e5), xlim=(0, 370))\n",
    "\n",
    "\n",
    "#descarga\n",
    "error(b1.nq_m(d_Q, d_w), b1.Re(d_w, De, viscosidade), 'o', r'Descarga $n_{q,m}$', ax)\n",
    "#error(b1.Re(d_w, De, viscosidade), b1.nq_u(d_Q, d_w), 'o', r'Descarga $n_{q,u}$', ax)\n",
    "\n",
    "#sucção\n",
    "error(b2.nq_m(s_Q, s_w), b2.Re(s_w, De, viscosidade), '^', r'Sucção $n_{q,m}$', ax)\n",
    "#error(b2.Re(s_w, De, viscosidade), b2.nq_u(s_Q, s_w), '^', r'Sucção $n_{q,u}$', ax)\n",
    "\n",
    "ax.legend()\n",
    "ax.grid(ls='dotted')\n",
    "\n",
    "fig.savefig('Re_x_n.pdf', bbox_inches='tight')"
   ]
  },
  {
   "cell_type": "code",
   "execution_count": 48,
   "metadata": {},
   "outputs": [
    {
     "name": "stdout",
     "output_type": "stream",
     "text": [
      "\\begin{tabular}{llll}\n",
      "\\toprule\n",
      "{} &                   Re &           nqm &           nqu \\\\\n",
      "\\midrule\n",
      "0  &  (2.186+/-0.026)e+05 &   166.1+/-3.2 &   166.1+/-3.2 \\\\\n",
      "1  &  (2.185+/-0.026)e+05 &   128.7+/-2.5 &   128.7+/-2.5 \\\\\n",
      "2  &  (2.187+/-0.026)e+05 &   105.3+/-2.2 &   105.3+/-2.2 \\\\\n",
      "3  &  (2.192+/-0.026)e+05 &    89.5+/-2.0 &    89.5+/-2.0 \\\\\n",
      "4  &  (2.195+/-0.026)e+05 &    87.2+/-2.0 &    87.2+/-2.0 \\\\\n",
      "5  &  (2.201+/-0.026)e+05 &    83.6+/-1.9 &    83.6+/-1.9 \\\\\n",
      "6  &  (2.207+/-0.026)e+05 &    79.2+/-1.9 &    79.2+/-1.9 \\\\\n",
      "7  &  (2.210+/-0.026)e+05 &    78.5+/-1.9 &    78.5+/-1.9 \\\\\n",
      "8  &  (2.217+/-0.026)e+05 &    71.5+/-1.7 &    71.5+/-1.7 \\\\\n",
      "9  &  (2.222+/-0.026)e+05 &    67.2+/-1.6 &    67.2+/-1.6 \\\\\n",
      "10 &  (2.225+/-0.026)e+05 &    60.3+/-1.5 &    60.3+/-1.5 \\\\\n",
      "11 &  (2.231+/-0.026)e+05 &    51.4+/-1.2 &    51.4+/-1.2 \\\\\n",
      "12 &  (2.232+/-0.026)e+05 &    42.6+/-1.0 &    42.6+/-1.0 \\\\\n",
      "13 &  (2.234+/-0.026)e+05 &    33.4+/-0.8 &    33.4+/-0.8 \\\\\n",
      "14 &  (2.239+/-0.026)e+05 &  13.05+/-0.32 &  13.05+/-0.32 \\\\\n",
      "\\bottomrule\n",
      "\\end{tabular}\n",
      "\n"
     ]
    }
   ],
   "source": [
    "tab = pd.DataFrame({'Re':b2.Re(s_w, De, viscosidade), 'nqm':b2.nq_u(s_Q, s_w), 'nqu':b2.nq_u(s_Q, s_w)})\n",
    "print(tab.to_latex())"
   ]
  }
 ],
 "metadata": {
  "kernelspec": {
   "display_name": "Python 3.8.8 ('base')",
   "language": "python",
   "name": "python3"
  },
  "language_info": {
   "codemirror_mode": {
    "name": "ipython",
    "version": 3
   },
   "file_extension": ".py",
   "mimetype": "text/x-python",
   "name": "python",
   "nbconvert_exporter": "python",
   "pygments_lexer": "ipython3",
   "version": "3.8.8"
  },
  "orig_nbformat": 4,
  "vscode": {
   "interpreter": {
    "hash": "e38bdacfe1d6e2b7e20a64d2eef782d7715e4314dc541be72f500d3c69b94a4f"
   }
  }
 },
 "nbformat": 4,
 "nbformat_minor": 2
}
