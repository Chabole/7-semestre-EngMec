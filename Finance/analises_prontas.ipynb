{
 "cells": [
  {
   "cell_type": "code",
   "execution_count": 6,
   "metadata": {},
   "outputs": [],
   "source": [
    "import plotly.io as pio\n",
    "#pio.renderers.default = \"plotly_mimetype\"\n",
    "#pio.renderers.default = \"kaggle\"\n",
    "#ROE, P/L\n",
    "pio.renderers.default = \"browser\"\n",
    "import fortunae as ft\n",
    "import pandas as pd\n",
    "import time \n",
    "import json\n",
    "import matplotlib.pyplot as plt\n",
    "import plotly.express as px\n",
    "\n",
    "fiis = pd.read_excel('D:/UNESP/Finance/outputs.xlsx', sheet_name='FIIs', index_col=0)\n",
    "\n",
    "stocks = pd.read_excel('D:/UNESP/Finance/outputs.xlsx', index_col=0)\n",
    "stocks = stocks.drop(columns=['Valor atual', 'Min. 52 semanas',\n",
    "       'Máx. 52 semanas', 'Valorização (12m)', 'TOMADOR (média)',\n",
    "       'DOADOR (média)', 'Nº DE AÇÕES ALUGADAS (dia)',\n",
    "       'Nº DE CONTRATOS', 'Unnamed: 14', 'Ano passado', 'Ano atual',\n",
    "       'Provisionado', 'Ativos', 'Ativo circulante', 'Dívida bruta',\n",
    "       'Disponibilidade', 'Dívida líquida', 'Valor de mercado',\n",
    "       'Valor de firma', 'Segmento de listagem', 'Free Float','Liq. corrente', 'M. Bruta',\n",
    "       'M. EBITDA', 'M. EBIT', 'M. Líquida', 'Giro ativos', 'UNIT - Composição', 'EV/EBITDA',\n",
    "       'EV/EBIT', 'P/EBITDA', 'P/EBIT', 'VPA', 'P/Ativo', 'P/SR',\n",
    "       'P/Cap. Giro', 'P/Ativo Circ. Liq.', 'Dív. líquida/PL',\n",
    "       'Dív. líquida/EBITDA'])\n",
    "\n",
    "df = stocks.groupby(by='Subsetor de Atuação')\n",
    "res = df[['P/VP', 'P/L']].describe()"
   ]
  },
  {
   "cell_type": "code",
   "execution_count": 13,
   "metadata": {},
   "outputs": [
    {
     "data": {
      "application/vnd.plotly.v1+json": {
       "config": {
        "plotlyServerURL": "https://plot.ly"
       },
       "data": [
        {
         "customdata": [
          [
           "ABEV3",
           0.86,
           15.7,
           17.67,
           18.74
          ],
          [
           "AGRO3",
           7.88,
           32.67,
           3.3,
           14.65
          ],
          [
           "ASAI3",
           1.19,
           48.26,
           15.16,
           18.25
          ],
          [
           "BEEF3",
           1.25,
           109.12,
           11.24,
           15.45
          ],
          [
           "BRFS3",
           1.38,
           12.25,
           11.27,
           2.98
          ],
          [
           "CRFB3",
           1.26,
           13.27,
           16.09,
           10.44
          ],
          [
           "ESPA3",
           0.46,
           15.7,
           5.83,
           11.27
          ],
          [
           "GMAT3",
           0.36,
           12.12,
           14.77,
           10.76
          ],
          [
           "JBSS3",
           10.44,
           53.61,
           2.92,
           22.55
          ],
          [
           "MRFG3",
           9.68,
           199.24,
           1.48,
           38.4
          ],
          [
           "PCAR3",
           7.09,
           13.41,
           2.62,
           3.26
          ],
          [
           "SLCE3",
           7.15,
           31.39,
           6.39,
           23.58
          ],
          [
           "SMTO3",
           4.27,
           28.1,
           8.38,
           14.79
          ],
          [
           "SOJA3",
           1.06,
           19.15,
           11.18,
           15.69
          ],
          [
           "TTEN3",
           0.88,
           18.93,
           11.38,
           8.4
          ]
         ],
         "hovertemplate": "Setor de Atuação=Consumo não Cíclico<br>P/VP=%{x}<br>Subsetor de Atuação=%{y}<br>D.Y=%{marker.size}<br>Ativo=%{customdata[0]}<br>LPA=%{customdata[1]}<br>ROE=%{customdata[2]}<br>P/L=%{customdata[3]}<br>ROIC=%{customdata[4]}<extra></extra>",
         "legendgroup": "Consumo não Cíclico",
         "marker": {
          "color": "#636efa",
          "size": [
           3.97,
           17.84,
           0.96,
           4.9,
           0,
           2.87,
           3.02,
           0,
           9.83,
           22.52,
           1.91,
           5.31,
           6.13,
           0.34,
           0.15
          ],
          "sizemode": "area",
          "sizeref": 0.14427500000000001,
          "symbol": "circle"
         },
         "mode": "markers",
         "name": "Consumo não Cíclico",
         "orientation": "h",
         "showlegend": true,
         "type": "scatter",
         "x": [
          2.77,
          1.08,
          7.32,
          12.26,
          1.38,
          2.14,
          0.92,
          1.79,
          1.57,
          2.95,
          0.35,
          2.01,
          2.35,
          2.14,
          2.15
         ],
         "xaxis": "x",
         "y": [
          "Bebidas",
          "Agropecuária",
          "Comércio e Distribuição",
          "Alimentos Processados",
          "Alimentos Processados",
          "Comércio e Distribuição",
          "Produtos de Uso Pessoal e de Limpeza",
          "Comércio e Distribuição",
          "Alimentos Processados",
          "Alimentos Processados",
          "Comércio e Distribuição",
          "Agropecuária",
          "Alimentos Processados",
          "Agropecuária",
          "Agropecuária"
         ],
         "yaxis": "y"
        },
        {
         "customdata": [
          [
           "AESB3",
           0.96,
           14.43,
           10.2,
           1.42
          ],
          [
           "ALUP11",
           3.65,
           14.7,
           7.83,
           13.68
          ],
          [
           "CMIG3",
           2.17,
           23.15,
           8.71,
           17.89
          ],
          [
           "CMIG4",
           2.17,
           23.15,
           5.72,
           17.89
          ],
          [
           "CPFE3",
           4.38,
           31.08,
           7.78,
           17.15
          ],
          [
           "CPLE11",
           6.11,
           16.24,
           5.68,
           12.11
          ],
          [
           "CPLE6",
           1.22,
           16.24,
           5.79,
           12.11
          ],
          [
           "CSMG3",
           1.13,
           6.1,
           11.48,
           6.3
          ],
          [
           "EGIE3",
           2.15,
           22.15,
           19.94,
           17.69
          ],
          [
           "ELET3",
           2.93,
           8.57,
           16,
           6.43
          ],
          [
           "ELET6",
           2.93,
           8.57,
           16.71,
           6.43
          ],
          [
           "ENBR3",
           3.83,
           19.77,
           6.02,
           14.22
          ],
          [
           "ENGI11",
           6.9,
           28.09,
           6.65,
           13.33
          ],
          [
           "EQTL3",
           2.87,
           20.51,
           8.49,
           10.95
          ],
          [
           "LIGT3",
           0.9,
           3.87,
           7.08,
           2.98
          ],
          [
           "NEOE3",
           3.46,
           16.5,
           4.84,
           11.59
          ],
          [
           "SAPR11",
           3.72,
           13.83,
           4.83,
           10.83
          ],
          [
           "SAPR4",
           0.74,
           13.83,
           4.93,
           10.83
          ],
          [
           "SBSP3",
           4.07,
           10.75,
           10.75,
           6.93
          ],
          [
           "TAEE11",
           6.05,
           29.13,
           7.09,
           19.17
          ],
          [
           "TRPL4",
           4.29,
           18.13,
           5.6,
           15.71
          ]
         ],
         "hovertemplate": "Setor de Atuação=Utilidade Pública<br>P/VP=%{x}<br>Subsetor de Atuação=%{y}<br>D.Y=%{marker.size}<br>Ativo=%{customdata[0]}<br>LPA=%{customdata[1]}<br>ROE=%{customdata[2]}<br>P/L=%{customdata[3]}<br>ROIC=%{customdata[4]}<extra></extra>",
         "legendgroup": "Utilidade Pública",
         "marker": {
          "color": "#EF553B",
          "size": [
           1.1,
           4.3,
           7.75,
           11.8,
           15.96,
           16.54,
           16.52,
           5.09,
           5.82,
           1.57,
           3.14,
           9.53,
           6.21,
           2.63,
           4,
           4.77,
           6.47,
           6.45,
           2.15,
           8.96,
           6.17
          ],
          "sizemode": "area",
          "sizeref": 0.14427500000000001,
          "symbol": "circle"
         },
         "mode": "markers",
         "name": "Utilidade Pública",
         "orientation": "h",
         "showlegend": true,
         "type": "scatter",
         "x": [
          1.47,
          1.15,
          2.02,
          1.32,
          2.42,
          0.92,
          0.94,
          0.7,
          4.42,
          1.37,
          1.43,
          1.19,
          1.87,
          1.74,
          0.27,
          0.8,
          0.67,
          0.68,
          1.16,
          2.06,
          1.02
         ],
         "xaxis": "x",
         "y": [
          "Energia Elétrica",
          "Energia Elétrica",
          "Energia Elétrica",
          "Energia Elétrica",
          "Energia Elétrica",
          "Energia Elétrica",
          "Energia Elétrica",
          "Água e Saneamento",
          "Energia Elétrica",
          "Energia Elétrica",
          "Energia Elétrica",
          "Energia Elétrica",
          "Energia Elétrica",
          "Energia Elétrica",
          "Energia Elétrica",
          "Energia Elétrica",
          "Água e Saneamento",
          "Água e Saneamento",
          "Água e Saneamento",
          "Energia Elétrica",
          "Energia Elétrica"
         ],
         "yaxis": "y"
        },
        {
         "customdata": [
          [
           "ALSO3",
           0.96,
           3.81,
           19.79,
           6.43
          ],
          [
           "B3SA3",
           0.75,
           20.92,
           17.51,
           11.6
          ],
          [
           "BBAS3",
           8.22,
           15.5,
           5.39,
           0
          ],
          [
           "BBDC3",
           2.28,
           15.53,
           7.07,
           0
          ],
          [
           "BBDC4",
           2.28,
           15.53,
           8.55,
           0
          ],
          [
           "BBSE3",
           2.39,
           61.62,
           12.76,
           0
          ],
          [
           "BOAS3",
           0.51,
           12.48,
           14.37,
           0.25
          ],
          [
           "BPAC11",
           1.67,
           15.47,
           15.6,
           0
          ],
          [
           "BPAN4",
           0.56,
           10.23,
           13.56,
           0
          ],
          [
           "BRML3",
           0.57,
           4.35,
           15.43,
           5.48
          ],
          [
           "BRSR6",
           2.19,
           9.92,
           4.94,
           0
          ],
          [
           "CIEL3",
           0.45,
           11.45,
           11.81,
           8.48
          ],
          [
           "IRBR3",
           0.52,
           17.68,
           4.41,
           0
          ],
          [
           "ITSA4",
           1.55,
           20.92,
           6.07,
           18.51
          ],
          [
           "ITUB3",
           2.73,
           17.03,
           8.33,
           0
          ],
          [
           "ITUB4",
           2.73,
           17.03,
           9.78,
           0
          ],
          [
           "LOGG3",
           4.05,
           11.69,
           5.83,
           8.76
          ],
          [
           "MODL11",
           0.45,
           8.09,
           17.99,
           0
          ],
          [
           "PSSA3",
           1.39,
           9.56,
           15.42,
           4.32
          ],
          [
           "SANB11",
           3.98,
           13.85,
           7.67,
           0
          ],
          [
           "SIMH3",
           0.9,
           28.66,
           13.49,
           8.93
          ],
          [
           "WIZS3",
           0.79,
           35.96,
           10.59,
           20.83
          ]
         ],
         "hovertemplate": "Setor de Atuação=Financeiro e Outros<br>P/VP=%{x}<br>Subsetor de Atuação=%{y}<br>D.Y=%{marker.size}<br>Ativo=%{customdata[0]}<br>LPA=%{customdata[1]}<br>ROE=%{customdata[2]}<br>P/L=%{customdata[3]}<br>ROIC=%{customdata[4]}<extra></extra>",
         "legendgroup": "Financeiro e Outros",
         "marker": {
          "color": "#00cc96",
          "size": [
           2.02,
           5.39,
           6.91,
           3.74,
           3.4,
           3.04,
           1.09,
           2.03,
           3.21,
           0.61,
           10.86,
           4.23,
           0,
           5.62,
           2.59,
           2.2,
           3.67,
           4.62,
           3.38,
           8.47,
           5.11,
           7.05
          ],
          "sizemode": "area",
          "sizeref": 0.14427500000000001,
          "symbol": "circle"
         },
         "mode": "markers",
         "name": "Financeiro e Outros",
         "orientation": "h",
         "showlegend": true,
         "type": "scatter",
         "x": [
          0.75,
          3.66,
          0.84,
          1.1,
          1.33,
          7.87,
          1.79,
          2.41,
          1.39,
          0.67,
          0.49,
          1.35,
          0.78,
          1.27,
          1.42,
          1.67,
          0.68,
          1.46,
          1.47,
          1.06,
          3.87,
          3.81
         ],
         "xaxis": "x",
         "y": [
          "Exploração de Imóveis",
          "Serviços Financeiros Diversos",
          "Intermediários Financeiros",
          "Intermediários Financeiros",
          "Intermediários Financeiros",
          "Previdência e Seguros",
          "Serviços Financeiros Diversos",
          "Intermediários Financeiros",
          "Intermediários Financeiros",
          "Exploração de Imóveis",
          "Intermediários Financeiros",
          "Serviços Financeiros Diversos",
          "Previdência e Seguros",
          "Intermediários Financeiros",
          "Intermediários Financeiros",
          "Intermediários Financeiros",
          "Exploração de Imóveis",
          "Intermediários Financeiros",
          "Previdência e Seguros",
          "Intermediários Financeiros",
          "Holdings Diversificadas",
          "Previdência e Seguros"
         ],
         "yaxis": "y"
        },
        {
         "customdata": [
          [
           "AMAR3",
           0.43,
           13.62,
           6.22,
           4.51
          ],
          [
           "ANIM3",
           0.57,
           8.06,
           9.5,
           3.79
          ],
          [
           "CEAB3",
           0.8,
           8.71,
           4.14,
           5.69
          ],
          [
           "COGN3",
           0.22,
           3.3,
           12.17,
           0.9
          ],
          [
           "CVCB3",
           1.77,
           99.7,
           4.04,
           22.18
          ],
          [
           "CYRE3",
           1.92,
           12.08,
           7.63,
           7.45
          ],
          [
           "DIRR3",
           1.07,
           11.76,
           11.74,
           11.9
          ],
          [
           "EVEN3",
           0.77,
           8.84,
           7.91,
           5.09
          ],
          [
           "EZTC3",
           1.83,
           9.24,
           10.29,
           5.81
          ],
          [
           "GFSA3",
           0.2,
           3.77,
           6.61,
           3.57
          ],
          [
           "GRND3",
           0.7,
           15.28,
           10.66,
           6.48
          ],
          [
           "GUAR3",
           0.92,
           8.87,
           9.48,
           2.29
          ],
          [
           "HBOR3",
           0.49,
           4.9,
           6.19,
           3.05
          ],
          [
           "JHSF3",
           1.29,
           19,
           5.16,
           14.4
          ],
          [
           "LEVE3",
           3.96,
           34.4,
           6.49,
           26.61
          ],
          [
           "LLIS3",
           12.36,
           145.18,
           0.13,
           53.88
          ],
          [
           "MEAL3",
           0.32,
           8.97,
           6.31,
           1.14
          ],
          [
           "MOVI3",
           2.71,
           34.36,
           5.37,
           10.75
          ],
          [
           "MRVE3",
           1.23,
           9.68,
           8.46,
           6.37
          ],
          [
           "MTRE3",
           0.41,
           4.43,
           14.9,
           3.83
          ],
          [
           "MYPK3",
           4.04,
           15.39,
           4.28,
           11.13
          ],
          [
           "SBFG3",
           2.3,
           24.6,
           9.85,
           5.88
          ],
          [
           "SMFT3",
           0.75,
           10.66,
           19.32,
           1.83
          ],
          [
           "TECN3",
           0.46,
           10.15,
           5.47,
           11.51
          ],
          [
           "TEND3",
           2.96,
           29.7,
           1.77,
           13.66
          ],
          [
           "TRIS3",
           0.51,
           7.76,
           9.2,
           6.1
          ],
          [
           "VIVA3",
           1.44,
           24.45,
           17.28,
           17.05
          ],
          [
           "WEST3",
           0.3,
           8.71,
           8.61,
           14.46
          ]
         ],
         "hovertemplate": "Setor de Atuação=Consumo Cíclico<br>P/VP=%{x}<br>Subsetor de Atuação=%{y}<br>D.Y=%{marker.size}<br>Ativo=%{customdata[0]}<br>LPA=%{customdata[1]}<br>ROE=%{customdata[2]}<br>P/L=%{customdata[3]}<br>ROIC=%{customdata[4]}<extra></extra>",
         "legendgroup": "Consumo Cíclico",
         "marker": {
          "color": "#ab63fa",
          "size": [
           0,
           0,
           0,
           0,
           0,
           3.86,
           3.74,
           1.21,
           3.03,
           0,
           5.79,
           6.44,
           5.94,
           5.19,
           16.35,
           0,
           0,
           9.26,
           3.46,
           4.63,
           9.47,
           0.52,
           0,
           3.23,
           0,
           4.66,
           1.32,
           0
          ],
          "sizemode": "area",
          "sizeref": 0.14427500000000001,
          "symbol": "circle"
         },
         "mode": "markers",
         "name": "Consumo Cíclico",
         "orientation": "h",
         "showlegend": true,
         "type": "scatter",
         "x": [
          0.85,
          0.77,
          0.36,
          0.4,
          4.03,
          0.92,
          1.38,
          0.7,
          0.95,
          0.25,
          1.63,
          0.84,
          0.3,
          0.98,
          2.23,
          0.18,
          0.57,
          1.85,
          0.82,
          0.66,
          0.66,
          2.42,
          2.06,
          0.56,
          0.53,
          0.71,
          4.22,
          0.75
         ],
         "xaxis": "x",
         "y": [
          "Comércio",
          "Diversos",
          "Comércio",
          "Diversos",
          "Viagens e Lazer",
          "Construção Civil",
          "Construção Civil",
          "Construção Civil",
          "Construção Civil",
          "Construção Civil",
          "Tecidos Vestuário e Calçados",
          "Comércio",
          "Construção Civil",
          "Construção Civil",
          "Automóveis e Motocicletas",
          "Comércio",
          "Hoteis e Restaurantes",
          "Diversos",
          "Construção Civil",
          "Construção Civil",
          "Automóveis e Motocicletas",
          "Comércio",
          "Viagens e Lazer",
          "Tecidos Vestuário e Calçados",
          "Construção Civil",
          "Construção Civil",
          "Tecidos Vestuário e Calçados",
          "Comércio"
         ],
         "yaxis": "y"
        },
        {
         "customdata": [
          [
           "AZUL4",
           1.9,
           13.26,
           8.74,
           13.62
          ],
          [
           "CCRO3",
           1.88,
           33.06,
           7.81,
           16.35
          ],
          [
           "ETER3",
           3.79,
           37.27,
           3.4,
           34.78
          ],
          [
           "GOLL4",
           1.74,
           27.67,
           6.28,
           30.92
          ],
          [
           "HBSA3",
           0.26,
           14.94,
           10.3,
           2.16
          ],
          [
           "KEPL3",
           3.11,
           50.4,
           6.89,
           39.32
          ],
          [
           "POMO4",
           0.33,
           10.33,
           7.79,
           1.55
          ],
          [
           "RAPT4",
           2.05,
           25.76,
           5.51,
           13.11
          ],
          [
           "ROMI3",
           2.78,
           20.97,
           5.06,
           12.61
          ],
          [
           "STBP3",
           0.44,
           16.01,
           17.71,
           13.08
          ],
          [
           "TASA4",
           5.52,
           72.2,
           3.43,
           48.02
          ],
          [
           "TGMA3",
           1.71,
           15.95,
           9.71,
           13.69
          ],
          [
           "TUPY3",
           3.09,
           15.23,
           8.57,
           10.45
          ]
         ],
         "hovertemplate": "Setor de Atuação=Bens Industriais<br>P/VP=%{x}<br>Subsetor de Atuação=%{y}<br>D.Y=%{marker.size}<br>Ativo=%{customdata[0]}<br>LPA=%{customdata[1]}<br>ROE=%{customdata[2]}<br>P/L=%{customdata[3]}<br>ROIC=%{customdata[4]}<extra></extra>",
         "legendgroup": "Bens Industriais",
         "marker": {
          "color": "#FFA15A",
          "size": [
           0,
           1.12,
           4.94,
           0,
           0,
           3.93,
           1.46,
           6.4,
           6.95,
           3.87,
           8.59,
           5.85,
           1.63
          ],
          "sizemode": "area",
          "sizeref": 0.14427500000000001,
          "symbol": "circle"
         },
         "mode": "markers",
         "name": "Bens Industriais",
         "orientation": "h",
         "showlegend": true,
         "type": "scatter",
         "x": [
          1.16,
          2.58,
          1.27,
          1.74,
          1.54,
          3.47,
          0.8,
          1.42,
          1.06,
          2.83,
          2.48,
          1.55,
          1.31
         ],
         "xaxis": "x",
         "y": [
          "Transporte",
          "Transporte",
          "Construção e Engenharia",
          "Transporte",
          "Transporte",
          "Máquinas e Equipamentos",
          "Material de Transporte",
          "Material de Transporte",
          "Máquinas e Equipamentos",
          "Transporte",
          "Máquinas e Equipamentos",
          "Transporte",
          "Material de Transporte"
         ],
         "yaxis": "y"
        },
        {
         "customdata": [
          [
           "BLAU3",
           1.75,
           18.21,
           16.82,
           14.01
          ],
          [
           "FLRY3",
           1.09,
           19.08,
           14.88,
           11.14
          ],
          [
           "HYPE3",
           2.14,
           13.3,
           19.75,
           11.78
          ],
          [
           "ODPV3",
           0.78,
           38.37,
           12.36,
           31.72
          ],
          [
           "PGMN3",
           0.29,
           5.89,
           18.21,
           10.23
          ],
          [
           "QUAL3",
           1.15,
           24.23,
           10.1,
           13.29
          ]
         ],
         "hovertemplate": "Setor de Atuação=Saúde<br>P/VP=%{x}<br>Subsetor de Atuação=%{y}<br>D.Y=%{marker.size}<br>Ativo=%{customdata[0]}<br>LPA=%{customdata[1]}<br>ROE=%{customdata[2]}<br>P/L=%{customdata[3]}<br>ROIC=%{customdata[4]}<extra></extra>",
         "legendgroup": "Saúde",
         "marker": {
          "color": "#19d3f3",
          "size": [
           2.5,
           4.96,
           2.91,
           2.94,
           0,
           2.21
          ],
          "sizemode": "area",
          "sizeref": 0.14427500000000001,
          "symbol": "circle"
         },
         "mode": "markers",
         "name": "Saúde",
         "orientation": "h",
         "showlegend": true,
         "type": "scatter",
         "x": [
          3.06,
          2.84,
          2.63,
          4.74,
          1.07,
          2.45
         ],
         "xaxis": "x",
         "y": [
          "Medicamentos e Outros Produtos",
          "ServMédHospitAnálises e Diagnósticos",
          "Comércio e Distribuição",
          "ServMédHospitAnálises e Diagnósticos",
          "Comércio e Distribuição",
          "ServMédHospitAnálises e Diagnósticos"
         ],
         "yaxis": "y"
        },
        {
         "customdata": [
          [
           "BMOB3",
           0.91,
           8.08,
           16.33,
           5.04
          ],
          [
           "IFCM3",
           0.53,
           12.02,
           13.26,
           3.73
          ],
          [
           "POSI3",
           1.5,
           16.62,
           6.58,
           16.52
          ]
         ],
         "hovertemplate": "Setor de Atuação=Tecnologia da Informação<br>P/VP=%{x}<br>Subsetor de Atuação=%{y}<br>D.Y=%{marker.size}<br>Ativo=%{customdata[0]}<br>LPA=%{customdata[1]}<br>ROE=%{customdata[2]}<br>P/L=%{customdata[3]}<br>ROIC=%{customdata[4]}<extra></extra>",
         "legendgroup": "Tecnologia da Informação",
         "marker": {
          "color": "#FF6692",
          "size": [
           1.37,
           0,
           3.46
          ],
          "sizemode": "area",
          "sizeref": 0.14427500000000001,
          "symbol": "circle"
         },
         "mode": "markers",
         "name": "Tecnologia da Informação",
         "orientation": "h",
         "showlegend": true,
         "type": "scatter",
         "x": [
          1.32,
          1.59,
          1.09
         ],
         "xaxis": "x",
         "y": [
          "Programas e Serviços",
          "Programas e Serviços",
          "Computadores e Equipamentos"
         ],
         "yaxis": "y"
        },
        {
         "customdata": [
          [
           "BRAP3",
           15.4,
           78.2,
           1.38,
           76.8
          ],
          [
           "BRAP4",
           15.4,
           78.2,
           1.54,
           76.8
          ],
          [
           "BRKM5",
           8.21,
           69.12,
           4.39,
           33.61
          ],
          [
           "CBAV3",
           2.04,
           22.36,
           6.14,
           12
          ],
          [
           "CMIN3",
           0.87,
           32.21,
           4.55,
           31.76
          ],
          [
           "CSNA3",
           6.2,
           37.59,
           2.69,
           21.67
          ],
          [
           "FESA4",
           12.48,
           41.96,
           4.1,
           36.34
          ],
          [
           "GGBR4",
           9.5,
           34.51,
           2.75,
           29.68
          ],
          [
           "GOAU4",
           5.06,
           33.85,
           2.16,
           29.17
          ],
          [
           "KLBN11",
           3.51,
           49.48,
           5.78,
           13.75
          ],
          [
           "KLBN4",
           0.7,
           49.48,
           5.75,
           13.75
          ],
          [
           "RANI3",
           1.39,
           34.64,
           5.33,
           19.31
          ],
          [
           "SUZB3",
           8.69,
           49.16,
           5.77,
           16.41
          ],
          [
           "UNIP6",
           20.72,
           81.47,
           4.57,
           50.24
          ],
          [
           "USIM3",
           4.83,
           25.44,
           1.87,
           19.98
          ],
          [
           "USIM5",
           4.83,
           25.44,
           1.96,
           19.98
          ],
          [
           "VALE3",
           21.69,
           55.74,
           3.23,
           34.13
          ]
         ],
         "hovertemplate": "Setor de Atuação=Materiais Básicos<br>P/VP=%{x}<br>Subsetor de Atuação=%{y}<br>D.Y=%{marker.size}<br>Ativo=%{customdata[0]}<br>LPA=%{customdata[1]}<br>ROE=%{customdata[2]}<br>P/L=%{customdata[3]}<br>ROIC=%{customdata[4]}<extra></extra>",
         "legendgroup": "Materiais Básicos",
         "marker": {
          "color": "#B6E880",
          "size": [
           32.56,
           32.24,
           25.63,
           2.3,
           13.85,
           5.24,
           6.29,
           12.67,
           22.14,
           6.84,
           6.86,
           8.69,
           2.66,
           16.34,
           19.29,
           20.23,
           22.13
          ],
          "sizemode": "area",
          "sizeref": 0.14427500000000001,
          "symbol": "circle"
         },
         "mode": "markers",
         "name": "Materiais Básicos",
         "orientation": "h",
         "showlegend": true,
         "type": "scatter",
         "x": [
          1.08,
          1.2,
          3.03,
          1.37,
          1.47,
          1.01,
          1.72,
          0.95,
          0.73,
          2.86,
          2.85,
          1.84,
          2.83,
          3.72,
          0.48,
          0.5,
          1.8
         ],
         "xaxis": "x",
         "y": [
          "Mineração",
          "Mineração",
          "Químicos",
          "Mineração",
          "Mineração",
          "Siderurgia e Metalurgia",
          "Siderurgia e Metalurgia",
          "Siderurgia e Metalurgia",
          "Siderurgia e Metalurgia",
          "Madeira e Papel",
          "Madeira e Papel",
          "Embalagens",
          "Madeira e Papel",
          "Químicos",
          "Siderurgia e Metalurgia",
          "Siderurgia e Metalurgia",
          "Mineração"
         ],
         "yaxis": "y"
        },
        {
         "customdata": [
          [
           "CSAN3",
           3.2,
           38.31,
           6.58,
           11.39
          ],
          [
           "ENAT3",
           3.79,
           25.67,
           4.66,
           25.67
          ],
          [
           "PETR3",
           12.38,
           39.35,
           2.81,
           30.9
          ],
          [
           "PETR4",
           12.38,
           39.35,
           2.56,
           30.9
          ],
          [
           "PRIO3",
           3.04,
           32.87,
           8.5,
           22.43
          ],
          [
           "RECV3",
           2.15,
           19.5,
           12.08,
           15.52
          ],
          [
           "UGPA3",
           1.48,
           15.26,
           9.51,
           9.8
          ]
         ],
         "hovertemplate": "Setor de Atuação=Petróleo Gás e Biocombustíveis<br>P/VP=%{x}<br>Subsetor de Atuação=%{y}<br>D.Y=%{marker.size}<br>Ativo=%{customdata[0]}<br>LPA=%{customdata[1]}<br>ROE=%{customdata[2]}<br>P/L=%{customdata[3]}<br>ROIC=%{customdata[4]}<extra></extra>",
         "legendgroup": "Petróleo Gás e Biocombustíveis",
         "marker": {
          "color": "#FF97FF",
          "size": [
           3.81,
           9.67,
           52.6,
           57.71,
           0,
           0.63,
           5.55
          ],
          "sizemode": "area",
          "sizeref": 0.14427500000000001,
          "symbol": "circle"
         },
         "mode": "markers",
         "name": "Petróleo Gás e Biocombustíveis",
         "orientation": "h",
         "showlegend": true,
         "type": "scatter",
         "x": [
          2.52,
          1.2,
          1.1,
          1.01,
          2.79,
          2.36,
          1.45
         ],
         "xaxis": "x",
         "y": [
          "Petróleo Gás e Biocombustíveis",
          "Petróleo Gás e Biocombustíveis",
          "Petróleo Gás e Biocombustíveis",
          "Petróleo Gás e Biocombustíveis",
          "Petróleo Gás e Biocombustíveis",
          "Petróleo Gás e Biocombustíveis",
          "Petróleo Gás e Biocombustíveis"
         ],
         "yaxis": "y"
        },
        {
         "customdata": [
          [
           "OIBR3",
           0.71,
           453.05,
           0.76,
           17.7
          ],
          [
           "TIMS3",
           1.11,
           10.63,
           11.46,
           8.96
          ],
          [
           "VIVT3",
           3.26,
           8.04,
           14.11,
           7.24
          ]
         ],
         "hovertemplate": "Setor de Atuação=Comunicações<br>P/VP=%{x}<br>Subsetor de Atuação=%{y}<br>D.Y=%{marker.size}<br>Ativo=%{customdata[0]}<br>LPA=%{customdata[1]}<br>ROE=%{customdata[2]}<br>P/L=%{customdata[3]}<br>ROIC=%{customdata[4]}<extra></extra>",
         "legendgroup": "Comunicações",
         "marker": {
          "color": "#FECB52",
          "size": [
           0,
           3.77,
           7.77
          ],
          "sizemode": "area",
          "sizeref": 0.14427500000000001,
          "symbol": "circle"
         },
         "mode": "markers",
         "name": "Comunicações",
         "orientation": "h",
         "showlegend": true,
         "type": "scatter",
         "x": [
          3.44,
          1.22,
          1.13
         ],
         "xaxis": "x",
         "y": [
          "Telecomunicações",
          "Telecomunicações",
          "Telecomunicações"
         ],
         "yaxis": "y"
        }
       ],
       "layout": {
        "height": 900,
        "legend": {
         "itemsizing": "constant",
         "title": {
          "text": "Setor de Atuação"
         },
         "tracegroupgap": 0
        },
        "margin": {
         "t": 60
        },
        "template": {
         "data": {
          "bar": [
           {
            "error_x": {
             "color": "#2a3f5f"
            },
            "error_y": {
             "color": "#2a3f5f"
            },
            "marker": {
             "line": {
              "color": "#E5ECF6",
              "width": 0.5
             },
             "pattern": {
              "fillmode": "overlay",
              "size": 10,
              "solidity": 0.2
             }
            },
            "type": "bar"
           }
          ],
          "barpolar": [
           {
            "marker": {
             "line": {
              "color": "#E5ECF6",
              "width": 0.5
             },
             "pattern": {
              "fillmode": "overlay",
              "size": 10,
              "solidity": 0.2
             }
            },
            "type": "barpolar"
           }
          ],
          "carpet": [
           {
            "aaxis": {
             "endlinecolor": "#2a3f5f",
             "gridcolor": "white",
             "linecolor": "white",
             "minorgridcolor": "white",
             "startlinecolor": "#2a3f5f"
            },
            "baxis": {
             "endlinecolor": "#2a3f5f",
             "gridcolor": "white",
             "linecolor": "white",
             "minorgridcolor": "white",
             "startlinecolor": "#2a3f5f"
            },
            "type": "carpet"
           }
          ],
          "choropleth": [
           {
            "colorbar": {
             "outlinewidth": 0,
             "ticks": ""
            },
            "type": "choropleth"
           }
          ],
          "contour": [
           {
            "colorbar": {
             "outlinewidth": 0,
             "ticks": ""
            },
            "colorscale": [
             [
              0,
              "#0d0887"
             ],
             [
              0.1111111111111111,
              "#46039f"
             ],
             [
              0.2222222222222222,
              "#7201a8"
             ],
             [
              0.3333333333333333,
              "#9c179e"
             ],
             [
              0.4444444444444444,
              "#bd3786"
             ],
             [
              0.5555555555555556,
              "#d8576b"
             ],
             [
              0.6666666666666666,
              "#ed7953"
             ],
             [
              0.7777777777777778,
              "#fb9f3a"
             ],
             [
              0.8888888888888888,
              "#fdca26"
             ],
             [
              1,
              "#f0f921"
             ]
            ],
            "type": "contour"
           }
          ],
          "contourcarpet": [
           {
            "colorbar": {
             "outlinewidth": 0,
             "ticks": ""
            },
            "type": "contourcarpet"
           }
          ],
          "heatmap": [
           {
            "colorbar": {
             "outlinewidth": 0,
             "ticks": ""
            },
            "colorscale": [
             [
              0,
              "#0d0887"
             ],
             [
              0.1111111111111111,
              "#46039f"
             ],
             [
              0.2222222222222222,
              "#7201a8"
             ],
             [
              0.3333333333333333,
              "#9c179e"
             ],
             [
              0.4444444444444444,
              "#bd3786"
             ],
             [
              0.5555555555555556,
              "#d8576b"
             ],
             [
              0.6666666666666666,
              "#ed7953"
             ],
             [
              0.7777777777777778,
              "#fb9f3a"
             ],
             [
              0.8888888888888888,
              "#fdca26"
             ],
             [
              1,
              "#f0f921"
             ]
            ],
            "type": "heatmap"
           }
          ],
          "heatmapgl": [
           {
            "colorbar": {
             "outlinewidth": 0,
             "ticks": ""
            },
            "colorscale": [
             [
              0,
              "#0d0887"
             ],
             [
              0.1111111111111111,
              "#46039f"
             ],
             [
              0.2222222222222222,
              "#7201a8"
             ],
             [
              0.3333333333333333,
              "#9c179e"
             ],
             [
              0.4444444444444444,
              "#bd3786"
             ],
             [
              0.5555555555555556,
              "#d8576b"
             ],
             [
              0.6666666666666666,
              "#ed7953"
             ],
             [
              0.7777777777777778,
              "#fb9f3a"
             ],
             [
              0.8888888888888888,
              "#fdca26"
             ],
             [
              1,
              "#f0f921"
             ]
            ],
            "type": "heatmapgl"
           }
          ],
          "histogram": [
           {
            "marker": {
             "pattern": {
              "fillmode": "overlay",
              "size": 10,
              "solidity": 0.2
             }
            },
            "type": "histogram"
           }
          ],
          "histogram2d": [
           {
            "colorbar": {
             "outlinewidth": 0,
             "ticks": ""
            },
            "colorscale": [
             [
              0,
              "#0d0887"
             ],
             [
              0.1111111111111111,
              "#46039f"
             ],
             [
              0.2222222222222222,
              "#7201a8"
             ],
             [
              0.3333333333333333,
              "#9c179e"
             ],
             [
              0.4444444444444444,
              "#bd3786"
             ],
             [
              0.5555555555555556,
              "#d8576b"
             ],
             [
              0.6666666666666666,
              "#ed7953"
             ],
             [
              0.7777777777777778,
              "#fb9f3a"
             ],
             [
              0.8888888888888888,
              "#fdca26"
             ],
             [
              1,
              "#f0f921"
             ]
            ],
            "type": "histogram2d"
           }
          ],
          "histogram2dcontour": [
           {
            "colorbar": {
             "outlinewidth": 0,
             "ticks": ""
            },
            "colorscale": [
             [
              0,
              "#0d0887"
             ],
             [
              0.1111111111111111,
              "#46039f"
             ],
             [
              0.2222222222222222,
              "#7201a8"
             ],
             [
              0.3333333333333333,
              "#9c179e"
             ],
             [
              0.4444444444444444,
              "#bd3786"
             ],
             [
              0.5555555555555556,
              "#d8576b"
             ],
             [
              0.6666666666666666,
              "#ed7953"
             ],
             [
              0.7777777777777778,
              "#fb9f3a"
             ],
             [
              0.8888888888888888,
              "#fdca26"
             ],
             [
              1,
              "#f0f921"
             ]
            ],
            "type": "histogram2dcontour"
           }
          ],
          "mesh3d": [
           {
            "colorbar": {
             "outlinewidth": 0,
             "ticks": ""
            },
            "type": "mesh3d"
           }
          ],
          "parcoords": [
           {
            "line": {
             "colorbar": {
              "outlinewidth": 0,
              "ticks": ""
             }
            },
            "type": "parcoords"
           }
          ],
          "pie": [
           {
            "automargin": true,
            "type": "pie"
           }
          ],
          "scatter": [
           {
            "fillpattern": {
             "fillmode": "overlay",
             "size": 10,
             "solidity": 0.2
            },
            "type": "scatter"
           }
          ],
          "scatter3d": [
           {
            "line": {
             "colorbar": {
              "outlinewidth": 0,
              "ticks": ""
             }
            },
            "marker": {
             "colorbar": {
              "outlinewidth": 0,
              "ticks": ""
             }
            },
            "type": "scatter3d"
           }
          ],
          "scattercarpet": [
           {
            "marker": {
             "colorbar": {
              "outlinewidth": 0,
              "ticks": ""
             }
            },
            "type": "scattercarpet"
           }
          ],
          "scattergeo": [
           {
            "marker": {
             "colorbar": {
              "outlinewidth": 0,
              "ticks": ""
             }
            },
            "type": "scattergeo"
           }
          ],
          "scattergl": [
           {
            "marker": {
             "colorbar": {
              "outlinewidth": 0,
              "ticks": ""
             }
            },
            "type": "scattergl"
           }
          ],
          "scattermapbox": [
           {
            "marker": {
             "colorbar": {
              "outlinewidth": 0,
              "ticks": ""
             }
            },
            "type": "scattermapbox"
           }
          ],
          "scatterpolar": [
           {
            "marker": {
             "colorbar": {
              "outlinewidth": 0,
              "ticks": ""
             }
            },
            "type": "scatterpolar"
           }
          ],
          "scatterpolargl": [
           {
            "marker": {
             "colorbar": {
              "outlinewidth": 0,
              "ticks": ""
             }
            },
            "type": "scatterpolargl"
           }
          ],
          "scatterternary": [
           {
            "marker": {
             "colorbar": {
              "outlinewidth": 0,
              "ticks": ""
             }
            },
            "type": "scatterternary"
           }
          ],
          "surface": [
           {
            "colorbar": {
             "outlinewidth": 0,
             "ticks": ""
            },
            "colorscale": [
             [
              0,
              "#0d0887"
             ],
             [
              0.1111111111111111,
              "#46039f"
             ],
             [
              0.2222222222222222,
              "#7201a8"
             ],
             [
              0.3333333333333333,
              "#9c179e"
             ],
             [
              0.4444444444444444,
              "#bd3786"
             ],
             [
              0.5555555555555556,
              "#d8576b"
             ],
             [
              0.6666666666666666,
              "#ed7953"
             ],
             [
              0.7777777777777778,
              "#fb9f3a"
             ],
             [
              0.8888888888888888,
              "#fdca26"
             ],
             [
              1,
              "#f0f921"
             ]
            ],
            "type": "surface"
           }
          ],
          "table": [
           {
            "cells": {
             "fill": {
              "color": "#EBF0F8"
             },
             "line": {
              "color": "white"
             }
            },
            "header": {
             "fill": {
              "color": "#C8D4E3"
             },
             "line": {
              "color": "white"
             }
            },
            "type": "table"
           }
          ]
         },
         "layout": {
          "annotationdefaults": {
           "arrowcolor": "#2a3f5f",
           "arrowhead": 0,
           "arrowwidth": 1
          },
          "autotypenumbers": "strict",
          "coloraxis": {
           "colorbar": {
            "outlinewidth": 0,
            "ticks": ""
           }
          },
          "colorscale": {
           "diverging": [
            [
             0,
             "#8e0152"
            ],
            [
             0.1,
             "#c51b7d"
            ],
            [
             0.2,
             "#de77ae"
            ],
            [
             0.3,
             "#f1b6da"
            ],
            [
             0.4,
             "#fde0ef"
            ],
            [
             0.5,
             "#f7f7f7"
            ],
            [
             0.6,
             "#e6f5d0"
            ],
            [
             0.7,
             "#b8e186"
            ],
            [
             0.8,
             "#7fbc41"
            ],
            [
             0.9,
             "#4d9221"
            ],
            [
             1,
             "#276419"
            ]
           ],
           "sequential": [
            [
             0,
             "#0d0887"
            ],
            [
             0.1111111111111111,
             "#46039f"
            ],
            [
             0.2222222222222222,
             "#7201a8"
            ],
            [
             0.3333333333333333,
             "#9c179e"
            ],
            [
             0.4444444444444444,
             "#bd3786"
            ],
            [
             0.5555555555555556,
             "#d8576b"
            ],
            [
             0.6666666666666666,
             "#ed7953"
            ],
            [
             0.7777777777777778,
             "#fb9f3a"
            ],
            [
             0.8888888888888888,
             "#fdca26"
            ],
            [
             1,
             "#f0f921"
            ]
           ],
           "sequentialminus": [
            [
             0,
             "#0d0887"
            ],
            [
             0.1111111111111111,
             "#46039f"
            ],
            [
             0.2222222222222222,
             "#7201a8"
            ],
            [
             0.3333333333333333,
             "#9c179e"
            ],
            [
             0.4444444444444444,
             "#bd3786"
            ],
            [
             0.5555555555555556,
             "#d8576b"
            ],
            [
             0.6666666666666666,
             "#ed7953"
            ],
            [
             0.7777777777777778,
             "#fb9f3a"
            ],
            [
             0.8888888888888888,
             "#fdca26"
            ],
            [
             1,
             "#f0f921"
            ]
           ]
          },
          "colorway": [
           "#636efa",
           "#EF553B",
           "#00cc96",
           "#ab63fa",
           "#FFA15A",
           "#19d3f3",
           "#FF6692",
           "#B6E880",
           "#FF97FF",
           "#FECB52"
          ],
          "font": {
           "color": "#2a3f5f"
          },
          "geo": {
           "bgcolor": "white",
           "lakecolor": "white",
           "landcolor": "#E5ECF6",
           "showlakes": true,
           "showland": true,
           "subunitcolor": "white"
          },
          "hoverlabel": {
           "align": "left"
          },
          "hovermode": "closest",
          "mapbox": {
           "style": "light"
          },
          "paper_bgcolor": "white",
          "plot_bgcolor": "#E5ECF6",
          "polar": {
           "angularaxis": {
            "gridcolor": "white",
            "linecolor": "white",
            "ticks": ""
           },
           "bgcolor": "#E5ECF6",
           "radialaxis": {
            "gridcolor": "white",
            "linecolor": "white",
            "ticks": ""
           }
          },
          "scene": {
           "xaxis": {
            "backgroundcolor": "#E5ECF6",
            "gridcolor": "white",
            "gridwidth": 2,
            "linecolor": "white",
            "showbackground": true,
            "ticks": "",
            "zerolinecolor": "white"
           },
           "yaxis": {
            "backgroundcolor": "#E5ECF6",
            "gridcolor": "white",
            "gridwidth": 2,
            "linecolor": "white",
            "showbackground": true,
            "ticks": "",
            "zerolinecolor": "white"
           },
           "zaxis": {
            "backgroundcolor": "#E5ECF6",
            "gridcolor": "white",
            "gridwidth": 2,
            "linecolor": "white",
            "showbackground": true,
            "ticks": "",
            "zerolinecolor": "white"
           }
          },
          "shapedefaults": {
           "line": {
            "color": "#2a3f5f"
           }
          },
          "ternary": {
           "aaxis": {
            "gridcolor": "white",
            "linecolor": "white",
            "ticks": ""
           },
           "baxis": {
            "gridcolor": "white",
            "linecolor": "white",
            "ticks": ""
           },
           "bgcolor": "#E5ECF6",
           "caxis": {
            "gridcolor": "white",
            "linecolor": "white",
            "ticks": ""
           }
          },
          "title": {
           "x": 0.05
          },
          "xaxis": {
           "automargin": true,
           "gridcolor": "white",
           "linecolor": "white",
           "ticks": "",
           "title": {
            "standoff": 15
           },
           "zerolinecolor": "white",
           "zerolinewidth": 2
          },
          "yaxis": {
           "automargin": true,
           "gridcolor": "white",
           "linecolor": "white",
           "ticks": "",
           "title": {
            "standoff": 15
           },
           "zerolinecolor": "white",
           "zerolinewidth": 2
          }
         }
        },
        "width": 1300,
        "xaxis": {
         "anchor": "y",
         "domain": [
          0,
          1
         ],
         "title": {
          "text": "P/VP"
         }
        },
        "yaxis": {
         "anchor": "x",
         "domain": [
          0,
          1
         ],
         "title": {
          "text": "Subsetor de Atuação"
         }
        }
       }
      }
     },
     "metadata": {},
     "output_type": "display_data"
    }
   ],
   "source": [
    "#Indicadores fundamentalista p/ cada ativo categorizado por subsetor\n",
    "filt = stocks[(stocks['VOLUME (dia)'] >=0.5e6) & (stocks['P/L']>-5) & \n",
    "                (stocks['P/L']<20) & (stocks['LPA']>0) & (stocks['P/VP']< 15)]\n",
    "\n",
    "fig = px.scatter(filt, x=\"P/VP\", y=\"Subsetor de Atuação\", color=\"Setor de Atuação\",\n",
    "                 size='D.Y', hover_data=['Ativo', 'LPA', 'ROE', 'P/L', 'ROIC'], width=1300, height=900)\n",
    "fig.show()   "
   ]
  },
  {
   "cell_type": "code",
   "execution_count": 14,
   "metadata": {},
   "outputs": [
    {
     "data": {
      "application/vnd.plotly.v1+json": {
       "config": {
        "plotlyServerURL": "https://plot.ly"
       },
       "data": [
        {
         "customdata": [
          [
           8,
           0,
           0
          ],
          [
           6,
           0.12,
           2.15
          ],
          [
           12,
           0.13,
           12.26
          ],
          [
           3,
           0.29,
           2.23
          ],
          [
           1,
           2.77,
           2.77
          ],
          [
           2,
           1.09,
           4.5
          ],
          [
           26,
           0.02,
           39.12
          ],
          [
           13,
           0.27,
           7.35
          ],
          [
           24,
           0.01,
           6.2
          ],
          [
           10,
           0.24,
           12.08
          ],
          [
           10,
           0.4,
           7.72
          ],
          [
           2,
           0.16,
           1.84
          ],
          [
           68,
           0.27,
           6.1
          ],
          [
           2,
           0.87,
           1.02
          ],
          [
           13,
           0.03,
           2.63
          ],
          [
           3,
           18.8,
           21.31
          ],
          [
           5,
           1.04,
           6.27
          ],
          [
           3,
           0.07,
           1.48
          ],
          [
           48,
           0.28,
           3.92
          ],
          [
           6,
           0.43,
           2.88
          ],
          [
           1,
           0.02,
           0.02
          ],
          [
           12,
           0.39,
           3.58
          ],
          [
           1,
           3.06,
           3.06
          ],
          [
           6,
           1.08,
           1.8
          ],
          [
           17,
           0.07,
           9.66
          ],
          [
           1,
           2.36,
           2.36
          ],
          [
           2,
           2.27,
           2.5
          ],
          [
           12,
           0,
           2.79
          ],
          [
           17,
           0.32,
           7.87
          ],
          [
           3,
           0.83,
           1.72
          ],
          [
           12,
           0.62,
           4.38
          ],
          [
           13,
           1.01,
           3.81
          ],
          [
           11,
           1.11,
           5.84
          ],
          [
           7,
           0.55,
           68.29
          ],
          [
           5,
           0.1,
           3.66
          ],
          [
           15,
           0.48,
           1.75
          ],
          [
           28,
           0,
           4.22
          ],
          [
           7,
           0.58,
           6.95
          ],
          [
           19,
           0.29,
           7.33
          ],
          [
           3,
           0,
           1.1
          ],
          [
           9,
           0.03,
           4.79
          ],
          [
           7,
           0.64,
           7.02
          ]
         ],
         "error_x": {
          "array": [
           0,
           0.7981227975693966,
           3.240437213299053,
           1.0299999999999998,
           null,
           2.411234123846127,
           7.462109590354561,
           2.348595870749705,
           1.3621104681839251,
           4.041200179264681,
           2.2248398194526775,
           1.1879393923933999,
           1.123208699727307,
           0.10606601717798214,
           0.8364025530623581,
           1.4131171218267782,
           2.1652320891765853,
           0.7148659548008517,
           0.7169111924090865,
           1.2072392748194811,
           null,
           1.0438517687638964,
           null,
           0.24776332792943082,
           2.449601408152667,
           null,
           0.1626345596729059,
           0.8945097692438732,
           1.8452199773213718,
           0.4899319680663156,
           1.3186873638722576,
           1.1149485442881462,
           1.6539797734280464,
           25.37470253168357,
           1.319268736838708,
           0.4671871247410502,
           1.0750308842616578,
           2.295559896429461,
           1.5848672163835216,
           0.6107645481962206,
           1.871043232471601,
           2.372694871318466
          ]
         },
         "hovertemplate": "mean=%{x}<br>Subsetor de Atuação=%{y}<br>count=%{customdata[0]}<br>min=%{customdata[1]}<br>max=%{customdata[2]}<extra></extra>",
         "legendgroup": "",
         "marker": {
          "color": "#636efa",
          "symbol": "circle"
         },
         "mode": "markers",
         "name": "",
         "orientation": "h",
         "showlegend": false,
         "type": "scatter",
         "x": [
          0,
          1.5199999999999998,
          2.5416666666666665,
          1.06,
          2.77,
          2.795,
          2.996538461538461,
          2.5576923076923075,
          0.9983333333333334,
          3.261,
          2.183,
          1,
          1.7680882352941176,
          0.9450000000000001,
          1.0176923076923077,
          19.679999999999996,
          2.914,
          0.7066666666666667,
          1.0852083333333333,
          2.0766666666666667,
          0.02,
          1.4691666666666665,
          3.06,
          1.3833333333333335,
          1.9429411764705884,
          2.36,
          2.385,
          1.4175000000000002,
          1.6264705882352943,
          1.1566666666666667,
          2.085,
          2.135384615384615,
          2.940909090909091,
          10.755714285714287,
          1.8719999999999999,
          0.9706666666666667,
          1.0789285714285717,
          2.194285714285715,
          2.144736842105263,
          0.3966666666666667,
          2.2855555555555553,
          1.9685714285714284
         ],
         "xaxis": "x",
         "y": [
          0,
          "Agropecuária",
          "Alimentos Processados",
          "Automóveis e Motocicletas",
          "Bebidas",
          "Computadores e Equipamentos",
          "Comércio",
          "Comércio e Distribuição",
          "Construção Civil",
          "Construção e Engenharia",
          "Diversos",
          "Embalagens",
          "Energia Elétrica",
          "Equipamentos",
          "Exploração de Imóveis",
          "Gás",
          "Holdings Diversificadas",
          "Hoteis e Restaurantes",
          "Intermediários Financeiros",
          "Madeira e Papel",
          "Materiais Diversos",
          "Material de Transporte",
          "Medicamentos e Outros Produtos",
          "Mineração",
          "Máquinas e Equipamentos",
          "Mídia",
          "Outros",
          "Petróleo Gás e Biocombustíveis",
          "Previdência e Seguros",
          "Produtos de Uso Pessoal e de Limpeza",
          "Programas e Serviços",
          "Químicos",
          "ServMédHospitAnálises e Diagnósticos",
          "Serviços",
          "Serviços Financeiros Diversos",
          "Siderurgia e Metalurgia",
          "Tecidos Vestuário e Calçados",
          "Telecomunicações",
          "Transporte",
          "Utilidades Domésticas",
          "Viagens e Lazer",
          "Água e Saneamento"
         ],
         "yaxis": "y"
        }
       ],
       "layout": {
        "legend": {
         "tracegroupgap": 0
        },
        "margin": {
         "t": 60
        },
        "template": {
         "data": {
          "bar": [
           {
            "error_x": {
             "color": "#2a3f5f"
            },
            "error_y": {
             "color": "#2a3f5f"
            },
            "marker": {
             "line": {
              "color": "#E5ECF6",
              "width": 0.5
             },
             "pattern": {
              "fillmode": "overlay",
              "size": 10,
              "solidity": 0.2
             }
            },
            "type": "bar"
           }
          ],
          "barpolar": [
           {
            "marker": {
             "line": {
              "color": "#E5ECF6",
              "width": 0.5
             },
             "pattern": {
              "fillmode": "overlay",
              "size": 10,
              "solidity": 0.2
             }
            },
            "type": "barpolar"
           }
          ],
          "carpet": [
           {
            "aaxis": {
             "endlinecolor": "#2a3f5f",
             "gridcolor": "white",
             "linecolor": "white",
             "minorgridcolor": "white",
             "startlinecolor": "#2a3f5f"
            },
            "baxis": {
             "endlinecolor": "#2a3f5f",
             "gridcolor": "white",
             "linecolor": "white",
             "minorgridcolor": "white",
             "startlinecolor": "#2a3f5f"
            },
            "type": "carpet"
           }
          ],
          "choropleth": [
           {
            "colorbar": {
             "outlinewidth": 0,
             "ticks": ""
            },
            "type": "choropleth"
           }
          ],
          "contour": [
           {
            "colorbar": {
             "outlinewidth": 0,
             "ticks": ""
            },
            "colorscale": [
             [
              0,
              "#0d0887"
             ],
             [
              0.1111111111111111,
              "#46039f"
             ],
             [
              0.2222222222222222,
              "#7201a8"
             ],
             [
              0.3333333333333333,
              "#9c179e"
             ],
             [
              0.4444444444444444,
              "#bd3786"
             ],
             [
              0.5555555555555556,
              "#d8576b"
             ],
             [
              0.6666666666666666,
              "#ed7953"
             ],
             [
              0.7777777777777778,
              "#fb9f3a"
             ],
             [
              0.8888888888888888,
              "#fdca26"
             ],
             [
              1,
              "#f0f921"
             ]
            ],
            "type": "contour"
           }
          ],
          "contourcarpet": [
           {
            "colorbar": {
             "outlinewidth": 0,
             "ticks": ""
            },
            "type": "contourcarpet"
           }
          ],
          "heatmap": [
           {
            "colorbar": {
             "outlinewidth": 0,
             "ticks": ""
            },
            "colorscale": [
             [
              0,
              "#0d0887"
             ],
             [
              0.1111111111111111,
              "#46039f"
             ],
             [
              0.2222222222222222,
              "#7201a8"
             ],
             [
              0.3333333333333333,
              "#9c179e"
             ],
             [
              0.4444444444444444,
              "#bd3786"
             ],
             [
              0.5555555555555556,
              "#d8576b"
             ],
             [
              0.6666666666666666,
              "#ed7953"
             ],
             [
              0.7777777777777778,
              "#fb9f3a"
             ],
             [
              0.8888888888888888,
              "#fdca26"
             ],
             [
              1,
              "#f0f921"
             ]
            ],
            "type": "heatmap"
           }
          ],
          "heatmapgl": [
           {
            "colorbar": {
             "outlinewidth": 0,
             "ticks": ""
            },
            "colorscale": [
             [
              0,
              "#0d0887"
             ],
             [
              0.1111111111111111,
              "#46039f"
             ],
             [
              0.2222222222222222,
              "#7201a8"
             ],
             [
              0.3333333333333333,
              "#9c179e"
             ],
             [
              0.4444444444444444,
              "#bd3786"
             ],
             [
              0.5555555555555556,
              "#d8576b"
             ],
             [
              0.6666666666666666,
              "#ed7953"
             ],
             [
              0.7777777777777778,
              "#fb9f3a"
             ],
             [
              0.8888888888888888,
              "#fdca26"
             ],
             [
              1,
              "#f0f921"
             ]
            ],
            "type": "heatmapgl"
           }
          ],
          "histogram": [
           {
            "marker": {
             "pattern": {
              "fillmode": "overlay",
              "size": 10,
              "solidity": 0.2
             }
            },
            "type": "histogram"
           }
          ],
          "histogram2d": [
           {
            "colorbar": {
             "outlinewidth": 0,
             "ticks": ""
            },
            "colorscale": [
             [
              0,
              "#0d0887"
             ],
             [
              0.1111111111111111,
              "#46039f"
             ],
             [
              0.2222222222222222,
              "#7201a8"
             ],
             [
              0.3333333333333333,
              "#9c179e"
             ],
             [
              0.4444444444444444,
              "#bd3786"
             ],
             [
              0.5555555555555556,
              "#d8576b"
             ],
             [
              0.6666666666666666,
              "#ed7953"
             ],
             [
              0.7777777777777778,
              "#fb9f3a"
             ],
             [
              0.8888888888888888,
              "#fdca26"
             ],
             [
              1,
              "#f0f921"
             ]
            ],
            "type": "histogram2d"
           }
          ],
          "histogram2dcontour": [
           {
            "colorbar": {
             "outlinewidth": 0,
             "ticks": ""
            },
            "colorscale": [
             [
              0,
              "#0d0887"
             ],
             [
              0.1111111111111111,
              "#46039f"
             ],
             [
              0.2222222222222222,
              "#7201a8"
             ],
             [
              0.3333333333333333,
              "#9c179e"
             ],
             [
              0.4444444444444444,
              "#bd3786"
             ],
             [
              0.5555555555555556,
              "#d8576b"
             ],
             [
              0.6666666666666666,
              "#ed7953"
             ],
             [
              0.7777777777777778,
              "#fb9f3a"
             ],
             [
              0.8888888888888888,
              "#fdca26"
             ],
             [
              1,
              "#f0f921"
             ]
            ],
            "type": "histogram2dcontour"
           }
          ],
          "mesh3d": [
           {
            "colorbar": {
             "outlinewidth": 0,
             "ticks": ""
            },
            "type": "mesh3d"
           }
          ],
          "parcoords": [
           {
            "line": {
             "colorbar": {
              "outlinewidth": 0,
              "ticks": ""
             }
            },
            "type": "parcoords"
           }
          ],
          "pie": [
           {
            "automargin": true,
            "type": "pie"
           }
          ],
          "scatter": [
           {
            "fillpattern": {
             "fillmode": "overlay",
             "size": 10,
             "solidity": 0.2
            },
            "type": "scatter"
           }
          ],
          "scatter3d": [
           {
            "line": {
             "colorbar": {
              "outlinewidth": 0,
              "ticks": ""
             }
            },
            "marker": {
             "colorbar": {
              "outlinewidth": 0,
              "ticks": ""
             }
            },
            "type": "scatter3d"
           }
          ],
          "scattercarpet": [
           {
            "marker": {
             "colorbar": {
              "outlinewidth": 0,
              "ticks": ""
             }
            },
            "type": "scattercarpet"
           }
          ],
          "scattergeo": [
           {
            "marker": {
             "colorbar": {
              "outlinewidth": 0,
              "ticks": ""
             }
            },
            "type": "scattergeo"
           }
          ],
          "scattergl": [
           {
            "marker": {
             "colorbar": {
              "outlinewidth": 0,
              "ticks": ""
             }
            },
            "type": "scattergl"
           }
          ],
          "scattermapbox": [
           {
            "marker": {
             "colorbar": {
              "outlinewidth": 0,
              "ticks": ""
             }
            },
            "type": "scattermapbox"
           }
          ],
          "scatterpolar": [
           {
            "marker": {
             "colorbar": {
              "outlinewidth": 0,
              "ticks": ""
             }
            },
            "type": "scatterpolar"
           }
          ],
          "scatterpolargl": [
           {
            "marker": {
             "colorbar": {
              "outlinewidth": 0,
              "ticks": ""
             }
            },
            "type": "scatterpolargl"
           }
          ],
          "scatterternary": [
           {
            "marker": {
             "colorbar": {
              "outlinewidth": 0,
              "ticks": ""
             }
            },
            "type": "scatterternary"
           }
          ],
          "surface": [
           {
            "colorbar": {
             "outlinewidth": 0,
             "ticks": ""
            },
            "colorscale": [
             [
              0,
              "#0d0887"
             ],
             [
              0.1111111111111111,
              "#46039f"
             ],
             [
              0.2222222222222222,
              "#7201a8"
             ],
             [
              0.3333333333333333,
              "#9c179e"
             ],
             [
              0.4444444444444444,
              "#bd3786"
             ],
             [
              0.5555555555555556,
              "#d8576b"
             ],
             [
              0.6666666666666666,
              "#ed7953"
             ],
             [
              0.7777777777777778,
              "#fb9f3a"
             ],
             [
              0.8888888888888888,
              "#fdca26"
             ],
             [
              1,
              "#f0f921"
             ]
            ],
            "type": "surface"
           }
          ],
          "table": [
           {
            "cells": {
             "fill": {
              "color": "#EBF0F8"
             },
             "line": {
              "color": "white"
             }
            },
            "header": {
             "fill": {
              "color": "#C8D4E3"
             },
             "line": {
              "color": "white"
             }
            },
            "type": "table"
           }
          ]
         },
         "layout": {
          "annotationdefaults": {
           "arrowcolor": "#2a3f5f",
           "arrowhead": 0,
           "arrowwidth": 1
          },
          "autotypenumbers": "strict",
          "coloraxis": {
           "colorbar": {
            "outlinewidth": 0,
            "ticks": ""
           }
          },
          "colorscale": {
           "diverging": [
            [
             0,
             "#8e0152"
            ],
            [
             0.1,
             "#c51b7d"
            ],
            [
             0.2,
             "#de77ae"
            ],
            [
             0.3,
             "#f1b6da"
            ],
            [
             0.4,
             "#fde0ef"
            ],
            [
             0.5,
             "#f7f7f7"
            ],
            [
             0.6,
             "#e6f5d0"
            ],
            [
             0.7,
             "#b8e186"
            ],
            [
             0.8,
             "#7fbc41"
            ],
            [
             0.9,
             "#4d9221"
            ],
            [
             1,
             "#276419"
            ]
           ],
           "sequential": [
            [
             0,
             "#0d0887"
            ],
            [
             0.1111111111111111,
             "#46039f"
            ],
            [
             0.2222222222222222,
             "#7201a8"
            ],
            [
             0.3333333333333333,
             "#9c179e"
            ],
            [
             0.4444444444444444,
             "#bd3786"
            ],
            [
             0.5555555555555556,
             "#d8576b"
            ],
            [
             0.6666666666666666,
             "#ed7953"
            ],
            [
             0.7777777777777778,
             "#fb9f3a"
            ],
            [
             0.8888888888888888,
             "#fdca26"
            ],
            [
             1,
             "#f0f921"
            ]
           ],
           "sequentialminus": [
            [
             0,
             "#0d0887"
            ],
            [
             0.1111111111111111,
             "#46039f"
            ],
            [
             0.2222222222222222,
             "#7201a8"
            ],
            [
             0.3333333333333333,
             "#9c179e"
            ],
            [
             0.4444444444444444,
             "#bd3786"
            ],
            [
             0.5555555555555556,
             "#d8576b"
            ],
            [
             0.6666666666666666,
             "#ed7953"
            ],
            [
             0.7777777777777778,
             "#fb9f3a"
            ],
            [
             0.8888888888888888,
             "#fdca26"
            ],
            [
             1,
             "#f0f921"
            ]
           ]
          },
          "colorway": [
           "#636efa",
           "#EF553B",
           "#00cc96",
           "#ab63fa",
           "#FFA15A",
           "#19d3f3",
           "#FF6692",
           "#B6E880",
           "#FF97FF",
           "#FECB52"
          ],
          "font": {
           "color": "#2a3f5f"
          },
          "geo": {
           "bgcolor": "white",
           "lakecolor": "white",
           "landcolor": "#E5ECF6",
           "showlakes": true,
           "showland": true,
           "subunitcolor": "white"
          },
          "hoverlabel": {
           "align": "left"
          },
          "hovermode": "closest",
          "mapbox": {
           "style": "light"
          },
          "paper_bgcolor": "white",
          "plot_bgcolor": "#E5ECF6",
          "polar": {
           "angularaxis": {
            "gridcolor": "white",
            "linecolor": "white",
            "ticks": ""
           },
           "bgcolor": "#E5ECF6",
           "radialaxis": {
            "gridcolor": "white",
            "linecolor": "white",
            "ticks": ""
           }
          },
          "scene": {
           "xaxis": {
            "backgroundcolor": "#E5ECF6",
            "gridcolor": "white",
            "gridwidth": 2,
            "linecolor": "white",
            "showbackground": true,
            "ticks": "",
            "zerolinecolor": "white"
           },
           "yaxis": {
            "backgroundcolor": "#E5ECF6",
            "gridcolor": "white",
            "gridwidth": 2,
            "linecolor": "white",
            "showbackground": true,
            "ticks": "",
            "zerolinecolor": "white"
           },
           "zaxis": {
            "backgroundcolor": "#E5ECF6",
            "gridcolor": "white",
            "gridwidth": 2,
            "linecolor": "white",
            "showbackground": true,
            "ticks": "",
            "zerolinecolor": "white"
           }
          },
          "shapedefaults": {
           "line": {
            "color": "#2a3f5f"
           }
          },
          "ternary": {
           "aaxis": {
            "gridcolor": "white",
            "linecolor": "white",
            "ticks": ""
           },
           "baxis": {
            "gridcolor": "white",
            "linecolor": "white",
            "ticks": ""
           },
           "bgcolor": "#E5ECF6",
           "caxis": {
            "gridcolor": "white",
            "linecolor": "white",
            "ticks": ""
           }
          },
          "title": {
           "x": 0.05
          },
          "xaxis": {
           "automargin": true,
           "gridcolor": "white",
           "linecolor": "white",
           "ticks": "",
           "title": {
            "standoff": 15
           },
           "zerolinecolor": "white",
           "zerolinewidth": 2
          },
          "yaxis": {
           "automargin": true,
           "gridcolor": "white",
           "linecolor": "white",
           "ticks": "",
           "title": {
            "standoff": 15
           },
           "zerolinecolor": "white",
           "zerolinewidth": 2
          }
         }
        },
        "xaxis": {
         "anchor": "y",
         "domain": [
          0,
          1
         ],
         "title": {
          "text": "mean"
         }
        },
        "yaxis": {
         "anchor": "x",
         "domain": [
          0,
          1
         ],
         "title": {
          "text": "Subsetor de Atuação"
         }
        }
       }
      }
     },
     "metadata": {},
     "output_type": "display_data"
    }
   ],
   "source": [
    "#Indicadores fundamentalista agrupados por subsetor - c/ desvios\n",
    "fig = px.scatter(res['P/VP'], y=res['P/VP'].index, x='mean', error_x='std', hover_data=['count', 'min', 'max'])\n",
    "fig.show()"
   ]
  },
  {
   "cell_type": "code",
   "execution_count": 9,
   "metadata": {},
   "outputs": [],
   "source": [
    "#Gráfico em 3D iterativo - Por setor\n",
    "filt = stocks[(stocks['VOLUME (dia)'] >=1e6) & (stocks['P/L']>-5) & (stocks['P/L']<100) & (stocks['ROE'] < 100) & (stocks['Passivos/Ativos'] < 0.955)]\n",
    "\n",
    "for i in filt['Setor de Atuação'].unique():\n",
    "    fig = px.scatter_3d(filt[filt['Setor de Atuação']==i], x=\"P/VP\", y=\"ROE\", z='P/L', color='D.Y',\n",
    "                        color_continuous_scale= px.colors.sequential.Jet_r, hover_data=['Ativo', 'Subsetor de Atuação', 'D.Y', 'LPA'])\n",
    "    fig.update_layout(title_text=i) \n",
    "    fig.show()"
   ]
  },
  {
   "cell_type": "code",
   "execution_count": null,
   "metadata": {},
   "outputs": [],
   "source": []
  }
 ],
 "metadata": {
  "kernelspec": {
   "display_name": "Python 3.8.8 ('base')",
   "language": "python",
   "name": "python3"
  },
  "language_info": {
   "codemirror_mode": {
    "name": "ipython",
    "version": 3
   },
   "file_extension": ".py",
   "mimetype": "text/x-python",
   "name": "python",
   "nbconvert_exporter": "python",
   "pygments_lexer": "ipython3",
   "version": "3.8.8"
  },
  "orig_nbformat": 4,
  "vscode": {
   "interpreter": {
    "hash": "e38bdacfe1d6e2b7e20a64d2eef782d7715e4314dc541be72f500d3c69b94a4f"
   }
  }
 },
 "nbformat": 4,
 "nbformat_minor": 2
}
