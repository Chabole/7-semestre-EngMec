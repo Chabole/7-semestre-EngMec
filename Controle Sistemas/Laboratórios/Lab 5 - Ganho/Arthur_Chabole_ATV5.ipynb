{
 "cells": [
  {
   "cell_type": "code",
   "execution_count": 48,
   "metadata": {},
   "outputs": [],
   "source": [
    "import numpy as np\n",
    "import matplotlib.pyplot as plt\n",
    "import pandas as pd\n",
    "import ZebraLib as zb\n",
    "from scipy.integrate import quad, solve_ivp\n",
    "import scipy.io\n",
    "\n",
    "#Encontrar tau e K\n",
    "def find_coef(t, y, S):\n",
    "    T0, Ta  = S\n",
    "    A = 5\n",
    "    K = y[900::].mean()/Ta\n",
    "    y_tau = Ta + 0.368*(T0-Ta)\n",
    "    index = zb.get_index_of_nearest_element(y, y_tau)\n",
    "    tau = t[index]\n",
    "    return tau[0], K\n",
    "\n",
    "#Dados\n",
    "mat_l = scipy.io.loadmat('D:/UNESP/EngMec-UNESP/Controle Sistemas/Laboratórios/Lab 5 - Ganho/medicao_longe.mat')\n",
    "mat_p = scipy.io.loadmat('D:/UNESP/EngMec-UNESP/Controle Sistemas/Laboratórios/Lab 5 - Ganho/medicao_proxima.mat')"
   ]
  },
  {
   "cell_type": "code",
   "execution_count": 49,
   "metadata": {},
   "outputs": [
    {
     "name": "stdout",
     "output_type": "stream",
     "text": [
      "Using matplotlib backend: Qt5Agg\n"
     ]
    }
   ],
   "source": [
    "%matplotlib\n",
    "fig, ax = plt.subplots()\n",
    "ax.set(xlabel='Tempo(s)', ylabel='Temperatura(°C)')\n",
    "\n",
    "ax.plot(mat_l['data1'], mat_l['data2'], label='Não calibrado')\n",
    "ax.plot(mat_l['data1'], mat_l['data3'], label='Calibrado')\n",
    "\n",
    "ax.legend()\n",
    "ax.grid(ls='dotted')\n",
    "\n",
    "fig.savefig('res_longe.pdf', bbox_inches='tight', dpi=600)"
   ]
  },
  {
   "cell_type": "code",
   "execution_count": 52,
   "metadata": {},
   "outputs": [
    {
     "name": "stdout",
     "output_type": "stream",
     "text": [
      "tau: 17.10 --- k: 0.60 - Nao calibrado\n",
      "tau: 14.68 --- k: 0.72 - Calibrado\n"
     ]
    }
   ],
   "source": [
    "tau1, K1 = find_coef(mat_l['data1'], mat_l['data2'], (30, 70))\n",
    "tau2, K2 = find_coef(mat_l['data1'], mat_l['data3'], (30, 70))\n",
    "\n",
    "print(f'tau: {tau1:.2f} --- k: {K1:.2f} - Nao calibrado')\n",
    "print(f'tau: {tau2:.2f} --- k: {K2:.2f} - Calibrado')\n",
    "#print(f'Ganho: {abs(K1-K2)}')"
   ]
  },
  {
   "cell_type": "code",
   "execution_count": 55,
   "metadata": {},
   "outputs": [],
   "source": [
    "#%matplotlib\n",
    "fig, ax = plt.subplots()\n",
    "ax.set(xlabel='Tempo(s)', ylabel='Temperatura(°C)', xlim=(0,2))\n",
    "\n",
    "ax.plot(mat_p['data1'], mat_p['data2'], label='Não calibrado')\n",
    "ax.plot(mat_p['data1'], mat_p['data3'], label='Calibrado')\n",
    "\n",
    "ax.legend()\n",
    "ax.grid(ls='dotted')\n",
    "\n",
    "fig.savefig('res_perto.pdf', bbox_inches='tight', dpi=600)"
   ]
  },
  {
   "cell_type": "code",
   "execution_count": 54,
   "metadata": {},
   "outputs": [
    {
     "name": "stdout",
     "output_type": "stream",
     "text": [
      "--- Longe -----\n",
      "tau: 17.10 --- k: 0.60 - Nao calibrado\n",
      "tau: 14.68 --- k: 0.72 - Calibrado\n",
      "--- Perto -----\n",
      "tau: 0.90 --- k: 1.04 - calibrado\n",
      "tau: 2.72 --- k: 0.87 - nao calibrado\n"
     ]
    }
   ],
   "source": [
    "print('--- Longe -----')\n",
    "print(f'tau: {tau1:.2f} --- k: {K1:.2f} - Nao calibrado')\n",
    "print(f'tau: {tau2:.2f} --- k: {K2:.2f} - Calibrado')\n",
    "\n",
    "tau1, K1 = find_coef(mat_p['data1'], mat_p['data3'],(30, 160))\n",
    "tau2, K2 = find_coef(mat_p['data1'], mat_p['data2'],(30, 160))\n",
    "print('--- Perto -----')\n",
    "\n",
    "print(f'tau: {tau1:.2f} --- k: {K1:.2f} - calibrado')\n",
    "print(f'tau: {tau2:.2f} --- k: {K2:.2f} - nao calibrado')\n",
    "\n",
    "#print(f'Ganho: {abs(K1-K2)}')"
   ]
  },
  {
   "cell_type": "code",
   "execution_count": null,
   "metadata": {},
   "outputs": [],
   "source": []
  }
 ],
 "metadata": {
  "kernelspec": {
   "display_name": "base",
   "language": "python",
   "name": "python3"
  },
  "language_info": {
   "codemirror_mode": {
    "name": "ipython",
    "version": 3
   },
   "file_extension": ".py",
   "mimetype": "text/x-python",
   "name": "python",
   "nbconvert_exporter": "python",
   "pygments_lexer": "ipython3",
   "version": "3.8.8"
  },
  "orig_nbformat": 4,
  "vscode": {
   "interpreter": {
    "hash": "e38bdacfe1d6e2b7e20a64d2eef782d7715e4314dc541be72f500d3c69b94a4f"
   }
  }
 },
 "nbformat": 4,
 "nbformat_minor": 2
}
