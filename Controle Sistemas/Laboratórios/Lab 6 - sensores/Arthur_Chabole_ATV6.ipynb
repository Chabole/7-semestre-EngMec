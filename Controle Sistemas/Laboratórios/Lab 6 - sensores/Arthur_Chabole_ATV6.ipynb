{
 "cells": [
  {
   "cell_type": "code",
   "execution_count": 66,
   "metadata": {},
   "outputs": [],
   "source": [
    "import numpy as np\n",
    "import matplotlib.pyplot as plt\n",
    "import pandas as pd\n",
    "import ZebraLib as zb\n",
    "import scipy.io\n",
    "\n",
    "mat1 = scipy.io.loadmat('D:/UNESP/EngMec-UNESP/Controle Sistemas/Laboratórios/Lab 6 - sensores/on_off_sensor_1.mat')\n",
    "mat2 = scipy.io.loadmat('D:/UNESP/EngMec-UNESP/Controle Sistemas/Laboratórios/Lab 6 - sensores/on_off_sensor_2.mat')\n",
    "mat3 = scipy.io.loadmat('D:/UNESP/EngMec-UNESP/Controle Sistemas/Laboratórios/Lab 6 - sensores/on_off_sensor_3.mat')"
   ]
  },
  {
   "cell_type": "code",
   "execution_count": 67,
   "metadata": {},
   "outputs": [
    {
     "name": "stdout",
     "output_type": "stream",
     "text": [
      "Using matplotlib backend: Qt5Agg\n"
     ]
    }
   ],
   "source": [
    "%matplotlib\n",
    "fig, ax = plt.subplots()\n",
    "ax.set(xlabel='Tempo(s)', ylabel='Temperatura(°C)')\n",
    "\n",
    "labels = ['', 'Referência', 'Sensor 1', 'Sensor 3', 'Sensor 2']\n",
    "for i in [1,2,3,4]:\n",
    "    ax.plot(mat1['results'][0], mat1['results'][i], label=f'{labels[i]}')\n",
    "\n",
    "ax.legend()\n",
    "ax.grid(ls='dotted')\n",
    "\n",
    "fig.savefig('res_1.pdf', bbox_inches='tight', dpi=600)"
   ]
  },
  {
   "cell_type": "code",
   "execution_count": 68,
   "metadata": {},
   "outputs": [],
   "source": [
    "fig, (ax1, ax2) = plt.subplots(nrows=2, ncols=1, sharex=False, figsize=(8,8))\n",
    "ax1.set(xlabel='Tempo(s)', ylabel='Temperatura(°C)')\n",
    "ax2.set(xlabel='Tempo(s)', ylabel='Temperatura(°C)', ylim=(47,52), xlim=(30,80))\n",
    "\n",
    "labels = ['', 'Referência', 'Sensor 1', 'Sensor 3', 'Sensor 2']\n",
    "for i in [1, 2, 3,4]:\n",
    "    ax1.plot(mat2['results'][0], mat2['results'][i], label=f'{labels[i]}')\n",
    "    ax2.plot(mat2['results'][0], mat2['results'][i], label=f'{labels[i]}')\n",
    "\n",
    "\n",
    "ax1.legend()\n",
    "ax1.grid(ls='dotted')\n",
    "ax2.legend()\n",
    "ax2.grid(ls='dotted')\n",
    "\n",
    "fig.savefig('res_2.pdf', bbox_inches='tight', dpi=600)"
   ]
  },
  {
   "cell_type": "code",
   "execution_count": 69,
   "metadata": {},
   "outputs": [],
   "source": [
    "fig, (ax1, ax2) = plt.subplots(nrows=2, ncols=1, sharex=False, figsize=(8,8))\n",
    "ax1.set(xlabel='Tempo(s)', ylabel='Temperatura(°C)')\n",
    "ax2.set(xlabel='Tempo(s)', ylabel='Temperatura(°C)', ylim=(47,51), xlim=(30,80))\n",
    "\n",
    "labels = ['', 'Referência', 'Sensor 1', 'Sensor 3', 'Sensor 2']\n",
    "for i in [1, 2, 3, 4]:\n",
    "    ax1.plot(mat3['results'][0], mat3['results'][i], label=f'{labels[i]}')\n",
    "    ax2.plot(mat3['results'][0], mat3['results'][i], label=f'{labels[i]}')\n",
    "\n",
    "\n",
    "ax1.legend()\n",
    "ax1.grid(ls='dotted')\n",
    "ax2.legend()\n",
    "ax2.grid(ls='dotted')\n",
    "\n",
    "fig.savefig('res_3.pdf', bbox_inches='tight', dpi=600)"
   ]
  },
  {
   "cell_type": "code",
   "execution_count": null,
   "metadata": {},
   "outputs": [],
   "source": []
  }
 ],
 "metadata": {
  "kernelspec": {
   "display_name": "base",
   "language": "python",
   "name": "python3"
  },
  "language_info": {
   "codemirror_mode": {
    "name": "ipython",
    "version": 3
   },
   "file_extension": ".py",
   "mimetype": "text/x-python",
   "name": "python",
   "nbconvert_exporter": "python",
   "pygments_lexer": "ipython3",
   "version": "3.8.8"
  },
  "orig_nbformat": 4,
  "vscode": {
   "interpreter": {
    "hash": "e38bdacfe1d6e2b7e20a64d2eef782d7715e4314dc541be72f500d3c69b94a4f"
   }
  }
 },
 "nbformat": 4,
 "nbformat_minor": 2
}
