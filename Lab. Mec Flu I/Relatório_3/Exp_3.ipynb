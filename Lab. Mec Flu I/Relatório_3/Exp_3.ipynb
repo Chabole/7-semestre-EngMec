{
 "cells": [
  {
   "cell_type": "code",
   "execution_count": 65,
   "metadata": {},
   "outputs": [],
   "source": [
    "import numpy as np\n",
    "import matplotlib.pyplot as plt\n",
    "import pandas as pd\n",
    "from scipy.stats import linregress\n",
    "from uncertainties import ufloat\n",
    "from uncertainties.umath import *  # sin(), etc.\n",
    "import ZebraLib as zb\n",
    "\n",
    "def mean(array):\n",
    "    mean_mi = 0\n",
    "    for i in range(len(array)):\n",
    "        mean_mi += array[i]\n",
    "    mean_mi = mean_mi/len(array)\n",
    "    return mean_mi\n",
    "\n",
    "def incert_A(array):\n",
    "    return ufloat(array.mean(), array.std(ddof=1)/np.sqrt(len(array)))\n",
    "\n",
    "def  incert_B(array, precision):\n",
    "    array_er = []\n",
    "    for i in range(len(array)):\n",
    "        array_er.append(ufloat(array[i], precision/np.sqrt(3)))\n",
    "    return array_er"
   ]
  },
  {
   "cell_type": "markdown",
   "metadata": {},
   "source": [
    "### Dados coletados e calculo do perfil de escoamento"
   ]
  },
  {
   "cell_type": "code",
   "execution_count": 66,
   "metadata": {},
   "outputs": [],
   "source": [
    "#Dados coletados\n",
    "D_val = np.array([78.25, 78.30, 78, 78.5, 78, 78.05, 77.90, 78.15, 78.25])\n",
    "V_bar = np.array([27.85, 28.68, 28.62, 27.65, 28.82, 27.36, 28.78, 26.48])\n",
    "\n",
    "h1 = np.array([14, 14.5, 14.9, 15.4, 16, 16.1, 15.5, 15.2, 14.8, 14.1, 13.8])/100\n",
    "h2 = np.array([7.1, 6.7, 6.2, 5.8, 5.4, 5.1, 5.5, 5.9, 6.7, 7.1, 7.7])/100\n",
    "\n",
    "#Equação do tubo de pitot\n",
    "v = np.sqrt((2*1000*9.81*(h1-h2))/1.2)\n",
    "y = np.array([-36.5, -33, -28, -22.5, -13, 0, 12, 22, 28, 33, 36.5])/1000\n",
    "#y = np.array([0, 12.5, 22.25, 28, 33, 36.5])/1000"
   ]
  },
  {
   "cell_type": "markdown",
   "metadata": {},
   "source": [
    "### Cálculando velocidade média pela integral  "
   ]
  },
  {
   "cell_type": "code",
   "execution_count": 67,
   "metadata": {},
   "outputs": [],
   "source": [
    "h1p = np.array([13.9, 14.3, 14.85, 15.3, 16])/100\n",
    "h2p = np.array([7.4, 6.9, 6.45, 5.85, 5.45])/100\n",
    "\n",
    "vp = np.sqrt((2*1000*9.81*(h1p-h2p))/1.2)\n",
    "yp = np.array([0, 12.5, 22.25, 28, 33, 36.5])/1000"
   ]
  },
  {
   "cell_type": "code",
   "execution_count": 68,
   "metadata": {},
   "outputs": [
    {
     "data": {
      "text/plain": [
       "31.22134077135164"
      ]
     },
     "execution_count": 68,
     "metadata": {},
     "output_type": "execute_result"
    }
   ],
   "source": [
    "#Velocidade média pelo perfil de escoamento\n",
    "Q = 2*np.pi*zb.integral(vp, yp*yp.max(), 0, 36)\n",
    "vp = Q/(np.pi*yp.max()**2)\n",
    "vp"
   ]
  },
  {
   "cell_type": "code",
   "execution_count": 69,
   "metadata": {},
   "outputs": [],
   "source": [
    "#Dados calculados\n",
    "D = ufloat(D_val.mean(), D_val.std(ddof=1)/np.sqrt(len(D_val)))\n",
    "V_med = ufloat(V_bar.mean(), V_bar.std(ddof=1)/np.sqrt(len(V_bar)))\n",
    "delta_h = h1-h2"
   ]
  },
  {
   "cell_type": "code",
   "execution_count": 70,
   "metadata": {},
   "outputs": [
    {
     "data": {
      "text/plain": [
       "153024.2441860465+/-1628.895173746246"
      ]
     },
     "execution_count": 70,
     "metadata": {},
     "output_type": "execute_result"
    }
   ],
   "source": [
    "mi = 17.2e-6\n",
    "rho = 1.2\n",
    "D = 78.25/1000\n",
    "\n",
    "#Numero de Renolds - Velocidade anemometro\n",
    "Re = (((V_med)*D*rho)/(mi))\n",
    "Re"
   ]
  },
  {
   "cell_type": "code",
   "execution_count": 71,
   "metadata": {},
   "outputs": [
    {
     "data": {
      "text/plain": [
       "170446.73828080922"
      ]
     },
     "execution_count": 71,
     "metadata": {},
     "output_type": "execute_result"
    }
   ],
   "source": [
    "#Numero de Renolds - Velocidade perfil de escoamento\n",
    "Re = (((vp)*D*rho)/(mi))\n",
    "Re"
   ]
  },
  {
   "cell_type": "code",
   "execution_count": 72,
   "metadata": {},
   "outputs": [
    {
     "data": {
      "image/png": "[encoded data removed]",
      "text/plain": [
       "<Figure size 432x288 with 1 Axes>"
      ]
     },
     "metadata": {
      "needs_background": "light"
     },
     "output_type": "display_data"
    }
   ],
   "source": [
    "fig, ax = plt.subplots()\n",
    "ax.set(xlabel='Posição[m]', ylabel='Velocidade[m/s]')\n",
    "\n",
    "ax.scatter(y, v, label='Dados')\n",
    "\n",
    "ax.grid(ls='dotted')\n",
    "ax.legend()\n",
    "ax.set_ylim(0)\n",
    "ax.set_xlim(0)\n",
    "\n",
    "fig.savefig('velc_x_y.pdf', bbox_inches='tight')"
   ]
  },
  {
   "cell_type": "code",
   "execution_count": null,
   "metadata": {},
   "outputs": [],
   "source": []
  }
 ],
 "metadata": {
  "interpreter": {
   "hash": "e38bdacfe1d6e2b7e20a64d2eef782d7715e4314dc541be72f500d3c69b94a4f"
  },
  "kernelspec": {
   "display_name": "Python 3.8.8 ('base')",
   "language": "python",
   "name": "python3"
  },
  "language_info": {
   "codemirror_mode": {
    "name": "ipython",
    "version": 3
   },
   "file_extension": ".py",
   "mimetype": "text/x-python",
   "name": "python",
   "nbconvert_exporter": "python",
   "pygments_lexer": "ipython3",
   "version": "3.8.8"
  },
  "orig_nbformat": 4
 },
 "nbformat": 4,
 "nbformat_minor": 2
}
