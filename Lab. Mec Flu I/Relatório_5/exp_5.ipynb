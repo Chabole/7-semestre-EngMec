{
 "cells": [
  {
   "cell_type": "code",
   "execution_count": 58,
   "metadata": {},
   "outputs": [],
   "source": [
    "import numpy as np\n",
    "import matplotlib.pyplot as plt\n",
    "import pandas as pd\n",
    "from scipy.optimize import curve_fit\n",
    "import ZebraLib as zb\n",
    "\n",
    "def errorplot(ax, data_x, data_y, color, label):\n",
    "    ax.errorbar((data_x), data_y, xerr=0.057, yerr=0.0057, fmt='o', ecolor=color, markeredgecolor='black', \n",
    "        markerfacecolor=color, label=label, markersize=6, capsize=5)\n",
    "    #ax.plot((data_x), data_y, color=color)\n",
    "\n",
    "\n",
    "#Import de dados - Experimento\n",
    "df = pd.read_excel('D:/UNESP/EngMec-UNESP/Lab. Mec Flu I/Relatório_5/dados.xlsx')\n",
    "df_carr = df.iloc[0:8] # carregamento\n",
    "df_des = df.iloc[7::]  # Descarregamento\n",
    "df_des = df_des.drop(index=11)"
   ]
  },
  {
   "cell_type": "code",
   "execution_count": 59,
   "metadata": {},
   "outputs": [],
   "source": [
    "%matplotlib qt\n",
    "A = 3.6 # L/s to m^3/h\n",
    "\n",
    "new_x = np.linspace(df_carr['rot'].min(), df_carr['rot'].max())\n",
    "p1 = zb.fit(df_carr['rot'], (df_carr['vol']/df_carr['t'])*A, 2)\n",
    "p2 = zb.fit(df_des['rot'], (df_des['vol']/df_des['t'])*A, 2)\n",
    "\n",
    "fig, ax = plt.subplots()\n",
    "ax.set(xlim=(0.5, 2.5), ylim=(1, 2.5), xlabel=r'Rotâmetro $[m^3/h]$', ylabel=r'Vazão medida $[m^3/h]$')\n",
    "\n",
    "errorplot(ax, df_carr['rot'], (df_carr['vol']/df_carr['t'])*A, color='red', label='Carregamento')\n",
    "errorplot(ax, df_des['rot'], (df_des['vol']/df_des['t'])*A, color='blue', label='Descarregamento')\n",
    "\n",
    "ax.plot(new_x, p1(new_x), label='Carregamento', ls='--', color='red',)\n",
    "ax.plot(new_x, p2(new_x), label='Descarregamento', ls='--', color='blue')\n",
    "\n",
    "ax.grid(ls='dotted')\n",
    "ax.legend()\n",
    "\n",
    "fig.savefig('calib.pdf', bbox_inches='tight')"
   ]
  },
  {
   "cell_type": "code",
   "execution_count": 67,
   "metadata": {},
   "outputs": [
    {
     "name": "stdout",
     "output_type": "stream",
     "text": [
      "         2\n",
      "-0.5228 x + 2.252 x - 0.2692\n",
      "         2\n",
      "-0.7608 x + 2.994 x - 0.721\n"
     ]
    }
   ],
   "source": [
    "print(f'{np.poly1d(p1, variable=\"x\")}')\n",
    "print(f'{np.poly1d(p2, variable=\"x\")}')"
   ]
  }
 ],
 "metadata": {
  "kernelspec": {
   "display_name": "Python 3.8.8 ('base')",
   "language": "python",
   "name": "python3"
  },
  "language_info": {
   "codemirror_mode": {
    "name": "ipython",
    "version": 3
   },
   "file_extension": ".py",
   "mimetype": "text/x-python",
   "name": "python",
   "nbconvert_exporter": "python",
   "pygments_lexer": "ipython3",
   "version": "3.8.8"
  },
  "orig_nbformat": 4,
  "vscode": {
   "interpreter": {
    "hash": "e38bdacfe1d6e2b7e20a64d2eef782d7715e4314dc541be72f500d3c69b94a4f"
   }
  }
 },
 "nbformat": 4,
 "nbformat_minor": 2
}
