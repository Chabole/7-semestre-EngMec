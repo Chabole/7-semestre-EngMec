{
 "cells": [
  {
   "cell_type": "code",
   "execution_count": 50,
   "metadata": {},
   "outputs": [],
   "source": [
    "import numpy as np\n",
    "import matplotlib.pyplot as plt\n",
    "import pandas as pd\n",
    "from scipy.optimize import curve_fit\n",
    "import ZebraLib as zb\n",
    "\n",
    "def errorplot(ax, data_x, data_y, color, label):\n",
    "    ax.errorbar((data_x), data_y, xerr=0.057, yerr=0.0057, fmt='o', ecolor=color, markeredgecolor='black', \n",
    "        markerfacecolor=color, label=label, markersize=6, capsize=5)\n",
    "    #ax.plot((data_x), data_y, color=color)\n",
    "\n",
    "\n",
    "#Import de dados - Experimento\n",
    "df = pd.read_excel('D:/UNESP/EngMec-UNESP/Lab. Mec Flu I/Relatório_5/dados.xlsx')\n",
    "df_carr = df.iloc[0:8] # carregamento\n",
    "df_des = df.iloc[7::]  # Descarregamento\n",
    "df_des = df_des.drop(index=11)"
   ]
  },
  {
   "cell_type": "code",
   "execution_count": 51,
   "metadata": {},
   "outputs": [
    {
     "data": {
      "text/html": [
       "<div>\n",
       "<style scoped>\n",
       "    .dataframe tbody tr th:only-of-type {\n",
       "        vertical-align: middle;\n",
       "    }\n",
       "\n",
       "    .dataframe tbody tr th {\n",
       "        vertical-align: top;\n",
       "    }\n",
       "\n",
       "    .dataframe thead th {\n",
       "        text-align: right;\n",
       "    }\n",
       "</style>\n",
       "<table border=\"1\" class=\"dataframe\">\n",
       "  <thead>\n",
       "    <tr style=\"text-align: right;\">\n",
       "      <th></th>\n",
       "      <th>vol</th>\n",
       "      <th>t</th>\n",
       "      <th>rot</th>\n",
       "    </tr>\n",
       "  </thead>\n",
       "  <tbody>\n",
       "    <tr>\n",
       "      <th>0</th>\n",
       "      <td>1.920</td>\n",
       "      <td>5.91</td>\n",
       "      <td>0.8</td>\n",
       "    </tr>\n",
       "    <tr>\n",
       "      <th>1</th>\n",
       "      <td>1.985</td>\n",
       "      <td>4.89</td>\n",
       "      <td>1.0</td>\n",
       "    </tr>\n",
       "    <tr>\n",
       "      <th>2</th>\n",
       "      <td>1.730</td>\n",
       "      <td>3.63</td>\n",
       "      <td>1.2</td>\n",
       "    </tr>\n",
       "    <tr>\n",
       "      <th>3</th>\n",
       "      <td>1.680</td>\n",
       "      <td>3.15</td>\n",
       "      <td>1.4</td>\n",
       "    </tr>\n",
       "    <tr>\n",
       "      <th>4</th>\n",
       "      <td>2.100</td>\n",
       "      <td>3.82</td>\n",
       "      <td>1.6</td>\n",
       "    </tr>\n",
       "    <tr>\n",
       "      <th>5</th>\n",
       "      <td>1.650</td>\n",
       "      <td>2.95</td>\n",
       "      <td>1.8</td>\n",
       "    </tr>\n",
       "    <tr>\n",
       "      <th>6</th>\n",
       "      <td>2.080</td>\n",
       "      <td>3.52</td>\n",
       "      <td>2.0</td>\n",
       "    </tr>\n",
       "    <tr>\n",
       "      <th>7</th>\n",
       "      <td>1.570</td>\n",
       "      <td>2.37</td>\n",
       "      <td>2.2</td>\n",
       "    </tr>\n",
       "  </tbody>\n",
       "</table>\n",
       "</div>"
      ],
      "text/plain": [
       "     vol     t  rot\n",
       "0  1.920  5.91  0.8\n",
       "1  1.985  4.89  1.0\n",
       "2  1.730  3.63  1.2\n",
       "3  1.680  3.15  1.4\n",
       "4  2.100  3.82  1.6\n",
       "5  1.650  2.95  1.8\n",
       "6  2.080  3.52  2.0\n",
       "7  1.570  2.37  2.2"
      ]
     },
     "execution_count": 51,
     "metadata": {},
     "output_type": "execute_result"
    }
   ],
   "source": [
    "df_carr"
   ]
  },
  {
   "cell_type": "code",
   "execution_count": 52,
   "metadata": {},
   "outputs": [],
   "source": [
    "#Modelo\n",
    "def func(x, a, b, c):\n",
    "    return a*x**2 + x*b + c\n",
    "\n",
    "#Fit do modelo\n",
    "popt, pcov = curve_fit(func, df_carr.rot, df_carr.vol/df_carr.t*3.6, p0=[1.9, 1, 0])\n",
    "popt2, pcov = curve_fit(func, df_des.rot, df_des.vol/df_des.t*3.6, p0=[1.9, 1, 0])"
   ]
  },
  {
   "cell_type": "code",
   "execution_count": 53,
   "metadata": {},
   "outputs": [
    {
     "data": {
      "text/plain": [
       "array([-0.32946112,  1.74964004,  0.03242617])"
      ]
     },
     "execution_count": 53,
     "metadata": {},
     "output_type": "execute_result"
    }
   ],
   "source": [
    "popt"
   ]
  },
  {
   "cell_type": "code",
   "execution_count": 54,
   "metadata": {},
   "outputs": [],
   "source": [
    "%matplotlib qt\n",
    "A = 3.6 # L/s to m^3/h\n",
    "\n",
    "new_x = np.linspace(df_carr['rot'].min(), df_carr['rot'].max())\n",
    "p1 = zb.fit(df_carr['rot'], (df_carr['vol']/df_carr['t'])*A, 2)\n",
    "p2 = zb.fit(df_des['rot'], (df_des['vol']/df_des['t'])*A, 2)\n",
    "\n",
    "fig, ax = plt.subplots()\n",
    "ax.set(xlim=(0.5, 2.5), ylim=(1, 2.5), xlabel=r'Rotâmetro $[m^3/h]$', ylabel=r'Vazão medida $[m^3/h]$')\n",
    "\n",
    "errorplot(ax, df_carr['rot'], (df_carr['vol']/df_carr['t'])*A, color='red', label='Carregamento')\n",
    "errorplot(ax, df_des['rot'], (df_des['vol']/df_des['t'])*A, color='blue', label='Descarregamento')\n",
    "\n",
    "ax.plot(new_x, func(new_x, *popt), label='Carregamento', ls='--', color='red',)\n",
    "ax.plot(new_x, func(new_x, *popt2), label='Descarregamento', ls='--', color='blue')\n",
    "\n",
    "ax.grid(ls='dotted')\n",
    "ax.legend()\n",
    "\n",
    "fig.savefig('calib.pdf', bbox_inches='tight')"
   ]
  },
  {
   "cell_type": "code",
   "execution_count": 55,
   "metadata": {},
   "outputs": [
    {
     "name": "stdout",
     "output_type": "stream",
     "text": [
      "         2\n",
      "-0.3295 x + 1.75 x + 0.03243\n",
      "         2\n",
      "-0.5344 x + 2.427 x - 0.3928\n"
     ]
    }
   ],
   "source": [
    "print(f'{np.poly1d(p1, variable=\"x\")}')\n",
    "print(f'{np.poly1d(p2, variable=\"x\")}')"
   ]
  }
 ],
 "metadata": {
  "kernelspec": {
   "display_name": "Python 3.8.8 ('base')",
   "language": "python",
   "name": "python3"
  },
  "language_info": {
   "codemirror_mode": {
    "name": "ipython",
    "version": 3
   },
   "file_extension": ".py",
   "mimetype": "text/x-python",
   "name": "python",
   "nbconvert_exporter": "python",
   "pygments_lexer": "ipython3",
   "version": "3.8.8"
  },
  "orig_nbformat": 4,
  "vscode": {
   "interpreter": {
    "hash": "e38bdacfe1d6e2b7e20a64d2eef782d7715e4314dc541be72f500d3c69b94a4f"
   }
  }
 },
 "nbformat": 4,
 "nbformat_minor": 2
}
