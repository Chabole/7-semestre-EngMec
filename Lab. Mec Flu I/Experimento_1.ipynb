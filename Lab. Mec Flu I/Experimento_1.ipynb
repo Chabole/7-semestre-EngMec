{
 "cells": [
  {
   "cell_type": "code",
   "execution_count": 32,
   "metadata": {},
   "outputs": [
    {
     "data": {
      "text/plain": [
       "0.031069999999999997+/-0.00033000000000000016"
      ]
     },
     "execution_count": 32,
     "metadata": {},
     "output_type": "execute_result"
    }
   ],
   "source": [
    "import numpy as np\n",
    "import matplotlib.pyplot as plt\n",
    "import pandas as pd\n",
    "from scipy.stats import linregress\n",
    "from uncertainties import ufloat\n",
    "from uncertainties.umath import *  # sin(), etc.\n",
    "\n",
    "#Viscosidade e densidade da água Pa.s, kg/m^3\n",
    "mi = 1.002e-3\n",
    "rho = 1e3\n",
    "\n",
    "#Dados diâmetros - Incerteza tipo A\n",
    "D_val = np.array([31.5, 30.8, 29.5, 29.0, 31.6, 32.1, 31.0, 31.7, 31.5, 32])/1000 #m\n",
    "D = ufloat(D_val.mean(), D_val.std(ddof=1)/np.sqrt(len(D_val)))\n",
    "\n",
    "#Dados tempo e volumes - Incerteza tipo B\n",
    "t_val = np.array([43.68, 12.36, 18.56, 20.29, 6.73, 3.30])    #s\n",
    "V_val = np.array([0.490, 0.495, 1, 0.985, 0.990, 0.820])/1000 #m^3\n",
    "t, V = [], []\n",
    "for i in range(len(t_val)):\n",
    "    t.append(ufloat(t_val[i], 0.01/np.sqrt(3)))\n",
    "    V.append(ufloat(V_val[i], 0.01/(np.sqrt(3)*1000))) #Convertendo o erro p/ m^3\n",
    "D"
   ]
  },
  {
   "cell_type": "code",
   "execution_count": 33,
   "metadata": {},
   "outputs": [],
   "source": [
    "V_bar, Re = [], []\n",
    "for i in range(len(t_val)):\n",
    "    NUM = ((V[i])/t[i]) #multipliquei por x1000 pra ficar em ml\n",
    "    DEM = ((D/2)**2)*np.pi\n",
    "    V_bar.append(NUM/DEM)\n",
    "    Re.append(((NUM/DEM)*D*rho)/(mi))"
   ]
  },
  {
   "cell_type": "code",
   "execution_count": 34,
   "metadata": {},
   "outputs": [
    {
     "data": {
      "text/html": [
       "<div>\n",
       "<style scoped>\n",
       "    .dataframe tbody tr th:only-of-type {\n",
       "        vertical-align: middle;\n",
       "    }\n",
       "\n",
       "    .dataframe tbody tr th {\n",
       "        vertical-align: top;\n",
       "    }\n",
       "\n",
       "    .dataframe thead th {\n",
       "        text-align: right;\n",
       "    }\n",
       "</style>\n",
       "<table border=\"1\" class=\"dataframe\">\n",
       "  <thead>\n",
       "    <tr style=\"text-align: right;\">\n",
       "      <th></th>\n",
       "      <th>D(m)</th>\n",
       "      <th>t(s)</th>\n",
       "      <th>V(m^3)</th>\n",
       "      <th>V_bar(m/s)</th>\n",
       "      <th>Re</th>\n",
       "    </tr>\n",
       "  </thead>\n",
       "  <tbody>\n",
       "    <tr>\n",
       "      <th>0</th>\n",
       "      <td>0.03107+/-0.00033</td>\n",
       "      <td>43.680+/-0.006</td>\n",
       "      <td>0.000490+/-0.000006</td>\n",
       "      <td>0.0148+/-0.0004</td>\n",
       "      <td>459+/-7</td>\n",
       "    </tr>\n",
       "    <tr>\n",
       "      <th>1</th>\n",
       "      <td>0.03107+/-0.00033</td>\n",
       "      <td>12.360+/-0.006</td>\n",
       "      <td>0.000495+/-0.000006</td>\n",
       "      <td>0.0528+/-0.0013</td>\n",
       "      <td>1638+/-26</td>\n",
       "    </tr>\n",
       "    <tr>\n",
       "      <th>2</th>\n",
       "      <td>0.03107+/-0.00033</td>\n",
       "      <td>18.560+/-0.006</td>\n",
       "      <td>0.001000+/-0.000006</td>\n",
       "      <td>0.0711+/-0.0016</td>\n",
       "      <td>2204+/-27</td>\n",
       "    </tr>\n",
       "    <tr>\n",
       "      <th>3</th>\n",
       "      <td>0.03107+/-0.00033</td>\n",
       "      <td>20.290+/-0.006</td>\n",
       "      <td>0.000985+/-0.000006</td>\n",
       "      <td>0.0640+/-0.0014</td>\n",
       "      <td>1985+/-24</td>\n",
       "    </tr>\n",
       "    <tr>\n",
       "      <th>4</th>\n",
       "      <td>0.03107+/-0.00033</td>\n",
       "      <td>6.730+/-0.006</td>\n",
       "      <td>0.000990+/-0.000006</td>\n",
       "      <td>0.194+/-0.004</td>\n",
       "      <td>(6.02+/-0.07)e+03</td>\n",
       "    </tr>\n",
       "    <tr>\n",
       "      <th>5</th>\n",
       "      <td>0.03107+/-0.00033</td>\n",
       "      <td>3.300+/-0.006</td>\n",
       "      <td>0.000820+/-0.000006</td>\n",
       "      <td>0.328+/-0.007</td>\n",
       "      <td>(1.016+/-0.013)e+04</td>\n",
       "    </tr>\n",
       "  </tbody>\n",
       "</table>\n",
       "</div>"
      ],
      "text/plain": [
       "                D(m)            t(s)               V(m^3)       V_bar(m/s)  \\\n",
       "0  0.03107+/-0.00033  43.680+/-0.006  0.000490+/-0.000006  0.0148+/-0.0004   \n",
       "1  0.03107+/-0.00033  12.360+/-0.006  0.000495+/-0.000006  0.0528+/-0.0013   \n",
       "2  0.03107+/-0.00033  18.560+/-0.006  0.001000+/-0.000006  0.0711+/-0.0016   \n",
       "3  0.03107+/-0.00033  20.290+/-0.006  0.000985+/-0.000006  0.0640+/-0.0014   \n",
       "4  0.03107+/-0.00033   6.730+/-0.006  0.000990+/-0.000006    0.194+/-0.004   \n",
       "5  0.03107+/-0.00033   3.300+/-0.006  0.000820+/-0.000006    0.328+/-0.007   \n",
       "\n",
       "                    Re  \n",
       "0              459+/-7  \n",
       "1            1638+/-26  \n",
       "2            2204+/-27  \n",
       "3            1985+/-24  \n",
       "4    (6.02+/-0.07)e+03  \n",
       "5  (1.016+/-0.013)e+04  "
      ]
     },
     "execution_count": 34,
     "metadata": {},
     "output_type": "execute_result"
    }
   ],
   "source": [
    "df = pd.DataFrame({'D(m)':D, 't(s)':t, 'V(m^3)':V, 'V_bar(m/s)':V_bar, 'Re':Re})\n",
    "#df.to_excel('dados_1.xlsx')\n",
    "df\n"
   ]
  },
  {
   "cell_type": "code",
   "execution_count": 35,
   "metadata": {},
   "outputs": [],
   "source": [
    "Re_n, v_b = [], []\n",
    "for i in range(len(Re)):\n",
    "    Re_n.append(Re[i].n)\n",
    "    v_b.append(V_bar[i].n)"
   ]
  },
  {
   "cell_type": "code",
   "execution_count": 36,
   "metadata": {},
   "outputs": [
    {
     "data": {
      "image/png": "[encoded data removed]",
      "text/plain": [
       "<Figure size 432x288 with 1 Axes>"
      ]
     },
     "metadata": {
      "needs_background": "light"
     },
     "output_type": "display_data"
    }
   ],
   "source": [
    "#Figura\n",
    "fig, ax = plt.subplots()\n",
    "ax.set(ylabel=r'Velocidade [$m/s$]', xlabel=r'Número de Reynolds [$adm$]')\n",
    "\n",
    "#Erros de medida e dados\n",
    "#ax.scatter(x, y, color='red', label='Dados')\n",
    "erx = np.full_like(np.arange(0, len(Re), dtype=int), fill_value=Re[1].s)\n",
    "ery = np.full_like(np.arange(0, len(Re), dtype=int), fill_value=V_bar[1].s)\n",
    "\n",
    "ax.errorbar(Re_n, v_b, xerr=erx, yerr=ery, fmt='o', markeredgecolor='black', \n",
    "            markerfacecolor='red', label='Dados', markersize=5, capsize=5)\n",
    "#Regressão linear dos dados\n",
    "res = linregress(Re_n, v_b)\n",
    "ax.plot(np.asarray(Re_n), res.intercept + res.slope*np.asarray(Re_n), linestyle='--', color='blue'\n",
    "        #,label=r'Aproximação $r^2=$' + f'{res.rvalue:.4f}')\n",
    "        , label='Aproximação')\n",
    "ax.axvline(x=2400, ls=':', color='red',label=r'Limiar turbulento $R_e=2400$')        \n",
    "ax.axvline(x=2000, ls=':',  label=r'Limiar laminar $R_e=2000$')        \n",
    "\n",
    "ax.grid(ls='dotted')\n",
    "ax.legend()\n",
    "\n",
    "fig.savefig('velc_x_Re.pdf', bbox_inches='tight')"
   ]
  },
  {
   "cell_type": "code",
   "execution_count": null,
   "metadata": {},
   "outputs": [],
   "source": []
  }
 ],
 "metadata": {
  "interpreter": {
   "hash": "e38bdacfe1d6e2b7e20a64d2eef782d7715e4314dc541be72f500d3c69b94a4f"
  },
  "kernelspec": {
   "display_name": "Python 3.8.8 ('base')",
   "language": "python",
   "name": "python3"
  },
  "language_info": {
   "codemirror_mode": {
    "name": "ipython",
    "version": 3
   },
   "file_extension": ".py",
   "mimetype": "text/x-python",
   "name": "python",
   "nbconvert_exporter": "python",
   "pygments_lexer": "ipython3",
   "version": "3.8.8"
  },
  "orig_nbformat": 4
 },
 "nbformat": 4,
 "nbformat_minor": 2
}
