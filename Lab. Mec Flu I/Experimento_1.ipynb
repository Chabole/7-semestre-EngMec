{
 "cells": [
  {
   "cell_type": "code",
   "execution_count": 8,
   "metadata": {},
   "outputs": [],
   "source": [
    "import numpy as np\n",
    "import scipy \n",
    "import matplotlib.pyplot as plt\n",
    "import seaborn as sn\n",
    "import pandas as pd\n",
    "import ZebraLib as zb\n",
    "from uncertainties import ufloat\n",
    "from uncertainties.umath import *  # sin(), etc.\n",
    "\n",
    "#Viscosidade e densidade da água Pa.s, kg/m^3\n",
    "mi = 1.002e-3\n",
    "rho = 1\n",
    "\n",
    "#Dados diâmetros - Incerteza tipo A\n",
    "D_val = np.array([31.5, 30.8, 29.5, 29.0, 31.6, 32.1, 31.0, 31.7, 31.5, 32])/1000 #m\n",
    "D = ufloat(D_val.mean(), D_val.std(ddof=1))\n",
    "\n",
    "#Dados tempo e volumes - Incerteza tipo B\n",
    "t_val = np.array([43.68, 12.36, 18.56, 20.29, 6.73, 3.30])    #s\n",
    "V_val = np.array([0.490, 0.495, 1, 0.985, 0.990, 0.820])/1000 #m^3\n",
    "t, V = [], []\n",
    "for i in range(len(t_val)):\n",
    "    t.append(ufloat(t_val[i], 0.01))\n",
    "    V.append(ufloat(V_val[i], 0.01/1000)) #Convertendo o erro p/ m^3"
   ]
  },
  {
   "cell_type": "code",
   "execution_count": 9,
   "metadata": {},
   "outputs": [
    {
     "name": "stdout",
     "output_type": "stream",
     "text": [
      "t:[43.68+/-0.01, 12.36+/-0.01, 18.56+/-0.01, 20.29+/-0.01, 6.73+/-0.01, 3.3+/-0.01]\n",
      "V:[0.00049+/-1e-05, 0.000495+/-1e-05, 0.001+/-1e-05, 0.000985+/-1e-05, 0.00099+/-1e-05, 0.00082+/-1e-05]\n"
     ]
    }
   ],
   "source": [
    "print(f't:{t}') #tempo(s)\n",
    "print(f'V:{V}') #Volume m^3"
   ]
  },
  {
   "cell_type": "code",
   "execution_count": 10,
   "metadata": {},
   "outputs": [],
   "source": [
    "V_bar, Re = [], []\n",
    "for i in range(len(t_val)):\n",
    "    NUM = ((V[i])/t[i]) #multipliquei por x1000 pra ficar em ml\n",
    "    DEM = ((D/2)**2)*np.pi\n",
    "    V_bar.append(NUM/DEM)\n",
    "    Re.append(((NUM/DEM)*D*rho)/(mi))"
   ]
  },
  {
   "cell_type": "code",
   "execution_count": 11,
   "metadata": {},
   "outputs": [
    {
     "name": "stdout",
     "output_type": "stream",
     "text": [
      "Velocidade:[0.01479588892892419+/-0.0010387643906070833, 0.05282193911657541+/-0.003705508188293083, 0.07106399855025167+/-0.004826426531598903, 0.06402974844239925+/-0.004350108093632587, 0.19402055497202733+/-0.013182858109921305, 0.3277385474957546+/-0.022397472514358183]\n",
      "Re:[0.45879068764638176+/-0.018031348147128076, 1.6379018446626723+/-0.06421056594614846, 2.2035513322917355+/-0.07723076534982588, 1.9854334172708028+/-0.06967162816025207, 6.0161862704400075+/-0.21119577256610708, 10.162511647398297+/-0.36443593614151204]\n"
     ]
    }
   ],
   "source": [
    "print(f'Velocidade:{V_bar}') # m/s\n",
    "print(f'Re:{Re}') #numero"
   ]
  },
  {
   "cell_type": "code",
   "execution_count": 19,
   "metadata": {},
   "outputs": [
    {
     "data": {
      "text/html": [
       "<div>\n",
       "<style scoped>\n",
       "    .dataframe tbody tr th:only-of-type {\n",
       "        vertical-align: middle;\n",
       "    }\n",
       "\n",
       "    .dataframe tbody tr th {\n",
       "        vertical-align: top;\n",
       "    }\n",
       "\n",
       "    .dataframe thead th {\n",
       "        text-align: right;\n",
       "    }\n",
       "</style>\n",
       "<table border=\"1\" class=\"dataframe\">\n",
       "  <thead>\n",
       "    <tr style=\"text-align: right;\">\n",
       "      <th></th>\n",
       "      <th>V_bar(m/s)</th>\n",
       "      <th>Re</th>\n",
       "    </tr>\n",
       "  </thead>\n",
       "  <tbody>\n",
       "    <tr>\n",
       "      <th>0</th>\n",
       "      <td>0.0148+/-0.0010</td>\n",
       "      <td>0.459+/-0.018</td>\n",
       "    </tr>\n",
       "    <tr>\n",
       "      <th>1</th>\n",
       "      <td>0.053+/-0.004</td>\n",
       "      <td>1.64+/-0.06</td>\n",
       "    </tr>\n",
       "    <tr>\n",
       "      <th>2</th>\n",
       "      <td>0.071+/-0.005</td>\n",
       "      <td>2.20+/-0.08</td>\n",
       "    </tr>\n",
       "    <tr>\n",
       "      <th>3</th>\n",
       "      <td>0.064+/-0.004</td>\n",
       "      <td>1.99+/-0.07</td>\n",
       "    </tr>\n",
       "    <tr>\n",
       "      <th>4</th>\n",
       "      <td>0.194+/-0.013</td>\n",
       "      <td>6.02+/-0.21</td>\n",
       "    </tr>\n",
       "    <tr>\n",
       "      <th>5</th>\n",
       "      <td>0.328+/-0.022</td>\n",
       "      <td>10.2+/-0.4</td>\n",
       "    </tr>\n",
       "  </tbody>\n",
       "</table>\n",
       "</div>"
      ],
      "text/plain": [
       "        V_bar(m/s)             Re\n",
       "0  0.0148+/-0.0010  0.459+/-0.018\n",
       "1    0.053+/-0.004    1.64+/-0.06\n",
       "2    0.071+/-0.005    2.20+/-0.08\n",
       "3    0.064+/-0.004    1.99+/-0.07\n",
       "4    0.194+/-0.013    6.02+/-0.21\n",
       "5    0.328+/-0.022     10.2+/-0.4"
      ]
     },
     "execution_count": 19,
     "metadata": {},
     "output_type": "execute_result"
    }
   ],
   "source": [
    "df = pd.DataFrame({'D(m)':D, 't(s)':t, 'V(m^3)':V, 'V_bar(m/s)':V_bar, 'Re':Re})\n",
    "#df.to_excel('dados_1.xlsx')\n",
    "#df[['t(s)','V(m^3)']]\n",
    "df[['V_bar(m/s)','Re']]"
   ]
  }
 ],
 "metadata": {
  "interpreter": {
   "hash": "e38bdacfe1d6e2b7e20a64d2eef782d7715e4314dc541be72f500d3c69b94a4f"
  },
  "kernelspec": {
   "display_name": "Python 3.8.8 ('base')",
   "language": "python",
   "name": "python3"
  },
  "language_info": {
   "codemirror_mode": {
    "name": "ipython",
    "version": 3
   },
   "file_extension": ".py",
   "mimetype": "text/x-python",
   "name": "python",
   "nbconvert_exporter": "python",
   "pygments_lexer": "ipython3",
   "version": "3.8.8"
  },
  "orig_nbformat": 4
 },
 "nbformat": 4,
 "nbformat_minor": 2
}
