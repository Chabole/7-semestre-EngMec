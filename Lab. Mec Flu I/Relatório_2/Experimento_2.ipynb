{
 "cells": [
  {
   "cell_type": "code",
   "execution_count": 72,
   "metadata": {},
   "outputs": [],
   "source": [
    "import numpy as np\n",
    "import matplotlib.pyplot as plt\n",
    "import pandas as pd\n",
    "from scipy.stats import linregress\n",
    "from uncertainties import ufloat\n",
    "from uncertainties.umath import *  # sin(), etc."
   ]
  },
  {
   "cell_type": "code",
   "execution_count": 73,
   "metadata": {},
   "outputs": [],
   "source": [
    "#Dados\n",
    "t20_value = np.array([71.71, 71.31, 71.21, 71.20, 71.70])\n",
    "t30_value = np.array([46.48, 46.98, 46.54, 46.57, 45.94])\n",
    "t40_value = np.array([34.73, 34.55, 34.62, 34.46, 34.48])\n",
    "t50_value = np.array([27.96, 27.68, 27.82, 27.83, 27.55])\n",
    "\n",
    "#Incertezas do tipo A - Tempo\n",
    "t20 = ufloat(t20_value.mean(), t20_value.std(ddof=1)/np.sqrt(len(t20_value)))\n",
    "t30 = ufloat(t30_value.mean(), t30_value.std(ddof=1)/np.sqrt(len(t30_value)))\n",
    "t40 = ufloat(t40_value.mean(), t40_value.std(ddof=1)/np.sqrt(len(t40_value)))\n",
    "t50 = ufloat(t50_value.mean(), t50_value.std(ddof=1)/np.sqrt(len(t50_value)))\n",
    "\n",
    "#Incertezas do tipo B - Temperatura\n",
    "Temp = ufloat(24, 0.5/np.sqrt(3))\n",
    "\n",
    "#Simplificar\n",
    "P = [20, 30, 40, 50]\n",
    "t = [t20, t30, t40, t50]"
   ]
  },
  {
   "cell_type": "code",
   "execution_count": 74,
   "metadata": {},
   "outputs": [
    {
     "data": {
      "text/html": [
       "<div>\n",
       "<style scoped>\n",
       "    .dataframe tbody tr th:only-of-type {\n",
       "        vertical-align: middle;\n",
       "    }\n",
       "\n",
       "    .dataframe tbody tr th {\n",
       "        vertical-align: top;\n",
       "    }\n",
       "\n",
       "    .dataframe thead th {\n",
       "        text-align: right;\n",
       "    }\n",
       "</style>\n",
       "<table border=\"1\" class=\"dataframe\">\n",
       "  <thead>\n",
       "    <tr style=\"text-align: right;\">\n",
       "      <th></th>\n",
       "      <th>P20</th>\n",
       "      <th>P30</th>\n",
       "      <th>P40</th>\n",
       "      <th>P50</th>\n",
       "    </tr>\n",
       "  </thead>\n",
       "  <tbody>\n",
       "    <tr>\n",
       "      <th>0</th>\n",
       "      <td>71.71</td>\n",
       "      <td>46.48</td>\n",
       "      <td>34.73</td>\n",
       "      <td>27.96</td>\n",
       "    </tr>\n",
       "    <tr>\n",
       "      <th>1</th>\n",
       "      <td>71.31</td>\n",
       "      <td>46.98</td>\n",
       "      <td>34.55</td>\n",
       "      <td>27.68</td>\n",
       "    </tr>\n",
       "    <tr>\n",
       "      <th>2</th>\n",
       "      <td>71.21</td>\n",
       "      <td>46.54</td>\n",
       "      <td>34.62</td>\n",
       "      <td>27.82</td>\n",
       "    </tr>\n",
       "    <tr>\n",
       "      <th>3</th>\n",
       "      <td>71.20</td>\n",
       "      <td>46.57</td>\n",
       "      <td>34.46</td>\n",
       "      <td>27.83</td>\n",
       "    </tr>\n",
       "    <tr>\n",
       "      <th>4</th>\n",
       "      <td>71.70</td>\n",
       "      <td>45.94</td>\n",
       "      <td>34.48</td>\n",
       "      <td>27.55</td>\n",
       "    </tr>\n",
       "  </tbody>\n",
       "</table>\n",
       "</div>"
      ],
      "text/plain": [
       "     P20    P30    P40    P50\n",
       "0  71.71  46.48  34.73  27.96\n",
       "1  71.31  46.98  34.55  27.68\n",
       "2  71.21  46.54  34.62  27.82\n",
       "3  71.20  46.57  34.46  27.83\n",
       "4  71.70  45.94  34.48  27.55"
      ]
     },
     "execution_count": 74,
     "metadata": {},
     "output_type": "execute_result"
    }
   ],
   "source": [
    "pd.DataFrame({'P20':t20_value, 'P30':t30_value, 'P40':t40_value, 'P50':t50_value})"
   ]
  },
  {
   "cell_type": "code",
   "execution_count": 75,
   "metadata": {},
   "outputs": [
    {
     "data": {
      "text/html": [
       "<div>\n",
       "<style scoped>\n",
       "    .dataframe tbody tr th:only-of-type {\n",
       "        vertical-align: middle;\n",
       "    }\n",
       "\n",
       "    .dataframe tbody tr th {\n",
       "        vertical-align: top;\n",
       "    }\n",
       "\n",
       "    .dataframe thead th {\n",
       "        text-align: right;\n",
       "    }\n",
       "</style>\n",
       "<table border=\"1\" class=\"dataframe\">\n",
       "  <thead>\n",
       "    <tr style=\"text-align: right;\">\n",
       "      <th></th>\n",
       "      <th>T20</th>\n",
       "      <th>T30</th>\n",
       "      <th>T40</th>\n",
       "      <th>T50</th>\n",
       "    </tr>\n",
       "  </thead>\n",
       "  <tbody>\n",
       "    <tr>\n",
       "      <th>0</th>\n",
       "      <td>71.43+/-0.12</td>\n",
       "      <td>46.50+/-0.17</td>\n",
       "      <td>34.57+/-0.05</td>\n",
       "      <td>27.77+/-0.07</td>\n",
       "    </tr>\n",
       "  </tbody>\n",
       "</table>\n",
       "</div>"
      ],
      "text/plain": [
       "            T20           T30           T40           T50\n",
       "0  71.43+/-0.12  46.50+/-0.17  34.57+/-0.05  27.77+/-0.07"
      ]
     },
     "execution_count": 75,
     "metadata": {},
     "output_type": "execute_result"
    }
   ],
   "source": [
    "pd.DataFrame({'T20':t20, 'T30':t30, 'T40':t40, 'T50':t50}, index=[0])"
   ]
  },
  {
   "cell_type": "code",
   "execution_count": 76,
   "metadata": {},
   "outputs": [
    {
     "name": "stdout",
     "output_type": "stream",
     "text": [
      "Média da viscosidade 159.73+/-0.19[cp] ou 159.73+/-0.19[10-3Pa.s]\n"
     ]
    },
    {
     "data": {
      "text/html": [
       "<div>\n",
       "<style scoped>\n",
       "    .dataframe tbody tr th:only-of-type {\n",
       "        vertical-align: middle;\n",
       "    }\n",
       "\n",
       "    .dataframe tbody tr th {\n",
       "        vertical-align: top;\n",
       "    }\n",
       "\n",
       "    .dataframe thead th {\n",
       "        text-align: right;\n",
       "    }\n",
       "</style>\n",
       "<table border=\"1\" class=\"dataframe\">\n",
       "  <thead>\n",
       "    <tr style=\"text-align: right;\">\n",
       "      <th></th>\n",
       "      <th>P</th>\n",
       "      <th>Tempo</th>\n",
       "      <th>mi</th>\n",
       "    </tr>\n",
       "  </thead>\n",
       "  <tbody>\n",
       "    <tr>\n",
       "      <th>0</th>\n",
       "      <td>20</td>\n",
       "      <td>71.43+/-0.12</td>\n",
       "      <td>163.14+/-0.26</td>\n",
       "    </tr>\n",
       "    <tr>\n",
       "      <th>1</th>\n",
       "      <td>30</td>\n",
       "      <td>46.50+/-0.17</td>\n",
       "      <td>159.3+/-0.6</td>\n",
       "    </tr>\n",
       "    <tr>\n",
       "      <th>2</th>\n",
       "      <td>40</td>\n",
       "      <td>34.57+/-0.05</td>\n",
       "      <td>157.91+/-0.23</td>\n",
       "    </tr>\n",
       "    <tr>\n",
       "      <th>3</th>\n",
       "      <td>50</td>\n",
       "      <td>27.77+/-0.07</td>\n",
       "      <td>158.6+/-0.4</td>\n",
       "    </tr>\n",
       "  </tbody>\n",
       "</table>\n",
       "</div>"
      ],
      "text/plain": [
       "    P         Tempo             mi\n",
       "0  20  71.43+/-0.12  163.14+/-0.26\n",
       "1  30  46.50+/-0.17    159.3+/-0.6\n",
       "2  40  34.57+/-0.05  157.91+/-0.23\n",
       "3  50  27.77+/-0.07    158.6+/-0.4"
      ]
     },
     "execution_count": 76,
     "metadata": {},
     "output_type": "execute_result"
    }
   ],
   "source": [
    "#Cálculo da viscosidade com erro\n",
    "mi = []\n",
    "for i in range(4):\n",
    "    mi.append(P[i]*t[i]*0.1142)\n",
    "\n",
    "#Média dos valores\n",
    "mean_mi = 0\n",
    "for i in range(len(mi)):\n",
    "    mean_mi += mi[i]\n",
    "mean_mi = mean_mi/4\n",
    "\n",
    "print(f'Média da viscosidade {mean_mi}[cp] ou {mean_mi}[10-3Pa.s]')\n",
    "df = pd.DataFrame({'P':P, 'Tempo':t, 'mi':mi})\n",
    "df"
   ]
  },
  {
   "cell_type": "code",
   "execution_count": 77,
   "metadata": {},
   "outputs": [
    {
     "data": {
      "image/png": "[encoded data removed]",
      "text/plain": [
       "<Figure size 432x288 with 1 Axes>"
      ]
     },
     "metadata": {
      "needs_background": "light"
     },
     "output_type": "display_data"
    }
   ],
   "source": [
    "#Figura 1\n",
    "fig, ax = plt.subplots()\n",
    "ax.set(ylabel=r'Viscoidade dinâmica $\\mu$[$mPa.s$]', xlabel=r'Tensão de cisalhamentomento $\\tau$ [$gf/cm^2$]')\n",
    "\n",
    "#Erros de medida e dados\n",
    "f = []\n",
    "for i in range(4):\n",
    "        f.append(mi[i].n)\n",
    "\n",
    "ax.plot(P, f, '--', label='Interpolação')\n",
    "ax.scatter(P, f, c='red', label='Dados')\n",
    "\n",
    "ax.grid(ls='dotted')\n",
    "ax.legend()\n",
    "ax.set_ylim(10, 1000)\n",
    "plt.yscale(\"log\")  \n",
    "\n",
    "fig.savefig('visc_x_tensao.pdf', bbox_inches='tight')"
   ]
  },
  {
   "cell_type": "code",
   "execution_count": 78,
   "metadata": {},
   "outputs": [
    {
     "data": {
      "image/png": "[encoded data removed]",
      "text/plain": [
       "<Figure size 432x288 with 1 Axes>"
      ]
     },
     "metadata": {
      "needs_background": "light"
     },
     "output_type": "display_data"
    }
   ],
   "source": [
    "#Figura 2\n",
    "import ZebraLib as zb\n",
    "\n",
    "x = [10, 20, 30, 40, 50]\n",
    "y= [650, 390, 190, 100, 50]\n",
    "x_new = np.linspace(0, 50)\n",
    "\n",
    "res = zb.fit(x, y, 2)\n",
    "\n",
    "fig, ax = plt.subplots()\n",
    "ax.set( xlabel=r'Temperatura $[ºC]$', \n",
    "        ylabel=r'Viscosidade dinâmica $\\mu$ $[mPa.s]$')\n",
    "\n",
    "ax.scatter(x, y, c='red', label='Dados discretos')\n",
    "ax.plot(x_new, res(x_new), '--',label='Interpolação')\n",
    "ax.legend()\n",
    "\n",
    "ax.grid(ls='dotted')\n",
    "ax.set_ylim(0, 700)\n",
    "\n",
    "fig.savefig('corno.pdf', bbox_inches='tight')"
   ]
  },
  {
   "cell_type": "code",
   "execution_count": 79,
   "metadata": {},
   "outputs": [
    {
     "data": {
      "text/plain": [
       "303.31428571428603"
      ]
     },
     "execution_count": 79,
     "metadata": {},
     "output_type": "execute_result"
    }
   ],
   "source": [
    "res(24)"
   ]
  },
  {
   "cell_type": "code",
   "execution_count": 83,
   "metadata": {},
   "outputs": [
    {
     "data": {
      "text/plain": [
       "47.33845139412214+/-0.10705112373466127"
      ]
     },
     "execution_count": 83,
     "metadata": {},
     "output_type": "execute_result"
    }
   ],
   "source": [
    "a = ufloat(159.73, 0.19)\n",
    "b = ufloat(res(24), 0.5)\n",
    "\n",
    "abs(a-b)/b*100"
   ]
  },
  {
   "cell_type": "code",
   "execution_count": null,
   "metadata": {},
   "outputs": [],
   "source": []
  }
 ],
 "metadata": {
  "interpreter": {
   "hash": "e38bdacfe1d6e2b7e20a64d2eef782d7715e4314dc541be72f500d3c69b94a4f"
  },
  "kernelspec": {
   "display_name": "Python 3.8.8 ('base')",
   "language": "python",
   "name": "python3"
  },
  "language_info": {
   "codemirror_mode": {
    "name": "ipython",
    "version": 3
   },
   "file_extension": ".py",
   "mimetype": "text/x-python",
   "name": "python",
   "nbconvert_exporter": "python",
   "pygments_lexer": "ipython3",
   "version": "3.8.8"
  },
  "orig_nbformat": 4
 },
 "nbformat": 4,
 "nbformat_minor": 2
}
