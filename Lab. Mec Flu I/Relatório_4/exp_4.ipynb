{
 "cells": [
  {
   "cell_type": "code",
   "execution_count": 41,
   "metadata": {},
   "outputs": [],
   "source": [
    "#%matplotlib qt\n",
    "\n",
    "import numpy as np\n",
    "import matplotlib.pyplot as plt\n",
    "import pandas as pd\n",
    "from scipy.stats import linregress\n",
    "from uncertainties import ufloat\n",
    "from uncertainties.umath import *  # sin(), etc.\n",
    "import ZebraLib as zb\n",
    "from scipy.optimize import curve_fit\n",
    "\n",
    "def mean(array):\n",
    "    mean_mi = 0\n",
    "    for i in range(len(array)):\n",
    "        mean_mi += array[i]\n",
    "    mean_mi = mean_mi/len(array)\n",
    "    return mean_mi\n",
    "\n",
    "def incert_A(array):\n",
    "    return ufloat(array.mean(), array.std(ddof=1)/np.sqrt(len(array)))\n",
    "\n",
    "def  incert_B(array, precision):\n",
    "    array_er = []\n",
    "    for i in range(len(array)):\n",
    "        array_er.append(ufloat(array[i], precision/np.sqrt(3)))\n",
    "    return array_er\n",
    "\n",
    "#Import de dados - Experimento\n",
    "df = pd.read_excel('D:/UNESP/7-semestre-EngMec/Lab. Mec Flu I/Relatório_4/dados_exp.xlsx', index_col=0)\n",
    "df_calib = pd.read_excel('D:/UNESP/7-semestre-EngMec/Lab. Mec Flu I/Relatório_4/curva_calibração_CQ.xlsx')"
   ]
  },
  {
   "cell_type": "code",
   "execution_count": 42,
   "metadata": {},
   "outputs": [
    {
     "data": {
      "text/html": [
       "<div>\n",
       "<style scoped>\n",
       "    .dataframe tbody tr th:only-of-type {\n",
       "        vertical-align: middle;\n",
       "    }\n",
       "\n",
       "    .dataframe tbody tr th {\n",
       "        vertical-align: top;\n",
       "    }\n",
       "\n",
       "    .dataframe thead th {\n",
       "        text-align: right;\n",
       "    }\n",
       "</style>\n",
       "<table border=\"1\" class=\"dataframe\">\n",
       "  <thead>\n",
       "    <tr style=\"text-align: right;\">\n",
       "      <th></th>\n",
       "      <th>col1</th>\n",
       "      <th>col2</th>\n",
       "      <th>d_col</th>\n",
       "      <th>vel</th>\n",
       "    </tr>\n",
       "  </thead>\n",
       "  <tbody>\n",
       "    <tr>\n",
       "      <th>0</th>\n",
       "      <td>2.7</td>\n",
       "      <td>17.4</td>\n",
       "      <td>14.7</td>\n",
       "      <td>28.43</td>\n",
       "    </tr>\n",
       "    <tr>\n",
       "      <th>1</th>\n",
       "      <td>16.5</td>\n",
       "      <td>4.0</td>\n",
       "      <td>12.5</td>\n",
       "      <td>27.75</td>\n",
       "    </tr>\n",
       "    <tr>\n",
       "      <th>2</th>\n",
       "      <td>15.7</td>\n",
       "      <td>4.8</td>\n",
       "      <td>10.9</td>\n",
       "      <td>26.04</td>\n",
       "    </tr>\n",
       "    <tr>\n",
       "      <th>3</th>\n",
       "      <td>14.8</td>\n",
       "      <td>5.8</td>\n",
       "      <td>9.0</td>\n",
       "      <td>23.95</td>\n",
       "    </tr>\n",
       "    <tr>\n",
       "      <th>4</th>\n",
       "      <td>13.9</td>\n",
       "      <td>6.8</td>\n",
       "      <td>7.1</td>\n",
       "      <td>21.70</td>\n",
       "    </tr>\n",
       "  </tbody>\n",
       "</table>\n",
       "</div>"
      ],
      "text/plain": [
       "   col1  col2  d_col    vel\n",
       "0   2.7  17.4   14.7  28.43\n",
       "1  16.5   4.0   12.5  27.75\n",
       "2  15.7   4.8   10.9  26.04\n",
       "3  14.8   5.8    9.0  23.95\n",
       "4  13.9   6.8    7.1  21.70"
      ]
     },
     "execution_count": 42,
     "metadata": {},
     "output_type": "execute_result"
    }
   ],
   "source": [
    "df"
   ]
  },
  {
   "cell_type": "markdown",
   "metadata": {},
   "source": [
    "## Solução polinomial - a curva não se ajusta"
   ]
  },
  {
   "cell_type": "code",
   "execution_count": 43,
   "metadata": {},
   "outputs": [
    {
     "data": {
      "image/png": "[encoded data removed]",
      "text/plain": [
       "<Figure size 432x288 with 1 Axes>"
      ]
     },
     "metadata": {
      "needs_background": "light"
     },
     "output_type": "display_data"
    }
   ],
   "source": [
    "new_x = np.linspace(df_calib.x.min(), df_calib.x.max(),100)\n",
    "\n",
    "fig, ax = plt.subplots()\n",
    "ax.set(ylabel='CQ', xlabel='Re')\n",
    "\n",
    "for i in range(2, 5):\n",
    "    poly = zb.fit((df_calib.x), df_calib.y, i)\n",
    "    ax.plot(new_x, poly(new_x), label =f'Grau {i}')\n",
    "\n",
    "ax.scatter(df_calib.x, df_calib.y, label ='Dados')\n",
    "ax.legend()\n",
    "ax.grid(ls='dotted')\n",
    "ax.set_xlim(1e4, 1e7)\n",
    "ax.set_xscale('log')"
   ]
  },
  {
   "cell_type": "markdown",
   "metadata": {},
   "source": [
    "## Solução hiperbolica usando curve_fit \n",
    "Melhor aproximação por mínimo quadrados utilizando a função genérica \n",
    "$f(x) = \\frac{1}{x^a}b + c$"
   ]
  },
  {
   "cell_type": "code",
   "execution_count": 44,
   "metadata": {},
   "outputs": [],
   "source": [
    "#Modelo\n",
    "def func(x, a, b, c):\n",
    "    return (1/(x**a))*b + c\n",
    "\n",
    "#Fit do modelo\n",
    "popt, pcov = curve_fit(func, df_calib.x, df_calib.y, p0=[1.9, 1, 0])"
   ]
  },
  {
   "cell_type": "code",
   "execution_count": 45,
   "metadata": {},
   "outputs": [
    {
     "name": "stdout",
     "output_type": "stream",
     "text": [
      "f(x) = 1/2.256*599671108.436 + 0.675\n"
     ]
    },
    {
     "data": {
      "text/plain": [
       "array([2.25592396e+00, 5.99671108e+08, 6.75125991e-01])"
      ]
     },
     "execution_count": 45,
     "metadata": {},
     "output_type": "execute_result"
    },
    {
     "data": {
      "image/png": "[encoded data removed]",
      "text/plain": [
       "<Figure size 576x360 with 1 Axes>"
      ]
     },
     "metadata": {
      "needs_background": "light"
     },
     "output_type": "display_data"
    }
   ],
   "source": [
    "fig, ax = plt.subplots(figsize=(8, 5))\n",
    "ax.set(ylabel=r'$C_Q$', xlabel=r'$R_e$')\n",
    "\n",
    "ax.plot(new_x, func(new_x, *popt), label =f'Interpolação')\n",
    "ax.scatter(df_calib.x, df_calib.y, c='r', label ='Dados')\n",
    "\n",
    "ax.legend()\n",
    "ax.grid(ls='dotted')\n",
    "ax.set_xlim(0.5e4, 1e6)\n",
    "ax.set_xscale('log')\n",
    "\n",
    "fig.savefig('aproxim.pdf', bbox_inches='tight')\n",
    "\n",
    "#Resultados dos coeficientes p/ o melhor polinômio\n",
    "print(f'f(x) = 1/{popt[0]:.3f}*{popt[1]:.3f} + {popt[2]:.3f}')\n",
    "popt "
   ]
  },
  {
   "cell_type": "markdown",
   "metadata": {},
   "source": [
    "## Iterando para entrar o melhor valor"
   ]
  },
  {
   "cell_type": "code",
   "execution_count": 46,
   "metadata": {},
   "outputs": [],
   "source": [
    "D = 0.07816\n",
    "area_D = (np.pi*(D**2))/4 \n",
    "\n",
    "def coef_CQ(x):\n",
    "    return func(x, *popt)\n",
    "\n",
    "def Num_Re(v, D=0.07816):\n",
    "    #visc_din=15.06e-6 #Visc. dina. Ar\n",
    "    #return (v*D)/visc_din\n",
    "    return (v*D*1.205)/18.13e-6\n",
    "    \n",
    "def Vazão_Q(cq, delta_h,  D=0.07816):\n",
    "    rho_agua, rho_ar, g = 998.20, 1.205, 9.81\n",
    "    Ad = 0.45*area_D\n",
    "    delta_P = rho_agua*g*(delta_h)\n",
    "    return cq*Ad*np.sqrt((2*delta_P)/rho_ar)\n",
    "\n",
    "def iterador(delta_h, verbose=False):\n",
    "    v_sol = []\n",
    "    Re = 1e6\n",
    "\n",
    "    for i in range(5):\n",
    "        cq0 = coef_CQ(Re)\n",
    "        Q = Vazão_Q(cq0, delta_h/100)\n",
    "        V = Q/(area_D)                  #Velocidade do escoamento\n",
    "        Re = Num_Re(V)\n",
    "        \n",
    "        if verbose:\n",
    "            v_sol.append([cq0, Q, V, Re])\n",
    "        else:\n",
    "            v_sol.append(V)\n",
    "\n",
    "    return np.asarray(v_sol)"
   ]
  },
  {
   "cell_type": "code",
   "execution_count": 47,
   "metadata": {},
   "outputs": [
    {
     "data": {
      "text/html": [
       "<div>\n",
       "<style scoped>\n",
       "    .dataframe tbody tr th:only-of-type {\n",
       "        vertical-align: middle;\n",
       "    }\n",
       "\n",
       "    .dataframe tbody tr th {\n",
       "        vertical-align: top;\n",
       "    }\n",
       "\n",
       "    .dataframe thead th {\n",
       "        text-align: right;\n",
       "    }\n",
       "</style>\n",
       "<table border=\"1\" class=\"dataframe\">\n",
       "  <thead>\n",
       "    <tr style=\"text-align: right;\">\n",
       "      <th></th>\n",
       "      <th>CQ</th>\n",
       "      <th>Q</th>\n",
       "      <th>V</th>\n",
       "      <th>Re</th>\n",
       "    </tr>\n",
       "  </thead>\n",
       "  <tbody>\n",
       "    <tr>\n",
       "      <th>0</th>\n",
       "      <td>0.675143</td>\n",
       "      <td>0.071251</td>\n",
       "      <td>14.850190</td>\n",
       "      <td>77144.648229</td>\n",
       "    </tr>\n",
       "    <tr>\n",
       "      <th>1</th>\n",
       "      <td>0.680782</td>\n",
       "      <td>0.071846</td>\n",
       "      <td>14.974217</td>\n",
       "      <td>77788.949384</td>\n",
       "    </tr>\n",
       "    <tr>\n",
       "      <th>2</th>\n",
       "      <td>0.680677</td>\n",
       "      <td>0.071835</td>\n",
       "      <td>14.971904</td>\n",
       "      <td>77776.936012</td>\n",
       "    </tr>\n",
       "    <tr>\n",
       "      <th>3</th>\n",
       "      <td>0.680679</td>\n",
       "      <td>0.071835</td>\n",
       "      <td>14.971947</td>\n",
       "      <td>77777.157049</td>\n",
       "    </tr>\n",
       "    <tr>\n",
       "      <th>4</th>\n",
       "      <td>0.680679</td>\n",
       "      <td>0.071835</td>\n",
       "      <td>14.971946</td>\n",
       "      <td>77777.152981</td>\n",
       "    </tr>\n",
       "  </tbody>\n",
       "</table>\n",
       "</div>"
      ],
      "text/plain": [
       "         CQ         Q          V            Re\n",
       "0  0.675143  0.071251  14.850190  77144.648229\n",
       "1  0.680782  0.071846  14.974217  77788.949384\n",
       "2  0.680677  0.071835  14.971904  77776.936012\n",
       "3  0.680679  0.071835  14.971947  77777.157049\n",
       "4  0.680679  0.071835  14.971946  77777.152981"
      ]
     },
     "execution_count": 47,
     "metadata": {},
     "output_type": "execute_result"
    }
   ],
   "source": [
    "#Iteração para o 1 valor \n",
    "pd.DataFrame(iterador(14.7, True), columns=['CQ', 'Q', 'V', 'Re'])"
   ]
  },
  {
   "cell_type": "code",
   "execution_count": 48,
   "metadata": {},
   "outputs": [
    {
     "data": {
      "text/html": [
       "<div>\n",
       "<style scoped>\n",
       "    .dataframe tbody tr th:only-of-type {\n",
       "        vertical-align: middle;\n",
       "    }\n",
       "\n",
       "    .dataframe tbody tr th {\n",
       "        vertical-align: top;\n",
       "    }\n",
       "\n",
       "    .dataframe thead th {\n",
       "        text-align: right;\n",
       "    }\n",
       "</style>\n",
       "<table border=\"1\" class=\"dataframe\">\n",
       "  <thead>\n",
       "    <tr style=\"text-align: right;\">\n",
       "      <th></th>\n",
       "      <th>VT</th>\n",
       "      <th>VE</th>\n",
       "      <th>ER</th>\n",
       "    </tr>\n",
       "  </thead>\n",
       "  <tbody>\n",
       "    <tr>\n",
       "      <th>0</th>\n",
       "      <td>14.971946</td>\n",
       "      <td>28.43</td>\n",
       "      <td>89.888477</td>\n",
       "    </tr>\n",
       "    <tr>\n",
       "      <th>1</th>\n",
       "      <td>13.828326</td>\n",
       "      <td>27.75</td>\n",
       "      <td>100.675055</td>\n",
       "    </tr>\n",
       "    <tr>\n",
       "      <th>2</th>\n",
       "      <td>12.933517</td>\n",
       "      <td>26.04</td>\n",
       "      <td>101.337351</td>\n",
       "    </tr>\n",
       "    <tr>\n",
       "      <th>3</th>\n",
       "      <td>11.783431</td>\n",
       "      <td>23.95</td>\n",
       "      <td>103.251490</td>\n",
       "    </tr>\n",
       "    <tr>\n",
       "      <th>4</th>\n",
       "      <td>10.508905</td>\n",
       "      <td>21.70</td>\n",
       "      <td>106.491542</td>\n",
       "    </tr>\n",
       "  </tbody>\n",
       "</table>\n",
       "</div>"
      ],
      "text/plain": [
       "          VT     VE          ER\n",
       "0  14.971946  28.43   89.888477\n",
       "1  13.828326  27.75  100.675055\n",
       "2  12.933517  26.04  101.337351\n",
       "3  11.783431  23.95  103.251490\n",
       "4  10.508905  21.70  106.491542"
      ]
     },
     "execution_count": 48,
     "metadata": {},
     "output_type": "execute_result"
    }
   ],
   "source": [
    "#Calculando as velocidades teóricas e comparando\n",
    "F = []\n",
    "for i in df.d_col:\n",
    "    F.append(iterador(i, False)[4])\n",
    "pd.DataFrame({'VT':F, 'VE':df.vel, 'ER':abs(df.vel-F)/F*100})"
   ]
  }
 ],
 "metadata": {
  "kernelspec": {
   "display_name": "Python 3.8.8 ('base')",
   "language": "python",
   "name": "python3"
  },
  "language_info": {
   "codemirror_mode": {
    "name": "ipython",
    "version": 3
   },
   "file_extension": ".py",
   "mimetype": "text/x-python",
   "name": "python",
   "nbconvert_exporter": "python",
   "pygments_lexer": "ipython3",
   "version": "3.8.8"
  },
  "orig_nbformat": 4,
  "vscode": {
   "interpreter": {
    "hash": "e38bdacfe1d6e2b7e20a64d2eef782d7715e4314dc541be72f500d3c69b94a4f"
   }
  }
 },
 "nbformat": 4,
 "nbformat_minor": 2
}
