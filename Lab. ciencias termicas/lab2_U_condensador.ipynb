{
 "cells": [
  {
   "cell_type": "code",
   "execution_count": 4,
   "metadata": {},
   "outputs": [],
   "source": [
    "import numpy as np\n",
    "import scipy \n",
    "import matplotlib.pyplot as plt\n",
    "import seaborn as sn\n",
    "import pandas as pd\n",
    "import ZebraLib as zb\n",
    "import pyromat as pm\n",
    "import CoolProp.CoolProp as CP"
   ]
  },
  {
   "cell_type": "code",
   "execution_count": 5,
   "metadata": {},
   "outputs": [],
   "source": [
    "def K(C):\n",
    "    return C+273.15\n",
    "\n",
    "def MPa(psi):\n",
    "    return psi*0.00689476\n",
    "\n",
    "def get_air_properties(temperature):\n",
    "    '''\n",
    "    Temperature in K\n",
    "    '''\n",
    "    fluid = \"Air\"\n",
    "    conductivity = CP.PropsSI(\"CONDUCTIVITY\", \"T\", temperature, \"P\", 101325, fluid)\n",
    "    viscosity = CP.PropsSI(\"VISCOSITY\", \"T\", temperature, \"P\", 101325, fluid)\n",
    "    prandtl = CP.PropsSI(\"PRANDTL\", \"T\", temperature, \"P\", 101325, fluid)\n",
    "    return conductivity, viscosity, prandtl"
   ]
  },
  {
   "attachments": {},
   "cell_type": "markdown",
   "metadata": {},
   "source": [
    "### Cáculando a taxa de transferência de calor"
   ]
  },
  {
   "cell_type": "code",
   "execution_count": 35,
   "metadata": {},
   "outputs": [
    {
     "data": {
      "text/plain": [
       "(array([[ 381969.45520753,  342873.8384858 ],\n",
       "        [7508140.02825408, 6927757.3346796 ],\n",
       "        [1989899.51187593, 1888142.67615795]]),\n",
       " array([[ 269073.62200975,  241461.69405021],\n",
       "        [5293052.94612258, 4881642.93267487],\n",
       "        [1402182.32533279, 1329782.5814438 ]]),\n",
       " array([[8.37505515, 8.19350802],\n",
       "        [6.02628161, 5.95218512],\n",
       "        [7.08091555, 7.05127307]]))"
      ]
     },
     "execution_count": 35,
     "metadata": {},
     "output_type": "execute_result"
    }
   ],
   "source": [
    "a, b = 0.08, 0.1   #elipse\n",
    "r = (a+b)/2\n",
    "Hbaixo, Halto = 0.08, 0.13 #alturas do óleos\n",
    "H = Hbaixo + Halto\n",
    "Lc = [r/2, Halto, Hbaixo]\n",
    "\n",
    "def q_rad(Ts, T_pareds):\n",
    "    #Radiação\n",
    "    sig = 5.67E-8\n",
    "    ep = 0.8\n",
    "    q_rad = ep*sig*(Ts**4 - T_pareds**4)\n",
    "    return q_rad\n",
    "\n",
    "def q_conv(Ts, T_amb, Lc, verbose=False):\n",
    "    #prop ar p/ temp de filme Tf\n",
    "    Tf = (Ts + T_amb)/2\n",
    "    k, v_ar, Pr = get_air_properties(Tf)\n",
    "\n",
    "    def grashof():\n",
    "        g = 9.81\n",
    "        beta = 1/T_amb\n",
    "        return (g*beta*(Ts - T_amb)*Lc**3)/v_ar**2\n",
    "\n",
    "    #Convecção\n",
    "    Ra_L = grashof()*Pr\n",
    "    Nu = 0.59*Ra_L**(1/4)\n",
    "    h = (Nu*k)/Lc\n",
    "    q_conv = h*(Ts - T_amb) #W/m^2K\n",
    "\n",
    "    if verbose:\n",
    "        return grashof(), Ra_L, Nu, h, q_conv\n",
    "    else:\n",
    "        return q_conv\n",
    "\n",
    "A =  np.array(([2*np.pi*r**2, 2*np.pi*r**2],  #considerando topo e base\n",
    "                 [np.pi*r*Halto, np.pi*r*Halto],\n",
    "                 [np.pi*r*Hbaixo, np.pi*r*Hbaixo]))\n",
    "   \n",
    "Tc = K(np.array(([74, 74], \n",
    "                 [64, 66],\n",
    "                 [70, 73])))  \n",
    "\n",
    "Ta = K(np.array(([25, 29], \n",
    "                 [25, 29],\n",
    "                 [25, 29])))  \n",
    "\n",
    "Tp = K(np.array(([23.5, 23.5], \n",
    "                 [23, 31],\n",
    "                 [23.5, 31])))  \n",
    "\n",
    "\n",
    "q_c = np.zeros_like(Ta)\n",
    "q_r = np.zeros_like(Tp)\n",
    "\n",
    "gra, Ra, Nu, h = np.zeros_like(Tp), np.zeros_like(Tp), np.zeros_like(Tp), np.zeros_like(Tp)\n",
    "\n",
    "for i in range(3):\n",
    "    for j in range(2):\n",
    "        func = q_conv(Tc[i, j], Ta[i, j], Lc[i], 1)\n",
    "        q_c[i, j] = func[4]*A[i, j]\n",
    "        gra[i,j], Ra[i,j], h[i,j] = func[0], func[1], func[3]\n",
    "\n",
    "        q_r[i, j] = q_rad(Tc[i, j], Tp[i, j])*A[i, j]\n",
    "\n",
    "gra, Ra, h"
   ]
  },
  {
   "cell_type": "code",
   "execution_count": 37,
   "metadata": {},
   "outputs": [
    {
     "name": "stdout",
     "output_type": "stream",
     "text": [
      "Troca por convecção 70.61W\n",
      "Troca por Radiação 60.04W\n",
      "Troca total 130.65W\n"
     ]
    }
   ],
   "source": [
    "print(f'Troca por convecção {q_c.sum():.2f}W')\n",
    "print(f'Troca por Radiação { q_r.sum() :.2f}W')\n",
    "print(f'Troca total {q_c.sum() + q_r.sum() :.2f}W')"
   ]
  },
  {
   "cell_type": "code",
   "execution_count": 47,
   "metadata": {},
   "outputs": [
    {
     "data": {
      "image/png": "[encoded data removed]",
      "text/plain": [
       "<Figure size 432x288 with 2 Axes>"
      ]
     },
     "metadata": {
      "needs_background": "light"
     },
     "output_type": "display_data"
    }
   ],
   "source": [
    "plt.imshow(h, cmap='hot', interpolation='nearest')\n",
    "plt.colorbar()  # Adicione uma barra de cores para indicar os valores\n",
    "plt.show()"
   ]
  },
  {
   "cell_type": "code",
   "execution_count": 45,
   "metadata": {},
   "outputs": [
    {
     "data": {
      "image/png": "[encoded data removed]",
      "text/plain": [
       "<Figure size 432x288 with 2 Axes>"
      ]
     },
     "metadata": {
      "needs_background": "light"
     },
     "output_type": "display_data"
    }
   ],
   "source": [
    "plt.imshow(gra, cmap='hot', interpolation='nearest')\n",
    "plt.colorbar()  # Adicione uma barra de cores para indicar os valores\n",
    "plt.show()"
   ]
  },
  {
   "cell_type": "code",
   "execution_count": 46,
   "metadata": {},
   "outputs": [
    {
     "data": {
      "image/png": "[encoded data removed]",
      "text/plain": [
       "<Figure size 432x288 with 2 Axes>"
      ]
     },
     "metadata": {
      "needs_background": "light"
     },
     "output_type": "display_data"
    }
   ],
   "source": [
    "plt.imshow(Ra, cmap='hot', interpolation='nearest')\n",
    "plt.colorbar()  # Adicione uma barra de cores para indicar os valores\n",
    "plt.show()"
   ]
  },
  {
   "cell_type": "code",
   "execution_count": 43,
   "metadata": {},
   "outputs": [
    {
     "data": {
      "image/png": "[encoded data removed]",
      "text/plain": [
       "<Figure size 432x288 with 2 Axes>"
      ]
     },
     "metadata": {
      "needs_background": "light"
     },
     "output_type": "display_data"
    }
   ],
   "source": []
  },
  {
   "cell_type": "code",
   "execution_count": null,
   "metadata": {},
   "outputs": [],
   "source": []
  },
  {
   "cell_type": "code",
   "execution_count": null,
   "metadata": {},
   "outputs": [],
   "source": [
    "#crit = (35*H)/grashof(Tm)**(1/4)\n",
    "#Nu = (0.825 + ((0.387*(Ra_L)**(1/6))/(1+((0.492/Pr)**(9/16)))**(8/27)))**2 \n",
    "#Nu = 0.1*Ra_L**(1/3)\n",
    "\n",
    "#ELIPSE\n",
    "#A_elip = np.pi*b*a\n",
    "#P_elip = 2*np.pi*np.sqrt((b**2+a**2)/2)\n",
    "\n",
    "'''#CILINDRO\n",
    "r = (b+a)/2\n",
    "A_base = np.pi*r**2    #área base\n",
    "P_base = 2*np.pi*r     #perimetro\n",
    "Lc = (H+r)             #comprimento caract\n",
    "A_total =  P_base*(H) + 2*A_base \n",
    "\n",
    "Al_baixo = P_base*H1\n",
    "Al_cima  = P_base*H1 + A_base\n",
    "\n",
    "#dados do ar em volta do compressor\n",
    "T_amb1, T_amb2 = 57, 63\n",
    "T_ambt = 30\n",
    "\n",
    "#Dados do compressor\n",
    "T1, T2 = 62, 68\n",
    "Tt, Tb = 70, None\n",
    "T_amb = K(28)          #média do ambiente \n",
    "Tm = K((T1+T2+Tt)/3)   #média sup do compressor\n",
    "Tf = (Tm + T_amb)/2 #temp de filme'''"
   ]
  },
  {
   "cell_type": "code",
   "execution_count": null,
   "metadata": {},
   "outputs": [],
   "source": []
  },
  {
   "cell_type": "code",
   "execution_count": null,
   "metadata": {},
   "outputs": [
    {
     "ename": "NameError",
     "evalue": "name 'Tf' is not defined",
     "output_type": "error",
     "traceback": [
      "\u001b[1;31m---------------------------------------------------------------------------\u001b[0m",
      "\u001b[1;31mNameError\u001b[0m                                 Traceback (most recent call last)",
      "\u001b[1;32m~\\AppData\\Local\\Temp/ipykernel_256/551873617.py\u001b[0m in \u001b[0;36m<module>\u001b[1;34m\u001b[0m\n\u001b[0;32m      1\u001b[0m \u001b[1;31m#prop ar a 47°C\u001b[0m\u001b[1;33m\u001b[0m\u001b[1;33m\u001b[0m\u001b[1;33m\u001b[0m\u001b[0m\n\u001b[1;32m----> 2\u001b[1;33m \u001b[0mk\u001b[0m\u001b[1;33m,\u001b[0m \u001b[0mv_ar\u001b[0m\u001b[1;33m,\u001b[0m \u001b[0mPr\u001b[0m \u001b[1;33m=\u001b[0m \u001b[0mget_air_properties\u001b[0m\u001b[1;33m(\u001b[0m\u001b[0mTf\u001b[0m\u001b[1;33m)\u001b[0m\u001b[1;33m\u001b[0m\u001b[1;33m\u001b[0m\u001b[0m\n\u001b[0m\u001b[0;32m      3\u001b[0m \u001b[1;33m\u001b[0m\u001b[0m\n\u001b[0;32m      4\u001b[0m \u001b[0mRa_L\u001b[0m \u001b[1;33m=\u001b[0m \u001b[0mgrashof\u001b[0m\u001b[1;33m(\u001b[0m\u001b[0mTm\u001b[0m\u001b[1;33m)\u001b[0m\u001b[1;33m*\u001b[0m\u001b[0mPr\u001b[0m\u001b[1;33m\u001b[0m\u001b[1;33m\u001b[0m\u001b[0m\n\u001b[0;32m      5\u001b[0m \u001b[1;33m\u001b[0m\u001b[0m\n",
      "\u001b[1;31mNameError\u001b[0m: name 'Tf' is not defined"
     ]
    }
   ],
   "source": [
    "#prop ar a 47°C\n",
    "k, v_ar, Pr = get_air_properties(Tf)\n",
    "\n",
    "Ra_L = grashof(Tm)*Pr\n",
    "\n",
    "print(f'Número de grashof é {grashof(Tm):.2e} --- Eq 9-15')\n",
    "print(f'Número de Rayleigh é {Ra_L:.2e} --- usar correlação 9-19')\n",
    "print(f'Critério para aprox pra placa {2*r:.2f}>={crit:.2f} tab 9-1 --> pode aprox pra placa vertical')\n",
    "\n",
    "Nu = 0.59*Ra_L**(1/4)\n",
    "h = (Nu*k)/Lc\n",
    "print(f'Logo o h é {h:.2f} W/m^2k')"
   ]
  },
  {
   "cell_type": "code",
   "execution_count": null,
   "metadata": {},
   "outputs": [
    {
     "name": "stdout",
     "output_type": "stream",
     "text": [
      "O calor por convecção soma 23.94W\n",
      "O calor por radiação é 21.84W\n",
      "O calor total trocado é 45.79W\n",
      "Contribuição convecção 52.29% e radiação 47.71%\n"
     ]
    }
   ],
   "source": [
    "#conveccão\n",
    "Q_conv = A_total*h*(Tm - T_amb)\n",
    "\n",
    "#radiação\n",
    "sig = 5.67E-8\n",
    "alpha, G, ep= 0.8, 0, 0.6\n",
    "Q_rad = (alpha*G + ep*sig*(Tm**4 - T_amb**4))*A_total\n",
    "\n",
    "Q_total = Q_conv+Q_rad\n",
    "print(f'O calor por convecção soma {Q_conv:.2f}W')\n",
    "print(f'O calor por radiação é {Q_rad:.2f}W')\n",
    "print(f'O calor total trocado é {Q_total:.2f}W')\n",
    "print(f'Contribuição convecção {(Q_conv/Q_total)*100:.2f}% e radiação {(Q_rad/Q_total)*100:.2f}%')"
   ]
  },
  {
   "cell_type": "code",
   "execution_count": null,
   "metadata": {},
   "outputs": [],
   "source": []
  }
 ],
 "metadata": {
  "kernelspec": {
   "display_name": "base",
   "language": "python",
   "name": "python3"
  },
  "language_info": {
   "codemirror_mode": {
    "name": "ipython",
    "version": 3
   },
   "file_extension": ".py",
   "mimetype": "text/x-python",
   "name": "python",
   "nbconvert_exporter": "python",
   "pygments_lexer": "ipython3",
   "version": "3.8.8"
  },
  "orig_nbformat": 4
 },
 "nbformat": 4,
 "nbformat_minor": 2
}
