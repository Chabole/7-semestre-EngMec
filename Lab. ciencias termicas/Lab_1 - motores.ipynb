{
 "cells": [
  {
   "cell_type": "code",
   "execution_count": 166,
   "metadata": {},
   "outputs": [],
   "source": [
    "import numpy as np\n",
    "import scipy \n",
    "import matplotlib.pyplot as plt\n",
    "import seaborn as sn\n",
    "import pandas as pd\n",
    "import ZebraLib as zb"
   ]
  },
  {
   "cell_type": "code",
   "execution_count": 167,
   "metadata": {},
   "outputs": [],
   "source": [
    "df1 = pd.read_excel('D:/UNESP/EngMec-UNESP/Lab. ciencias termicas/Dados.xlsx')\n",
    "df2 = pd.read_excel('D:/UNESP/EngMec-UNESP/Lab. ciencias termicas/Dados.xlsx', sheet_name='dados2')\n",
    "\n",
    "#df1.head()"
   ]
  },
  {
   "cell_type": "code",
   "execution_count": 168,
   "metadata": {},
   "outputs": [],
   "source": [
    "#Dados\n",
    "#área de passagem Ag mm^2\n",
    "Ag = 903.6 * (10**-6) #tabela\n",
    "Patm = 100 * 10**3     #zoi\n",
    "rho0 = 1#zoi"
   ]
  },
  {
   "cell_type": "code",
   "execution_count": 169,
   "metadata": {},
   "outputs": [],
   "source": [
    "def inH20_2_Pa(val):\n",
    "    return val*249.08\n",
    "\n",
    "def cfm_2_m3s(val):\n",
    "    return val*0.000471947\n",
    "\n",
    "def Cd(cfm, inH20):\n",
    "    delta_P = inH20_2_Pa(inH20)\n",
    "    m_dot = cfm_2_m3s(cfm)*rho0\n",
    "    Po = Patm + delta_P\n",
    "    Pv = Patm - delta_P\n",
    "    gama, Ra, To = 1.4, 287.05, 290 #TCC do tio lá e to pq eu quis\n",
    "    A = np.sqrt(gama*Ra*To)*Po*Ag*(1/(Ra*To))\n",
    "    sub = ((Pv/Po)**(2/gama)) - ((Pv/Po)**((gama+1)/gama))\n",
    "    B = np.sqrt((2/(gama-1))*sub)\n",
    "    return m_dot/(A*B), m_dot\n",
    "\n"
   ]
  },
  {
   "cell_type": "code",
   "execution_count": 174,
   "metadata": {},
   "outputs": [
    {
     "data": {
      "text/plain": [
       "(0.0347620787048728, 0.00471947)"
      ]
     },
     "execution_count": 174,
     "metadata": {},
     "output_type": "execute_result"
    }
   ],
   "source": [
    "Cd(10, 20)"
   ]
  },
  {
   "cell_type": "code",
   "execution_count": null,
   "metadata": {},
   "outputs": [],
   "source": []
  }
 ],
 "metadata": {
  "kernelspec": {
   "display_name": "base",
   "language": "python",
   "name": "python3"
  },
  "language_info": {
   "codemirror_mode": {
    "name": "ipython",
    "version": 3
   },
   "file_extension": ".py",
   "mimetype": "text/x-python",
   "name": "python",
   "nbconvert_exporter": "python",
   "pygments_lexer": "ipython3",
   "version": "3.8.8"
  },
  "orig_nbformat": 4
 },
 "nbformat": 4,
 "nbformat_minor": 2
}
