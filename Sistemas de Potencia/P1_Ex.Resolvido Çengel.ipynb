{
 "cells": [
  {
   "cell_type": "code",
   "execution_count": 117,
   "metadata": {},
   "outputs": [],
   "source": [
    "from LK_proptermo import *"
   ]
  },
  {
   "cell_type": "code",
   "execution_count": 118,
   "metadata": {},
   "outputs": [],
   "source": [
    "P1,x1=0.8,0. \n",
    "P2=0.32 #Mpa\n",
    "x3=0.\n",
    "T3=275\n",
    "P5,x5=0.14,1."
   ]
  },
  {
   "cell_type": "code",
   "execution_count": 119,
   "metadata": {},
   "outputs": [
    {
     "name": "stdout",
     "output_type": "stream",
     "text": [
      "Path absoluto da tabela:  C:\\Users\\Win10\\tabelaA1A3.db\n"
     ]
    }
   ],
   "source": [
    "ref=Substance('R134a')"
   ]
  },
  {
   "cell_type": "code",
   "execution_count": 120,
   "metadata": {},
   "outputs": [],
   "source": [
    "bref = Base(ref,Pb = 2, Tb=278.15)"
   ]
  },
  {
   "cell_type": "code",
   "execution_count": 121,
   "metadata": {},
   "outputs": [
    {
     "data": {
      "text/plain": [
       "{'Tr': 0.8144448684280721,\n",
       " 'Pr': 0.19723865877712032,\n",
       " 'hl': 6.135541953792945,\n",
       " 'hv': 0.5104615567217722,\n",
       " 'h': 6.135541953792945,\n",
       " 'u': 5.343340252388166,\n",
       " 'ul': 5.343340252388166,\n",
       " 'uv': 0.3711763221821749,\n",
       " 'sl': 7.376847685712616,\n",
       " 'sv': 0.4702041348747593,\n",
       " 's': 7.376847685712616,\n",
       " 'x': 0.0,\n",
       " 'Zl': 0.02731083205941722,\n",
       " 'Zv': 0.8289813835914686,\n",
       " 'Z': 0.02731083205941722,\n",
       " 'fase': 'saturated mixture'}"
      ]
     },
     "execution_count": 121,
     "metadata": {},
     "output_type": "execute_result"
    }
   ],
   "source": [
    "e1=State(ref,bref,P=P1,x=x1) \n",
    "e1.e"
   ]
  },
  {
   "cell_type": "code",
   "execution_count": 122,
   "metadata": {},
   "outputs": [
    {
     "data": {
      "text/plain": [
       "36.378617572227725"
      ]
     },
     "execution_count": 122,
     "metadata": {},
     "output_type": "execute_result"
    }
   ],
   "source": [
    "e1.h"
   ]
  },
  {
   "cell_type": "code",
   "execution_count": 123,
   "metadata": {},
   "outputs": [
    {
     "data": {
      "text/plain": [
       "0.2042966565183217"
      ]
     },
     "execution_count": 123,
     "metadata": {},
     "output_type": "execute_result"
    }
   ],
   "source": [
    "e2=auxiliar(ref,bref,'h',e1.h,P=P2)\n",
    "e2.x"
   ]
  },
  {
   "cell_type": "code",
   "execution_count": 124,
   "metadata": {},
   "outputs": [
    {
     "data": {
      "text/plain": [
       "{'Tr': 0.6795986791130793,\n",
       " 'Pr': 0.03451676528599606,\n",
       " 'hl': 7.047503627234185,\n",
       " 'hv': 0.1284331506725715,\n",
       " 'h': 0.12843315067257155,\n",
       " 'u': 0.09341895804552193,\n",
       " 'ul': 6.371303541927145,\n",
       " 'uv': 0.09341895804552187,\n",
       " 'sl': 10.320032182139022,\n",
       " 'sv': 0.13891987388538768,\n",
       " 's': 0.1389198738853885,\n",
       " 'x': 1.0,\n",
       " 'Zl': 0.005000883477988059,\n",
       " 'Zv': 0.9484781331936292,\n",
       " 'Z': 0.9484781331936292,\n",
       " 'fase': 'saturated mixture'}"
      ]
     },
     "execution_count": 124,
     "metadata": {},
     "output_type": "execute_result"
    }
   ],
   "source": [
    "e5=State(ref,bref,P=P5,x=x5) \n",
    "e5.e"
   ]
  },
  {
   "cell_type": "code",
   "execution_count": 125,
   "metadata": {},
   "outputs": [
    {
     "data": {
      "text/plain": [
       "179.2420176703182"
      ]
     },
     "execution_count": 125,
     "metadata": {},
     "output_type": "execute_result"
    }
   ],
   "source": [
    "e5.h"
   ]
  },
  {
   "cell_type": "code",
   "execution_count": 126,
   "metadata": {},
   "outputs": [
    {
     "data": {
      "text/plain": [
       "275.7032266175003"
      ]
     },
     "execution_count": 126,
     "metadata": {},
     "output_type": "execute_result"
    }
   ],
   "source": [
    "e2.T"
   ]
  },
  {
   "cell_type": "code",
   "execution_count": 127,
   "metadata": {},
   "outputs": [
    {
     "data": {
      "text/plain": [
       "{'Tr': 0.7367607135498793,\n",
       " 'Pr': 0.07889546309288499,\n",
       " 'hl': 6.667210114558524,\n",
       " 'hv': 0.24521028652310584,\n",
       " 'h': 6.667210114558524,\n",
       " 'u': 5.938631422728373,\n",
       " 'ul': 5.938631422728373,\n",
       " 'uv': 0.17794524949891255,\n",
       " 'sl': 8.962404312699196,\n",
       " 'sv': 0.24587028267366792,\n",
       " 's': 8.962404312699196,\n",
       " 'x': 0.0,\n",
       " 'Zl': 0.011105399038318623,\n",
       " 'Zv': 0.9087016506348511,\n",
       " 'Z': 0.011105399038318623,\n",
       " 'fase': 'saturated mixture'}"
      ]
     },
     "execution_count": 127,
     "metadata": {},
     "output_type": "execute_result"
    }
   ],
   "source": [
    "e3=State(ref,bref,T=e2.T,x=x3)\n",
    "e3.e"
   ]
  },
  {
   "cell_type": "code",
   "execution_count": 128,
   "metadata": {},
   "outputs": [
    {
     "data": {
      "text/plain": [
       "-3.6298073732310296"
      ]
     },
     "execution_count": 128,
     "metadata": {},
     "output_type": "execute_result"
    }
   ],
   "source": [
    "h4=e3.h\n",
    "h4"
   ]
  },
  {
   "cell_type": "code",
   "execution_count": 129,
   "metadata": {},
   "outputs": [
    {
     "data": {
      "text/plain": [
       "145.51172261574862"
      ]
     },
     "execution_count": 129,
     "metadata": {},
     "output_type": "execute_result"
    }
   ],
   "source": [
    "ql=(1-e2.x)*(e5.h - h4)\n",
    "ql"
   ]
  },
  {
   "cell_type": "code",
   "execution_count": 130,
   "metadata": {},
   "outputs": [
    {
     "name": "stdout",
     "output_type": "stream",
     "text": [
      "280.02875464896795 3 1.1249112752409474e-11\n"
     ]
    },
    {
     "data": {
      "text/plain": [
       "{'Tr': 0.7483198061221452,\n",
       " 'Pr': 0.07889546351084813,\n",
       " 'h': 0.23317930755239483,\n",
       " 'u': 0.1690552229204939,\n",
       " 's': 0.22966565857951196,\n",
       " 'Z': 0.9143092510617924,\n",
       " 'cf': -0.08193815792342038,\n",
       " 'fase': 'superheated vapor'}"
      ]
     },
     "execution_count": 130,
     "metadata": {},
     "output_type": "execute_result"
    }
   ],
   "source": [
    "e6=auxiliar(ref,bref,'s',e5.s,P=P2)\n",
    "e6.e"
   ]
  },
  {
   "cell_type": "code",
   "execution_count": 131,
   "metadata": {},
   "outputs": [
    {
     "data": {
      "text/plain": [
       "13.347268914631503"
      ]
     },
     "execution_count": 131,
     "metadata": {},
     "output_type": "execute_result"
    }
   ],
   "source": [
    "Wcb=(1-e2.x)*(e6.h - e5.h)\n",
    "Wcb"
   ]
  },
  {
   "cell_type": "code",
   "execution_count": 132,
   "metadata": {},
   "outputs": [
    {
     "data": {
      "text/plain": [
       "{'Tr': 0.8144448684280721,\n",
       " 'Pr': 0.19723865877712032,\n",
       " 'hl': 6.135541953792945,\n",
       " 'hv': 0.5104615567217722,\n",
       " 'h': 0.5104615567217721,\n",
       " 'u': 0.3711763221821748,\n",
       " 'ul': 5.343340252388166,\n",
       " 'uv': 0.3711763221821749,\n",
       " 'sl': 7.376847685712616,\n",
       " 'sv': 0.4702041348747593,\n",
       " 's': 0.4702041348747592,\n",
       " 'x': 1,\n",
       " 'Zl': 0.02731083205941722,\n",
       " 'Zv': 0.8289813835914686,\n",
       " 'Z': 0.8289813835914686,\n",
       " 'fase': 'saturated mixture'}"
      ]
     },
     "execution_count": 132,
     "metadata": {},
     "output_type": "execute_result"
    }
   ],
   "source": [
    "e9=State(ref,bref,P=P1,x=1)\n",
    "e9.e"
   ]
  },
  {
   "cell_type": "code",
   "execution_count": 133,
   "metadata": {},
   "outputs": [
    {
     "data": {
      "text/plain": [
       "0.6909965451835605"
      ]
     },
     "execution_count": 133,
     "metadata": {},
     "output_type": "execute_result"
    }
   ],
   "source": [
    "e9.s"
   ]
  },
  {
   "cell_type": "code",
   "execution_count": null,
   "metadata": {},
   "outputs": [],
   "source": []
  },
  {
   "cell_type": "code",
   "execution_count": null,
   "metadata": {},
   "outputs": [],
   "source": []
  },
  {
   "cell_type": "code",
   "execution_count": 134,
   "metadata": {},
   "outputs": [
    {
     "data": {
      "text/plain": [
       "{'Tr': 0.7367607135498793,\n",
       " 'Pr': 0.07889546309288499,\n",
       " 'hl': 6.667210114558524,\n",
       " 'hv': 0.24521028652310584,\n",
       " 'h': 0.3441056502538311,\n",
       " 'u': 0.266656736527147,\n",
       " 'ul': 5.938631422728373,\n",
       " 'uv': 0.17794524949891255,\n",
       " 'sl': 8.962404312699196,\n",
       " 'sv': 0.24587028267366792,\n",
       " 's': 0.3801002463070233,\n",
       " 'x': 0.9846005346653866,\n",
       " 'Zl': 0.011105399038318623,\n",
       " 'Zv': 0.9087016506348511,\n",
       " 'Z': 0.8948791482739114,\n",
       " 'fase': 'saturated mixture'}"
      ]
     },
     "execution_count": 134,
     "metadata": {},
     "output_type": "execute_result"
    }
   ],
   "source": [
    "e8=auxiliar(ref,bref,'s',e9.s,T=e2.T)\n",
    "e8.e"
   ]
  },
  {
   "cell_type": "code",
   "execution_count": 135,
   "metadata": {},
   "outputs": [
    {
     "data": {
      "text/plain": [
       "189.18938640344606"
      ]
     },
     "execution_count": 135,
     "metadata": {},
     "output_type": "execute_result"
    }
   ],
   "source": [
    "e8.h"
   ]
  },
  {
   "cell_type": "code",
   "execution_count": null,
   "metadata": {},
   "outputs": [],
   "source": []
  },
  {
   "cell_type": "code",
   "execution_count": 136,
   "metadata": {},
   "outputs": [
    {
     "data": {
      "text/plain": [
       "189.18938640344606"
      ]
     },
     "execution_count": 136,
     "metadata": {},
     "output_type": "execute_result"
    }
   ],
   "source": [
    "e8.h"
   ]
  },
  {
   "cell_type": "code",
   "execution_count": 137,
   "metadata": {},
   "outputs": [
    {
     "data": {
      "text/plain": [
       "18.722608992157944"
      ]
     },
     "execution_count": 137,
     "metadata": {},
     "output_type": "execute_result"
    }
   ],
   "source": [
    "Wap=(e9.h-e8.h)\n",
    "Wap"
   ]
  },
  {
   "cell_type": "code",
   "execution_count": 138,
   "metadata": {},
   "outputs": [
    {
     "data": {
      "text/plain": [
       "32.06987790678944"
      ]
     },
     "execution_count": 138,
     "metadata": {},
     "output_type": "execute_result"
    }
   ],
   "source": [
    "Wtot=Wap+Wcb\n",
    "Wtot"
   ]
  },
  {
   "cell_type": "code",
   "execution_count": 139,
   "metadata": {},
   "outputs": [
    {
     "data": {
      "text/plain": [
       "4.537333227107256"
      ]
     },
     "execution_count": 139,
     "metadata": {},
     "output_type": "execute_result"
    }
   ],
   "source": [
    "COP=ql/Wtot\n",
    "COP"
   ]
  },
  {
   "cell_type": "code",
   "execution_count": 142,
   "metadata": {},
   "outputs": [
    {
     "name": "stdout",
     "output_type": "stream",
     "text": [
      "A fração de fluido que evapora é.: 0.2042966565183217\n",
      "\n",
      "A quantidade de calor retirada da fonte fria é.:145.51172261574862\n",
      "\n",
      "O trabalho do compressor é de 32.06987790678944\n",
      "\n",
      "O coef. de performance do sistema é.: 4.537333227107256\n"
     ]
    }
   ],
   "source": [
    "print(f'A fração de fluido que evapora é.: {e2.x}\\n')\n",
    "print(f'A quantidade de calor retirada da fonte fria é.:{ql}\\n')\n",
    "print(f'O trabalho do compressor é de {Wtot}\\n')\n",
    "print(f'O coef. de performance do sistema é.: {COP}')"
   ]
  },
  {
   "cell_type": "code",
   "execution_count": null,
   "metadata": {},
   "outputs": [],
   "source": []
  }
 ],
 "metadata": {
  "kernelspec": {
   "display_name": "Python 3",
   "language": "python",
   "name": "python3"
  },
  "language_info": {
   "codemirror_mode": {
    "name": "ipython",
    "version": 3
   },
   "file_extension": ".py",
   "mimetype": "text/x-python",
   "name": "python",
   "nbconvert_exporter": "python",
   "pygments_lexer": "ipython3",
   "version": "3.8.5"
  }
 },
 "nbformat": 4,
 "nbformat_minor": 4
}
