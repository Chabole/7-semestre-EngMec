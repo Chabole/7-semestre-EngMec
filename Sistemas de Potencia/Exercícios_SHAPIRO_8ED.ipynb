{
 "cells": [
  {
   "cell_type": "code",
   "execution_count": 1,
   "metadata": {},
   "outputs": [],
   "source": [
    "from LK_proptermo import *"
   ]
  },
  {
   "cell_type": "code",
   "execution_count": 2,
   "metadata": {},
   "outputs": [],
   "source": [
    "#Dados\n",
    "T1, P1 = 38+273, 8\n",
    "P2 = 15+273\n",
    "T3, P3 = 35+273, 0.008\n",
    "W = 100e6\n",
    "nt, np = 0.85, 0.85"
   ]
  },
  {
   "cell_type": "code",
   "execution_count": 13,
   "metadata": {},
   "outputs": [
    {
     "name": "stdout",
     "output_type": "stream",
     "text": [
      "Path absoluto da tabela:  C:\\Users\\arthu\\tabelaA1A3.db\n"
     ]
    }
   ],
   "source": [
    "ref=Substance('water')\n",
    "bref = Base(ref, Pb = 0.1, Tb= 297)"
   ]
  },
  {
   "cell_type": "code",
   "execution_count": 14,
   "metadata": {},
   "outputs": [
    {
     "name": "stdout",
     "output_type": "stream",
     "text": [
      "320.99719974804196 3 -4.3729464493935666e-12\n"
     ]
    }
   ],
   "source": [
    "#Estado 1\n",
    "e1 = State(ref,bref, P=P1, T=T1) \n",
    "\n",
    "#Estado 2 usar n da turbina\n",
    "e2isent = auxiliar(ref, bref, 's', e1.s, P=P2)\n",
    "h2 = e1.h + nt*(e1.h - e2isent.h)\n",
    "\n",
    "#h2 = e1.h + (e1.v*(P2 - P1))/np\n",
    "#h2 = e1.h + np*(e1.h - e2isent.h)\n",
    "\n",
    "#Estado 3\n",
    "e3 = State(ref,bref, P=P3, T=T3) "
   ]
  },
  {
   "cell_type": "code",
   "execution_count": 16,
   "metadata": {},
   "outputs": [
    {
     "data": {
      "text/plain": [
       "254.89388807719394"
      ]
     },
     "execution_count": 16,
     "metadata": {},
     "output_type": "execute_result"
    }
   ],
   "source": [
    "e1.h-h2"
   ]
  },
  {
   "cell_type": "code",
   "execution_count": 31,
   "metadata": {},
   "outputs": [],
   "source": [
    "def maior(num):\n",
    "\n",
    "    x = len(num)\n",
    "    z = 0\n",
    "    a = -1\n",
    "    y = a+1\n",
    "\n",
    "    for i in range(0, x-1):\n",
    "        print(i)\n",
    "        a = a + 1\n",
    "        if num[a] >+ num[y]:\n",
    "            z = num[a]\n",
    "    print(f'Valor {z}')"
   ]
  },
  {
   "cell_type": "code",
   "execution_count": 32,
   "metadata": {},
   "outputs": [
    {
     "name": "stdout",
     "output_type": "stream",
     "text": [
      "0\n",
      "1\n",
      "2\n",
      "Valor 2\n"
     ]
    }
   ],
   "source": [
    "maior([1, 2, 2, 3])"
   ]
  },
  {
   "cell_type": "code",
   "execution_count": 38,
   "metadata": {},
   "outputs": [
    {
     "data": {
      "text/plain": [
       "45"
      ]
     },
     "execution_count": 38,
     "metadata": {},
     "output_type": "execute_result"
    }
   ],
   "source": [
    "def sort(lista):\n",
    "    maior = 0\n",
    "    for i in range(len(lista)):\n",
    "        if maior <= lista[i]:\n",
    "            maior = lista[i]\n",
    "    return maior\n",
    "\n",
    "sort([3, 45, 9, 3, 1, 2, 0]) #DA CERTO"
   ]
  },
  {
   "cell_type": "code",
   "execution_count": 39,
   "metadata": {},
   "outputs": [
    {
     "ename": "TypeError",
     "evalue": "sort() takes 1 positional argument but 7 were given",
     "output_type": "error",
     "traceback": [
      "\u001b[1;31m---------------------------------------------------------------------------\u001b[0m",
      "\u001b[1;31mTypeError\u001b[0m                                 Traceback (most recent call last)",
      "\u001b[1;32m~\\AppData\\Local\\Temp/ipykernel_21960/581404158.py\u001b[0m in \u001b[0;36m<module>\u001b[1;34m\u001b[0m\n\u001b[1;32m----> 1\u001b[1;33m \u001b[0msort\u001b[0m\u001b[1;33m(\u001b[0m\u001b[1;36m3\u001b[0m\u001b[1;33m,\u001b[0m \u001b[1;36m45\u001b[0m\u001b[1;33m,\u001b[0m \u001b[1;36m9\u001b[0m\u001b[1;33m,\u001b[0m \u001b[1;36m3\u001b[0m\u001b[1;33m,\u001b[0m \u001b[1;36m1\u001b[0m\u001b[1;33m,\u001b[0m \u001b[1;36m2\u001b[0m\u001b[1;33m,\u001b[0m \u001b[1;36m0\u001b[0m\u001b[1;33m)\u001b[0m\u001b[1;33m\u001b[0m\u001b[1;33m\u001b[0m\u001b[0m\n\u001b[0m",
      "\u001b[1;31mTypeError\u001b[0m: sort() takes 1 positional argument but 7 were given"
     ]
    }
   ],
   "source": [
    "sort(3, 45, 9, 3, 1, 2, 0) #DA ERRADO!"
   ]
  },
  {
   "cell_type": "code",
   "execution_count": 36,
   "metadata": {},
   "outputs": [
    {
     "data": {
      "text/plain": [
       "45"
      ]
     },
     "execution_count": 36,
     "metadata": {},
     "output_type": "execute_result"
    }
   ],
   "source": []
  },
  {
   "cell_type": "code",
   "execution_count": null,
   "metadata": {},
   "outputs": [],
   "source": []
  }
 ],
 "metadata": {
  "interpreter": {
   "hash": "894588d70223105318f3a6143f469ff55b12e3d45628534b2f37efc006a33ec3"
  },
  "kernelspec": {
   "display_name": "Python 3.8.8 64-bit ('base': conda)",
   "language": "python",
   "name": "python3"
  },
  "language_info": {
   "codemirror_mode": {
    "name": "ipython",
    "version": 3
   },
   "file_extension": ".py",
   "mimetype": "text/x-python",
   "name": "python",
   "nbconvert_exporter": "python",
   "pygments_lexer": "ipython3",
   "version": "3.8.8"
  },
  "orig_nbformat": 4
 },
 "nbformat": 4,
 "nbformat_minor": 2
}
