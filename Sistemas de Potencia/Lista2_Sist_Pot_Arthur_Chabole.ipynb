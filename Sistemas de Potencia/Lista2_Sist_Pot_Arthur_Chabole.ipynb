{
 "cells": [
  {
   "cell_type": "code",
   "execution_count": 10,
   "metadata": {},
   "outputs": [],
   "source": [
    "from LK_proptermo import *"
   ]
  },
  {
   "cell_type": "code",
   "execution_count": 11,
   "metadata": {},
   "outputs": [],
   "source": [
    "#Dados\n",
    "T1, P1 = 38+273, 9e-3\n",
    "P2 = 35+273\n",
    "T3, P3 = 35+273, 15.9\n",
    "T4, P4 = 625+273, 15.2\n",
    "T5, P5 = 600+273, 15\n",
    "np, nt = 0.85, 0.87\n",
    "P6 = 10e-3\n",
    "m_dot = 15 #kg/s"
   ]
  },
  {
   "cell_type": "code",
   "execution_count": 12,
   "metadata": {},
   "outputs": [
    {
     "name": "stdout",
     "output_type": "stream",
     "text": [
      "Path absoluto da tabela:  C:\\Users\\arthu\\tabelaA1A3.db\n"
     ]
    }
   ],
   "source": [
    "ref=Substance('water')\n",
    "bref = Base(ref, Pb = 0.01, Tb= 300)"
   ]
  },
  {
   "cell_type": "code",
   "execution_count": 24,
   "metadata": {},
   "outputs": [
    {
     "name": "stdout",
     "output_type": "stream",
     "text": [
      "320.9971997476347 3 5.014877402231832e-13\n"
     ]
    }
   ],
   "source": [
    "#Estado 1\n",
    "e1 = State(ref,bref, P=P1, T=T1) \n",
    "\n",
    "#Estado 2 usar n da bomba\n",
    "e2isent = auxiliar(ref, bref, 's', e1.s, P=P2)\n",
    "h2 = e1.h + (e1.v*(P2 - P1))/np\n",
    "\n",
    "#h2 = e1.h + np*(e1.h - e2isent.h)\n",
    "\n",
    "#Estado 3\n",
    "e3 = State(ref,bref, P=P3, T=T3) \n",
    "\n",
    "#Estado 4\n",
    "e4 = State(ref,bref, P=P4, T=T4) \n",
    "\n",
    "#Estado 5\n",
    "e5 = State(ref, bref, P=P5, T=T5)\n",
    "\n",
    "#Estado 6 usar n da turbina\n",
    "e6isent = auxiliar(ref, bref, 's', e5.s, P=P6)\n",
    "h6 = e5.h + nt*(e5.h - e6isent.h)"
   ]
  },
  {
   "cell_type": "code",
   "execution_count": 25,
   "metadata": {},
   "outputs": [
    {
     "data": {
      "text/plain": [
       "1276.7361805423336"
      ]
     },
     "execution_count": 25,
     "metadata": {},
     "output_type": "execute_result"
    }
   ],
   "source": [
    "#Turbina\n",
    "nt*(e5.h - e6isent.h)"
   ]
  },
  {
   "cell_type": "code",
   "execution_count": 26,
   "metadata": {},
   "outputs": [
    {
     "data": {
      "text/plain": [
       "-1276.7361805423338"
      ]
     },
     "execution_count": 26,
     "metadata": {},
     "output_type": "execute_result"
    }
   ],
   "source": [
    "(e5.h - h6)"
   ]
  },
  {
   "cell_type": "code",
   "execution_count": 27,
   "metadata": {},
   "outputs": [
    {
     "data": {
      "text/plain": [
       "-0.30937692206958367"
      ]
     },
     "execution_count": 27,
     "metadata": {},
     "output_type": "execute_result"
    }
   ],
   "source": [
    "#bomba\n",
    "np*(e1.h - h2)"
   ]
  },
  {
   "cell_type": "code",
   "execution_count": 14,
   "metadata": {},
   "outputs": [
    {
     "data": {
      "text/plain": [
       "-1027.7019220774382"
      ]
     },
     "execution_count": 14,
     "metadata": {},
     "output_type": "execute_result"
    }
   ],
   "source": [
    "#Wcicle\n",
    "w = (e5.h - h6) - (h2 - e1.h)\n",
    "w"
   ]
  },
  {
   "cell_type": "code",
   "execution_count": null,
   "metadata": {},
   "outputs": [],
   "source": []
  }
 ],
 "metadata": {
  "interpreter": {
   "hash": "894588d70223105318f3a6143f469ff55b12e3d45628534b2f37efc006a33ec3"
  },
  "kernelspec": {
   "display_name": "Python 3.8.8 64-bit ('base': conda)",
   "language": "python",
   "name": "python3"
  },
  "language_info": {
   "codemirror_mode": {
    "name": "ipython",
    "version": 3
   },
   "file_extension": ".py",
   "mimetype": "text/x-python",
   "name": "python",
   "nbconvert_exporter": "python",
   "pygments_lexer": "ipython3",
   "version": "3.8.8"
  },
  "orig_nbformat": 4
 },
 "nbformat": 4,
 "nbformat_minor": 2
}
