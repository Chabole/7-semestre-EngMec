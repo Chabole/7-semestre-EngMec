{
 "cells": [
  {
   "cell_type": "code",
   "execution_count": 205,
   "metadata": {},
   "outputs": [],
   "source": [
    "from LK_proptermo import *"
   ]
  },
  {
   "cell_type": "code",
   "execution_count": 206,
   "metadata": {},
   "outputs": [],
   "source": [
    "P1, T1 = 10, 600+273\n",
    "P2 = P1\n",
    "T3 = 500 + 273\n",
    "P4, x4 = 0.006, 0.9\n",
    "P5 = P4\n",
    "P6 = P1\n"
   ]
  },
  {
   "cell_type": "code",
   "execution_count": 207,
   "metadata": {},
   "outputs": [
    {
     "name": "stdout",
     "output_type": "stream",
     "text": [
      "Path absoluto da tabela:  C:\\Users\\arthu\\tabelaA1A3.db\n"
     ]
    }
   ],
   "source": [
    "ref=Substance('water')\n",
    "bref = Base(ref, Pb = 0.01, Tb= 300)"
   ]
  },
  {
   "cell_type": "markdown",
   "metadata": {},
   "source": [
    "### Encontrando o estado 1"
   ]
  },
  {
   "cell_type": "code",
   "execution_count": 208,
   "metadata": {},
   "outputs": [],
   "source": [
    "e1=State(ref,bref, P=P1, T=T1) \n",
    "#e1.e"
   ]
  },
  {
   "cell_type": "markdown",
   "metadata": {},
   "source": [
    "### Encontrando o estado 4\n"
   ]
  },
  {
   "cell_type": "code",
   "execution_count": 209,
   "metadata": {},
   "outputs": [],
   "source": [
    "e4=State(ref, bref, P=P4, x=x4) \n",
    "#e4.e"
   ]
  },
  {
   "cell_type": "markdown",
   "metadata": {},
   "source": [
    "#### Encontrando o estado 3\n",
    "Assumindo a turbina com isentrópica."
   ]
  },
  {
   "cell_type": "code",
   "execution_count": 210,
   "metadata": {},
   "outputs": [
    {
     "name": "stdout",
     "output_type": "stream",
     "text": [
      "1.5655196868910233 6 2.2304824653929245e-11\n"
     ]
    },
    {
     "data": {
      "text/plain": [
       "{'Tr': 1.1941912559864052,\n",
       " 'Pr': 0.07077394606198116,\n",
       " 'h': 0.0562823311988854,\n",
       " 'u': 0.04204225655282257,\n",
       " 's': 0.035280660786592165,\n",
       " 'Z': 0.9880755493940537,\n",
       " 'cf': -0.011849420694699575,\n",
       " 'fase': 'supercritical'}"
      ]
     },
     "execution_count": 210,
     "metadata": {},
     "output_type": "execute_result"
    }
   ],
   "source": [
    "e3 = auxiliar(ref, bref, 's', e4.s, T=T3)\n",
    "e3.e"
   ]
  },
  {
   "cell_type": "markdown",
   "metadata": {},
   "source": [
    "#### Encontrando o estado 2\n",
    "Assumindo processo isentrópico entre o estado 1 e 2."
   ]
  },
  {
   "cell_type": "code",
   "execution_count": 211,
   "metadata": {},
   "outputs": [
    {
     "data": {
      "text/plain": [
       "299.999997"
      ]
     },
     "execution_count": 211,
     "metadata": {},
     "output_type": "execute_result"
    }
   ],
   "source": [
    "def residuo(T2, args):\n",
    "    \n",
    "    e2 = auxiliar(ref, bref, 's', e1.s, T=T2)\n",
    "    return np.array((\n",
    "        e2.s - e1.s #isentrópico\n",
    "    ))\n",
    "\n",
    "T2, ite, res = robustNewton(residuo, (300)) #chute inicial\n",
    "T2"
   ]
  },
  {
   "cell_type": "code",
   "execution_count": 212,
   "metadata": {},
   "outputs": [],
   "source": [
    "e2 = auxiliar(ref, bref, 's', e1.s, T=T2)"
   ]
  },
  {
   "cell_type": "markdown",
   "metadata": {},
   "source": [
    "#### Encontrando o estado 5\n",
    "Considerando x=1 depois do condensador."
   ]
  },
  {
   "cell_type": "code",
   "execution_count": 213,
   "metadata": {},
   "outputs": [],
   "source": [
    "e5 = State(ref, bref, P=P4, x=1.0) "
   ]
  },
  {
   "cell_type": "markdown",
   "metadata": {},
   "source": [
    "#### Encontrando o estado 6"
   ]
  },
  {
   "cell_type": "code",
   "execution_count": 215,
   "metadata": {},
   "outputs": [
    {
     "data": {
      "text/plain": [
       "2692.195056442904"
      ]
     },
     "execution_count": 215,
     "metadata": {},
     "output_type": "execute_result"
    }
   ],
   "source": [
    "h6 = e5.h + e5.v*(P6 - P5)\n",
    "h6"
   ]
  },
  {
   "cell_type": "markdown",
   "metadata": {},
   "source": [
    "### A) Encontrando o trabalho líquido\n",
    "\n",
    "Agora temos todos os estados resolvidos podemos calcular\n",
    "\n",
    "$$\n",
    "\n",
    "\\dot {W_{cycle}} / \\dot {m} = \\dot {W_{T1}} / \\dot {m} + \\dot {W_{T2}} / \\dot {m} - \\dot {W_{p}} / \\dot {m}  \n",
    "\n",
    "$$\n",
    "\n",
    "$$\n",
    "\n",
    "\\dot {W_{cycle}} / \\dot {m} = (h_1 - h_2) + (h_3 - h_4) -(h_6 - h_5)\n",
    "\n",
    "$$\n",
    "\n",
    "\n"
   ]
  },
  {
   "cell_type": "code",
   "execution_count": 216,
   "metadata": {},
   "outputs": [
    {
     "data": {
      "text/plain": [
       "2468.804738612825"
      ]
     },
     "execution_count": 216,
     "metadata": {},
     "output_type": "execute_result"
    }
   ],
   "source": [
    "w = (e1.h - e2.h) + (e3.h - e4.h) - (h6 - e5.h)\n",
    "w # kJ/kg"
   ]
  },
  {
   "cell_type": "markdown",
   "metadata": {},
   "source": [
    "### B) Rendimento\n",
    "\n",
    "Agora temos todos os estados resolvidos podemos calcular\n",
    "\n",
    "$$\n",
    "\n",
    "\\eta = \\frac{\\dot {W_{cycle}} / \\dot {m}}{\\dot {Q_{in}} / \\dot {m}}\n",
    "\n",
    "$$\n",
    "\n",
    "$$\n",
    "\n",
    "\\eta = \\frac{(h_1 - h_2) + (h_3 - h_4) -(h_6 - h_5)}{(h_1 - h_6) + (h_3 - h_2)}\n",
    "\n",
    "$$\n"
   ]
  },
  {
   "cell_type": "code",
   "execution_count": 217,
   "metadata": {},
   "outputs": [
    {
     "data": {
      "text/plain": [
       "1.1084782774992028"
      ]
     },
     "execution_count": 217,
     "metadata": {},
     "output_type": "execute_result"
    }
   ],
   "source": [
    "qin = (e1.h - h6) + (e3.h - e2.h)\n",
    "rendimento = w/qin \n",
    "rendimento #?? [VER DEPOiS] -- erro no estado 2 ?"
   ]
  }
 ],
 "metadata": {
  "kernelspec": {
   "display_name": "Python 3",
   "language": "python",
   "name": "python3"
  },
  "language_info": {
   "codemirror_mode": {
    "name": "ipython",
    "version": 3
   },
   "file_extension": ".py",
   "mimetype": "text/x-python",
   "name": "python",
   "nbconvert_exporter": "python",
   "pygments_lexer": "ipython3",
   "version": "3.8.8"
  }
 },
 "nbformat": 4,
 "nbformat_minor": 4
}
