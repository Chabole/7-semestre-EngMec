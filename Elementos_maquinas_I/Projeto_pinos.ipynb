{
 "cells": [
  {
   "cell_type": "code",
   "execution_count": 1,
   "metadata": {},
   "outputs": [],
   "source": [
    "import matplotlib.pyplot as plt\n",
    "import numpy as np\n",
    "import pandas as pd"
   ]
  },
  {
   "cell_type": "code",
   "execution_count": null,
   "metadata": {},
   "outputs": [],
   "source": []
  },
  {
   "cell_type": "markdown",
   "metadata": {},
   "source": [
    "## Aula dia 24/01"
   ]
  },
  {
   "cell_type": "code",
   "execution_count": 19,
   "metadata": {},
   "outputs": [
    {
     "data": {
      "text/plain": [
       "Xi      0.0\n",
       "Yi   -100.0\n",
       "dtype: float64"
      ]
     },
     "execution_count": 19,
     "metadata": {},
     "output_type": "execute_result"
    }
   ],
   "source": [
    "# Inicios\n",
    "P = 24E3 #Cargas\n",
    "n = 3    #Qtd de parafusos\n",
    "\n",
    "\n",
    "# Encontrar o centroide\n",
    "df = pd.DataFrame()\n",
    "df['Xi'] = [-150, 150, 0]\n",
    "df['Yi'] = [0, 0, -300]\n",
    "\n",
    "df.sum()/3"
   ]
  },
  {
   "cell_type": "code",
   "execution_count": 20,
   "metadata": {},
   "outputs": [],
   "source": [
    "# Encontrando o vetor posição r\n",
    "r1 = np.sqrt(150**2 + 100**2)\n",
    "r2 = r1\n",
    "r3 = 300-100\n",
    "\n",
    "# Momento\n",
    "M = 150E-3 * P\n"
   ]
  },
  {
   "cell_type": "code",
   "execution_count": 23,
   "metadata": {},
   "outputs": [
    {
     "data": {
      "text/plain": [
       "8000.0"
      ]
     },
     "execution_count": 23,
     "metadata": {},
     "output_type": "execute_result"
    }
   ],
   "source": [
    "F1i = P/n\n",
    "F1i"
   ]
  },
  {
   "cell_type": "code",
   "execution_count": 25,
   "metadata": {},
   "outputs": [
    {
     "data": {
      "text/plain": [
       "3.5360678925035365"
      ]
     },
     "execution_count": 25,
     "metadata": {},
     "output_type": "execute_result"
    }
   ],
   "source": [
    "5/1.414"
   ]
  },
  {
   "cell_type": "markdown",
   "metadata": {},
   "source": [
    "## Aula 25/01 - Projeto de soldas "
   ]
  },
  {
   "cell_type": "code",
   "execution_count": 1,
   "metadata": {},
   "outputs": [],
   "source": [
    "from sympy import *\n",
    "from sympy.abc import *\n",
    "import numpy as np\n",
    "\n",
    "Aw = pi*d\n",
    "Sw = (pi*d**2)/(4)\n",
    "Jw = (pi*d**3)/4\n",
    "\n"
   ]
  },
  {
   "cell_type": "code",
   "execution_count": 67,
   "metadata": {},
   "outputs": [],
   "source": [
    "\n",
    "a = 0.175\n",
    "r = 0.120\n",
    "\n",
    "#Cortante\n",
    "fs = P/Aw\n",
    "\n",
    "#Momento flexão\n",
    "fb = (P*a)/(Sw)\n",
    "\n",
    "#Torção\n",
    "ft = ((P*r)*(d/2))/Jw"
   ]
  },
  {
   "cell_type": "code",
   "execution_count": 72,
   "metadata": {},
   "outputs": [
    {
     "data": {
      "text/latex": [
       "$\\displaystyle \\sqrt{\\frac{P^{2}}{d^{2} \\pi^{2}} + \\frac{0.5476 P^{2}}{d^{4} \\pi^{2}}}$"
      ],
      "text/plain": [
       "sqrt(P**2/(d**2*pi**2) + 0.5476*P**2/(d**4*pi**2))"
      ]
     },
     "execution_count": 72,
     "metadata": {},
     "output_type": "execute_result"
    }
   ],
   "source": [
    "Fr = sqrt(fs**2 + fb**2 + ft**2)\n",
    "Fr"
   ]
  },
  {
   "cell_type": "code",
   "execution_count": 78,
   "metadata": {},
   "outputs": [
    {
     "data": {
      "text/latex": [
       "$\\displaystyle 8.06451612903226 \\cdot 10^{-9} \\sqrt{\\frac{P^{2}}{d^{2} \\pi^{2}} + \\frac{0.5476 P^{2}}{d^{4} \\pi^{2}}}$"
      ],
      "text/plain": [
       "8.06451612903226e-9*sqrt(P**2/(d**2*pi**2) + 0.5476*P**2/(d**4*pi**2))"
      ]
     },
     "execution_count": 78,
     "metadata": {},
     "output_type": "execute_result"
    }
   ],
   "source": [
    "sigma = 124E6\n",
    "t = Fr/sigma\n",
    "#a = Eq(Fr, 0.005*np.cos(np.radians(45)))\n",
    "t"
   ]
  },
  {
   "cell_type": "code",
   "execution_count": 82,
   "metadata": {},
   "outputs": [
    {
     "data": {
      "text/plain": [
       "[-1162.59155406151, 1162.59155406151]"
      ]
     },
     "execution_count": 82,
     "metadata": {},
     "output_type": "execute_result"
    }
   ],
   "source": [
    "exp = Eq(t, 0.005*np.cos(np.radians(45)))\n",
    "num = exp.subs({d:0.025, pi:np.pi})\n",
    "solve(num) #Newtons de força"
   ]
  },
  {
   "cell_type": "code",
   "execution_count": null,
   "metadata": {},
   "outputs": [],
   "source": []
  },
  {
   "cell_type": "markdown",
   "metadata": {},
   "source": [
    "## Teste 5 - "
   ]
  },
  {
   "cell_type": "code",
   "execution_count": 15,
   "metadata": {},
   "outputs": [
    {
     "data": {
      "image/png": "[encoded data removed]",
      "text/latex": [
       "$\\displaystyle \\frac{\\sigma'_{m}}{S_{ut}} + \\frac{\\sigma'_{a}}{S_{f}} = \\frac{1}{N_{f}}$"
      ],
      "text/plain": [
       "\\sigma'ₘ   \\sigma'ₐ    1 \n",
       "──────── + ──────── = ───\n",
       " S_{ut}      S_f      N_f"
      ]
     },
     "execution_count": 15,
     "metadata": {},
     "output_type": "execute_result"
    }
   ],
   "source": [
    "from sympy import * \n",
    "from sympy.abc import *\n",
    "import numpy as np\n",
    "import matplotlib.pyplot as plt\n",
    "\n",
    "init_printing()\n",
    "\n",
    "import warnings\n",
    "warnings.filterwarnings(\"ignore\")\n",
    "\n",
    "sa, sm, sf_, sut, nf, ktf, ktt = symbols(\"\\sigma'_a \\sigma'_m S_f S_{ut}, N_f k_{tf} k_{tt}\") \n",
    "\n",
    "#Função pra calcular sf'\n",
    "def Sf_l(kc, kd, sf):\n",
    "    ka = 1 #flexão equivalente\n",
    "    kb = 1.189*((D*1000)**-0.097)\n",
    "    #kb = D*1.189*((1000)**-0.097)\n",
    "    return(ka*kb*kc*kd*(0.5*sf))\n",
    "\n",
    "#Critério de falha\n",
    "falha = Eq(sa/sf_ + sm/sut, 1/nf)\n",
    "falha"
   ]
  },
  {
   "cell_type": "code",
   "execution_count": 8,
   "metadata": {},
   "outputs": [
    {
     "data": {
      "image/png": "[encoded data removed]",
      "text/latex": [
       "$\\displaystyle \\frac{2.71553519364863}{d^{3}} = \\frac{1}{2}$"
      ],
      "text/plain": [
       "2.71553519364863      \n",
       "──────────────── = 1/2\n",
       "        3             \n",
       "       d              "
      ]
     },
     "execution_count": 8,
     "metadata": {},
     "output_type": "execute_result"
    }
   ],
   "source": [
    "ka = 1\n",
    "kb = 1.189*((d*1000)**-0.097) # expressão é em mm por isso *1000 -> transformar m (d) to mm p/ expressão\n",
    "kc = 0.75\n",
    "kd = 0.814\n",
    "\n",
    "r = ka*kb*kc*kd*372.5\n",
    "r = r.subs({d:1})\n",
    "r\n",
    "\n",
    "num = falha.subs({sa:35051.79, sf_:1000*a*d**3, sm:35051.79, sut:1000*108*d**3, nf:2})\n",
    "num"
   ]
  },
  {
   "cell_type": "code",
   "execution_count": 9,
   "metadata": {},
   "outputs": [
    {
     "data": {
      "image/png": "[encoded data removed]",
      "text/latex": [
       "$\\displaystyle \\left[ 1.75776903827014, \\  -0.878884519135068 - 1.52227264112768 i, \\  -0.878884519135068 + 1.52227264112768 i\\right]$"
      ],
      "text/plain": [
       "[1.75776903827014, -0.878884519135068 - 1.52227264112768⋅ⅈ, -0.878884519135068\n",
       " + 1.52227264112768⋅ⅈ]"
      ]
     },
     "execution_count": 9,
     "metadata": {},
     "output_type": "execute_result"
    }
   ],
   "source": [
    "solve(num)"
   ]
  },
  {
   "cell_type": "code",
   "execution_count": 30,
   "metadata": {},
   "outputs": [
    {
     "data": {
      "image/png": "[encoded data removed]",
      "text/latex": [
       "$\\displaystyle \\left[ 0.0302780859935027, \\  -0.0151390429967513 - 0.0262215916483431 i, \\  -0.0151390429967513 + 0.0262215916483431 i\\right]$"
      ],
      "text/plain": [
       "[0.0302780859935027, -0.0151390429967513 - 0.0262215916483431⋅ⅈ, -0.0151390429\n",
       "967513 + 0.0262215916483431⋅ⅈ]"
      ]
     },
     "execution_count": 30,
     "metadata": {},
     "output_type": "execute_result"
    }
   ],
   "source": [
    "ka = 1\n",
    "kb = 1.189*((d*1000)**-0.097) # expressão é em mm por isso *1000 -> transformar m (d) to mm p/ expressão\n",
    "kc = 0.75\n",
    "kd = 0.814\n",
    "\n",
    "r = ka*kb*kc*kd*372.5\n",
    "r = r.subs({d:1})\n",
    "r\n",
    "\n",
    "num = falha.subs({sa:1619.46, sf_:1e6*r*d**3, sm:1619.46, sut:1e6*745*d**3, nf:2})\n",
    "num\n",
    "\n",
    "solve(num)"
   ]
  },
  {
   "cell_type": "code",
   "execution_count": null,
   "metadata": {},
   "outputs": [],
   "source": []
  }
 ],
 "metadata": {
  "interpreter": {
   "hash": "894588d70223105318f3a6143f469ff55b12e3d45628534b2f37efc006a33ec3"
  },
  "kernelspec": {
   "display_name": "Python 3.8.8 64-bit ('base': conda)",
   "language": "python",
   "name": "python3"
  },
  "language_info": {
   "codemirror_mode": {
    "name": "ipython",
    "version": 3
   },
   "file_extension": ".py",
   "mimetype": "text/x-python",
   "name": "python",
   "nbconvert_exporter": "python",
   "pygments_lexer": "ipython3",
   "version": "3.8.8"
  },
  "orig_nbformat": 4
 },
 "nbformat": 4,
 "nbformat_minor": 2
}
