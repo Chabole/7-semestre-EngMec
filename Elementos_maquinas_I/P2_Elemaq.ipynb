{
 "cells": [
  {
   "cell_type": "code",
   "execution_count": 2,
   "metadata": {},
   "outputs": [],
   "source": [
    "from sympy import *\n",
    "from sympy.abc import *\n",
    "import numpy as np\n",
    "init_printing()\n",
    "\n",
    "import warnings\n",
    "warnings.filterwarnings(\"ignore\")\n",
    "\n",
    "#kt de flexão, kt de torção\n",
    "ktf, ktt, sf, sut, nf = symbols(\"K_t_f K_t_t S_f' S_{ut} N_f\")\n"
   ]
  },
  {
   "cell_type": "code",
   "execution_count": 6,
   "metadata": {},
   "outputs": [
    {
     "data": {
      "image/png": "[encoded data removed]",
      "text/latex": [
       "$\\displaystyle \\left( \\frac{1540.11055331165}{D^{3}}, \\  187.128015889727 D^{3}\\right)$"
      ],
      "text/plain": [
       "⎛1540.11055331165                    3⎞\n",
       "⎜────────────────, 187.128015889727⋅D ⎟\n",
       "⎜        3                            ⎟\n",
       "⎝       D                             ⎠"
      ]
     },
     "execution_count": 6,
     "metadata": {},
     "output_type": "execute_result"
    }
   ],
   "source": [
    "#Tensões reais de flexão\n",
    "flex = ktf*(32*M/(pi*D**3))\n",
    "\n",
    "#Tensões reais de torção\n",
    "torc = ktt*((16*T/2)/pi*D**3)\n",
    "flex, torc"
   ]
  },
  {
   "cell_type": "code",
   "execution_count": 7,
   "metadata": {},
   "outputs": [
    {
     "data": {
      "image/png": "[encoded data removed]",
      "text/latex": [
       "$\\displaystyle \\left( 1540.11055331165 \\sqrt{0.0442889196694303 D^{6} + \\frac{1}{D^{6}}}, \\  324.115231040563 \\sqrt{D^{6}}\\right)$"
      ],
      "text/plain": [
       "⎛                      ____________________________                      ____⎞\n",
       "⎜                     ╱                     6   1                       ╱  6 ⎟\n",
       "⎜1540.11055331165⋅   ╱  0.0442889196694303⋅D  + ── , 324.115231040563⋅╲╱  D  ⎟\n",
       "⎜                   ╱                            6                           ⎟\n",
       "⎝                 ╲╱                            D                            ⎠"
      ]
     },
     "execution_count": 7,
     "metadata": {},
     "output_type": "execute_result"
    }
   ],
   "source": [
    "#Tensão de von-misses\n",
    "sigma_a = sqrt(flex**2 + 3*torc**2)\n",
    "sigma_m = sqrt(3*torc**2)\n",
    "sigma_a, sigma_m"
   ]
  },
  {
   "cell_type": "code",
   "execution_count": 8,
   "metadata": {},
   "outputs": [
    {
     "data": {
      "image/png": "[encoded data removed]",
      "text/latex": [
       "$\\displaystyle 4.12566448784263 \\cdot 10^{-6} \\sqrt{0.0442889196694303 D^{6} + \\frac{1}{D^{6}}} + 2.64368051419709 \\cdot 10^{-7} \\sqrt{D^{6}} = 0.4$"
      ],
      "text/plain": [
       "                         ____________________________                         \n",
       "                        ╱                     6   1                           \n",
       "4.12566448784263e-6⋅   ╱  0.0442889196694303⋅D  + ──  + 2.64368051419709e-7⋅╲╱\n",
       "                      ╱                            6                          \n",
       "                    ╲╱                            D                           \n",
       "\n",
       " ____      \n",
       "╱  6       \n",
       "  D   = 0.4\n",
       "           \n",
       "           "
      ]
     },
     "execution_count": 8,
     "metadata": {},
     "output_type": "execute_result"
    }
   ],
   "source": [
    "#Critério de falha\n",
    "crit = Eq(sigma_a/sf + sigma_m/sut, 1/nf)\n",
    "crit"
   ]
  },
  {
   "cell_type": "code",
   "execution_count": 9,
   "metadata": {},
   "outputs": [
    {
     "data": {
      "image/png": "[encoded data removed]",
      "text/latex": [
       "$\\displaystyle 4.13 \\cdot 10^{-6} \\left(0.0443 D^{6} + \\frac{1}{D^{6}}\\right)^{0.5} + 2.64 \\cdot 10^{-7} \\left(D^{6}\\right)^{0.5} = 0.4$"
      ],
      "text/plain": [
       "                        0.5               0.5      \n",
       "        ⎛        6   1 ⎞              ⎛ 6⎞         \n",
       "4.13e-6⋅⎜0.0443⋅D  + ──⎟    + 2.64e-7⋅⎝D ⎠    = 0.4\n",
       "        ⎜             6⎟                           \n",
       "        ⎝            D ⎠                           "
      ]
     },
     "execution_count": 9,
     "metadata": {},
     "output_type": "execute_result"
    }
   ],
   "source": [
    "ktf, ktt =  2.16, 1.633\n",
    "M = 70 #N.m - Momento de flexão\n",
    "T = 45 #N.m - Torque de torção\n",
    "sf = 373.3*1E6\n",
    "sut = 1226*1E6\n",
    "nf = 2.5\n",
    "pi = np.pi\n",
    "\n",
    "crit.evalf(3)"
   ]
  },
  {
   "cell_type": "code",
   "execution_count": 3,
   "metadata": {},
   "outputs": [
    {
     "data": {
      "image/png": "[encoded data removed]",
      "text/latex": [
       "$\\displaystyle \\left[ - \\frac{1}{2} - \\frac{\\sqrt{7} i}{2}, \\  - \\frac{1}{2} + \\frac{\\sqrt{7} i}{2}\\right]$"
      ],
      "text/plain": [
       "⎡  1   √7⋅ⅈ    1   √7⋅ⅈ⎤\n",
       "⎢- ─ - ────, - ─ + ────⎥\n",
       "⎣  2    2      2    2  ⎦"
      ]
     },
     "execution_count": 3,
     "metadata": {},
     "output_type": "execute_result"
    }
   ],
   "source": [
    "solve(Eq(x**2 + x +2, 0))"
   ]
  },
  {
   "cell_type": "code",
   "execution_count": null,
   "metadata": {},
   "outputs": [],
   "source": []
  },
  {
   "cell_type": "code",
   "execution_count": 7,
   "metadata": {},
   "outputs": [],
   "source": [
    "a=1.0924e-5*2.5"
   ]
  },
  {
   "cell_type": "code",
   "execution_count": 8,
   "metadata": {},
   "outputs": [
    {
     "data": {
      "image/png": "[encoded data removed]",
      "text/latex": [
       "$\\displaystyle 0.0301143781816677$"
      ],
      "text/plain": [
       "0.03011437818166769"
      ]
     },
     "execution_count": 8,
     "metadata": {},
     "output_type": "execute_result"
    }
   ],
   "source": [
    "(a)**(1/3)"
   ]
  },
  {
   "cell_type": "code",
   "execution_count": null,
   "metadata": {},
   "outputs": [],
   "source": []
  }
 ],
 "metadata": {
  "interpreter": {
   "hash": "894588d70223105318f3a6143f469ff55b12e3d45628534b2f37efc006a33ec3"
  },
  "kernelspec": {
   "display_name": "Python 3.8.8 ('base')",
   "language": "python",
   "name": "python3"
  },
  "language_info": {
   "codemirror_mode": {
    "name": "ipython",
    "version": 3
   },
   "file_extension": ".py",
   "mimetype": "text/x-python",
   "name": "python",
   "nbconvert_exporter": "python",
   "pygments_lexer": "ipython3",
   "version": "3.8.8"
  },
  "orig_nbformat": 4
 },
 "nbformat": 4,
 "nbformat_minor": 2
}
