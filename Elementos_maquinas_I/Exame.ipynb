{
 "cells": [
  {
   "cell_type": "code",
   "execution_count": 2,
   "metadata": {},
   "outputs": [
    {
     "data": {
      "image/png": "[encoded data removed]",
      "text/latex": [
       "$\\displaystyle \\frac{\\sigma'_{m}}{S_{ut}} + \\frac{\\sigma'_{a}}{S_{f}} = \\frac{1}{N_{f}}$"
      ],
      "text/plain": [
       "\\sigma'ₘ   \\sigma'ₐ    1 \n",
       "──────── + ──────── = ───\n",
       " S_{ut}      S_f      N_f"
      ]
     },
     "execution_count": 2,
     "metadata": {},
     "output_type": "execute_result"
    }
   ],
   "source": [
    "from sympy import * \n",
    "from sympy.abc import *\n",
    "import numpy as np\n",
    "import matplotlib.pyplot as plt\n",
    "\n",
    "init_printing()\n",
    "\n",
    "import warnings\n",
    "warnings.filterwarnings(\"ignore\")\n",
    "\n",
    "sa, sm, sf_, sut, nf, ktf, ktt = symbols(\"\\sigma'_a \\sigma'_m S_f S_{ut}, N_f k_{tf} k_{tt}\") \n",
    "\n",
    "#Função pra calcular sf'\n",
    "def Sf_l(kc, kd, sf):\n",
    "    ka = 1 #flexão equivalente\n",
    "    kb = 1.189*((D*1000)**-0.097)\n",
    "    #kb = D*1.189*((1000)**-0.097)\n",
    "    return(ka*kb*kc*kd*(0.5*sf))\n",
    "\n",
    "#Critério de falha\n",
    "falha = Eq(sa/sf_ + sm/sut, 1/nf)\n",
    "falha"
   ]
  },
  {
   "cell_type": "code",
   "execution_count": 19,
   "metadata": {},
   "outputs": [
    {
     "data": {
      "image/png": "[encoded data removed]",
      "text/latex": [
       "$\\displaystyle \\left( \\frac{32 M k_{tf}}{D^{3} \\pi}, \\  \\frac{8 D^{3} T k_{tt}}{\\pi}\\right)$"
      ],
      "text/plain": [
       "⎛                3         ⎞\n",
       "⎜32⋅M⋅k_{tf}  8⋅D ⋅T⋅k_{tt}⎟\n",
       "⎜───────────, ─────────────⎟\n",
       "⎜     3             π      ⎟\n",
       "⎝    D ⋅π                  ⎠"
      ]
     },
     "execution_count": 19,
     "metadata": {},
     "output_type": "execute_result"
    }
   ],
   "source": [
    "#Tensões reais de flexão\n",
    "flex = ktf*(32*M/(pi*D**3))\n",
    "\n",
    "#Tensões reais de torção\n",
    "torc = ktt*((16*T/2)/pi*D**3)\n",
    "flex, torc"
   ]
  },
  {
   "cell_type": "code",
   "execution_count": 20,
   "metadata": {},
   "outputs": [
    {
     "data": {
      "image/png": "[encoded data removed]",
      "text/latex": [
       "$\\displaystyle \\left( \\sqrt{\\frac{192 D^{6} T^{2} k_{tt}^{2}}{\\pi^{2}} + \\frac{1024 M^{2} k_{tf}^{2}}{D^{6} \\pi^{2}}}, \\  8 \\sqrt{3} \\sqrt{\\frac{D^{6} T^{2} k_{tt}^{2}}{\\pi^{2}}}\\right)$"
      ],
      "text/plain": [
       "⎛      _____________________________________             _______________⎞\n",
       "⎜     ╱      6  2       2         2       2             ╱  6  2       2 ⎟\n",
       "⎜    ╱  192⋅D ⋅T ⋅k_{tt}    1024⋅M ⋅k_{tf}             ╱  D ⋅T ⋅k_{tt}  ⎟\n",
       "⎜   ╱   ───────────────── + ─────────────── , 8⋅√3⋅   ╱   ───────────── ⎟\n",
       "⎜  ╱             2                6  2               ╱           2      ⎟\n",
       "⎝╲╱             π                D ⋅π              ╲╱           π       ⎠"
      ]
     },
     "execution_count": 20,
     "metadata": {},
     "output_type": "execute_result"
    }
   ],
   "source": [
    "#Tensão de von-misses\n",
    "sa = sqrt(flex**2 + 3*torc**2)\n",
    "sm = sqrt(3*torc**2) #verficar - Esta condição é para sm=0 e ta=tm\n",
    "sa, sm"
   ]
  },
  {
   "cell_type": "code",
   "execution_count": 21,
   "metadata": {},
   "outputs": [
    {
     "data": {
      "image/png": "[encoded data removed]",
      "text/latex": [
       "$\\displaystyle \\frac{8 \\sqrt{3} \\sqrt{\\frac{D^{6} T^{2} k_{tt}^{2}}{\\pi^{2}}}}{S_{ut}} + \\frac{\\sqrt{\\frac{192 D^{6} T^{2} k_{tt}^{2}}{\\pi^{2}} + \\frac{1024 M^{2} k_{tf}^{2}}{D^{6} \\pi^{2}}}}{S_{f}} = \\frac{1}{N_{f}}$"
      ],
      "text/plain": [
       "           _______________         _____________________________________      \n",
       "          ╱  6  2       2         ╱      6  2       2         2       2       \n",
       "         ╱  D ⋅T ⋅k_{tt}         ╱  192⋅D ⋅T ⋅k_{tt}    1024⋅M ⋅k_{tf}        \n",
       "8⋅√3⋅   ╱   ─────────────       ╱   ───────────────── + ───────────────       \n",
       "       ╱           2           ╱             2                6  2            \n",
       "     ╲╱           π          ╲╱             π                D ⋅π           1 \n",
       "────────────────────────── + ─────────────────────────────────────────── = ───\n",
       "          S_{ut}                                 S_f                       N_f"
      ]
     },
     "execution_count": 21,
     "metadata": {},
     "output_type": "execute_result"
    }
   ],
   "source": [
    "#Critério de falha\n",
    "falha = Eq(sa/sf_ + sm/sut, 1/nf)\n",
    "falha"
   ]
  },
  {
   "cell_type": "markdown",
   "metadata": {},
   "source": [
    "### Avaliação numérica do problema - aula 5"
   ]
  },
  {
   "cell_type": "code",
   "execution_count": 39,
   "metadata": {},
   "outputs": [
    {
     "data": {
      "image/png": "[encoded data removed]",
      "text/latex": [
       "$\\displaystyle \\frac{138354662.722971}{D^{0.097}}$"
      ],
      "text/plain": [
       "                  -0.097\n",
       "138354662.722971⋅D      "
      ]
     },
     "execution_count": 39,
     "metadata": {},
     "output_type": "execute_result"
    }
   ],
   "source": [
    "sf_ = Sf_l(0.75, 0.814, 745*1e6)\n",
    "sf_"
   ]
  },
  {
   "cell_type": "code",
   "execution_count": 40,
   "metadata": {},
   "outputs": [
    {
     "data": {
      "image/png": "[encoded data removed]",
      "text/latex": [
       "$\\displaystyle 0.5 = 9.72 \\cdot 10^{-6} D^{0.097} \\left(D^{6} + \\frac{0.451}{D^{6}}\\right)^{0.5} + 1.8 \\cdot 10^{-6} \\left(D^{6}\\right)^{0.5}$"
      ],
      "text/plain": [
       "                                 0.5              0.5\n",
       "               0.097 ⎛ 6   0.451⎞             ⎛ 6⎞   \n",
       "0.5 = 9.72e-6⋅D     ⋅⎜D  + ─────⎟    + 1.8e-6⋅⎝D ⎠   \n",
       "                     ⎜        6 ⎟                    \n",
       "                     ⎝       D  ⎠                    "
      ]
     },
     "execution_count": 40,
     "metadata": {},
     "output_type": "execute_result"
    }
   ],
   "source": [
    "ktf, ktt =  2.216, 3.04\n",
    "M = 40 #N.m - Momento de flexão - puramente alternado sm=0\n",
    "T = 100.27 #N.m - Torque de torção considerando Tmin=0\n",
    "\n",
    "sut = 745*1E6\n",
    "nf = 2\n",
    "pi = np.pi\n",
    "\n",
    "#Tensões reais de flexão\n",
    "flex = ktf*(32*M/(pi*D**3))\n",
    "#Tensões reais de torção\n",
    "torc = ktt*((16*T/2)/pi*D**3)\n",
    "\n",
    "#Tensão de von-misses\n",
    "sa = sqrt((flex**2) + (3*(torc**2)))\n",
    "sm = sqrt(3*(torc**2)) #verficar - Esta condição é para sm=0 e ta=tm\n",
    "\n",
    "#Critério de falha\n",
    "falha = Eq((1/nf), (sa/sf_) + (sm/sut))\n",
    "\n",
    "res = falha.evalf(3)\n",
    "res"
   ]
  },
  {
   "cell_type": "code",
   "execution_count": 45,
   "metadata": {},
   "outputs": [
    {
     "data": {
      "image/png": "[encoded data removed]",
      "text/latex": [
       "$\\displaystyle \\left( 31.9019425794014, \\  22, \\  2.41562325697942 \\cdot 10^{-12}\\right)$"
      ],
      "text/plain": [
       "(31.901942579401414, 22, 2.4156232569794156e-12)"
      ]
     },
     "execution_count": 45,
     "metadata": {},
     "output_type": "execute_result"
    }
   ],
   "source": [
    "#Resolvendo numéricamente\n",
    "\n",
    "import ZebraLib as zb\n",
    "\n",
    "num = lambdify([D], res.rhs)\n",
    "\n",
    "def resid(x, args):\n",
    "    return num(x) - (1/nf)\n",
    "\n",
    "resultado = zb.robustNewton(resid, 1)\n",
    "resultado"
   ]
  },
  {
   "cell_type": "markdown",
   "metadata": {},
   "source": [
    "### Avaliação numérica do problema tensoes biaxiais - aula 6"
   ]
  },
  {
   "cell_type": "code",
   "execution_count": 57,
   "metadata": {},
   "outputs": [
    {
     "data": {
      "image/png": "[encoded data removed]",
      "text/latex": [
       "$\\displaystyle \\frac{145137447.418244}{D^{0.097}}$"
      ],
      "text/plain": [
       "                  -0.097\n",
       "145137447.418244⋅D      "
      ]
     },
     "execution_count": 57,
     "metadata": {},
     "output_type": "execute_result"
    }
   ],
   "source": [
    "sf_ = Sf_l(0.84, 1, 568*1e6)\n",
    "sf_"
   ]
  },
  {
   "cell_type": "code",
   "execution_count": 58,
   "metadata": {},
   "outputs": [
    {
     "data": {
      "image/png": "[encoded data removed]",
      "text/latex": [
       "$\\displaystyle 0.5 = 0.000146 D^{0.097} \\left(0.00144 D^{6} + \\frac{1}{D^{6}}\\right)^{0.5} + 1.42 \\cdot 10^{-6} \\left(D^{6}\\right)^{0.5}$"
      ],
      "text/plain": [
       "                                       0.5               0.5\n",
       "                0.097 ⎛         6   1 ⎞              ⎛ 6⎞   \n",
       "0.5 = 0.000146⋅D     ⋅⎜0.00144⋅D  + ──⎟    + 1.42e-6⋅⎝D ⎠   \n",
       "                      ⎜              6⎟                     \n",
       "                      ⎝             D ⎠                     "
      ]
     },
     "execution_count": 58,
     "metadata": {},
     "output_type": "execute_result"
    }
   ],
   "source": [
    "#Kt flexão e de torção\n",
    "ktf, ktt =  2.216, 3.04\n",
    "M = 938.14   #N.m - Momento de flexão - puramente alternado sm=0\n",
    "T = 60     #N.m - Torque de torção considerando Tmin=0\n",
    "\n",
    "sut = 568*1E6\n",
    "nf = 2\n",
    "pi = np.pi\n",
    "\n",
    "#Tensões reais de flexão\n",
    "flex = ktf*(32*M/(pi*D**3))\n",
    "#Tensões reais de torção\n",
    "torc = ktt*((16*T/2)/pi*D**3)\n",
    "\n",
    "#Tensão de von-misses\n",
    "sa = sqrt((flex**2) + (3*(torc**2)))\n",
    "sm = sqrt(3*(torc**2)) #verficar - Esta condição é para sm=0 e ta=tm\n",
    "\n",
    "#Critério de falha\n",
    "falha = Eq((1/nf), (sa/sf_) + (sm/sut))\n",
    "\n",
    "res = falha.evalf(3)\n",
    "res"
   ]
  },
  {
   "cell_type": "code",
   "execution_count": 59,
   "metadata": {},
   "outputs": [
    {
     "data": {
      "image/png": "[encoded data removed]",
      "text/latex": [
       "$\\displaystyle \\left( 0.0605935029166865, \\  14, \\  3.74895670063324 \\cdot 10^{-11}\\right)$"
      ],
      "text/plain": [
       "(0.06059350291668653, 14, 3.7489567006332436e-11)"
      ]
     },
     "execution_count": 59,
     "metadata": {},
     "output_type": "execute_result"
    }
   ],
   "source": [
    "#Resolvendo numéricamente\n",
    "\n",
    "import ZebraLib as zb\n",
    "\n",
    "num = lambdify([D], res.rhs)\n",
    "\n",
    "def resid(x, args):\n",
    "    return num(x)- 1/nf\n",
    "\n",
    "resultado = zb.robustNewton(resid, 1)\n",
    "resultado"
   ]
  },
  {
   "cell_type": "code",
   "execution_count": null,
   "metadata": {},
   "outputs": [],
   "source": []
  },
  {
   "cell_type": "code",
   "execution_count": null,
   "metadata": {},
   "outputs": [],
   "source": []
  }
 ],
 "metadata": {
  "interpreter": {
   "hash": "894588d70223105318f3a6143f469ff55b12e3d45628534b2f37efc006a33ec3"
  },
  "kernelspec": {
   "display_name": "Python 3.8.8 ('base')",
   "language": "python",
   "name": "python3"
  },
  "language_info": {
   "codemirror_mode": {
    "name": "ipython",
    "version": 3
   },
   "file_extension": ".py",
   "mimetype": "text/x-python",
   "name": "python",
   "nbconvert_exporter": "python",
   "pygments_lexer": "ipython3",
   "version": "3.8.8"
  },
  "orig_nbformat": 4
 },
 "nbformat": 4,
 "nbformat_minor": 2
}
