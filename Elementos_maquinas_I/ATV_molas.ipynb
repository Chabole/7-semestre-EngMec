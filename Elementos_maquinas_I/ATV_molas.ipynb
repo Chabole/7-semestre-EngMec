{
 "cells": [
  {
   "cell_type": "code",
   "execution_count": 18,
   "metadata": {},
   "outputs": [],
   "source": [
    "from sympy import * \n",
    "from sympy.abc import *\n",
    "import numpy as np\n",
    "import matplotlib.pyplot as plt\n",
    "\n",
    "def Kw_(C):\n",
    "    return ((4*C - 1)/(4*C - 4)) + 0.625/C\n",
    "\n",
    "def Ks_(C):\n",
    "    return (0.5/C) + 1\n",
    "\n",
    "def Fm_(Fmax, Fmin):\n",
    "    return (Fmax + Fmin)/2\n",
    "\n",
    "def Fa_(Fmax, Fmin):\n",
    "    return (Fmax - Fmin)/2\n",
    "\n",
    "Ks, Kw, Fmin, Fmax, Fm, Sf, Fa, nf, Ytrab = symbols(\"K_s K_w F_{min} F_{max} F_m S_f F_a n_f y_{trab}\") "
   ]
  },
  {
   "cell_type": "code",
   "execution_count": 19,
   "metadata": {},
   "outputs": [
    {
     "data": {
      "text/plain": [
       "227.9171393333602"
      ]
     },
     "execution_count": 19,
     "metadata": {},
     "output_type": "execute_result"
    }
   ],
   "source": [
    "Fmin = 100; Fmax = 250\n",
    "d = 5; C = c = 8\n",
    "A = 2153.3; b=-0.1625\n",
    "Sf = 310\n",
    "\n",
    "G = ((0.67*np.pi*A*(d**(b+2)))/(8*C))-Ks_(c)\n",
    "Z = 1.34*((A*d**(b)/Sf)-1)\n",
    "\n",
    "Nf = (G*Fmin)/((Ks_(c)*(Fm_(Fmax, Fmin)-Fmin)) + Kw_(c)*Z*(Fa_(Fmax, Fmin)))\n",
    "Nf\n"
   ]
  },
  {
   "cell_type": "code",
   "execution_count": null,
   "metadata": {},
   "outputs": [],
   "source": [
    "#Equação iterativo de 'd'\n",
    "U = Fm-((nf-1)/nf)*Fmin\n",
    "U_ = 1.34*((A*d**b)/Sf) - 1\n",
    "J = ((8*C*nf)/(0.67*pi*A))\n",
    "\n",
    "d_ = (J*(Ks*U + U_*Kw*Fa))**(1/(b+2))\n",
    "d_.evalf(3)"
   ]
  },
  {
   "cell_type": "code",
   "execution_count": null,
   "metadata": {},
   "outputs": [],
   "source": [
    "#Dados do problema\n",
    "fmax, fmin, ytrab, c = 600, 300, 25E-3, 8\n",
    "A_, b_, sf = 1909.9, -0.1453, 310\n",
    "\n",
    "#Cálculo dos coeficientes\n",
    "ks, kw = Ks_(c), Kw_(c)\n",
    "\n",
    "#Cálculo das forças médias e alternadas\n",
    "fm = Fm_(fmax, fmin)\n",
    "fa = Fa_(fmax, fmin)\n",
    "\n",
    "d_.subs({d:5, Kw:kw, Ks:ks, Fm:fm, Fa:fa, nf:1.5, Fmin:fmin, Fmax:fmax, \n",
    "                b:b_, A:A_, Sf:sf, C:c, pi:np.pi})               \n"
   ]
  }
 ],
 "metadata": {
  "interpreter": {
   "hash": "e38bdacfe1d6e2b7e20a64d2eef782d7715e4314dc541be72f500d3c69b94a4f"
  },
  "kernelspec": {
   "display_name": "Python 3.8.8 ('base')",
   "language": "python",
   "name": "python3"
  },
  "language_info": {
   "codemirror_mode": {
    "name": "ipython",
    "version": 3
   },
   "file_extension": ".py",
   "mimetype": "text/x-python",
   "name": "python",
   "nbconvert_exporter": "python",
   "pygments_lexer": "ipython3",
   "version": "3.8.8"
  },
  "orig_nbformat": 4
 },
 "nbformat": 4,
 "nbformat_minor": 2
}
