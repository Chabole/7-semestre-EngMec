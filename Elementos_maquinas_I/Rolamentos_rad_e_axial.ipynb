{
 "cells": [
  {
   "cell_type": "code",
   "execution_count": 1,
   "metadata": {},
   "outputs": [],
   "source": [
    "from sympy import *\n",
    "from sympy.abc import *\n",
    "import numpy as np\n",
    "init_printing()\n",
    "\n",
    "import warnings\n",
    "warnings.filterwarnings(\"ignore\")\n",
    "\n",
    "creq, ka, kc, ln, rpm, Lreq = symbols('C_{req} K_a Kc L_N rpm L_{req}')"
   ]
  },
  {
   "cell_type": "markdown",
   "metadata": {},
   "source": [
    "# Cargas radiais e axiais juntas"
   ]
  },
  {
   "cell_type": "code",
   "execution_count": 3,
   "metadata": {},
   "outputs": [
    {
     "data": {
      "image/png": "[encoded data removed]",
      "text/latex": [
       "$\\displaystyle C_{req} = K_{a} P \\left(\\frac{L}{Kc L_{N}}\\right)^{p}$"
      ],
      "text/plain": [
       "                       p\n",
       "               ⎛  L   ⎞ \n",
       "C_{req} = Kₐ⋅P⋅⎜──────⎟ \n",
       "               ⎝Kc⋅L_N⎠ "
      ]
     },
     "execution_count": 3,
     "metadata": {},
     "output_type": "execute_result"
    }
   ],
   "source": [
    "cr_exp = Eq(creq, P*ka*(L/(kc*ln))**p) #L precisa ser em revoluções\n",
    "cr_exp"
   ]
  },
  {
   "cell_type": "code",
   "execution_count": 4,
   "metadata": {},
   "outputs": [
    {
     "data": {
      "image/png": "[encoded data removed]",
      "text/latex": [
       "$\\displaystyle P = F_{a} Y + F_{r} V X$"
      ],
      "text/plain": [
       "P = Fₐ⋅Y + Fᵣ⋅V⋅X"
      ]
     },
     "execution_count": 4,
     "metadata": {},
     "output_type": "execute_result"
    }
   ],
   "source": [
    "Fr, Fa = symbols('F_r F_a')\n",
    "P_exp = Eq(P, X*V*Fr + Y*Fa)\n",
    "P_exp"
   ]
  },
  {
   "cell_type": "code",
   "execution_count": 5,
   "metadata": {},
   "outputs": [
    {
     "data": {
      "image/png": "[encoded data removed]",
      "text/latex": [
       "$\\displaystyle C_{req} = K_{a} \\left(\\frac{L}{Kc L_{N}}\\right)^{p} \\left(F_{a} Y + F_{r} V X\\right)$"
      ],
      "text/plain": [
       "                     p                \n",
       "             ⎛  L   ⎞                 \n",
       "C_{req} = Kₐ⋅⎜──────⎟ ⋅(Fₐ⋅Y + Fᵣ⋅V⋅X)\n",
       "             ⎝Kc⋅L_N⎠                 "
      ]
     },
     "execution_count": 5,
     "metadata": {},
     "output_type": "execute_result"
    }
   ],
   "source": [
    "cr_exp = Eq(creq, (X*V*Fr + Y*Fa)*ka*(L/(kc*ln))**p) #L precisa ser em revoluções\n",
    "cr_exp"
   ]
  },
  {
   "cell_type": "markdown",
   "metadata": {},
   "source": [
    "# Vida util dos rolamentos"
   ]
  },
  {
   "cell_type": "code",
   "execution_count": 10,
   "metadata": {},
   "outputs": [
    {
     "data": {
      "image/png": "[encoded data removed]",
      "text/latex": [
       "$\\displaystyle C_{req} = K_{a} P \\left(\\frac{L}{Kc L_{N}}\\right)^{p}$"
      ],
      "text/plain": [
       "                       p\n",
       "               ⎛  L   ⎞ \n",
       "C_{req} = Kₐ⋅P⋅⎜──────⎟ \n",
       "               ⎝Kc⋅L_N⎠ "
      ]
     },
     "execution_count": 10,
     "metadata": {},
     "output_type": "execute_result"
    }
   ],
   "source": [
    "from sympy import *\n",
    "from sympy.abc import *\n",
    "import numpy as np\n",
    "import pandas as pd\n",
    "init_printing()\n",
    "import warnings\n",
    "warnings.filterwarnings(\"ignore\")\n",
    "\n",
    "creq, ka, kc, ln, rpm, Lreq = symbols('C_{req} K_a Kc L_N rpm L_{req}')\n",
    "\n",
    "cr_exp = Eq(creq, P*ka*(L/(kc*ln))**p) #L precisa ser em revoluções\n",
    "cr_exp"
   ]
  },
  {
   "cell_type": "code",
   "execution_count": 50,
   "metadata": {},
   "outputs": [
    {
     "data": {
      "text/html": [
       "<div>\n",
       "<style scoped>\n",
       "    .dataframe tbody tr th:only-of-type {\n",
       "        vertical-align: middle;\n",
       "    }\n",
       "\n",
       "    .dataframe tbody tr th {\n",
       "        vertical-align: top;\n",
       "    }\n",
       "\n",
       "    .dataframe thead th {\n",
       "        text-align: right;\n",
       "    }\n",
       "</style>\n",
       "<table border=\"1\" class=\"dataframe\">\n",
       "  <thead>\n",
       "    <tr style=\"text-align: right;\">\n",
       "      <th></th>\n",
       "      <th>n</th>\n",
       "      <th>Tempo</th>\n",
       "      <th>Fr</th>\n",
       "      <th>Fa</th>\n",
       "      <th>Fa/Fr</th>\n",
       "      <th>Fa/C0</th>\n",
       "      <th>Y</th>\n",
       "      <th>X</th>\n",
       "      <th>P</th>\n",
       "      <th>li</th>\n",
       "    </tr>\n",
       "  </thead>\n",
       "  <tbody>\n",
       "    <tr>\n",
       "      <th>0</th>\n",
       "      <td>1850</td>\n",
       "      <td>3.5</td>\n",
       "      <td>5.0</td>\n",
       "      <td>2.0</td>\n",
       "      <td>0.400000</td>\n",
       "      <td>0.120482</td>\n",
       "      <td>1.42555</td>\n",
       "      <td>0.56</td>\n",
       "      <td>5.651100</td>\n",
       "      <td>388500.0</td>\n",
       "    </tr>\n",
       "    <tr>\n",
       "      <th>1</th>\n",
       "      <td>1050</td>\n",
       "      <td>4.0</td>\n",
       "      <td>4.0</td>\n",
       "      <td>1.5</td>\n",
       "      <td>0.375000</td>\n",
       "      <td>0.090361</td>\n",
       "      <td>1.52553</td>\n",
       "      <td>0.56</td>\n",
       "      <td>4.528295</td>\n",
       "      <td>252000.0</td>\n",
       "    </tr>\n",
       "    <tr>\n",
       "      <th>2</th>\n",
       "      <td>1550</td>\n",
       "      <td>5.5</td>\n",
       "      <td>5.5</td>\n",
       "      <td>3.5</td>\n",
       "      <td>0.636364</td>\n",
       "      <td>0.210843</td>\n",
       "      <td>1.25060</td>\n",
       "      <td>0.56</td>\n",
       "      <td>7.457100</td>\n",
       "      <td>511500.0</td>\n",
       "    </tr>\n",
       "    <tr>\n",
       "      <th>3</th>\n",
       "      <td>1100</td>\n",
       "      <td>8.0</td>\n",
       "      <td>6.5</td>\n",
       "      <td>4.5</td>\n",
       "      <td>0.692308</td>\n",
       "      <td>0.271084</td>\n",
       "      <td>1.15700</td>\n",
       "      <td>0.56</td>\n",
       "      <td>8.846500</td>\n",
       "      <td>528000.0</td>\n",
       "    </tr>\n",
       "  </tbody>\n",
       "</table>\n",
       "</div>"
      ],
      "text/plain": [
       "      n  Tempo   Fr   Fa     Fa/Fr     Fa/C0        Y     X         P  \\\n",
       "0  1850    3.5  5.0  2.0  0.400000  0.120482  1.42555  0.56  5.651100   \n",
       "1  1050    4.0  4.0  1.5  0.375000  0.090361  1.52553  0.56  4.528295   \n",
       "2  1550    5.5  5.5  3.5  0.636364  0.210843  1.25060  0.56  7.457100   \n",
       "3  1100    8.0  6.5  4.5  0.692308  0.271084  1.15700  0.56  8.846500   \n",
       "\n",
       "         li  \n",
       "0  388500.0  \n",
       "1  252000.0  \n",
       "2  511500.0  \n",
       "3  528000.0  "
      ]
     },
     "execution_count": 50,
     "metadata": {},
     "output_type": "execute_result"
    }
   ],
   "source": [
    "data = {'n':[1850,1050,1550,1100], 'Tempo':[3.5,4.,5.5,8.], \n",
    "        'Fr':[5,4,5.5,6.5], 'Fa':[2,1.5,3.5,4.5]}\n",
    "\n",
    "df = pd.DataFrame(data)\n",
    "df['Fa/Fr'] = df['Fa']/df['Fr']\n",
    "df['Fa/C0'] = df['Fa']/16.6\n",
    "\n",
    "#Tabela V,x,Y\n",
    "#df['Y'] = [1.52038, 1.63681, 1.33205, 1.2570225]\n",
    "df['Y'] = [1.42555, 1.52553, 1.2506, 1.157]\n",
    "df['X'] = [0.56]*4\n",
    "\n",
    "#Calculo da força\n",
    "df['P'] = (df['X']*df['Fr']) + (df['Y']*df['Fa'])\n",
    "df['li'] = df['Tempo']*df['n']*60\n",
    "\n",
    "df"
   ]
  },
  {
   "cell_type": "code",
   "execution_count": 51,
   "metadata": {},
   "outputs": [
    {
     "data": {
      "image/png": "[encoded data removed]",
      "text/latex": [
       "$\\displaystyle \\left[ 461063390.635103, \\  902133025.320066, \\  198975731.885085, \\  118562414.662823\\right]$"
      ],
      "text/plain": [
       "[461063390.635103, 902133025.320066, 198975731.885085, 118562414.662823]"
      ]
     },
     "execution_count": 51,
     "metadata": {},
     "output_type": "execute_result"
    }
   ],
   "source": [
    "P_arr = df['P'].values\n",
    "li_arr = df['li'].values\n",
    "\n",
    "Li_list = []\n",
    "for i in range(len(P_arr)):\n",
    "    Li = cr_exp.subs({creq:21.8,\n",
    "                     P:P_arr[i],\n",
    "                     ka:2.25,\n",
    "                     kc:1.,\n",
    "                     ln:90e6,\n",
    "                     p:0.33})\n",
    "    Li_list.append(solve(Li)[0])\n",
    "Li_list"
   ]
  },
  {
   "cell_type": "code",
   "execution_count": 52,
   "metadata": {},
   "outputs": [
    {
     "data": {
      "image/png": "[encoded data removed]",
      "text/latex": [
       "$\\displaystyle 0.00814597113252538 x = 1$"
      ],
      "text/plain": [
       "0.00814597113252538⋅x = 1"
      ]
     },
     "execution_count": 52,
     "metadata": {},
     "output_type": "execute_result"
    }
   ],
   "source": [
    "soma=0\n",
    "for i in range(len(li_arr)):\n",
    "    soma += li_arr[i]/Li_list[i]\n",
    "\n",
    "f = Eq(soma*x, 1)\n",
    "f"
   ]
  },
  {
   "cell_type": "code",
   "execution_count": 53,
   "metadata": {},
   "outputs": [
    {
     "data": {
      "image/png": "[encoded data removed]",
      "text/latex": [
       "$\\displaystyle \\left[ 122.760071663792\\right]$"
      ],
      "text/plain": [
       "[122.760071663792]"
      ]
     },
     "execution_count": 53,
     "metadata": {},
     "output_type": "execute_result"
    }
   ],
   "source": [
    "solve(f)"
   ]
  },
  {
   "cell_type": "code",
   "execution_count": null,
   "metadata": {},
   "outputs": [],
   "source": []
  },
  {
   "cell_type": "code",
   "execution_count": null,
   "metadata": {},
   "outputs": [],
   "source": []
  },
  {
   "cell_type": "code",
   "execution_count": null,
   "metadata": {},
   "outputs": [],
   "source": []
  }
 ],
 "metadata": {
  "interpreter": {
   "hash": "894588d70223105318f3a6143f469ff55b12e3d45628534b2f37efc006a33ec3"
  },
  "kernelspec": {
   "display_name": "Python 3.8.8 ('base')",
   "language": "python",
   "name": "python3"
  },
  "language_info": {
   "codemirror_mode": {
    "name": "ipython",
    "version": 3
   },
   "file_extension": ".py",
   "mimetype": "text/x-python",
   "name": "python",
   "nbconvert_exporter": "python",
   "pygments_lexer": "ipython3",
   "version": "3.8.8"
  },
  "orig_nbformat": 4
 },
 "nbformat": 4,
 "nbformat_minor": 2
}
