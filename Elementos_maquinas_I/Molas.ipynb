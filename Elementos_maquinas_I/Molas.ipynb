{
 "cells": [
  {
   "cell_type": "code",
   "execution_count": 1,
   "metadata": {},
   "outputs": [
    {
     "data": {
      "text/latex": [
       "$\\displaystyle \\frac{\\frac{0.263 A d^{b + 2.0}}{C} - F_{min} K_{s}}{F_{a} K_{w} \\left(\\frac{1.34 A d^{b}}{S_{f}} - 1.0\\right) + K_{s} \\left(F_{m} - F_{min}\\right)}$"
      ],
      "text/plain": [
       "(0.263*A*d**(b + 2.0)/C - F_{min}*K_s)/(F_a*K_w*(1.34*A*d**b/S_f - 1.0) + K_s*(F_m - F_{min}))"
      ]
     },
     "execution_count": 1,
     "metadata": {},
     "output_type": "execute_result"
    }
   ],
   "source": [
    "from sympy import * \n",
    "from sympy.abc import *\n",
    "import numpy as np\n",
    "import matplotlib.pyplot as plt\n",
    "\n",
    "def Kw_(C):\n",
    "    return ((4*C - 1)/(4*C - 4)) + 0.625/C\n",
    "\n",
    "def Ks_(C):\n",
    "    return (0.5/C) + 1\n",
    "\n",
    "def Fm_(Fmax, Fmin):\n",
    "    return (Fmax + Fmin)/2\n",
    "\n",
    "def Fa_(Fmax, Fmin):\n",
    "    return (Fmax - Fmin)/2\n",
    "\n",
    "Ks, Kw, Fmin, Fmax, Fm, Sf, Fa, nf, Ytrab = symbols(\"K_s K_w F_{min} F_{max} F_m S_f F_a n_f y_{trab}\") \n",
    "\n",
    "Y = ((d**(b+2))*0.67*np.pi*A)\n",
    "Z = (Y/(8*C)) - Ks*Fmin\n",
    "X = Ks*(Fm-Fmin) + (1.34*((A*d**b)/Sf)-1)*Kw*Fa\n",
    "\n",
    "e = Z/X\n",
    "e.evalf(3)"
   ]
  },
  {
   "cell_type": "markdown",
   "metadata": {},
   "source": [
    "### Resumo de molas helicoidais - Segunda - Aula 10/01 \n",
    "Indice da mola $C$\n",
    "\n",
    "$$K_s = 1 + \\frac{0.5}{C}$$\n",
    "$$K_w = \\frac{4C - 1}{4C - 4} + \\frac{0.625}{C}$$\n",
    "\n",
    "Forças médias e alternadas\n",
    "\n",
    "$$F_m = \\frac{F_{max + F_{min}}}{2}$$\n",
    "$$F_a = \\frac{F_{max - F_{min}}}{2}$$\n",
    "\n",
    "Determinando $d$ pela relação iterativa - Começar i com $d=1mm$\n",
    "$$d = \\left(\\frac{11.9 C n_{f} \\left(F_{a} K_{w} \\left(\\frac{1.34 A d^{b}}{S_{f}} - 1.0\\right) + K_{s} \\left(F_{m} - \\frac{F_{min} \\left(n_{f} - 1.0\\right)}{n_{f}}\\right)\\right)}{A \\pi}\\right)^{\\frac{1}{b + 2.0}}$$\n",
    "\n",
    "Diâmetro médio $D$ e externo $D_0$\n",
    "$$D = Cd$$\n",
    "$$D_0 = D + d$$\n",
    "\n",
    "Rigidez da mola $K$\n",
    "$$K = \\frac{F_{max - F_{min}}}{y_{trabalho}}$$\n",
    "\n",
    "Número de espiras ativas $N_a$ e totais $N_t$\n",
    "$$N_a = \\frac{d^{4}G}{8D^3K}$$\n",
    "$$N_t = N_a + 2$$\n",
    "\n",
    "Rigidez da mola $K$ considerando $Na$ inteiro\n",
    "$$K = \\frac{d^{4}G}{8D^3N_a}$$\n",
    "\n",
    "\n",
    "Deflexão inicial $y_{inicial}$\n",
    "$$y_{inic} = \\frac{F_{min}}{K}$$\n",
    "\n",
    "Comprimento livre $L_f$\n",
    "$$L_f = dN_t + 1.15 + y_{inic}$$"
   ]
  },
  {
   "cell_type": "code",
   "execution_count": 2,
   "metadata": {},
   "outputs": [
    {
     "data": {
      "text/latex": [
       "$\\displaystyle \\left(\\frac{11.9 C n_{f} \\left(F_{a} K_{w} \\left(\\frac{1.34 A d^{b}}{S_{f}} - 1.0\\right) + K_{s} \\left(F_{m} - \\frac{F_{min} \\left(n_{f} - 1.0\\right)}{n_{f}}\\right)\\right)}{A \\pi}\\right)^{\\frac{1}{b + 2.0}}$"
      ],
      "text/plain": [
       "(11.9*C*n_f*(F_a*K_w*(1.34*A*d**b/S_f - 1.0) + K_s*(F_m - F_{min}*(n_f - 1.0)/n_f))/(A*pi))**(1/(b + 2.0))"
      ]
     },
     "execution_count": 2,
     "metadata": {},
     "output_type": "execute_result"
    }
   ],
   "source": [
    "#Equação iterativo de 'd'\n",
    "U = Fm-((nf-1)/nf)*Fmin\n",
    "U_ = 1.34*((A*d**b)/Sf) - 1\n",
    "J = ((8*C*nf)/(0.67*pi*A))\n",
    "\n",
    "d_ = (J*(Ks*U + U_*Kw*Fa))**(1/(b+2))\n",
    "d_.evalf(3)"
   ]
  },
  {
   "cell_type": "code",
   "execution_count": 3,
   "metadata": {},
   "outputs": [
    {
     "data": {
      "text/plain": [
       "array([7.27672017, 6.35883075, 6.41626819, 6.41241659, 6.41267379,\n",
       "       6.41265647, 6.41265749, 6.41265749, 6.41265749, 6.41265749])"
      ]
     },
     "execution_count": 3,
     "metadata": {},
     "output_type": "execute_result"
    }
   ],
   "source": [
    "#Dados do problema\n",
    "fmax, fmin, ytrab, c = 600, 300, 25E-3, 8\n",
    "A_, b_, sf = 1909.9, -0.1453, 310\n",
    "\n",
    "#Cálculo dos coeficientes\n",
    "ks, kw = Ks_(c), Kw_(c)\n",
    "\n",
    "#Cálculo das forças médias e alternadas\n",
    "fm = Fm_(fmax, fmin)\n",
    "fa = Fa_(fmax, fmin)\n",
    "\n",
    "#Cálculo iterativo do diâmetro\n",
    "solução = []\n",
    "din = 1 #chute inicial\n",
    "for i in range(10):\n",
    "    s = d_.subs({d:din, Kw:kw, Ks:ks, Fm:fm, Fa:fa, nf:1.5, Fmin:fmin, Fmax:fmax, \n",
    "                b:b_, A:A_, Sf:sf, C:c, pi:np.pi})               \n",
    "    solução.append(s)\n",
    "    din = (s.evalf(5))\n",
    "    \n",
    "np.array(solução, dtype=float)"
   ]
  },
  {
   "cell_type": "code",
   "execution_count": 4,
   "metadata": {},
   "outputs": [
    {
     "data": {
      "text/plain": [
       "(12000.0, 0.052, 0.058499999999999996)"
      ]
     },
     "execution_count": 4,
     "metadata": {},
     "output_type": "execute_result"
    }
   ],
   "source": [
    "#Diâmetro comercial e dados numéricos\n",
    "C, G = c, 80.8E9\n",
    "dc = 6.5E-3\n",
    "\n",
    "#Diâmetro médio D\n",
    "D = C*dc\n",
    "\n",
    "#Diâmetro externo D0\n",
    "D0 = D + dc\n",
    "\n",
    "#Rigidez da mola\n",
    "K = (fmax-fmin)/ytrab\n",
    "\n",
    "K, D, D0"
   ]
  },
  {
   "cell_type": "code",
   "execution_count": 5,
   "metadata": {},
   "outputs": [
    {
     "data": {
      "text/plain": [
       "(10.685221354166664, 11)"
      ]
     },
     "execution_count": 5,
     "metadata": {},
     "output_type": "execute_result"
    }
   ],
   "source": [
    "#Qtd de espiras ativas\n",
    "Na_ = (G*dc**4)/(8*K*(D)**3)\n",
    "\n",
    "#aprox pra cima\n",
    "Na = int(Na_) + 1\n",
    "(Na_, Na)"
   ]
  },
  {
   "cell_type": "code",
   "execution_count": 6,
   "metadata": {},
   "outputs": [
    {
     "data": {
      "text/plain": [
       "11656.605113636362"
      ]
     },
     "execution_count": 6,
     "metadata": {},
     "output_type": "execute_result"
    }
   ],
   "source": [
    "#Rigidez da mola de novo\n",
    "K_ = (G*dc**4)/(8*Na*(D)**3)\n",
    "K_"
   ]
  },
  {
   "cell_type": "code",
   "execution_count": 7,
   "metadata": {},
   "outputs": [
    {
     "data": {
      "text/plain": [
       "0.02573648134044174"
      ]
     },
     "execution_count": 7,
     "metadata": {},
     "output_type": "execute_result"
    }
   ],
   "source": [
    "#Deflexão inicial\n",
    "yinic = fmin/K_\n",
    "yinic"
   ]
  },
  {
   "cell_type": "code",
   "execution_count": 8,
   "metadata": {},
   "outputs": [
    {
     "data": {
      "text/plain": [
       "0.13898648134044173"
      ]
     },
     "execution_count": 8,
     "metadata": {},
     "output_type": "execute_result"
    }
   ],
   "source": [
    "#Comprimento livre\n",
    "Nt = Na + 2\n",
    "Lf = (dc)*Nt + 1.15*(ytrab) + yinic\n",
    "Lf"
   ]
  },
  {
   "cell_type": "markdown",
   "metadata": {},
   "source": [
    "### Resumo de molas de compressão/tração - Terça - Aula 11/01 \n",
    "\n",
    "Comprimento livre $L_f$\n",
    "$$L_f = L_b + 2L_g$$\n",
    "$$L_f = N_t + 2L_g$$\n",
    "\n",
    "Espiras ativas $N_a$\n",
    "$$N_t = N_a + 1$$\n",
    "\n",
    "Equação transcendental pra determinar o diâmetro do fio\n",
    "$$d = \\left(G \\left(\\frac{2.98507462686567 F_{a} n_{f} \\left(0.38659 A d^{b} - 0.2885 S_{f}\\right)}{S_{f}} + F_{m} n_{f} - F_{min} \\left(n_{f} - 1\\right)\\right)\\right)^{\\frac{1}{b + 2}}$$"
   ]
  },
  {
   "cell_type": "code",
   "execution_count": 9,
   "metadata": {},
   "outputs": [
    {
     "data": {
      "text/latex": [
       "$\\displaystyle \\left(\\frac{\\left(128.0 K_{b} + 4.0\\right) \\left(\\frac{2.98 F_{a} n_{f} \\left(0.387 A d^{b} - 0.289 S_{f}\\right)}{S_{f}} + F_{m} n_{f} - F_{min} \\left(n_{f} - 1.0\\right)\\right)}{A \\pi}\\right)^{\\frac{1}{b + 2.0}}$"
      ],
      "text/plain": [
       "((128.0*K_b + 4.0)*(2.98*F_a*n_f*(0.387*A*d**b - 0.289*S_f)/S_f + F_m*n_f - F_{min}*(n_f - 1.0))/(A*pi))**(1/(b + 2.0))"
      ]
     },
     "execution_count": 9,
     "metadata": {},
     "output_type": "execute_result"
    }
   ],
   "source": [
    "from sympy import * \n",
    "from sympy.abc import *\n",
    "import numpy as np\n",
    "import matplotlib.pyplot as plt\n",
    "\n",
    "Ks, Kw, Fmin, Fmax, Fm, Sf, Fa, nf, Ytrab = symbols(\"K_s K_w F_{min} F_{max} F_m S_f F_a n_f y_{trab}\") \n",
    "Kb = symbols(\"K_b\") \n",
    "\n",
    "C=8\n",
    "G_ = (4*(4*Kb*C+1))/(pi*A)\n",
    "H_ = nf*Fm - (nf-1)*Fmin \n",
    "T_ = (0.577*(-0.5*Sf + 0.67*A*d**b))/(0.5*0.67*Sf)\n",
    "d_ = (G_*(H_ + nf*Fa*T_))**(1/(b+2))\n",
    "d_.evalf(3)"
   ]
  },
  {
   "cell_type": "code",
   "execution_count": 10,
   "metadata": {},
   "outputs": [
    {
     "data": {
      "text/plain": [
       "[4.90339015850936,\n",
       " 4.31041980252648,\n",
       " 4.35523200896826,\n",
       " 4.35161560058455,\n",
       " 4.35190591019958,\n",
       " 4.35188262669210,\n",
       " 4.35188446480197,\n",
       " 4.35188446480197,\n",
       " 4.35188446480197,\n",
       " 4.35188446480197]"
      ]
     },
     "execution_count": 10,
     "metadata": {},
     "output_type": "execute_result"
    }
   ],
   "source": [
    "#Dados dos materiais\n",
    "dic = { 'A227':[-0.1822, 1753.3],\n",
    "        'A228':[-0.1625, 2153.5],\n",
    "        'A229':[-0.1833, 1831.2],\n",
    "        'A232':[-0.1453, 1909.9],\n",
    "        'A232':[-0.0934, 2059.2]}\n",
    "\n",
    "material = 'A228'\n",
    "fmax, fmin, C = 150, 50, 8\n",
    "\n",
    "b_, A_, sf = dic[material][0], dic[material][1], 310\n",
    "fm = Fm_(fmax, fmin)\n",
    "fa = Fa_(fmax, fmin)\n",
    "kb = (-1-C+4*C**2)/(4*C*(C-1))\n",
    "\n",
    "#Cálculo iterativo do diâmetro\n",
    "solução = []\n",
    "din = 1 #chute inicial\n",
    "for i in range(10):\n",
    "    s = d_.subs({d:din, Kb:kb, Fm:fm, Fa:fa, nf:2, Fmin:fmin, Fmax:fmax, \n",
    "                b:b_, A:A_, Sf:sf, C:8, pi:np.pi})               \n",
    "    solução.append(s)\n",
    "    din = (s.evalf(5))\n",
    "solução    \n",
    "#np.array(solução, dtype=float)"
   ]
  },
  {
   "cell_type": "code",
   "execution_count": null,
   "metadata": {},
   "outputs": [],
   "source": []
  }
 ],
 "metadata": {
  "interpreter": {
   "hash": "e38bdacfe1d6e2b7e20a64d2eef782d7715e4314dc541be72f500d3c69b94a4f"
  },
  "kernelspec": {
   "display_name": "Python 3.8.8 ('base')",
   "language": "python",
   "name": "python3"
  },
  "language_info": {
   "codemirror_mode": {
    "name": "ipython",
    "version": 3
   },
   "file_extension": ".py",
   "mimetype": "text/x-python",
   "name": "python",
   "nbconvert_exporter": "python",
   "pygments_lexer": "ipython3",
   "version": "3.8.8"
  },
  "orig_nbformat": 4
 },
 "nbformat": 4,
 "nbformat_minor": 2
}
