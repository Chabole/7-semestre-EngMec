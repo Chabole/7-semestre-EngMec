{
 "cells": [
  {
   "cell_type": "code",
   "execution_count": 181,
   "metadata": {},
   "outputs": [
    {
     "data": {
      "text/latex": [
       "$\\displaystyle \\frac{\\frac{0.263 A d^{b + 2.0}}{C} - F_{min} K_{s}}{F_{a} K_{w} \\left(\\frac{1.34 A d^{b}}{S_{f}} - 1.0\\right) + K_{s} \\left(F_{m} - F_{min}\\right)}$"
      ],
      "text/plain": [
       "(0.263*A*d**(b + 2.0)/C - F_{min}*K_s)/(F_a*K_w*(1.34*A*d**b/S_f - 1.0) + K_s*(F_m - F_{min}))"
      ]
     },
     "execution_count": 181,
     "metadata": {},
     "output_type": "execute_result"
    }
   ],
   "source": [
    "from sympy import * \n",
    "from sympy.abc import *\n",
    "import numpy as np\n",
    "import matplotlib.pyplot as plt\n",
    "\n",
    "def Kw_(C):\n",
    "    return ((4*C - 1)/(4*C - 4)) + 0.625/C\n",
    "\n",
    "def Ks_(C):\n",
    "    return (0.5/C) + 1\n",
    "\n",
    "def Fm_(Fmax, Fmin):\n",
    "    return (Fmax + Fmin)/2\n",
    "\n",
    "def Fa_(Fmax, Fmin):\n",
    "    return (Fmax - Fmin)/2\n",
    "\n",
    "Ks, Kw, Fmin, Fmax, Fm, Sf, Fa, nf, Ytrab = symbols(\"K_s K_w F_{min} F_{max} F_m S_f F_a n_f y_{trab}\") \n",
    "\n",
    "Y = ((d**(b+2))*0.67*np.pi*A)\n",
    "Z = (Y/(8*C)) - Ks*Fmin\n",
    "X = Ks*(Fm-Fmin) + (1.34*((A*d**b)/Sf)-1)*Kw*Fa\n",
    "\n",
    "e = Z/X\n",
    "e.evalf(3)"
   ]
  },
  {
   "cell_type": "markdown",
   "metadata": {},
   "source": [
    "### Resumo de hélices helicoidais - Segunda - Aula 10/01 \n",
    "Indice da mola $C$\n",
    "\n",
    "$$K_s = 1 + \\frac{0.5}{C}$$\n",
    "$$K_w = \\frac{4C - 1}{4C - 4} + \\frac{0.625}{C}$$\n",
    "\n",
    "Forças médias e alternadas\n",
    "\n",
    "$$F_m = \\frac{F_{max + F_{min}}}{2}$$\n",
    "$$F_a = \\frac{F_{max - F_{min}}}{2}$$\n",
    "\n",
    "Determinando $d$ pela relação iterativa - Começar i com $d=1mm$\n",
    "$$d = \\left(\\frac{11.9 C n_{f} \\left(F_{a} K_{w} \\left(\\frac{1.34 A d^{b}}{S_{f}} - 1.0\\right) + K_{s} \\left(F_{m} - \\frac{F_{min} \\left(n_{f} - 1.0\\right)}{n_{f}}\\right)\\right)}{A \\pi}\\right)^{\\frac{1}{b + 2.0}}$$\n",
    "\n",
    "Diâmetro médio $D$ e externo $D_0$\n",
    "$$D = Cd$$\n",
    "$$D_0 = D + d$$\n",
    "\n",
    "Rigidez da mola $K$\n",
    "$$K = \\frac{F_{max - F_{min}}}{y_{trabalho}}$$\n",
    "\n",
    "Número de espiras ativas $N_a$ e totais $N_t$\n",
    "$$N_a = \\frac{d^{4}G}{8D^3K}$$\n",
    "$$N_t = N_a + 2$$\n",
    "\n",
    "Rigidez da mola $K$ considerando $Na$ inteiro\n",
    "$$K = \\frac{d^{4}G}{8D^3N_a}$$\n",
    "\n",
    "\n",
    "Deflexão inicial $y_{inicial}$\n",
    "$$y_{inic} = \\frac{F_{min}}{K}$$\n",
    "\n",
    "Comprimento livre $L_f$\n",
    "$$L_f = dN_t + 1.15 + y_{inic}$$"
   ]
  },
  {
   "cell_type": "code",
   "execution_count": 182,
   "metadata": {},
   "outputs": [
    {
     "data": {
      "text/latex": [
       "$\\displaystyle \\left(\\frac{11.9 C n_{f} \\left(F_{a} K_{w} \\left(\\frac{1.34 A d^{b}}{S_{f}} - 1.0\\right) + K_{s} \\left(F_{m} - \\frac{F_{min} \\left(n_{f} - 1.0\\right)}{n_{f}}\\right)\\right)}{A \\pi}\\right)^{\\frac{1}{b + 2.0}}$"
      ],
      "text/plain": [
       "(11.9*C*n_f*(F_a*K_w*(1.34*A*d**b/S_f - 1.0) + K_s*(F_m - F_{min}*(n_f - 1.0)/n_f))/(A*pi))**(1/(b + 2.0))"
      ]
     },
     "execution_count": 182,
     "metadata": {},
     "output_type": "execute_result"
    }
   ],
   "source": [
    "#Equação iterativo de 'd'\n",
    "U = Fm-((nf-1)/nf)*Fmin\n",
    "U_ = 1.34*((A*d**b)/Sf) - 1\n",
    "J = ((8*C*nf)/(0.67*pi*A))\n",
    "\n",
    "d_ = (J*(Ks*U + U_*Kw*Fa))**(1/(b+2))\n",
    "d_.evalf(3)"
   ]
  },
  {
   "cell_type": "code",
   "execution_count": null,
   "metadata": {},
   "outputs": [],
   "source": []
  },
  {
   "cell_type": "code",
   "execution_count": 191,
   "metadata": {},
   "outputs": [
    {
     "data": {
      "text/plain": [
       "array([7.27672017, 6.35883075, 6.41626819, 6.41241659, 6.41267379,\n",
       "       6.41265647, 6.41265749, 6.41265749, 6.41265749, 6.41265749])"
      ]
     },
     "execution_count": 191,
     "metadata": {},
     "output_type": "execute_result"
    }
   ],
   "source": [
    "#Dados do problema\n",
    "fmax, fmin, ytrab, c = 600, 300, 25E-3, 8\n",
    "A_, b_, sf = 1909.9, -0.1453, 310\n",
    "\n",
    "#Cálculo dos coeficientes\n",
    "ks, kw = Ks_(c), Kw_(c)\n",
    "\n",
    "#Cálculo das forças médias e alternadas\n",
    "fm = Fm_(fmax, fmin)\n",
    "fa = Fa_(fmax, fmin)\n",
    "\n",
    "#Cálculo iterativo do diâmetro\n",
    "solução = []\n",
    "din = 1 #chute inicial\n",
    "for i in range(10):\n",
    "    s = d_.subs({d:din, Kw:kw, Ks:ks, Fm:fm, Fa:fa, nf:1.5, Fmin:fmin, Fmax:fmax, \n",
    "                b:b_, A:A_, Sf:sf, C:c, pi:np.pi})               \n",
    "    solução.append(s)\n",
    "    din = (s.evalf(5))\n",
    "    \n",
    "np.array(solução, dtype=float)"
   ]
  },
  {
   "cell_type": "code",
   "execution_count": 210,
   "metadata": {},
   "outputs": [
    {
     "data": {
      "text/plain": [
       "(12000.0, 0.052, 0.058499999999999996)"
      ]
     },
     "execution_count": 210,
     "metadata": {},
     "output_type": "execute_result"
    }
   ],
   "source": [
    "#Diâmetro comercial e dados numéricos\n",
    "C, G = c, 80.8E9\n",
    "dc = 6.5E-3\n",
    "\n",
    "#Diâmetro médio D\n",
    "D = C*dc\n",
    "\n",
    "#Diâmetro externo D0\n",
    "D0 = D + dc\n",
    "\n",
    "#Rigidez da mola\n",
    "K = (fmax-fmin)/ytrab\n",
    "\n",
    "K, D, D0"
   ]
  },
  {
   "cell_type": "code",
   "execution_count": 199,
   "metadata": {},
   "outputs": [
    {
     "data": {
      "text/plain": [
       "(10.685221354166664, 11)"
      ]
     },
     "execution_count": 199,
     "metadata": {},
     "output_type": "execute_result"
    }
   ],
   "source": [
    "#Qtd de espiras ativas\n",
    "Na_ = (G*dc**4)/(8*K*(D)**3)\n",
    "\n",
    "#aprox pra cima\n",
    "Na = int(Na_) + 1\n",
    "(Na_, Na)"
   ]
  },
  {
   "cell_type": "code",
   "execution_count": 204,
   "metadata": {},
   "outputs": [
    {
     "data": {
      "text/plain": [
       "11656.605113636362"
      ]
     },
     "execution_count": 204,
     "metadata": {},
     "output_type": "execute_result"
    }
   ],
   "source": [
    "#Rigidez da mola de novo\n",
    "K_ = (G*dc**4)/(8*Na*(D)**3)\n",
    "K_"
   ]
  },
  {
   "cell_type": "code",
   "execution_count": 208,
   "metadata": {},
   "outputs": [
    {
     "data": {
      "text/plain": [
       "0.02573648134044174"
      ]
     },
     "execution_count": 208,
     "metadata": {},
     "output_type": "execute_result"
    }
   ],
   "source": [
    "#Deflexão inicial\n",
    "yinic = fmin/K_\n",
    "yinic"
   ]
  },
  {
   "cell_type": "code",
   "execution_count": 209,
   "metadata": {},
   "outputs": [
    {
     "data": {
      "text/plain": [
       "0.13898648134044173"
      ]
     },
     "execution_count": 209,
     "metadata": {},
     "output_type": "execute_result"
    }
   ],
   "source": [
    "#Comprimento livre\n",
    "Nt = Na + 2\n",
    "Lf = (dc)*Nt + 1.15*(ytrab) + yinic\n",
    "Lf"
   ]
  },
  {
   "cell_type": "code",
   "execution_count": null,
   "metadata": {},
   "outputs": [],
   "source": [
    "['Leonardo Antônio Araújo Biscaino',\n",
    "'Guilherme da Silva Alves',\n",
    "'Matheus de Oliveira Alexandre',\n",
    "'Camile Silva Bonfim',\n",
    "'Jean Felipe da Silva',\n",
    "'Gabriel Machado de Lima',\n",
    "'Julia Araujo Petreca',\n",
    "'João Pedro Trivelato dos Santos',\n",
    "'Isabella Oliani Bertholim',\n",
    "'Caroline Silva Bonfim',\n",
    "'Késya Lettícia Santos Vieira',\n",
    "'Matheus William Pascoalin Benetti',\n",
    "'Ruam Carlos Neves Pazini',\n",
    "'Henrique Amaro Fernandes',\n",
    "'Gustavo Henrique Dias Alves',\n",
    "'Vitória Batista Godoy',\n",
    "'Umberto Santa Barbara Boranga',\n",
    "'Gabriel Granze Soares',\n",
    "'Rogério Marcos da Silva Júnior',\n",
    "'João Bruno Leite dos Santos',\n",
    "'João Pedro Brito Vitorino da Cruz']"
   ]
  }
 ],
 "metadata": {
  "interpreter": {
   "hash": "894588d70223105318f3a6143f469ff55b12e3d45628534b2f37efc006a33ec3"
  },
  "kernelspec": {
   "display_name": "Python 3.8.8 64-bit ('base': conda)",
   "language": "python",
   "name": "python3"
  },
  "language_info": {
   "codemirror_mode": {
    "name": "ipython",
    "version": 3
   },
   "file_extension": ".py",
   "mimetype": "text/x-python",
   "name": "python",
   "nbconvert_exporter": "python",
   "pygments_lexer": "ipython3",
   "version": "3.8.8"
  },
  "orig_nbformat": 4
 },
 "nbformat": 4,
 "nbformat_minor": 2
}
