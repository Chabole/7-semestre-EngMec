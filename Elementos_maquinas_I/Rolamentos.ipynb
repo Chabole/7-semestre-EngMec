{
 "cells": [
  {
   "cell_type": "code",
   "execution_count": 16,
   "metadata": {},
   "outputs": [],
   "source": [
    "from sympy import *\n",
    "from sympy.abc import *\n",
    "import numpy as np\n",
    "init_printing()\n",
    "\n",
    "import warnings\n",
    "warnings.filterwarnings(\"ignore\")\n",
    "\n",
    "creq, ka, kc, ln, rpm, Lreq = symbols('C_{req} K_a Kc L_N rpm L_{req}')"
   ]
  },
  {
   "cell_type": "markdown",
   "metadata": {},
   "source": [
    "#### Equacionamento necessario"
   ]
  },
  {
   "cell_type": "code",
   "execution_count": 17,
   "metadata": {},
   "outputs": [],
   "source": [
    "# Se L for dado em milhares de horas transfom to -> revoluções\n",
    "#L = rpm*Lreq*60"
   ]
  },
  {
   "cell_type": "code",
   "execution_count": 18,
   "metadata": {},
   "outputs": [
    {
     "data": {
      "image/png": "[encoded data removed]",
      "text/latex": [
       "$\\displaystyle C_{req} = K_{a} P \\left(\\frac{L}{Kc L_{N}}\\right)^{p}$"
      ],
      "text/plain": [
       "                       p\n",
       "               ⎛  L   ⎞ \n",
       "C_{req} = Kₐ⋅P⋅⎜──────⎟ \n",
       "               ⎝Kc⋅L_N⎠ "
      ]
     },
     "execution_count": 18,
     "metadata": {},
     "output_type": "execute_result"
    }
   ],
   "source": [
    "# METODO 1\n",
    "ex = Eq(creq, P*ka*(L/(kc*ln))**p) #L precisa ser em revoluções\n",
    "ex"
   ]
  },
  {
   "cell_type": "markdown",
   "metadata": {},
   "source": [
    "#### Problema - Atividade 7"
   ]
  },
  {
   "cell_type": "code",
   "execution_count": 8,
   "metadata": {},
   "outputs": [],
   "source": [
    "#Cargas dinâmicas\n",
    "PA = 2.5\n",
    "PB = 8\n",
    "\n",
    "#Dados gerais\n",
    "KA = 1.1        #Maquina operatriz\n",
    "KC = 1          #90% confiabilidade\n",
    "LN =90E6        #Vida nominal rev\n",
    "p_value = 0.33  #p/ esferas como elemento rolante\n",
    "L_value = 30e3*350*60 #horas*rpm*60"
   ]
  },
  {
   "cell_type": "code",
   "execution_count": 11,
   "metadata": {},
   "outputs": [
    {
     "data": {
      "image/png": "[encoded data removed]",
      "text/latex": [
       "$\\displaystyle C_{req} = 5.22654924889401$"
      ],
      "text/plain": [
       "C_{req} = 5.22654924889401"
      ]
     },
     "execution_count": 11,
     "metadata": {},
     "output_type": "execute_result"
    }
   ],
   "source": [
    "#Mancal A - Esquerdo - rolamento 6813\n",
    "ex.subs({P:PA, ka:KA, kc:KC, L:L_value, ln:LN, p:p_value})"
   ]
  },
  {
   "cell_type": "code",
   "execution_count": 10,
   "metadata": {},
   "outputs": [
    {
     "data": {
      "image/png": "[encoded data removed]",
      "text/latex": [
       "$\\displaystyle C_{req} = 16.7249575964608$"
      ],
      "text/plain": [
       "C_{req} = 16.7249575964608"
      ]
     },
     "execution_count": 10,
     "metadata": {},
     "output_type": "execute_result"
    }
   ],
   "source": [
    "#Mancal B - Direito - rolamento 6913\n",
    "ex.subs({P:PB, ka:KA, kc:KC, L:L_value, ln:LN, p:p_value})"
   ]
  },
  {
   "cell_type": "markdown",
   "metadata": {},
   "source": [
    "#### Aula 8 - Resolução do exercicio de exemplo"
   ]
  },
  {
   "cell_type": "code",
   "execution_count": 37,
   "metadata": {},
   "outputs": [
    {
     "data": {
      "image/png": "[encoded data removed]",
      "text/latex": [
       "$\\displaystyle \\left[ 1758153743.28863, \\  373927935.226165, \\  134888735.082963\\right]$"
      ],
      "text/plain": [
       "[1758153743.28863, 373927935.226165, 134888735.082963]"
      ]
     },
     "execution_count": 37,
     "metadata": {},
     "output_type": "execute_result"
    }
   ],
   "source": [
    "P_list = [3e3, 5e3, 7e3]\n",
    "Rpm_list = [1000, 1000, 1000]\n",
    "tempo_list = [0.5, 0.3, 0.2]\n",
    "\n",
    "lista = []\n",
    "for p_ in P_list:#Tabela do rolamento, carga aplicada   \n",
    "    a = ex.subs({creq:8.8e3, P:p_, ka:KA, kc:KC, L:x, ln:LN, p:p_value})\n",
    "    lista.append(solve(a)[0])\n",
    "\n",
    "lista"
   ]
  },
  {
   "cell_type": "code",
   "execution_count": 38,
   "metadata": {},
   "outputs": [
    {
     "data": {
      "image/png": "[encoded data removed]",
      "text/latex": [
       "$\\displaystyle 0.000154163182053879 x = 1$"
      ],
      "text/plain": [
       "0.000154163182053879⋅x = 1"
      ]
     },
     "execution_count": 38,
     "metadata": {},
     "output_type": "execute_result"
    }
   ],
   "source": [
    "minner = Eq((tempo_list[0]*x*Rpm_list[0]*60)/lista[0] + (tempo_list[1]*x*Rpm_list[1]*60)/lista[1] + (tempo_list[2]*x*Rpm_list[2]*60)/lista[2],1)\n",
    "minner"
   ]
  },
  {
   "cell_type": "code",
   "execution_count": 46,
   "metadata": {},
   "outputs": [
    {
     "name": "stdout",
     "output_type": "stream",
     "text": [
      "O rolamento dura 6486.633 Horas ou 270.276 dias\n"
     ]
    }
   ],
   "source": [
    "print(f'O rolamento dura {solve(minner)[0]:.3f} Horas ou {solve(minner)[0]/24:.3f} dias')"
   ]
  },
  {
   "cell_type": "markdown",
   "metadata": {},
   "source": [
    "#### Problema - Atividade 8\n",
    "#A"
   ]
  },
  {
   "cell_type": "code",
   "execution_count": 57,
   "metadata": {},
   "outputs": [
    {
     "name": "stdout",
     "output_type": "stream",
     "text": [
      "O rolamento dura 5629.534 Horas ou 234.564 dias\n"
     ]
    }
   ],
   "source": [
    "P_list = [7e3, 14e3, 18e3]\n",
    "Rpm_list = [1800, 1200, 800]\n",
    "tempo_list = [0.55, 0.25, 0.2]\n",
    "\n",
    "lista = []\n",
    "for p_ in P_list:#Tabela do rolamento, carga aplicada   \n",
    "    a = ex.subs({creq:21.8e3, P:p_, ka:KA, kc:KC, L:x, ln:LN, p:p_value})\n",
    "    lista.append(solve(a)[0])\n",
    "    \n",
    "minner = Eq((tempo_list[0]*x*Rpm_list[0]*60)/lista[0] + (tempo_list[1]*x*Rpm_list[1]*60)/lista[1] + (tempo_list[2]*x*Rpm_list[2]*60)/lista[2],1)\n",
    "print(f'O rolamento dura {solve(minner)[0]:.3f} Horas ou {solve(minner)[0]/24:.3f} dias')"
   ]
  },
  {
   "cell_type": "markdown",
   "metadata": {},
   "source": [
    "#B"
   ]
  },
  {
   "cell_type": "code",
   "execution_count": 53,
   "metadata": {},
   "outputs": [
    {
     "name": "stdout",
     "output_type": "stream",
     "text": [
      "O rolamento dura 1021.196 Horas ou 170.199 dias\n"
     ]
    }
   ],
   "source": [
    "P_list = [3e3]\n",
    "Rpm_list = [1250]\n",
    "tempo_list = [1]\n",
    "\n",
    "lista = []\n",
    "for p_ in P_list:#Tabela do rolamento, carga aplicada   \n",
    "    a = ex.subs({creq:6.4e3, P:p_, ka:2.25, kc:KC, L:x, ln:LN, p:p_value})\n",
    "    lista.append(solve(a)[0])\n",
    "\n",
    "minner = Eq((tempo_list[0]*x*Rpm_list[0]*60)/lista[0], 1)\n",
    "print(f'O rolamento dura {solve(minner)[0]:.3f} Horas ou {solve(minner)[0]/6:.3f} dias')"
   ]
  },
  {
   "cell_type": "markdown",
   "metadata": {},
   "source": [
    "## Cargas radiais e axiais juntas"
   ]
  },
  {
   "cell_type": "code",
   "execution_count": null,
   "metadata": {},
   "outputs": [],
   "source": [
    "#from sympy import *\n",
    "#from sympy.abc import *"
   ]
  },
  {
   "cell_type": "code",
   "execution_count": 20,
   "metadata": {},
   "outputs": [
    {
     "data": {
      "image/png": "[encoded data removed]",
      "text/latex": [
       "$\\displaystyle C_{req} = K_{a} P \\left(\\frac{L}{Kc L_{N}}\\right)^{p}$"
      ],
      "text/plain": [
       "                       p\n",
       "               ⎛  L   ⎞ \n",
       "C_{req} = Kₐ⋅P⋅⎜──────⎟ \n",
       "               ⎝Kc⋅L_N⎠ "
      ]
     },
     "execution_count": 20,
     "metadata": {},
     "output_type": "execute_result"
    }
   ],
   "source": [
    "cr_exp = Eq(creq, P*ka*(L/(kc*ln))**p) #L precisa ser em revoluções\n",
    "cr_exp"
   ]
  },
  {
   "cell_type": "code",
   "execution_count": 23,
   "metadata": {},
   "outputs": [
    {
     "data": {
      "image/png": "[encoded data removed]",
      "text/latex": [
       "$\\displaystyle P = F_{a} Y + F_{r} V X$"
      ],
      "text/plain": [
       "P = Fₐ⋅Y + Fᵣ⋅V⋅X"
      ]
     },
     "execution_count": 23,
     "metadata": {},
     "output_type": "execute_result"
    }
   ],
   "source": [
    "Fr, Fa = symbols('F_r F_a')\n",
    "P_exp = Eq(P, X*V*Fr + Y*Fa)\n",
    "P_exp"
   ]
  },
  {
   "cell_type": "code",
   "execution_count": 25,
   "metadata": {},
   "outputs": [
    {
     "data": {
      "image/png": "[encoded data removed]",
      "text/latex": [
       "$\\displaystyle C_{req} = K_{a} \\left(\\frac{L}{Kc L_{N}}\\right)^{p} \\left(F_{a} Y + F_{r} V X\\right)$"
      ],
      "text/plain": [
       "                     p                \n",
       "             ⎛  L   ⎞                 \n",
       "C_{req} = Kₐ⋅⎜──────⎟ ⋅(Fₐ⋅Y + Fᵣ⋅V⋅X)\n",
       "             ⎝Kc⋅L_N⎠                 "
      ]
     },
     "execution_count": 25,
     "metadata": {},
     "output_type": "execute_result"
    }
   ],
   "source": [
    "cr_exp = Eq(creq, (X*V*Fr + Y*Fa)*ka*(L/(kc*ln))**p) #L precisa ser em revoluções\n",
    "cr_exp"
   ]
  },
  {
   "cell_type": "code",
   "execution_count": null,
   "metadata": {},
   "outputs": [],
   "source": []
  },
  {
   "cell_type": "code",
   "execution_count": null,
   "metadata": {},
   "outputs": [],
   "source": []
  }
 ],
 "metadata": {
  "interpreter": {
   "hash": "894588d70223105318f3a6143f469ff55b12e3d45628534b2f37efc006a33ec3"
  },
  "kernelspec": {
   "display_name": "Python 3.8.8 ('base')",
   "language": "python",
   "name": "python3"
  },
  "language_info": {
   "codemirror_mode": {
    "name": "ipython",
    "version": 3
   },
   "file_extension": ".py",
   "mimetype": "text/x-python",
   "name": "python",
   "nbconvert_exporter": "python",
   "pygments_lexer": "ipython3",
   "version": "3.8.8"
  },
  "orig_nbformat": 4
 },
 "nbformat": 4,
 "nbformat_minor": 2
}
