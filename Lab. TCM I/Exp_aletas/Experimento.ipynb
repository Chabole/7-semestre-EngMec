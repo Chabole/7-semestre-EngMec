{
 "cells": [
  {
   "cell_type": "code",
   "execution_count": 19,
   "metadata": {},
   "outputs": [],
   "source": [
    "import numpy as np\n",
    "import matplotlib.pyplot as plt\n",
    "import pandas as pd\n",
    "from scipy.stats import linregress\n",
    "from uncertainties import ufloat\n",
    "from uncertainties.umath import *  # sin(), etc.\n",
    "\n",
    "def mean(array):\n",
    "    mean_mi = 0\n",
    "    for i in range(len(array)):\n",
    "        mean_mi += array[i]\n",
    "    mean_mi = mean_mi/len(array)\n",
    "    return mean_mi\n",
    "\n",
    "def incert_A(array):\n",
    "    return ufloat(array.mean(), array.std(ddof=1)/np.sqrt(len(array)))\n",
    "\n",
    "def  incert_B(array, precision):\n",
    "    array_er = []\n",
    "    for i in range(len(array)):\n",
    "        array_er.append(ufloat(array[i], precision/np.sqrt(3)))\n",
    "    return array_er\n"
   ]
  }
 ],
 "metadata": {
  "kernelspec": {
   "display_name": "Python 3.8.8 ('base')",
   "language": "python",
   "name": "python3"
  },
  "language_info": {
   "codemirror_mode": {
    "name": "ipython",
    "version": 3
   },
   "file_extension": ".py",
   "mimetype": "text/x-python",
   "name": "python",
   "nbconvert_exporter": "python",
   "pygments_lexer": "ipython3",
   "version": "3.8.8"
  },
  "orig_nbformat": 4,
  "vscode": {
   "interpreter": {
    "hash": "e38bdacfe1d6e2b7e20a64d2eef782d7715e4314dc541be72f500d3c69b94a4f"
   }
  }
 },
 "nbformat": 4,
 "nbformat_minor": 2
}
