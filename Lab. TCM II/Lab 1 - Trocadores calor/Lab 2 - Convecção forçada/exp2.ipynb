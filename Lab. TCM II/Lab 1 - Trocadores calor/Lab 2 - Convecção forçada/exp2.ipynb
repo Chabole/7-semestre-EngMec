{
 "cells": [
  {
   "cell_type": "code",
   "execution_count": 16,
   "metadata": {},
   "outputs": [],
   "source": [
    "import numpy as np\n",
    "import matplotlib.pyplot as plt\n",
    "import pandas as pd\n",
    "from uncertainties import ufloat\n",
    "from uncertainties.umath import *  # sin(), etc.\n",
    "import ZebraLib as zb\n",
    "from scipy.optimize import curve_fit\n",
    "import uncertainties.unumpy as un\n",
    "\n",
    "import sys\n",
    "sys.path.append('D:/UNESP/EngMec-UNESP/')\n",
    "import frankenstein as fk\n"
   ]
  },
  {
   "cell_type": "code",
   "execution_count": 18,
   "metadata": {},
   "outputs": [],
   "source": [
    "D = 32/1000\n",
    "\n",
    "def calc_massa(delta_H):\n",
    "\n",
    "    def modelo(Re, args):\n",
    "        delta_h = args\n",
    "        Cq = 0.67522 + 0.01164*np.e**((60000-Re)/30806.98)\n",
    "        A = (fk.rho_ar*D*Cq*0.45)/fk.mi\n",
    "        B = np.sqrt((2*fk.g*fk.rho_agua*delta_h)/fk.rho_ar)\n",
    "        return (A*B) - Re\n",
    "\n",
    "    Re, it, res = zb.robustNewton(modelo, np.array([1e6]), args=delta_H)\n",
    "    m_dot = (np.pi*D*fk.mi*Re)/4\n",
    "    return m_dot, Re\n",
    "\n",
    "def q_fluxo(E, I):\n",
    "    L = 1.830\n",
    "    return E*I/(np.pi*D*L)\n",
    "\n",
    "def T_mistura(Tme, E, I, m_dot):\n",
    "\n",
    "    return \n"
   ]
  },
  {
   "cell_type": "code",
   "execution_count": 31,
   "metadata": {},
   "outputs": [],
   "source": [
    "class trocador_calor():\n",
    "    def __init__(self, E, I):\n",
    "        self.E = E\n",
    "        self.I = I\n",
    "    \n",
    "    def calc_massa(self, delta_H):\n",
    "\n",
    "        def modelo(Re, args):\n",
    "            delta_h = args\n",
    "            Cq = 0.67522 + 0.01164*np.e**((60000-Re)/30806.98)\n",
    "            A = (fk.rho_ar*D*Cq*0.45)/fk.mi\n",
    "            B = np.sqrt((2*fk.g*fk.rho_agua*delta_h)/fk.rho_ar)\n",
    "            return (A*B) - Re\n",
    "\n",
    "        Re, it, res = zb.robustNewton(modelo, np.array([1e6]), args=delta_H)\n",
    "        m_dot = (np.pi*D*fk.mi*Re)/4\n",
    "        return float(m_dot), float(Re)\n",
    "\n",
    "    def q_fluxo(self):\n",
    "        L = 1.830\n",
    "        return self.E*self.I/(np.pi*D*L)      \n",
    "\n",
    "    def T_mistura(self, Tme):\n",
    "\n",
    "        return    Tme + (Per*self.q_fluxo()*z)/(cp*self.calc_massa())\n",
    "            "
   ]
  },
  {
   "cell_type": "code",
   "execution_count": null,
   "metadata": {},
   "outputs": [],
   "source": []
  }
 ],
 "metadata": {
  "kernelspec": {
   "display_name": "Python 3.8.8 ('base')",
   "language": "python",
   "name": "python3"
  },
  "language_info": {
   "codemirror_mode": {
    "name": "ipython",
    "version": 3
   },
   "file_extension": ".py",
   "mimetype": "text/x-python",
   "name": "python",
   "nbconvert_exporter": "python",
   "pygments_lexer": "ipython3",
   "version": "3.8.8"
  },
  "orig_nbformat": 4,
  "vscode": {
   "interpreter": {
    "hash": "e38bdacfe1d6e2b7e20a64d2eef782d7715e4314dc541be72f500d3c69b94a4f"
   }
  }
 },
 "nbformat": 4,
 "nbformat_minor": 2
}
