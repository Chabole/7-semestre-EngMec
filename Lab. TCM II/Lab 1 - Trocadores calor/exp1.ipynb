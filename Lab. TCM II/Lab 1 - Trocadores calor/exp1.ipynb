{
 "cells": [
  {
   "cell_type": "code",
   "execution_count": 3,
   "metadata": {},
   "outputs": [
    {
     "name": "stdout",
     "output_type": "stream",
     "text": [
      "\\begin{tabular}{rrrrrr}\n",
      "\\toprule\n",
      " 800.00 &  600.00 &  1.15   &  1.32   &  1.75   &  1.63   \\\\\n",
      "\\midrule\n",
      "    700 &     600 &    1.15 &    1.31 &    1.76 &    1.61 \\\\\n",
      "    600 &     600 &    1.15 &    1.30 &    1.77 &    1.60 \\\\\n",
      "    500 &     600 &    1.15 &    1.29 &    1.77 &    1.56 \\\\\n",
      "    400 &     600 &    1.15 &    1.28 &    1.77 &    1.53 \\\\\n",
      "\\bottomrule\n",
      "\\end{tabular}\n",
      "\n"
     ]
    }
   ],
   "source": [
    "import numpy as np\n",
    "import matplotlib.pyplot as plt\n",
    "import pandas as pd\n",
    "from uncertainties import ufloat\n",
    "from uncertainties.umath import *  # sin(), etc.\n",
    "import ZebraLib as zb\n",
    "from scipy.optimize import curve_fit\n",
    "import uncertainties.unumpy as un\n",
    "\n",
    "\n",
    "df = pd.read_excel('D:/UNESP/EngMec-UNESP/Lab. TCM II/Lab 1 - Trocadores calor/dados.xlsx', sheet_name ='contra')\n",
    "\n",
    "print(df.to_latex(index=False))"
   ]
  },
  {
   "cell_type": "code",
   "execution_count": 5,
   "metadata": {},
   "outputs": [
    {
     "data": {
      "text/plain": [
       "'trocador de calor duplo tubo'"
      ]
     },
     "execution_count": 5,
     "metadata": {},
     "output_type": "execute_result"
    }
   ],
   "source": [
    "a = 'TROCADOR DE CALOR DUPLO TUBO'\n",
    "a.lower()"
   ]
  },
  {
   "cell_type": "code",
   "execution_count": null,
   "metadata": {},
   "outputs": [],
   "source": []
  }
 ],
 "metadata": {
  "kernelspec": {
   "display_name": "Python 3.8.8 ('base')",
   "language": "python",
   "name": "python3"
  },
  "language_info": {
   "codemirror_mode": {
    "name": "ipython",
    "version": 3
   },
   "file_extension": ".py",
   "mimetype": "text/x-python",
   "name": "python",
   "nbconvert_exporter": "python",
   "pygments_lexer": "ipython3",
   "version": "3.8.8"
  },
  "orig_nbformat": 4,
  "vscode": {
   "interpreter": {
    "hash": "e38bdacfe1d6e2b7e20a64d2eef782d7715e4314dc541be72f500d3c69b94a4f"
   }
  }
 },
 "nbformat": 4,
 "nbformat_minor": 2
}
