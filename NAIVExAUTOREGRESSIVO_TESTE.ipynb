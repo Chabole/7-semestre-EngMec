{
  "cells": [
    {
      "cell_type": "code",
      "execution_count": 52,
      "metadata": {
        "id": "Ks_V32Y6fHdL"
      },
      "outputs": [],
      "source": [
        "#!pip install -U -q PyDrive\n",
        "#!pip install pycaret-ts-alpha\n",
        "import os\n",
        "#from pydrive.auth import GoogleAuth\n",
        "import numpy as np\n",
        "\n",
        "#from pydrive.drive import GoogleDrive\n",
        "import matplotlib.pyplot as plt\n",
        "#from google.colab import drive\n",
        "#from oauth2client.client import GoogleCredentials\n",
        "import matplotlib.pyplot as plt\n",
        "import seaborn as sns\n",
        "import pandas as pd"
      ]
    },
    {
      "cell_type": "code",
      "execution_count": 171,
      "metadata": {
        "colab": {
          "base_uri": "https://localhost:8080/"
        },
        "id": "yTbS4CxBfKmy",
        "outputId": "14a0a682-9c67-49bc-8439-c55f96d81c4a"
      },
      "outputs": [
        {
          "data": {
            "text/html": [
              "<div>\n",
              "<style scoped>\n",
              "    .dataframe tbody tr th:only-of-type {\n",
              "        vertical-align: middle;\n",
              "    }\n",
              "\n",
              "    .dataframe tbody tr th {\n",
              "        vertical-align: top;\n",
              "    }\n",
              "\n",
              "    .dataframe thead th {\n",
              "        text-align: right;\n",
              "    }\n",
              "</style>\n",
              "<table border=\"1\" class=\"dataframe\">\n",
              "  <thead>\n",
              "    <tr style=\"text-align: right;\">\n",
              "      <th></th>\n",
              "      <th>LD</th>\n",
              "    </tr>\n",
              "    <tr>\n",
              "      <th>DATA</th>\n",
              "      <th></th>\n",
              "    </tr>\n",
              "  </thead>\n",
              "  <tbody>\n",
              "    <tr>\n",
              "      <th>2021-09-04</th>\n",
              "      <td>10.5</td>\n",
              "    </tr>\n",
              "    <tr>\n",
              "      <th>2021-09-16</th>\n",
              "      <td>10.1</td>\n",
              "    </tr>\n",
              "    <tr>\n",
              "      <th>2021-11-01</th>\n",
              "      <td>8.3</td>\n",
              "    </tr>\n",
              "    <tr>\n",
              "      <th>2022-02-11</th>\n",
              "      <td>7.3</td>\n",
              "    </tr>\n",
              "    <tr>\n",
              "      <th>2022-04-22</th>\n",
              "      <td>7.3</td>\n",
              "    </tr>\n",
              "    <tr>\n",
              "      <th>...</th>\n",
              "      <td>...</td>\n",
              "    </tr>\n",
              "    <tr>\n",
              "      <th>2022-10-13</th>\n",
              "      <td>NaN</td>\n",
              "    </tr>\n",
              "    <tr>\n",
              "      <th>2022-10-28</th>\n",
              "      <td>NaN</td>\n",
              "    </tr>\n",
              "    <tr>\n",
              "      <th>2022-11-12</th>\n",
              "      <td>NaN</td>\n",
              "    </tr>\n",
              "    <tr>\n",
              "      <th>2022-11-27</th>\n",
              "      <td>NaN</td>\n",
              "    </tr>\n",
              "    <tr>\n",
              "      <th>2022-12-12</th>\n",
              "      <td>NaN</td>\n",
              "    </tr>\n",
              "  </tbody>\n",
              "</table>\n",
              "<p>75 rows × 1 columns</p>\n",
              "</div>"
            ],
            "text/plain": [
              "              LD\n",
              "DATA            \n",
              "2021-09-04  10.5\n",
              "2021-09-16  10.1\n",
              "2021-11-01   8.3\n",
              "2022-02-11   7.3\n",
              "2022-04-22   7.3\n",
              "...          ...\n",
              "2022-10-13   NaN\n",
              "2022-10-28   NaN\n",
              "2022-11-12   NaN\n",
              "2022-11-27   NaN\n",
              "2022-12-12   NaN\n",
              "\n",
              "[75 rows x 1 columns]"
            ]
          },
          "execution_count": 171,
          "metadata": {},
          "output_type": "execute_result"
        }
      ],
      "source": [
        "df_2 =pd.read_excel('PROJECAO_RODANTES_2.xlsx')\n",
        "\n",
        "df_2 = df_2.drop(columns=['Unnamed: 4', 'Unnamed: 5', 'Unnamed: 6', 'FROTA', 'LE'])\n",
        "df_2['DATA'] = pd.to_datetime(df_2['DATA'])\n",
        "df_2.set_index('DATA', drop=True, inplace=True)\n",
        "df_2"
      ]
    },
    {
      "cell_type": "code",
      "execution_count": 53,
      "metadata": {
        "colab": {
          "base_uri": "https://localhost:8080/",
          "height": 423
        },
        "id": "7IALrBq3gfkC",
        "outputId": "37cc9691-22c0-4b26-afb5-ad3ca08d12ae"
      },
      "outputs": [
        {
          "data": {
            "text/html": [
              "<div>\n",
              "<style scoped>\n",
              "    .dataframe tbody tr th:only-of-type {\n",
              "        vertical-align: middle;\n",
              "    }\n",
              "\n",
              "    .dataframe tbody tr th {\n",
              "        vertical-align: top;\n",
              "    }\n",
              "\n",
              "    .dataframe thead th {\n",
              "        text-align: right;\n",
              "    }\n",
              "</style>\n",
              "<table border=\"1\" class=\"dataframe\">\n",
              "  <thead>\n",
              "    <tr style=\"text-align: right;\">\n",
              "      <th></th>\n",
              "      <th>DATA</th>\n",
              "      <th>FROTA</th>\n",
              "      <th>LD</th>\n",
              "      <th>LE</th>\n",
              "    </tr>\n",
              "  </thead>\n",
              "  <tbody>\n",
              "    <tr>\n",
              "      <th>0</th>\n",
              "      <td>2021-09-04</td>\n",
              "      <td>49578</td>\n",
              "      <td>10.5</td>\n",
              "      <td>10.5</td>\n",
              "    </tr>\n",
              "    <tr>\n",
              "      <th>1</th>\n",
              "      <td>2021-09-16</td>\n",
              "      <td>49578</td>\n",
              "      <td>10.1</td>\n",
              "      <td>10.2</td>\n",
              "    </tr>\n",
              "    <tr>\n",
              "      <th>2</th>\n",
              "      <td>2021-11-01</td>\n",
              "      <td>49578</td>\n",
              "      <td>8.3</td>\n",
              "      <td>8.0</td>\n",
              "    </tr>\n",
              "    <tr>\n",
              "      <th>3</th>\n",
              "      <td>2022-02-11</td>\n",
              "      <td>49578</td>\n",
              "      <td>7.3</td>\n",
              "      <td>7.1</td>\n",
              "    </tr>\n",
              "    <tr>\n",
              "      <th>4</th>\n",
              "      <td>2022-04-22</td>\n",
              "      <td>49578</td>\n",
              "      <td>7.3</td>\n",
              "      <td>7.1</td>\n",
              "    </tr>\n",
              "    <tr>\n",
              "      <th>...</th>\n",
              "      <td>...</td>\n",
              "      <td>...</td>\n",
              "      <td>...</td>\n",
              "      <td>...</td>\n",
              "    </tr>\n",
              "    <tr>\n",
              "      <th>56</th>\n",
              "      <td>2021-09-09</td>\n",
              "      <td>340054</td>\n",
              "      <td>9.0</td>\n",
              "      <td>8.3</td>\n",
              "    </tr>\n",
              "    <tr>\n",
              "      <th>57</th>\n",
              "      <td>2021-11-01</td>\n",
              "      <td>340054</td>\n",
              "      <td>3.9</td>\n",
              "      <td>3.9</td>\n",
              "    </tr>\n",
              "    <tr>\n",
              "      <th>58</th>\n",
              "      <td>2022-04-01</td>\n",
              "      <td>340054</td>\n",
              "      <td>3.9</td>\n",
              "      <td>3.9</td>\n",
              "    </tr>\n",
              "    <tr>\n",
              "      <th>59</th>\n",
              "      <td>2022-05-11</td>\n",
              "      <td>340054</td>\n",
              "      <td>10.9</td>\n",
              "      <td>11.0</td>\n",
              "    </tr>\n",
              "    <tr>\n",
              "      <th>60</th>\n",
              "      <td>2022-05-16</td>\n",
              "      <td>340065</td>\n",
              "      <td>11.3</td>\n",
              "      <td>11.3</td>\n",
              "    </tr>\n",
              "  </tbody>\n",
              "</table>\n",
              "<p>61 rows × 4 columns</p>\n",
              "</div>"
            ],
            "text/plain": [
              "         DATA   FROTA    LD    LE\n",
              "0  2021-09-04   49578  10.5  10.5\n",
              "1  2021-09-16   49578  10.1  10.2\n",
              "2  2021-11-01   49578   8.3   8.0\n",
              "3  2022-02-11   49578   7.3   7.1\n",
              "4  2022-04-22   49578   7.3   7.1\n",
              "..        ...     ...   ...   ...\n",
              "56 2021-09-09  340054   9.0   8.3\n",
              "57 2021-11-01  340054   3.9   3.9\n",
              "58 2022-04-01  340054   3.9   3.9\n",
              "59 2022-05-11  340054  10.9  11.0\n",
              "60 2022-05-16  340065  11.3  11.3\n",
              "\n",
              "[61 rows x 4 columns]"
            ]
          },
          "execution_count": 53,
          "metadata": {},
          "output_type": "execute_result"
        }
      ],
      "source": [
        "df=pd.read_excel('PROJECAO_RODANTES.xlsx')\n",
        "df"
      ]
    },
    {
      "cell_type": "code",
      "execution_count": 54,
      "metadata": {
        "colab": {
          "base_uri": "https://localhost:8080/"
        },
        "id": "DYm36H2MhJ7i",
        "outputId": "8bf71d43-0a2f-4c79-c80a-6b39f522a865"
      },
      "outputs": [
        {
          "name": "stdout",
          "output_type": "stream",
          "text": [
            "<class 'pandas.core.frame.DataFrame'>\n",
            "DatetimeIndex: 61 entries, 2021-09-04 to 2022-05-16\n",
            "Data columns (total 3 columns):\n",
            " #   Column  Non-Null Count  Dtype  \n",
            "---  ------  --------------  -----  \n",
            " 0   FROTA   61 non-null     int64  \n",
            " 1   LD      61 non-null     float64\n",
            " 2   LE      61 non-null     float64\n",
            "dtypes: float64(2), int64(1)\n",
            "memory usage: 1.9 KB\n"
          ]
        }
      ],
      "source": [
        "df['DATA'] = pd.to_datetime(df['DATA'])\n",
        "df.set_index('DATA',drop=True, inplace=True)\n",
        "df.info()"
      ]
    },
    {
      "cell_type": "code",
      "execution_count": 55,
      "metadata": {
        "colab": {
          "base_uri": "https://localhost:8080/"
        },
        "id": "IIUXvbPdvzLF",
        "outputId": "e96e0d75-ec61-4cdc-cf23-edbf2a606c8f"
      },
      "outputs": [
        {
          "name": "stdout",
          "output_type": "stream",
          "text": [
            "<class 'pandas.core.frame.DataFrame'>\n",
            "DatetimeIndex: 61 entries, 2021-09-04 to 2022-05-16\n",
            "Data columns (total 3 columns):\n",
            " #   Column  Non-Null Count  Dtype  \n",
            "---  ------  --------------  -----  \n",
            " 0   FROTA   61 non-null     int64  \n",
            " 1   LD      61 non-null     float64\n",
            " 2   LE      61 non-null     float64\n",
            "dtypes: float64(2), int64(1)\n",
            "memory usage: 1.9 KB\n"
          ]
        }
      ],
      "source": [
        "df.info()"
      ]
    },
    {
      "cell_type": "code",
      "execution_count": 56,
      "metadata": {
        "id": "wKJ_UQxWvSvd"
      },
      "outputs": [],
      "source": [
        "a=df[df.FROTA==49578][['LD','LE']]\n",
        "b=df[df.FROTA==112211][['LD','LE']]\n",
        "c=df[df.FROTA==112212][['LD','LE']]\n",
        "d=df[df.FROTA==112228][['LD','LE']]\n",
        "e=df[df.FROTA==112409][['LD','LE']]\n",
        "f=df[df.FROTA==112410][['LD','LE']]\n",
        "g=df[df.FROTA==117576][['LD','LE']]\n",
        "h=df[df.FROTA==117579][['LD','LE']]\n",
        "j=df[df.FROTA==340031][['LD','LE']]\n",
        "k=df[df.FROTA==340031][['LD','LE']]\n",
        "l=df[df.FROTA==340032][['LD','LE']]\n",
        "m=df[df.FROTA==340054][['LD','LE']]\n",
        "n=df[df.FROTA==340065][['LD','LE']]"
      ]
    },
    {
      "cell_type": "code",
      "execution_count": 57,
      "metadata": {
        "id": "0-lcPhBuxn0w"
      },
      "outputs": [],
      "source": [
        "from sklearn.model_selection import train_test_split"
      ]
    },
    {
      "cell_type": "code",
      "execution_count": 58,
      "metadata": {
        "id": "Td6IAbMkxnyF"
      },
      "outputs": [],
      "source": [
        "x = a.drop('LD', axis = 1)\n",
        "x1 = a.drop('LE', axis = 1)"
      ]
    },
    {
      "cell_type": "code",
      "execution_count": 59,
      "metadata": {
        "id": "GMVlegmdxnwL"
      },
      "outputs": [],
      "source": [
        "y=a['LD']\n",
        "y1=a['LE']"
      ]
    },
    {
      "cell_type": "code",
      "execution_count": 60,
      "metadata": {
        "id": "7GT_ok-5xnuR"
      },
      "outputs": [],
      "source": [
        "x_train, x_test, y_train, y_test = train_test_split (x,y,test_size = 0.3, random_state = 1)\n",
        "x1_train, x1_test, y1_train, y1_test = train_test_split (x,y,test_size = 0.3, random_state = 1)"
      ]
    },
    {
      "cell_type": "code",
      "execution_count": 61,
      "metadata": {
        "id": "vAQVe9vaxnrd"
      },
      "outputs": [],
      "source": [
        "from sklearn.linear_model import LinearRegression\n",
        "from sklearn.ensemble import RandomForestRegressor\n",
        "from sklearn import metrics\n",
        "import numpy as np"
      ]
    },
    {
      "cell_type": "code",
      "execution_count": 62,
      "metadata": {
        "colab": {
          "base_uri": "https://localhost:8080/"
        },
        "id": "vUMx1sWjxnpC",
        "outputId": "722d6819-4dad-4237-b801-34effee2c0b1"
      },
      "outputs": [
        {
          "data": {
            "text/plain": [
              "LinearRegression()"
            ]
          },
          "execution_count": 62,
          "metadata": {},
          "output_type": "execute_result"
        }
      ],
      "source": [
        "lin_reg = LinearRegression()\n",
        "lin_reg.fit (x_train, y_train)\n",
        "lin_reg.fit (x1_train, y1_train)"
      ]
    },
    {
      "cell_type": "code",
      "execution_count": 173,
      "metadata": {},
      "outputs": [
        {
          "data": {
            "text/html": [
              "<div>\n",
              "<style scoped>\n",
              "    .dataframe tbody tr th:only-of-type {\n",
              "        vertical-align: middle;\n",
              "    }\n",
              "\n",
              "    .dataframe tbody tr th {\n",
              "        vertical-align: top;\n",
              "    }\n",
              "\n",
              "    .dataframe thead th {\n",
              "        text-align: right;\n",
              "    }\n",
              "</style>\n",
              "<table border=\"1\" class=\"dataframe\">\n",
              "  <thead>\n",
              "    <tr style=\"text-align: right;\">\n",
              "      <th></th>\n",
              "      <th>LE</th>\n",
              "    </tr>\n",
              "    <tr>\n",
              "      <th>DATA</th>\n",
              "      <th></th>\n",
              "    </tr>\n",
              "  </thead>\n",
              "  <tbody>\n",
              "    <tr>\n",
              "      <th>2022-04-22</th>\n",
              "      <td>7.1</td>\n",
              "    </tr>\n",
              "    <tr>\n",
              "      <th>2021-09-04</th>\n",
              "      <td>10.5</td>\n",
              "    </tr>\n",
              "    <tr>\n",
              "      <th>2022-02-11</th>\n",
              "      <td>7.1</td>\n",
              "    </tr>\n",
              "  </tbody>\n",
              "</table>\n",
              "</div>"
            ],
            "text/plain": [
              "              LE\n",
              "DATA            \n",
              "2022-04-22   7.1\n",
              "2021-09-04  10.5\n",
              "2022-02-11   7.1"
            ]
          },
          "execution_count": 173,
          "metadata": {},
          "output_type": "execute_result"
        }
      ],
      "source": [
        "x_train"
      ]
    },
    {
      "cell_type": "code",
      "execution_count": 174,
      "metadata": {},
      "outputs": [
        {
          "data": {
            "text/plain": [
              "DATA\n",
              "2022-04-22     7.3\n",
              "2021-09-04    10.5\n",
              "2022-02-11     7.3\n",
              "Name: LD, dtype: float64"
            ]
          },
          "execution_count": 174,
          "metadata": {},
          "output_type": "execute_result"
        }
      ],
      "source": [
        "y_train"
      ]
    },
    {
      "cell_type": "code",
      "execution_count": 172,
      "metadata": {},
      "outputs": [
        {
          "name": "stderr",
          "output_type": "stream",
          "text": [
            "c:\\Users\\arthu\\anaconda3\\lib\\site-packages\\sklearn\\base.py:488: FutureWarning: The feature names should match those that were passed during fit. Starting version 1.2, an error will be raised.\n",
            "Feature names unseen at fit time:\n",
            "- LD\n",
            "Feature names seen at fit time, yet now missing:\n",
            "- LE\n",
            "\n",
            "  warnings.warn(message, FutureWarning)\n"
          ]
        },
        {
          "ename": "ValueError",
          "evalue": "Input contains NaN, infinity or a value too large for dtype('float64').",
          "output_type": "error",
          "traceback": [
            "\u001b[1;31m---------------------------------------------------------------------------\u001b[0m",
            "\u001b[1;31mValueError\u001b[0m                                Traceback (most recent call last)",
            "\u001b[1;32m~\\AppData\\Local\\Temp/ipykernel_20708/2782051270.py\u001b[0m in \u001b[0;36m<module>\u001b[1;34m\u001b[0m\n\u001b[1;32m----> 1\u001b[1;33m \u001b[0mlin_reg\u001b[0m\u001b[1;33m.\u001b[0m\u001b[0mpredict\u001b[0m\u001b[1;33m(\u001b[0m\u001b[0mdf_2\u001b[0m\u001b[1;33m)\u001b[0m\u001b[1;33m\u001b[0m\u001b[1;33m\u001b[0m\u001b[0m\n\u001b[0m",
            "\u001b[1;32mc:\\Users\\arthu\\anaconda3\\lib\\site-packages\\sklearn\\linear_model\\_base.py\u001b[0m in \u001b[0;36mpredict\u001b[1;34m(self, X)\u001b[0m\n\u001b[0;32m    360\u001b[0m             \u001b[0mReturns\u001b[0m \u001b[0mpredicted\u001b[0m \u001b[0mvalues\u001b[0m\u001b[1;33m.\u001b[0m\u001b[1;33m\u001b[0m\u001b[1;33m\u001b[0m\u001b[0m\n\u001b[0;32m    361\u001b[0m         \"\"\"\n\u001b[1;32m--> 362\u001b[1;33m         \u001b[1;32mreturn\u001b[0m \u001b[0mself\u001b[0m\u001b[1;33m.\u001b[0m\u001b[0m_decision_function\u001b[0m\u001b[1;33m(\u001b[0m\u001b[0mX\u001b[0m\u001b[1;33m)\u001b[0m\u001b[1;33m\u001b[0m\u001b[1;33m\u001b[0m\u001b[0m\n\u001b[0m\u001b[0;32m    363\u001b[0m \u001b[1;33m\u001b[0m\u001b[0m\n\u001b[0;32m    364\u001b[0m     \u001b[0m_preprocess_data\u001b[0m \u001b[1;33m=\u001b[0m \u001b[0mstaticmethod\u001b[0m\u001b[1;33m(\u001b[0m\u001b[0m_preprocess_data\u001b[0m\u001b[1;33m)\u001b[0m\u001b[1;33m\u001b[0m\u001b[1;33m\u001b[0m\u001b[0m\n",
            "\u001b[1;32mc:\\Users\\arthu\\anaconda3\\lib\\site-packages\\sklearn\\linear_model\\_base.py\u001b[0m in \u001b[0;36m_decision_function\u001b[1;34m(self, X)\u001b[0m\n\u001b[0;32m    343\u001b[0m         \u001b[0mcheck_is_fitted\u001b[0m\u001b[1;33m(\u001b[0m\u001b[0mself\u001b[0m\u001b[1;33m)\u001b[0m\u001b[1;33m\u001b[0m\u001b[1;33m\u001b[0m\u001b[0m\n\u001b[0;32m    344\u001b[0m \u001b[1;33m\u001b[0m\u001b[0m\n\u001b[1;32m--> 345\u001b[1;33m         \u001b[0mX\u001b[0m \u001b[1;33m=\u001b[0m \u001b[0mself\u001b[0m\u001b[1;33m.\u001b[0m\u001b[0m_validate_data\u001b[0m\u001b[1;33m(\u001b[0m\u001b[0mX\u001b[0m\u001b[1;33m,\u001b[0m \u001b[0maccept_sparse\u001b[0m\u001b[1;33m=\u001b[0m\u001b[1;33m[\u001b[0m\u001b[1;34m\"csr\"\u001b[0m\u001b[1;33m,\u001b[0m \u001b[1;34m\"csc\"\u001b[0m\u001b[1;33m,\u001b[0m \u001b[1;34m\"coo\"\u001b[0m\u001b[1;33m]\u001b[0m\u001b[1;33m,\u001b[0m \u001b[0mreset\u001b[0m\u001b[1;33m=\u001b[0m\u001b[1;32mFalse\u001b[0m\u001b[1;33m)\u001b[0m\u001b[1;33m\u001b[0m\u001b[1;33m\u001b[0m\u001b[0m\n\u001b[0m\u001b[0;32m    346\u001b[0m         \u001b[1;32mreturn\u001b[0m \u001b[0msafe_sparse_dot\u001b[0m\u001b[1;33m(\u001b[0m\u001b[0mX\u001b[0m\u001b[1;33m,\u001b[0m \u001b[0mself\u001b[0m\u001b[1;33m.\u001b[0m\u001b[0mcoef_\u001b[0m\u001b[1;33m.\u001b[0m\u001b[0mT\u001b[0m\u001b[1;33m,\u001b[0m \u001b[0mdense_output\u001b[0m\u001b[1;33m=\u001b[0m\u001b[1;32mTrue\u001b[0m\u001b[1;33m)\u001b[0m \u001b[1;33m+\u001b[0m \u001b[0mself\u001b[0m\u001b[1;33m.\u001b[0m\u001b[0mintercept_\u001b[0m\u001b[1;33m\u001b[0m\u001b[1;33m\u001b[0m\u001b[0m\n\u001b[0;32m    347\u001b[0m \u001b[1;33m\u001b[0m\u001b[0m\n",
            "\u001b[1;32mc:\\Users\\arthu\\anaconda3\\lib\\site-packages\\sklearn\\base.py\u001b[0m in \u001b[0;36m_validate_data\u001b[1;34m(self, X, y, reset, validate_separately, **check_params)\u001b[0m\n\u001b[0;32m    559\u001b[0m             \u001b[1;32mraise\u001b[0m \u001b[0mValueError\u001b[0m\u001b[1;33m(\u001b[0m\u001b[1;34m\"Validation should be done on X, y or both.\"\u001b[0m\u001b[1;33m)\u001b[0m\u001b[1;33m\u001b[0m\u001b[1;33m\u001b[0m\u001b[0m\n\u001b[0;32m    560\u001b[0m         \u001b[1;32melif\u001b[0m \u001b[1;32mnot\u001b[0m \u001b[0mno_val_X\u001b[0m \u001b[1;32mand\u001b[0m \u001b[0mno_val_y\u001b[0m\u001b[1;33m:\u001b[0m\u001b[1;33m\u001b[0m\u001b[1;33m\u001b[0m\u001b[0m\n\u001b[1;32m--> 561\u001b[1;33m             \u001b[0mX\u001b[0m \u001b[1;33m=\u001b[0m \u001b[0mcheck_array\u001b[0m\u001b[1;33m(\u001b[0m\u001b[0mX\u001b[0m\u001b[1;33m,\u001b[0m \u001b[1;33m**\u001b[0m\u001b[0mcheck_params\u001b[0m\u001b[1;33m)\u001b[0m\u001b[1;33m\u001b[0m\u001b[1;33m\u001b[0m\u001b[0m\n\u001b[0m\u001b[0;32m    562\u001b[0m             \u001b[0mout\u001b[0m \u001b[1;33m=\u001b[0m \u001b[0mX\u001b[0m\u001b[1;33m\u001b[0m\u001b[1;33m\u001b[0m\u001b[0m\n\u001b[0;32m    563\u001b[0m         \u001b[1;32melif\u001b[0m \u001b[0mno_val_X\u001b[0m \u001b[1;32mand\u001b[0m \u001b[1;32mnot\u001b[0m \u001b[0mno_val_y\u001b[0m\u001b[1;33m:\u001b[0m\u001b[1;33m\u001b[0m\u001b[1;33m\u001b[0m\u001b[0m\n",
            "\u001b[1;32mc:\\Users\\arthu\\anaconda3\\lib\\site-packages\\sklearn\\utils\\validation.py\u001b[0m in \u001b[0;36mcheck_array\u001b[1;34m(array, accept_sparse, accept_large_sparse, dtype, order, copy, force_all_finite, ensure_2d, allow_nd, ensure_min_samples, ensure_min_features, estimator)\u001b[0m\n\u001b[0;32m    790\u001b[0m \u001b[1;33m\u001b[0m\u001b[0m\n\u001b[0;32m    791\u001b[0m         \u001b[1;32mif\u001b[0m \u001b[0mforce_all_finite\u001b[0m\u001b[1;33m:\u001b[0m\u001b[1;33m\u001b[0m\u001b[1;33m\u001b[0m\u001b[0m\n\u001b[1;32m--> 792\u001b[1;33m             \u001b[0m_assert_all_finite\u001b[0m\u001b[1;33m(\u001b[0m\u001b[0marray\u001b[0m\u001b[1;33m,\u001b[0m \u001b[0mallow_nan\u001b[0m\u001b[1;33m=\u001b[0m\u001b[0mforce_all_finite\u001b[0m \u001b[1;33m==\u001b[0m \u001b[1;34m\"allow-nan\"\u001b[0m\u001b[1;33m)\u001b[0m\u001b[1;33m\u001b[0m\u001b[1;33m\u001b[0m\u001b[0m\n\u001b[0m\u001b[0;32m    793\u001b[0m \u001b[1;33m\u001b[0m\u001b[0m\n\u001b[0;32m    794\u001b[0m     \u001b[1;32mif\u001b[0m \u001b[0mensure_min_samples\u001b[0m \u001b[1;33m>\u001b[0m \u001b[1;36m0\u001b[0m\u001b[1;33m:\u001b[0m\u001b[1;33m\u001b[0m\u001b[1;33m\u001b[0m\u001b[0m\n",
            "\u001b[1;32mc:\\Users\\arthu\\anaconda3\\lib\\site-packages\\sklearn\\utils\\validation.py\u001b[0m in \u001b[0;36m_assert_all_finite\u001b[1;34m(X, allow_nan, msg_dtype)\u001b[0m\n\u001b[0;32m    112\u001b[0m         ):\n\u001b[0;32m    113\u001b[0m             \u001b[0mtype_err\u001b[0m \u001b[1;33m=\u001b[0m \u001b[1;34m\"infinity\"\u001b[0m \u001b[1;32mif\u001b[0m \u001b[0mallow_nan\u001b[0m \u001b[1;32melse\u001b[0m \u001b[1;34m\"NaN, infinity\"\u001b[0m\u001b[1;33m\u001b[0m\u001b[1;33m\u001b[0m\u001b[0m\n\u001b[1;32m--> 114\u001b[1;33m             raise ValueError(\n\u001b[0m\u001b[0;32m    115\u001b[0m                 msg_err.format(\n\u001b[0;32m    116\u001b[0m                     \u001b[0mtype_err\u001b[0m\u001b[1;33m,\u001b[0m \u001b[0mmsg_dtype\u001b[0m \u001b[1;32mif\u001b[0m \u001b[0mmsg_dtype\u001b[0m \u001b[1;32mis\u001b[0m \u001b[1;32mnot\u001b[0m \u001b[1;32mNone\u001b[0m \u001b[1;32melse\u001b[0m \u001b[0mX\u001b[0m\u001b[1;33m.\u001b[0m\u001b[0mdtype\u001b[0m\u001b[1;33m\u001b[0m\u001b[1;33m\u001b[0m\u001b[0m\n",
            "\u001b[1;31mValueError\u001b[0m: Input contains NaN, infinity or a value too large for dtype('float64')."
          ]
        }
      ],
      "source": [
        "lin_reg.predict(df_2)"
      ]
    },
    {
      "cell_type": "code",
      "execution_count": 63,
      "metadata": {
        "colab": {
          "base_uri": "https://localhost:8080/"
        },
        "id": "39YbW6EOxnkI",
        "outputId": "5ed7ef6b-11c9-471f-ef0d-594ffc716d26"
      },
      "outputs": [
        {
          "name": "stdout",
          "output_type": "stream",
          "text": [
            "R² da Regressão Linear: 0.9770173864752874\n",
            "RSME da Regressão Linear: 0.13644015887933153\n",
            "R² da Regressão Linear: 0.9770173864752874\n",
            "RSME da Regressão Linear: 0.13644015887933153\n"
          ]
        }
      ],
      "source": [
        "test_pred_lin = lin_reg.predict(x_test)\n",
        "test_pred_lin1 = lin_reg.predict(x1_test)\n",
        "\n",
        "r2_lin = metrics.r2_score (y_test, test_pred_lin)\n",
        "r2_lin1 = metrics.r2_score (y1_test, test_pred_lin1)\n",
        "\n",
        "rmse_lin = np.sqrt(metrics.mean_squared_error(y_test, test_pred_lin))\n",
        "rmse_lin1 = np.sqrt(metrics.mean_squared_error(y1_test, test_pred_lin1))\n",
        "\n",
        "print(f\"R² da Regressão Linear: {r2_lin}\")\n",
        "print(f\"RSME da Regressão Linear: {rmse_lin}\")\n",
        "\n",
        "print(f\"R² da Regressão Linear: {r2_lin1}\")\n",
        "print(f\"RSME da Regressão Linear: {rmse_lin1}\")"
      ]
    },
    {
      "cell_type": "code",
      "execution_count": 64,
      "metadata": {
        "colab": {
          "base_uri": "https://localhost:8080/",
          "height": 460
        },
        "id": "lJULr506xnfh",
        "outputId": "08b6ce50-6813-4d11-b01b-8af92ac3a350"
      },
      "outputs": [
        {
          "data": {
            "image/png": "[encoded data removed]",
            "text/plain": [
              "<Figure size 1080x360 with 1 Axes>"
            ]
          },
          "metadata": {
            "needs_background": "light"
          },
          "output_type": "display_data"
        },
        {
          "data": {
            "text/html": [
              "<div>\n",
              "<style scoped>\n",
              "    .dataframe tbody tr th:only-of-type {\n",
              "        vertical-align: middle;\n",
              "    }\n",
              "\n",
              "    .dataframe tbody tr th {\n",
              "        vertical-align: top;\n",
              "    }\n",
              "\n",
              "    .dataframe thead th {\n",
              "        text-align: right;\n",
              "    }\n",
              "</style>\n",
              "<table border=\"1\" class=\"dataframe\">\n",
              "  <thead>\n",
              "    <tr style=\"text-align: right;\">\n",
              "      <th></th>\n",
              "      <th>y_teste</th>\n",
              "      <th>y1_teste</th>\n",
              "      <th>y_previsao_lin</th>\n",
              "      <th>y1_previsao_lin</th>\n",
              "    </tr>\n",
              "    <tr>\n",
              "      <th>DATA</th>\n",
              "      <th></th>\n",
              "      <th></th>\n",
              "      <th></th>\n",
              "      <th></th>\n",
              "    </tr>\n",
              "  </thead>\n",
              "  <tbody>\n",
              "    <tr>\n",
              "      <th>2021-11-01</th>\n",
              "      <td>8.3</td>\n",
              "      <td>8.3</td>\n",
              "      <td>8.147059</td>\n",
              "      <td>8.147059</td>\n",
              "    </tr>\n",
              "    <tr>\n",
              "      <th>2021-09-16</th>\n",
              "      <td>10.1</td>\n",
              "      <td>10.1</td>\n",
              "      <td>10.217647</td>\n",
              "      <td>10.217647</td>\n",
              "    </tr>\n",
              "  </tbody>\n",
              "</table>\n",
              "</div>"
            ],
            "text/plain": [
              "            y_teste  y1_teste  y_previsao_lin  y1_previsao_lin\n",
              "DATA                                                          \n",
              "2021-11-01      8.3       8.3        8.147059         8.147059\n",
              "2021-09-16     10.1      10.1       10.217647        10.217647"
            ]
          },
          "metadata": {},
          "output_type": "display_data"
        }
      ],
      "source": [
        "df_resultado = pd.DataFrame()\n",
        "df_resultado['y_teste'] = y_test\n",
        "df_resultado['y1_teste'] = y1_test\n",
        "\n",
        "df_resultado['y_previsao_lin'] = test_pred_lin\n",
        "df_resultado['y1_previsao_lin'] = test_pred_lin1\n",
        "\n",
        "fig = plt.figure(figsize=(15, 5))\n",
        "sns.lineplot(data=df_resultado)\n",
        "plt.show()"
      ]
    },
    {
      "cell_type": "code",
      "execution_count": 134,
      "metadata": {
        "id": "5vAyznW6xnc9"
      },
      "outputs": [
        {
          "data": {
            "text/html": [
              "<div>\n",
              "<style scoped>\n",
              "    .dataframe tbody tr th:only-of-type {\n",
              "        vertical-align: middle;\n",
              "    }\n",
              "\n",
              "    .dataframe tbody tr th {\n",
              "        vertical-align: top;\n",
              "    }\n",
              "\n",
              "    .dataframe thead th {\n",
              "        text-align: right;\n",
              "    }\n",
              "</style>\n",
              "<table border=\"1\" class=\"dataframe\">\n",
              "  <thead>\n",
              "    <tr style=\"text-align: right;\">\n",
              "      <th></th>\n",
              "      <th>y_teste</th>\n",
              "      <th>y1_teste</th>\n",
              "      <th>y_previsao_lin</th>\n",
              "      <th>y1_previsao_lin</th>\n",
              "    </tr>\n",
              "    <tr>\n",
              "      <th>DATA</th>\n",
              "      <th></th>\n",
              "      <th></th>\n",
              "      <th></th>\n",
              "      <th></th>\n",
              "    </tr>\n",
              "  </thead>\n",
              "  <tbody>\n",
              "    <tr>\n",
              "      <th>2021-11-01</th>\n",
              "      <td>8.3</td>\n",
              "      <td>8.3</td>\n",
              "      <td>8.147059</td>\n",
              "      <td>8.147059</td>\n",
              "    </tr>\n",
              "    <tr>\n",
              "      <th>2021-09-16</th>\n",
              "      <td>10.1</td>\n",
              "      <td>10.1</td>\n",
              "      <td>10.217647</td>\n",
              "      <td>10.217647</td>\n",
              "    </tr>\n",
              "  </tbody>\n",
              "</table>\n",
              "</div>"
            ],
            "text/plain": [
              "            y_teste  y1_teste  y_previsao_lin  y1_previsao_lin\n",
              "DATA                                                          \n",
              "2021-11-01      8.3       8.3        8.147059         8.147059\n",
              "2021-09-16     10.1      10.1       10.217647        10.217647"
            ]
          },
          "execution_count": 134,
          "metadata": {},
          "output_type": "execute_result"
        }
      ],
      "source": [
        "df_resultado"
      ]
    },
    {
      "cell_type": "code",
      "execution_count": 133,
      "metadata": {
        "id": "Krk52jDLxnai"
      },
      "outputs": [
        {
          "data": {
            "text/plain": [
              "<matplotlib.legend.Legend at 0x2aa605b5fd0>"
            ]
          },
          "execution_count": 133,
          "metadata": {},
          "output_type": "execute_result"
        },
        {
          "data": {
            "image/png": "[encoded data removed]",
            "text/plain": [
              "<Figure size 1080x360 with 1 Axes>"
            ]
          },
          "metadata": {
            "needs_background": "light"
          },
          "output_type": "display_data"
        }
      ],
      "source": [
        "fig, ax = plt.subplots(figsize=(15, 5))\n",
        "\n",
        "ax.plot(a.index, a.LD, label='LD')\n",
        "ax.plot(a.index, a.LE, label='LE')\n",
        "\n",
        "ax.scatter(a.index, a.LD, label='LD')\n",
        "ax.scatter(a.index, a.LE, label='LE')\n",
        "\n",
        "ax.set_ylim(5)\n",
        "ax.set_xlim(18850, 19150)\n",
        "ax.grid(ls='dotted')\n",
        "ax.legend()"
      ]
    },
    {
      "cell_type": "code",
      "execution_count": 143,
      "metadata": {
        "id": "goLaSXTgxnA7"
      },
      "outputs": [
        {
          "data": {
            "text/plain": [
              "array([], shape=(0, 2), dtype=float64)"
            ]
          },
          "execution_count": 143,
          "metadata": {},
          "output_type": "execute_result"
        }
      ],
      "source": [
        "for i in range(5000):\n",
        "    [a.index==5].values"
      ]
    },
    {
      "cell_type": "code",
      "execution_count": null,
      "metadata": {},
      "outputs": [],
      "source": []
    },
    {
      "cell_type": "code",
      "execution_count": null,
      "metadata": {},
      "outputs": [],
      "source": []
    },
    {
      "cell_type": "code",
      "execution_count": null,
      "metadata": {
        "colab": {
          "base_uri": "https://localhost:8080/",
          "height": 206
        },
        "id": "SU8ykn644fl6",
        "outputId": "75006302-7bf6-4b95-b03a-71d5bb0f5415"
      },
      "outputs": [
        {
          "data": {
            "text/html": [
              "<div>\n",
              "<style scoped>\n",
              "    .dataframe tbody tr th:only-of-type {\n",
              "        vertical-align: middle;\n",
              "    }\n",
              "\n",
              "    .dataframe tbody tr th {\n",
              "        vertical-align: top;\n",
              "    }\n",
              "\n",
              "    .dataframe thead th {\n",
              "        text-align: right;\n",
              "    }\n",
              "</style>\n",
              "<table border=\"1\" class=\"dataframe\">\n",
              "  <thead>\n",
              "    <tr style=\"text-align: right;\">\n",
              "      <th></th>\n",
              "      <th>LD</th>\n",
              "    </tr>\n",
              "    <tr>\n",
              "      <th>DATA</th>\n",
              "      <th></th>\n",
              "    </tr>\n",
              "  </thead>\n",
              "  <tbody>\n",
              "    <tr>\n",
              "      <th>2021-09-04</th>\n",
              "      <td>10.5</td>\n",
              "    </tr>\n",
              "    <tr>\n",
              "      <th>2021-09-16</th>\n",
              "      <td>10.1</td>\n",
              "    </tr>\n",
              "    <tr>\n",
              "      <th>2021-11-01</th>\n",
              "      <td>8.3</td>\n",
              "    </tr>\n",
              "    <tr>\n",
              "      <th>2022-02-11</th>\n",
              "      <td>7.3</td>\n",
              "    </tr>\n",
              "    <tr>\n",
              "      <th>2022-04-22</th>\n",
              "      <td>7.3</td>\n",
              "    </tr>\n",
              "    <tr>\n",
              "      <th>...</th>\n",
              "      <td>...</td>\n",
              "    </tr>\n",
              "    <tr>\n",
              "      <th>2021-09-09</th>\n",
              "      <td>9.0</td>\n",
              "    </tr>\n",
              "    <tr>\n",
              "      <th>2021-11-01</th>\n",
              "      <td>3.9</td>\n",
              "    </tr>\n",
              "    <tr>\n",
              "      <th>2022-04-01</th>\n",
              "      <td>3.9</td>\n",
              "    </tr>\n",
              "    <tr>\n",
              "      <th>2022-05-11</th>\n",
              "      <td>10.9</td>\n",
              "    </tr>\n",
              "    <tr>\n",
              "      <th>2022-05-16</th>\n",
              "      <td>11.3</td>\n",
              "    </tr>\n",
              "  </tbody>\n",
              "</table>\n",
              "<p>61 rows × 1 columns</p>\n",
              "</div>"
            ],
            "text/plain": [
              "              LD\n",
              "DATA            \n",
              "2021-09-04  10.5\n",
              "2021-09-16  10.1\n",
              "2021-11-01   8.3\n",
              "2022-02-11   7.3\n",
              "2022-04-22   7.3\n",
              "...          ...\n",
              "2021-09-09   9.0\n",
              "2021-11-01   3.9\n",
              "2022-04-01   3.9\n",
              "2022-05-11  10.9\n",
              "2022-05-16  11.3\n",
              "\n",
              "[61 rows x 1 columns]"
            ]
          },
          "execution_count": 14,
          "metadata": {},
          "output_type": "execute_result"
        }
      ],
      "source": [
        "# criando uma serie somente para avaliar o lado direito \n",
        "df_LD=df[['LD']]\n",
        "df_LD"
      ]
    },
    {
      "cell_type": "markdown",
      "metadata": {
        "id": "td8ndayw4ub8"
      },
      "source": [
        "Avaliar modelo, usando o comenado *series.shift()*. Criaremos uma nova coluna naive como sendo o deslocamento de um período "
      ]
    },
    {
      "cell_type": "code",
      "execution_count": null,
      "metadata": {
        "colab": {
          "base_uri": "https://localhost:8080/",
          "height": 206
        },
        "id": "C9EqkHhalhym",
        "outputId": "02d627e4-44a7-45f9-ecf8-c953e87ef9e9"
      },
      "outputs": [
        {
          "name": "stderr",
          "output_type": "stream",
          "text": [
            "C:\\Users\\arthu\\AppData\\Local\\Temp/ipykernel_20708/3878060449.py:1: SettingWithCopyWarning: \n",
            "A value is trying to be set on a copy of a slice from a DataFrame.\n",
            "Try using .loc[row_indexer,col_indexer] = value instead\n",
            "\n",
            "See the caveats in the documentation: https://pandas.pydata.org/pandas-docs/stable/user_guide/indexing.html#returning-a-view-versus-a-copy\n",
            "  df_LD['previsao_LD']= df_LD.LD.shift(1)\n"
          ]
        },
        {
          "data": {
            "text/html": [
              "<div>\n",
              "<style scoped>\n",
              "    .dataframe tbody tr th:only-of-type {\n",
              "        vertical-align: middle;\n",
              "    }\n",
              "\n",
              "    .dataframe tbody tr th {\n",
              "        vertical-align: top;\n",
              "    }\n",
              "\n",
              "    .dataframe thead th {\n",
              "        text-align: right;\n",
              "    }\n",
              "</style>\n",
              "<table border=\"1\" class=\"dataframe\">\n",
              "  <thead>\n",
              "    <tr style=\"text-align: right;\">\n",
              "      <th></th>\n",
              "      <th>LD</th>\n",
              "      <th>previsao_LD</th>\n",
              "    </tr>\n",
              "    <tr>\n",
              "      <th>DATA</th>\n",
              "      <th></th>\n",
              "      <th></th>\n",
              "    </tr>\n",
              "  </thead>\n",
              "  <tbody>\n",
              "    <tr>\n",
              "      <th>2021-09-04</th>\n",
              "      <td>10.5</td>\n",
              "      <td>NaN</td>\n",
              "    </tr>\n",
              "    <tr>\n",
              "      <th>2021-09-16</th>\n",
              "      <td>10.1</td>\n",
              "      <td>10.5</td>\n",
              "    </tr>\n",
              "    <tr>\n",
              "      <th>2021-11-01</th>\n",
              "      <td>8.3</td>\n",
              "      <td>10.1</td>\n",
              "    </tr>\n",
              "    <tr>\n",
              "      <th>2022-02-11</th>\n",
              "      <td>7.3</td>\n",
              "      <td>8.3</td>\n",
              "    </tr>\n",
              "    <tr>\n",
              "      <th>2022-04-22</th>\n",
              "      <td>7.3</td>\n",
              "      <td>7.3</td>\n",
              "    </tr>\n",
              "    <tr>\n",
              "      <th>...</th>\n",
              "      <td>...</td>\n",
              "      <td>...</td>\n",
              "    </tr>\n",
              "    <tr>\n",
              "      <th>2021-09-09</th>\n",
              "      <td>9.0</td>\n",
              "      <td>9.0</td>\n",
              "    </tr>\n",
              "    <tr>\n",
              "      <th>2021-11-01</th>\n",
              "      <td>3.9</td>\n",
              "      <td>9.0</td>\n",
              "    </tr>\n",
              "    <tr>\n",
              "      <th>2022-04-01</th>\n",
              "      <td>3.9</td>\n",
              "      <td>3.9</td>\n",
              "    </tr>\n",
              "    <tr>\n",
              "      <th>2022-05-11</th>\n",
              "      <td>10.9</td>\n",
              "      <td>3.9</td>\n",
              "    </tr>\n",
              "    <tr>\n",
              "      <th>2022-05-16</th>\n",
              "      <td>11.3</td>\n",
              "      <td>10.9</td>\n",
              "    </tr>\n",
              "  </tbody>\n",
              "</table>\n",
              "<p>61 rows × 2 columns</p>\n",
              "</div>"
            ],
            "text/plain": [
              "              LD  previsao_LD\n",
              "DATA                         \n",
              "2021-09-04  10.5          NaN\n",
              "2021-09-16  10.1         10.5\n",
              "2021-11-01   8.3         10.1\n",
              "2022-02-11   7.3          8.3\n",
              "2022-04-22   7.3          7.3\n",
              "...          ...          ...\n",
              "2021-09-09   9.0          9.0\n",
              "2021-11-01   3.9          9.0\n",
              "2022-04-01   3.9          3.9\n",
              "2022-05-11  10.9          3.9\n",
              "2022-05-16  11.3         10.9\n",
              "\n",
              "[61 rows x 2 columns]"
            ]
          },
          "execution_count": 15,
          "metadata": {},
          "output_type": "execute_result"
        }
      ],
      "source": [
        "df_LD['previsao_LD']= df_LD.LD.shift(1)\n",
        "#df['previsao_LE']= df.LE.shift()\n",
        "#df.dropna(axis=0,inplace=True)\n",
        "df_LD"
      ]
    },
    {
      "cell_type": "code",
      "execution_count": null,
      "metadata": {
        "colab": {
          "base_uri": "https://localhost:8080/",
          "height": 393
        },
        "id": "2UPX-YEX5zHf",
        "outputId": "cba20dc0-fcba-409c-ec87-c76672e1d866"
      },
      "outputs": [
        {
          "data": {
            "text/plain": [
              "<AxesSubplot:xlabel='DATA'>"
            ]
          },
          "execution_count": 16,
          "metadata": {},
          "output_type": "execute_result"
        },
        {
          "data": {
            "image/png": "[encoded data removed]",
            "text/plain": [
              "<Figure size 1080x432 with 1 Axes>"
            ]
          },
          "metadata": {
            "needs_background": "light"
          },
          "output_type": "display_data"
        }
      ],
      "source": [
        "df_LD.plot(figsize=(15,6))"
      ]
    },
    {
      "cell_type": "markdown",
      "metadata": {
        "id": "KXwTBZfye547"
      },
      "source": [
        "**ERRO MÉDIO QUADRÁTICO PARA O MODELO NAIVE**"
      ]
    },
    {
      "cell_type": "markdown",
      "metadata": {
        "id": "HyY6J2y6dBJb"
      },
      "source": [
        "FAREMOS A VALIDAÇÃO DO MODELO NAIVE CALCULADO O ERRO MÉDIO QUADRÁTICO ENTRE AS PREVISÕES E OS VALORES OBSERVADOS. PARA TANTO, FAREMOS O CÁLCULO DA DIFERENÇA QUADRÁTICA ENTRE A COLUNA LD E A COLUNA PREVISAO_LD. PARA CALCULAR A MÉDIA DO ERRO, UTILIZAMOS O COMANDO *SERIES.MEAN().*"
      ]
    },
    {
      "cell_type": "code",
      "execution_count": null,
      "metadata": {
        "colab": {
          "base_uri": "https://localhost:8080/"
        },
        "id": "jYR0wS8eeXS3",
        "outputId": "bd413b8e-c74a-4139-9ee4-1868a41243fc"
      },
      "outputs": [
        {
          "data": {
            "text/plain": [
              "8.104666666666667"
            ]
          },
          "execution_count": 17,
          "metadata": {},
          "output_type": "execute_result"
        }
      ],
      "source": [
        "((df_LD.previsao_LD - df_LD.LD)**2).mean()"
      ]
    },
    {
      "cell_type": "markdown",
      "metadata": {
        "id": "IDdSMkPGfF9n"
      },
      "source": [
        "**2- MODELO AUTOREGRESSIVO (AR)**"
      ]
    },
    {
      "cell_type": "code",
      "execution_count": null,
      "metadata": {
        "id": "nkO1PPY5eXKf"
      },
      "outputs": [],
      "source": [
        "df['x1']= df.LD.shift(1)\n",
        "df['x2']= df.LE.shift(1)"
      ]
    },
    {
      "cell_type": "code",
      "execution_count": null,
      "metadata": {
        "id": "WOOUdJ4PeW3B"
      },
      "outputs": [],
      "source": [
        "df.dropna(axis=0,inplace=True)"
      ]
    },
    {
      "cell_type": "code",
      "execution_count": null,
      "metadata": {
        "colab": {
          "base_uri": "https://localhost:8080/",
          "height": 333
        },
        "id": "lyT2oYx05_wO",
        "outputId": "c7240c2d-2e43-41b3-aa2a-38b032ac13d4"
      },
      "outputs": [
        {
          "data": {
            "text/html": [
              "<div>\n",
              "<style scoped>\n",
              "    .dataframe tbody tr th:only-of-type {\n",
              "        vertical-align: middle;\n",
              "    }\n",
              "\n",
              "    .dataframe tbody tr th {\n",
              "        vertical-align: top;\n",
              "    }\n",
              "\n",
              "    .dataframe thead th {\n",
              "        text-align: right;\n",
              "    }\n",
              "</style>\n",
              "<table border=\"1\" class=\"dataframe\">\n",
              "  <thead>\n",
              "    <tr style=\"text-align: right;\">\n",
              "      <th></th>\n",
              "      <th>LD</th>\n",
              "      <th>x1</th>\n",
              "    </tr>\n",
              "    <tr>\n",
              "      <th>DATA</th>\n",
              "      <th></th>\n",
              "      <th></th>\n",
              "    </tr>\n",
              "  </thead>\n",
              "  <tbody>\n",
              "    <tr>\n",
              "      <th>2021-09-16</th>\n",
              "      <td>10.1</td>\n",
              "      <td>10.5</td>\n",
              "    </tr>\n",
              "    <tr>\n",
              "      <th>2021-11-01</th>\n",
              "      <td>8.3</td>\n",
              "      <td>10.1</td>\n",
              "    </tr>\n",
              "    <tr>\n",
              "      <th>2022-02-11</th>\n",
              "      <td>7.3</td>\n",
              "      <td>8.3</td>\n",
              "    </tr>\n",
              "    <tr>\n",
              "      <th>2022-04-22</th>\n",
              "      <td>7.3</td>\n",
              "      <td>7.3</td>\n",
              "    </tr>\n",
              "    <tr>\n",
              "      <th>2021-09-06</th>\n",
              "      <td>12.3</td>\n",
              "      <td>7.3</td>\n",
              "    </tr>\n",
              "    <tr>\n",
              "      <th>2021-09-13</th>\n",
              "      <td>11.8</td>\n",
              "      <td>12.3</td>\n",
              "    </tr>\n",
              "    <tr>\n",
              "      <th>2021-11-01</th>\n",
              "      <td>9.2</td>\n",
              "      <td>11.8</td>\n",
              "    </tr>\n",
              "    <tr>\n",
              "      <th>2022-04-01</th>\n",
              "      <td>9.2</td>\n",
              "      <td>9.2</td>\n",
              "    </tr>\n",
              "    <tr>\n",
              "      <th>2022-05-11</th>\n",
              "      <td>11.3</td>\n",
              "      <td>9.2</td>\n",
              "    </tr>\n",
              "    <tr>\n",
              "      <th>2021-08-30</th>\n",
              "      <td>12.0</td>\n",
              "      <td>11.3</td>\n",
              "    </tr>\n",
              "    <tr>\n",
              "      <th>2021-09-13</th>\n",
              "      <td>11.5</td>\n",
              "      <td>12.0</td>\n",
              "    </tr>\n",
              "    <tr>\n",
              "      <th>2021-11-01</th>\n",
              "      <td>9.2</td>\n",
              "      <td>11.5</td>\n",
              "    </tr>\n",
              "    <tr>\n",
              "      <th>2022-04-01</th>\n",
              "      <td>13.0</td>\n",
              "      <td>9.2</td>\n",
              "    </tr>\n",
              "    <tr>\n",
              "      <th>2022-05-13</th>\n",
              "      <td>10.4</td>\n",
              "      <td>13.0</td>\n",
              "    </tr>\n",
              "    <tr>\n",
              "      <th>2021-09-02</th>\n",
              "      <td>9.7</td>\n",
              "      <td>10.4</td>\n",
              "    </tr>\n",
              "    <tr>\n",
              "      <th>2021-09-16</th>\n",
              "      <td>8.4</td>\n",
              "      <td>9.7</td>\n",
              "    </tr>\n",
              "    <tr>\n",
              "      <th>2021-11-01</th>\n",
              "      <td>5.4</td>\n",
              "      <td>8.4</td>\n",
              "    </tr>\n",
              "    <tr>\n",
              "      <th>2022-04-01</th>\n",
              "      <td>13.0</td>\n",
              "      <td>5.4</td>\n",
              "    </tr>\n",
              "    <tr>\n",
              "      <th>2022-05-12</th>\n",
              "      <td>9.1</td>\n",
              "      <td>13.0</td>\n",
              "    </tr>\n",
              "    <tr>\n",
              "      <th>2021-08-20</th>\n",
              "      <td>9.9</td>\n",
              "      <td>9.1</td>\n",
              "    </tr>\n",
              "    <tr>\n",
              "      <th>2021-09-16</th>\n",
              "      <td>8.6</td>\n",
              "      <td>9.9</td>\n",
              "    </tr>\n",
              "    <tr>\n",
              "      <th>2021-11-01</th>\n",
              "      <td>8.6</td>\n",
              "      <td>8.6</td>\n",
              "    </tr>\n",
              "    <tr>\n",
              "      <th>2022-04-01</th>\n",
              "      <td>6.7</td>\n",
              "      <td>8.6</td>\n",
              "    </tr>\n",
              "    <tr>\n",
              "      <th>2022-05-13</th>\n",
              "      <td>10.5</td>\n",
              "      <td>6.7</td>\n",
              "    </tr>\n",
              "    <tr>\n",
              "      <th>2021-09-06</th>\n",
              "      <td>9.1</td>\n",
              "      <td>10.5</td>\n",
              "    </tr>\n",
              "    <tr>\n",
              "      <th>2021-09-15</th>\n",
              "      <td>8.5</td>\n",
              "      <td>9.1</td>\n",
              "    </tr>\n",
              "    <tr>\n",
              "      <th>2021-11-01</th>\n",
              "      <td>5.5</td>\n",
              "      <td>8.5</td>\n",
              "    </tr>\n",
              "    <tr>\n",
              "      <th>2022-04-01</th>\n",
              "      <td>5.0</td>\n",
              "      <td>5.5</td>\n",
              "    </tr>\n",
              "    <tr>\n",
              "      <th>2022-05-16</th>\n",
              "      <td>7.7</td>\n",
              "      <td>5.0</td>\n",
              "    </tr>\n",
              "    <tr>\n",
              "      <th>2021-09-02</th>\n",
              "      <td>7.2</td>\n",
              "      <td>7.7</td>\n",
              "    </tr>\n",
              "    <tr>\n",
              "      <th>2021-09-11</th>\n",
              "      <td>13.0</td>\n",
              "      <td>7.2</td>\n",
              "    </tr>\n",
              "    <tr>\n",
              "      <th>2021-11-01</th>\n",
              "      <td>8.8</td>\n",
              "      <td>13.0</td>\n",
              "    </tr>\n",
              "    <tr>\n",
              "      <th>2022-02-11</th>\n",
              "      <td>6.8</td>\n",
              "      <td>8.8</td>\n",
              "    </tr>\n",
              "    <tr>\n",
              "      <th>2022-05-06</th>\n",
              "      <td>11.6</td>\n",
              "      <td>6.8</td>\n",
              "    </tr>\n",
              "    <tr>\n",
              "      <th>2021-09-02</th>\n",
              "      <td>13.0</td>\n",
              "      <td>11.6</td>\n",
              "    </tr>\n",
              "    <tr>\n",
              "      <th>2021-09-13</th>\n",
              "      <td>10.5</td>\n",
              "      <td>13.0</td>\n",
              "    </tr>\n",
              "    <tr>\n",
              "      <th>2021-11-01</th>\n",
              "      <td>5.0</td>\n",
              "      <td>10.5</td>\n",
              "    </tr>\n",
              "    <tr>\n",
              "      <th>2022-04-01</th>\n",
              "      <td>5.0</td>\n",
              "      <td>5.0</td>\n",
              "    </tr>\n",
              "    <tr>\n",
              "      <th>2022-05-12</th>\n",
              "      <td>11.3</td>\n",
              "      <td>5.0</td>\n",
              "    </tr>\n",
              "    <tr>\n",
              "      <th>2021-09-01</th>\n",
              "      <td>9.9</td>\n",
              "      <td>11.3</td>\n",
              "    </tr>\n",
              "    <tr>\n",
              "      <th>2021-09-13</th>\n",
              "      <td>9.0</td>\n",
              "      <td>9.9</td>\n",
              "    </tr>\n",
              "    <tr>\n",
              "      <th>2021-11-01</th>\n",
              "      <td>6.8</td>\n",
              "      <td>9.0</td>\n",
              "    </tr>\n",
              "    <tr>\n",
              "      <th>2022-04-01</th>\n",
              "      <td>8.8</td>\n",
              "      <td>6.8</td>\n",
              "    </tr>\n",
              "    <tr>\n",
              "      <th>2021-11-01</th>\n",
              "      <td>8.8</td>\n",
              "      <td>8.8</td>\n",
              "    </tr>\n",
              "    <tr>\n",
              "      <th>2021-09-03</th>\n",
              "      <td>13.0</td>\n",
              "      <td>8.8</td>\n",
              "    </tr>\n",
              "    <tr>\n",
              "      <th>2021-09-16</th>\n",
              "      <td>11.0</td>\n",
              "      <td>13.0</td>\n",
              "    </tr>\n",
              "    <tr>\n",
              "      <th>2021-11-01</th>\n",
              "      <td>8.8</td>\n",
              "      <td>11.0</td>\n",
              "    </tr>\n",
              "    <tr>\n",
              "      <th>2022-04-01</th>\n",
              "      <td>8.8</td>\n",
              "      <td>8.8</td>\n",
              "    </tr>\n",
              "    <tr>\n",
              "      <th>2022-05-10</th>\n",
              "      <td>6.9</td>\n",
              "      <td>8.8</td>\n",
              "    </tr>\n",
              "    <tr>\n",
              "      <th>2021-09-04</th>\n",
              "      <td>8.5</td>\n",
              "      <td>6.9</td>\n",
              "    </tr>\n",
              "    <tr>\n",
              "      <th>2021-09-15</th>\n",
              "      <td>7.5</td>\n",
              "      <td>8.5</td>\n",
              "    </tr>\n",
              "    <tr>\n",
              "      <th>2021-11-01</th>\n",
              "      <td>11.3</td>\n",
              "      <td>7.5</td>\n",
              "    </tr>\n",
              "    <tr>\n",
              "      <th>2022-04-01</th>\n",
              "      <td>11.3</td>\n",
              "      <td>11.3</td>\n",
              "    </tr>\n",
              "    <tr>\n",
              "      <th>2022-04-20</th>\n",
              "      <td>9.6</td>\n",
              "      <td>11.3</td>\n",
              "    </tr>\n",
              "    <tr>\n",
              "      <th>2021-08-03</th>\n",
              "      <td>9.0</td>\n",
              "      <td>9.6</td>\n",
              "    </tr>\n",
              "    <tr>\n",
              "      <th>2021-09-09</th>\n",
              "      <td>9.0</td>\n",
              "      <td>9.0</td>\n",
              "    </tr>\n",
              "    <tr>\n",
              "      <th>2021-11-01</th>\n",
              "      <td>3.9</td>\n",
              "      <td>9.0</td>\n",
              "    </tr>\n",
              "    <tr>\n",
              "      <th>2022-04-01</th>\n",
              "      <td>3.9</td>\n",
              "      <td>3.9</td>\n",
              "    </tr>\n",
              "    <tr>\n",
              "      <th>2022-05-11</th>\n",
              "      <td>10.9</td>\n",
              "      <td>3.9</td>\n",
              "    </tr>\n",
              "    <tr>\n",
              "      <th>2022-05-16</th>\n",
              "      <td>11.3</td>\n",
              "      <td>10.9</td>\n",
              "    </tr>\n",
              "  </tbody>\n",
              "</table>\n",
              "</div>"
            ],
            "text/plain": [
              "              LD    x1\n",
              "DATA                  \n",
              "2021-09-16  10.1  10.5\n",
              "2021-11-01   8.3  10.1\n",
              "2022-02-11   7.3   8.3\n",
              "2022-04-22   7.3   7.3\n",
              "2021-09-06  12.3   7.3\n",
              "2021-09-13  11.8  12.3\n",
              "2021-11-01   9.2  11.8\n",
              "2022-04-01   9.2   9.2\n",
              "2022-05-11  11.3   9.2\n",
              "2021-08-30  12.0  11.3\n",
              "2021-09-13  11.5  12.0\n",
              "2021-11-01   9.2  11.5\n",
              "2022-04-01  13.0   9.2\n",
              "2022-05-13  10.4  13.0\n",
              "2021-09-02   9.7  10.4\n",
              "2021-09-16   8.4   9.7\n",
              "2021-11-01   5.4   8.4\n",
              "2022-04-01  13.0   5.4\n",
              "2022-05-12   9.1  13.0\n",
              "2021-08-20   9.9   9.1\n",
              "2021-09-16   8.6   9.9\n",
              "2021-11-01   8.6   8.6\n",
              "2022-04-01   6.7   8.6\n",
              "2022-05-13  10.5   6.7\n",
              "2021-09-06   9.1  10.5\n",
              "2021-09-15   8.5   9.1\n",
              "2021-11-01   5.5   8.5\n",
              "2022-04-01   5.0   5.5\n",
              "2022-05-16   7.7   5.0\n",
              "2021-09-02   7.2   7.7\n",
              "2021-09-11  13.0   7.2\n",
              "2021-11-01   8.8  13.0\n",
              "2022-02-11   6.8   8.8\n",
              "2022-05-06  11.6   6.8\n",
              "2021-09-02  13.0  11.6\n",
              "2021-09-13  10.5  13.0\n",
              "2021-11-01   5.0  10.5\n",
              "2022-04-01   5.0   5.0\n",
              "2022-05-12  11.3   5.0\n",
              "2021-09-01   9.9  11.3\n",
              "2021-09-13   9.0   9.9\n",
              "2021-11-01   6.8   9.0\n",
              "2022-04-01   8.8   6.8\n",
              "2021-11-01   8.8   8.8\n",
              "2021-09-03  13.0   8.8\n",
              "2021-09-16  11.0  13.0\n",
              "2021-11-01   8.8  11.0\n",
              "2022-04-01   8.8   8.8\n",
              "2022-05-10   6.9   8.8\n",
              "2021-09-04   8.5   6.9\n",
              "2021-09-15   7.5   8.5\n",
              "2021-11-01  11.3   7.5\n",
              "2022-04-01  11.3  11.3\n",
              "2022-04-20   9.6  11.3\n",
              "2021-08-03   9.0   9.6\n",
              "2021-09-09   9.0   9.0\n",
              "2021-11-01   3.9   9.0\n",
              "2022-04-01   3.9   3.9\n",
              "2022-05-11  10.9   3.9\n",
              "2022-05-16  11.3  10.9"
            ]
          },
          "metadata": {},
          "output_type": "display_data"
        },
        {
          "data": {
            "text/html": [
              "<div>\n",
              "<style scoped>\n",
              "    .dataframe tbody tr th:only-of-type {\n",
              "        vertical-align: middle;\n",
              "    }\n",
              "\n",
              "    .dataframe tbody tr th {\n",
              "        vertical-align: top;\n",
              "    }\n",
              "\n",
              "    .dataframe thead th {\n",
              "        text-align: right;\n",
              "    }\n",
              "</style>\n",
              "<table border=\"1\" class=\"dataframe\">\n",
              "  <thead>\n",
              "    <tr style=\"text-align: right;\">\n",
              "      <th></th>\n",
              "      <th>LE</th>\n",
              "      <th>x2</th>\n",
              "    </tr>\n",
              "    <tr>\n",
              "      <th>DATA</th>\n",
              "      <th></th>\n",
              "      <th></th>\n",
              "    </tr>\n",
              "  </thead>\n",
              "  <tbody>\n",
              "    <tr>\n",
              "      <th>2021-09-16</th>\n",
              "      <td>10.2</td>\n",
              "      <td>10.5</td>\n",
              "    </tr>\n",
              "    <tr>\n",
              "      <th>2021-11-01</th>\n",
              "      <td>8.0</td>\n",
              "      <td>10.2</td>\n",
              "    </tr>\n",
              "    <tr>\n",
              "      <th>2022-02-11</th>\n",
              "      <td>7.1</td>\n",
              "      <td>8.0</td>\n",
              "    </tr>\n",
              "    <tr>\n",
              "      <th>2022-04-22</th>\n",
              "      <td>7.1</td>\n",
              "      <td>7.1</td>\n",
              "    </tr>\n",
              "    <tr>\n",
              "      <th>2021-09-06</th>\n",
              "      <td>12.1</td>\n",
              "      <td>7.1</td>\n",
              "    </tr>\n",
              "    <tr>\n",
              "      <th>2021-09-13</th>\n",
              "      <td>11.8</td>\n",
              "      <td>12.1</td>\n",
              "    </tr>\n",
              "    <tr>\n",
              "      <th>2021-11-01</th>\n",
              "      <td>9.3</td>\n",
              "      <td>11.8</td>\n",
              "    </tr>\n",
              "    <tr>\n",
              "      <th>2022-04-01</th>\n",
              "      <td>9.3</td>\n",
              "      <td>9.3</td>\n",
              "    </tr>\n",
              "    <tr>\n",
              "      <th>2022-05-11</th>\n",
              "      <td>11.4</td>\n",
              "      <td>9.3</td>\n",
              "    </tr>\n",
              "    <tr>\n",
              "      <th>2021-08-30</th>\n",
              "      <td>11.8</td>\n",
              "      <td>11.4</td>\n",
              "    </tr>\n",
              "    <tr>\n",
              "      <th>2021-09-13</th>\n",
              "      <td>10.8</td>\n",
              "      <td>11.8</td>\n",
              "    </tr>\n",
              "    <tr>\n",
              "      <th>2021-11-01</th>\n",
              "      <td>9.3</td>\n",
              "      <td>10.8</td>\n",
              "    </tr>\n",
              "    <tr>\n",
              "      <th>2022-04-01</th>\n",
              "      <td>13.0</td>\n",
              "      <td>9.3</td>\n",
              "    </tr>\n",
              "    <tr>\n",
              "      <th>2022-05-13</th>\n",
              "      <td>10.4</td>\n",
              "      <td>13.0</td>\n",
              "    </tr>\n",
              "    <tr>\n",
              "      <th>2021-09-02</th>\n",
              "      <td>11.0</td>\n",
              "      <td>10.4</td>\n",
              "    </tr>\n",
              "    <tr>\n",
              "      <th>2021-09-16</th>\n",
              "      <td>10.0</td>\n",
              "      <td>11.0</td>\n",
              "    </tr>\n",
              "    <tr>\n",
              "      <th>2021-11-01</th>\n",
              "      <td>8.2</td>\n",
              "      <td>10.0</td>\n",
              "    </tr>\n",
              "    <tr>\n",
              "      <th>2022-04-01</th>\n",
              "      <td>13.0</td>\n",
              "      <td>8.2</td>\n",
              "    </tr>\n",
              "    <tr>\n",
              "      <th>2022-05-12</th>\n",
              "      <td>9.1</td>\n",
              "      <td>13.0</td>\n",
              "    </tr>\n",
              "    <tr>\n",
              "      <th>2021-08-20</th>\n",
              "      <td>10.0</td>\n",
              "      <td>9.1</td>\n",
              "    </tr>\n",
              "    <tr>\n",
              "      <th>2021-09-16</th>\n",
              "      <td>8.6</td>\n",
              "      <td>10.0</td>\n",
              "    </tr>\n",
              "    <tr>\n",
              "      <th>2021-11-01</th>\n",
              "      <td>8.6</td>\n",
              "      <td>8.6</td>\n",
              "    </tr>\n",
              "    <tr>\n",
              "      <th>2022-04-01</th>\n",
              "      <td>6.1</td>\n",
              "      <td>8.6</td>\n",
              "    </tr>\n",
              "    <tr>\n",
              "      <th>2022-05-13</th>\n",
              "      <td>10.4</td>\n",
              "      <td>6.1</td>\n",
              "    </tr>\n",
              "    <tr>\n",
              "      <th>2021-09-06</th>\n",
              "      <td>9.0</td>\n",
              "      <td>10.4</td>\n",
              "    </tr>\n",
              "    <tr>\n",
              "      <th>2021-09-15</th>\n",
              "      <td>9.0</td>\n",
              "      <td>9.0</td>\n",
              "    </tr>\n",
              "    <tr>\n",
              "      <th>2021-11-01</th>\n",
              "      <td>5.5</td>\n",
              "      <td>9.0</td>\n",
              "    </tr>\n",
              "    <tr>\n",
              "      <th>2022-04-01</th>\n",
              "      <td>4.9</td>\n",
              "      <td>5.5</td>\n",
              "    </tr>\n",
              "    <tr>\n",
              "      <th>2022-05-16</th>\n",
              "      <td>7.4</td>\n",
              "      <td>4.9</td>\n",
              "    </tr>\n",
              "    <tr>\n",
              "      <th>2021-09-02</th>\n",
              "      <td>7.3</td>\n",
              "      <td>7.4</td>\n",
              "    </tr>\n",
              "    <tr>\n",
              "      <th>2021-09-11</th>\n",
              "      <td>13.0</td>\n",
              "      <td>7.3</td>\n",
              "    </tr>\n",
              "    <tr>\n",
              "      <th>2021-11-01</th>\n",
              "      <td>8.9</td>\n",
              "      <td>13.0</td>\n",
              "    </tr>\n",
              "    <tr>\n",
              "      <th>2022-02-11</th>\n",
              "      <td>6.1</td>\n",
              "      <td>8.9</td>\n",
              "    </tr>\n",
              "    <tr>\n",
              "      <th>2022-05-06</th>\n",
              "      <td>11.2</td>\n",
              "      <td>6.1</td>\n",
              "    </tr>\n",
              "    <tr>\n",
              "      <th>2021-09-02</th>\n",
              "      <td>13.0</td>\n",
              "      <td>11.2</td>\n",
              "    </tr>\n",
              "    <tr>\n",
              "      <th>2021-09-13</th>\n",
              "      <td>9.9</td>\n",
              "      <td>13.0</td>\n",
              "    </tr>\n",
              "    <tr>\n",
              "      <th>2021-11-01</th>\n",
              "      <td>5.8</td>\n",
              "      <td>9.9</td>\n",
              "    </tr>\n",
              "    <tr>\n",
              "      <th>2022-04-01</th>\n",
              "      <td>5.5</td>\n",
              "      <td>5.8</td>\n",
              "    </tr>\n",
              "    <tr>\n",
              "      <th>2022-05-12</th>\n",
              "      <td>11.3</td>\n",
              "      <td>5.5</td>\n",
              "    </tr>\n",
              "    <tr>\n",
              "      <th>2021-09-01</th>\n",
              "      <td>10.0</td>\n",
              "      <td>11.3</td>\n",
              "    </tr>\n",
              "    <tr>\n",
              "      <th>2021-09-13</th>\n",
              "      <td>9.2</td>\n",
              "      <td>10.0</td>\n",
              "    </tr>\n",
              "    <tr>\n",
              "      <th>2021-11-01</th>\n",
              "      <td>6.1</td>\n",
              "      <td>9.2</td>\n",
              "    </tr>\n",
              "    <tr>\n",
              "      <th>2022-04-01</th>\n",
              "      <td>8.9</td>\n",
              "      <td>6.1</td>\n",
              "    </tr>\n",
              "    <tr>\n",
              "      <th>2021-11-01</th>\n",
              "      <td>8.9</td>\n",
              "      <td>8.9</td>\n",
              "    </tr>\n",
              "    <tr>\n",
              "      <th>2021-09-03</th>\n",
              "      <td>13.0</td>\n",
              "      <td>8.9</td>\n",
              "    </tr>\n",
              "    <tr>\n",
              "      <th>2021-09-16</th>\n",
              "      <td>10.6</td>\n",
              "      <td>13.0</td>\n",
              "    </tr>\n",
              "    <tr>\n",
              "      <th>2021-11-01</th>\n",
              "      <td>8.3</td>\n",
              "      <td>10.6</td>\n",
              "    </tr>\n",
              "    <tr>\n",
              "      <th>2022-04-01</th>\n",
              "      <td>8.3</td>\n",
              "      <td>8.3</td>\n",
              "    </tr>\n",
              "    <tr>\n",
              "      <th>2022-05-10</th>\n",
              "      <td>4.5</td>\n",
              "      <td>8.3</td>\n",
              "    </tr>\n",
              "    <tr>\n",
              "      <th>2021-09-04</th>\n",
              "      <td>8.8</td>\n",
              "      <td>4.5</td>\n",
              "    </tr>\n",
              "    <tr>\n",
              "      <th>2021-09-15</th>\n",
              "      <td>8.7</td>\n",
              "      <td>8.8</td>\n",
              "    </tr>\n",
              "    <tr>\n",
              "      <th>2021-11-01</th>\n",
              "      <td>11.4</td>\n",
              "      <td>8.7</td>\n",
              "    </tr>\n",
              "    <tr>\n",
              "      <th>2022-04-01</th>\n",
              "      <td>11.4</td>\n",
              "      <td>11.4</td>\n",
              "    </tr>\n",
              "    <tr>\n",
              "      <th>2022-04-20</th>\n",
              "      <td>9.6</td>\n",
              "      <td>11.4</td>\n",
              "    </tr>\n",
              "    <tr>\n",
              "      <th>2021-08-03</th>\n",
              "      <td>8.3</td>\n",
              "      <td>9.6</td>\n",
              "    </tr>\n",
              "    <tr>\n",
              "      <th>2021-09-09</th>\n",
              "      <td>8.3</td>\n",
              "      <td>8.3</td>\n",
              "    </tr>\n",
              "    <tr>\n",
              "      <th>2021-11-01</th>\n",
              "      <td>3.9</td>\n",
              "      <td>8.3</td>\n",
              "    </tr>\n",
              "    <tr>\n",
              "      <th>2022-04-01</th>\n",
              "      <td>3.9</td>\n",
              "      <td>3.9</td>\n",
              "    </tr>\n",
              "    <tr>\n",
              "      <th>2022-05-11</th>\n",
              "      <td>11.0</td>\n",
              "      <td>3.9</td>\n",
              "    </tr>\n",
              "    <tr>\n",
              "      <th>2022-05-16</th>\n",
              "      <td>11.3</td>\n",
              "      <td>11.0</td>\n",
              "    </tr>\n",
              "  </tbody>\n",
              "</table>\n",
              "</div>"
            ],
            "text/plain": [
              "              LE    x2\n",
              "DATA                  \n",
              "2021-09-16  10.2  10.5\n",
              "2021-11-01   8.0  10.2\n",
              "2022-02-11   7.1   8.0\n",
              "2022-04-22   7.1   7.1\n",
              "2021-09-06  12.1   7.1\n",
              "2021-09-13  11.8  12.1\n",
              "2021-11-01   9.3  11.8\n",
              "2022-04-01   9.3   9.3\n",
              "2022-05-11  11.4   9.3\n",
              "2021-08-30  11.8  11.4\n",
              "2021-09-13  10.8  11.8\n",
              "2021-11-01   9.3  10.8\n",
              "2022-04-01  13.0   9.3\n",
              "2022-05-13  10.4  13.0\n",
              "2021-09-02  11.0  10.4\n",
              "2021-09-16  10.0  11.0\n",
              "2021-11-01   8.2  10.0\n",
              "2022-04-01  13.0   8.2\n",
              "2022-05-12   9.1  13.0\n",
              "2021-08-20  10.0   9.1\n",
              "2021-09-16   8.6  10.0\n",
              "2021-11-01   8.6   8.6\n",
              "2022-04-01   6.1   8.6\n",
              "2022-05-13  10.4   6.1\n",
              "2021-09-06   9.0  10.4\n",
              "2021-09-15   9.0   9.0\n",
              "2021-11-01   5.5   9.0\n",
              "2022-04-01   4.9   5.5\n",
              "2022-05-16   7.4   4.9\n",
              "2021-09-02   7.3   7.4\n",
              "2021-09-11  13.0   7.3\n",
              "2021-11-01   8.9  13.0\n",
              "2022-02-11   6.1   8.9\n",
              "2022-05-06  11.2   6.1\n",
              "2021-09-02  13.0  11.2\n",
              "2021-09-13   9.9  13.0\n",
              "2021-11-01   5.8   9.9\n",
              "2022-04-01   5.5   5.8\n",
              "2022-05-12  11.3   5.5\n",
              "2021-09-01  10.0  11.3\n",
              "2021-09-13   9.2  10.0\n",
              "2021-11-01   6.1   9.2\n",
              "2022-04-01   8.9   6.1\n",
              "2021-11-01   8.9   8.9\n",
              "2021-09-03  13.0   8.9\n",
              "2021-09-16  10.6  13.0\n",
              "2021-11-01   8.3  10.6\n",
              "2022-04-01   8.3   8.3\n",
              "2022-05-10   4.5   8.3\n",
              "2021-09-04   8.8   4.5\n",
              "2021-09-15   8.7   8.8\n",
              "2021-11-01  11.4   8.7\n",
              "2022-04-01  11.4  11.4\n",
              "2022-04-20   9.6  11.4\n",
              "2021-08-03   8.3   9.6\n",
              "2021-09-09   8.3   8.3\n",
              "2021-11-01   3.9   8.3\n",
              "2022-04-01   3.9   3.9\n",
              "2022-05-11  11.0   3.9\n",
              "2022-05-16  11.3  11.0"
            ]
          },
          "metadata": {},
          "output_type": "display_data"
        }
      ],
      "source": [
        "LD = df[[\"LD\",\"x1\"]]\n",
        "LE = df[[\"LE\",\"x2\"]]\n",
        "display(LD,LE)"
      ]
    },
    {
      "cell_type": "code",
      "execution_count": null,
      "metadata": {
        "colab": {
          "base_uri": "https://localhost:8080/",
          "height": 283
        },
        "id": "FZx3N8lemyil",
        "outputId": "92444841-1778-4b81-a702-601f2ebec128"
      },
      "outputs": [
        {
          "data": {
            "text/plain": [
              "<matplotlib.collections.PathCollection at 0x2aa5842d3a0>"
            ]
          },
          "execution_count": 21,
          "metadata": {},
          "output_type": "execute_result"
        },
        {
          "data": {
            "image/png": "[encoded data removed]",
            "text/plain": [
              "<Figure size 432x288 with 1 Axes>"
            ]
          },
          "metadata": {
            "needs_background": "light"
          },
          "output_type": "display_data"
        }
      ],
      "source": [
        "plt.scatter(LD.index,LD.x1)\n",
        "plt.scatter(LE.index,LE.x2)"
      ]
    },
    {
      "cell_type": "code",
      "execution_count": null,
      "metadata": {
        "id": "_GxToYbVuJkw"
      },
      "outputs": [],
      "source": [
        "#Tratando como regressão linear \n",
        "from sklearn.linear_model import LinearRegression"
      ]
    },
    {
      "cell_type": "code",
      "execution_count": null,
      "metadata": {
        "colab": {
          "base_uri": "https://localhost:8080/",
          "height": 72
        },
        "id": "v9j6QO-PvA5m",
        "outputId": "b892699b-6094-470d-ff86-5f1a2bb3caec"
      },
      "outputs": [
        {
          "data": {
            "text/plain": [
              "array([10.5, 10.1,  8.3,  7.3,  7.3, 12.3, 11.8,  9.2,  9.2, 11.3, 12. ,\n",
              "       11.5,  9.2, 13. , 10.4,  9.7,  8.4,  5.4, 13. ,  9.1,  9.9,  8.6,\n",
              "        8.6,  6.7, 10.5,  9.1,  8.5,  5.5,  5. ,  7.7,  7.2, 13. ,  8.8,\n",
              "        6.8, 11.6, 13. , 10.5,  5. ,  5. , 11.3,  9.9,  9. ,  6.8,  8.8,\n",
              "        8.8, 13. , 11. ,  8.8,  8.8,  6.9,  8.5,  7.5, 11.3, 11.3,  9.6,\n",
              "        9. ,  9. ,  3.9,  3.9, 10.9])"
            ]
          },
          "metadata": {},
          "output_type": "display_data"
        },
        {
          "data": {
            "text/plain": [
              "array([10.1,  8.3,  7.3,  7.3, 12.3, 11.8,  9.2,  9.2, 11.3, 12. , 11.5,\n",
              "        9.2, 13. , 10.4,  9.7,  8.4,  5.4, 13. ,  9.1,  9.9,  8.6,  8.6,\n",
              "        6.7, 10.5,  9.1,  8.5,  5.5,  5. ,  7.7,  7.2, 13. ,  8.8,  6.8,\n",
              "       11.6, 13. , 10.5,  5. ,  5. , 11.3,  9.9,  9. ,  6.8,  8.8,  8.8,\n",
              "       13. , 11. ,  8.8,  8.8,  6.9,  8.5,  7.5, 11.3, 11.3,  9.6,  9. ,\n",
              "        9. ,  3.9,  3.9, 10.9, 11.3])"
            ]
          },
          "metadata": {},
          "output_type": "display_data"
        },
        {
          "data": {
            "text/plain": [
              "array([10.1,  8.3,  7.3,  7.3, 12.3, 11.8,  9.2,  9.2, 11.3, 12. , 11.5,\n",
              "        9.2, 13. , 10.4,  9.7,  8.4,  5.4, 13. ,  9.1,  9.9,  8.6,  8.6,\n",
              "        6.7, 10.5,  9.1,  8.5,  5.5,  5. ,  7.7,  7.2, 13. ,  8.8,  6.8,\n",
              "       11.6, 13. , 10.5,  5. ,  5. , 11.3,  9.9,  9. ,  6.8,  8.8,  8.8,\n",
              "       13. , 11. ,  8.8,  8.8,  6.9,  8.5,  7.5, 11.3, 11.3,  9.6,  9. ,\n",
              "        9. ,  3.9,  3.9, 10.9, 11.3])"
            ]
          },
          "execution_count": 23,
          "metadata": {},
          "output_type": "execute_result"
        }
      ],
      "source": [
        "X = LD.x1.values\n",
        "y = LD.LD.values\n",
        "display(X,y)\n",
        "y"
      ]
    },
    {
      "cell_type": "code",
      "execution_count": null,
      "metadata": {
        "id": "kaVbAIJ9I0wp"
      },
      "outputs": [],
      "source": [
        "#reg = LinearRegression().fit(X.reshape(-1,1),y)\n",
        "#previsoes= reg.predict(X.reshape(-1,1),y)"
      ]
    },
    {
      "cell_type": "code",
      "execution_count": null,
      "metadata": {
        "colab": {
          "base_uri": "https://localhost:8080/"
        },
        "id": "23Qi2rDbkSEd",
        "outputId": "35ed03b4-7962-426b-fa9b-a514d8bb286b"
      },
      "outputs": [
        {
          "data": {
            "text/plain": [
              "array([ 9.48229079,  9.38405934,  8.94201781,  8.69643918,  8.69643918,\n",
              "        9.92433232,  9.80154301,  9.16303858,  9.16303858,  9.67875369,\n",
              "        9.85065873,  9.72786942,  9.16303858, 10.09623736,  9.45773293,\n",
              "        9.28582789,  8.96657567,  8.22983979, 10.09623736,  9.13848071,\n",
              "        9.33494361,  9.0156914 ,  9.0156914 ,  8.54909201,  9.48229079,\n",
              "        9.13848071,  8.99113354,  8.25439765,  8.13160834,  8.79467063,\n",
              "        8.67188132, 10.09623736,  9.06480712,  8.57364987,  9.75242728,\n",
              "       10.09623736,  9.48229079,  8.13160834,  8.13160834,  9.67875369,\n",
              "        9.33494361,  9.11392285,  8.57364987,  9.06480712,  9.06480712,\n",
              "       10.09623736,  9.6050801 ,  9.06480712,  9.06480712,  8.59820773,\n",
              "        8.99113354,  8.74555491,  9.67875369,  9.67875369,  9.26127003,\n",
              "        9.11392285,  9.11392285,  7.86147185,  7.86147185,  9.58052224])"
            ]
          },
          "execution_count": 25,
          "metadata": {},
          "output_type": "execute_result"
        }
      ],
      "source": [
        "reg = LinearRegression().fit(X.reshape(-1,1),y)\n",
        "previsoes = reg.predict(X.reshape(-1,1))\n",
        "previsoes"
      ]
    },
    {
      "cell_type": "code",
      "execution_count": null,
      "metadata": {
        "colab": {
          "base_uri": "https://localhost:8080/"
        },
        "id": "tNMQ1TsAkq94",
        "outputId": "2498f57a-0fcd-46c0-db90-4df0f3b0e17e"
      },
      "outputs": [
        {
          "data": {
            "text/plain": [
              "5.065092828707364"
            ]
          },
          "execution_count": 26,
          "metadata": {},
          "output_type": "execute_result"
        }
      ],
      "source": [
        "a=((y- previsoes)**2).mean()\n",
        "a"
      ]
    },
    {
      "cell_type": "code",
      "execution_count": null,
      "metadata": {
        "colab": {
          "base_uri": "https://localhost:8080/"
        },
        "id": "_mDR8y_inlaa",
        "outputId": "8d23627d-e686-428a-e168-360f6eb4a9d9"
      },
      "outputs": [
        {
          "data": {
            "text/plain": [
              "array([ 3.9,  3.9,  5. ,  5. ,  5. ,  5.4,  5.5,  6.7,  6.8,  6.8,  6.9,\n",
              "        7.2,  7.3,  7.3,  7.5,  7.7,  8.3,  8.4,  8.5,  8.5,  8.6,  8.6,\n",
              "        8.8,  8.8,  8.8,  8.8,  8.8,  9. ,  9. ,  9. ,  9.1,  9.1,  9.2,\n",
              "        9.2,  9.2,  9.6,  9.7,  9.9,  9.9, 10.1, 10.4, 10.5, 10.5, 10.9,\n",
              "       11. , 11.3, 11.3, 11.3, 11.3, 11.3, 11.5, 11.6, 11.8, 12. , 12.3,\n",
              "       13. , 13. , 13. , 13. , 13. ])"
            ]
          },
          "execution_count": 27,
          "metadata": {},
          "output_type": "execute_result"
        }
      ],
      "source": [
        "np.sort(y,-1)"
      ]
    },
    {
      "cell_type": "markdown",
      "metadata": {
        "id": "MtWhxotqlXaS"
      },
      "source": [
        "RODANDO O MODELO DE REGRESSÃO PARA AR(1) OBTEMOS $R^2=0.32$, VALOR INFERIOR AO COM MODELO NAIVE. ABAIXO A REPRESENTAÇÃO VISUAL DO MODELO DE REGRESSÃO LINEAR."
      ]
    },
    {
      "cell_type": "code",
      "execution_count": null,
      "metadata": {
        "colab": {
          "base_uri": "https://localhost:8080/"
        },
        "id": "Gff6c6RgrWlv",
        "outputId": "654670cc-f932-4d67-c107-9a684ac94a62"
      },
      "outputs": [
        {
          "data": {
            "text/plain": [
              "array([10.1,  8.3,  7.3,  7.3, 12.3, 11.8,  9.2,  9.2, 11.3, 12. , 11.5,\n",
              "        9.2, 13. , 10.4,  9.7,  8.4,  5.4, 13. ,  9.1,  9.9,  8.6,  8.6,\n",
              "        6.7, 10.5,  9.1,  8.5,  5.5,  5. ,  7.7,  7.2, 13. ,  8.8,  6.8,\n",
              "       11.6, 13. , 10.5,  5. ,  5. , 11.3,  9.9,  9. ,  6.8,  8.8,  8.8,\n",
              "       13. , 11. ,  8.8,  8.8,  6.9,  8.5,  7.5, 11.3, 11.3,  9.6,  9. ,\n",
              "        9. ,  3.9,  3.9, 10.9, 11.3])"
            ]
          },
          "execution_count": 28,
          "metadata": {},
          "output_type": "execute_result"
        }
      ],
      "source": [
        "y "
      ]
    },
    {
      "cell_type": "code",
      "execution_count": null,
      "metadata": {
        "colab": {
          "base_uri": "https://localhost:8080/",
          "height": 297
        },
        "id": "CXcQ_4xslo3d",
        "outputId": "f3018748-7a15-4f16-8a10-fcc63783c828"
      },
      "outputs": [
        {
          "data": {
            "text/plain": [
              "Text(0, 0.5, 'LD')"
            ]
          },
          "execution_count": 29,
          "metadata": {},
          "output_type": "execute_result"
        },
        {
          "data": {
            "image/png": "[encoded data removed]",
            "text/plain": [
              "<Figure size 432x288 with 1 Axes>"
            ]
          },
          "metadata": {
            "needs_background": "light"
          },
          "output_type": "display_data"
        }
      ],
      "source": [
        "plt.scatter(X,y)\n",
        "plt.plot(X,reg.predict(X.reshape(-1,1)), color = 'red')\n",
        "plt.gca().invert_yaxis()\n",
        "plt.xlabel('DATA')\n",
        "plt.ylabel('LD')"
      ]
    },
    {
      "cell_type": "code",
      "execution_count": null,
      "metadata": {
        "colab": {
          "base_uri": "https://localhost:8080/"
        },
        "id": "lbtPU3Ogrph4",
        "outputId": "ba266bde-84a0-4ae1-c601-f9a337e0b3f5"
      },
      "outputs": [
        {
          "data": {
            "text/plain": [
              "array([ 9.48229079,  9.38405934,  8.94201781,  8.69643918,  8.69643918,\n",
              "        9.92433232,  9.80154301,  9.16303858,  9.16303858,  9.67875369,\n",
              "        9.85065873,  9.72786942,  9.16303858, 10.09623736,  9.45773293,\n",
              "        9.28582789,  8.96657567,  8.22983979, 10.09623736,  9.13848071,\n",
              "        9.33494361,  9.0156914 ,  9.0156914 ,  8.54909201,  9.48229079,\n",
              "        9.13848071,  8.99113354,  8.25439765,  8.13160834,  8.79467063,\n",
              "        8.67188132, 10.09623736,  9.06480712,  8.57364987,  9.75242728,\n",
              "       10.09623736,  9.48229079,  8.13160834,  8.13160834,  9.67875369,\n",
              "        9.33494361,  9.11392285,  8.57364987,  9.06480712,  9.06480712,\n",
              "       10.09623736,  9.6050801 ,  9.06480712,  9.06480712,  8.59820773,\n",
              "        8.99113354,  8.74555491,  9.67875369,  9.67875369,  9.26127003,\n",
              "        9.11392285,  9.11392285,  7.86147185,  7.86147185,  9.58052224])"
            ]
          },
          "execution_count": 30,
          "metadata": {},
          "output_type": "execute_result"
        }
      ],
      "source": [
        "previsoes"
      ]
    },
    {
      "cell_type": "code",
      "execution_count": null,
      "metadata": {
        "colab": {
          "base_uri": "https://localhost:8080/",
          "height": 406
        },
        "id": "MtTMmT4orp5v",
        "outputId": "c96db234-b0ab-4a0b-adc4-992d10f6ef00"
      },
      "outputs": [
        {
          "name": "stderr",
          "output_type": "stream",
          "text": [
            "C:\\Users\\arthu\\AppData\\Local\\Temp/ipykernel_20708/2090123269.py:1: SettingWithCopyWarning: \n",
            "A value is trying to be set on a copy of a slice from a DataFrame.\n",
            "Try using .loc[row_indexer,col_indexer] = value instead\n",
            "\n",
            "See the caveats in the documentation: https://pandas.pydata.org/pandas-docs/stable/user_guide/indexing.html#returning-a-view-versus-a-copy\n",
            "  LD['ar_1'] = previsoes\n"
          ]
        },
        {
          "data": {
            "text/plain": [
              "<AxesSubplot:xlabel='DATA'>"
            ]
          },
          "execution_count": 31,
          "metadata": {},
          "output_type": "execute_result"
        },
        {
          "data": {
            "image/png": "[encoded data removed]",
            "text/plain": [
              "<Figure size 432x288 with 1 Axes>"
            ]
          },
          "metadata": {
            "needs_background": "light"
          },
          "output_type": "display_data"
        }
      ],
      "source": [
        "LD['ar_1'] = previsoes\n",
        "LD.head()\n",
        "LD[[\"LD\",\"ar_1\"]].plot()"
      ]
    },
    {
      "cell_type": "markdown",
      "metadata": {
        "id": "9H2VLrXGsjDZ"
      },
      "source": [
        "utilizando o pacote statsmodels"
      ]
    },
    {
      "cell_type": "code",
      "execution_count": null,
      "metadata": {
        "colab": {
          "base_uri": "https://localhost:8080/",
          "height": 247
        },
        "id": "CgepKJG_TrP9",
        "outputId": "70fc99ec-db18-4752-f34e-c96ecb54ba59"
      },
      "outputs": [
        {
          "ename": "NotImplementedError",
          "evalue": "AR has been removed from statsmodels and replaced with statsmodels.tsa.ar_model.AutoReg.",
          "output_type": "error",
          "traceback": [
            "\u001b[1;31m---------------------------------------------------------------------------\u001b[0m",
            "\u001b[1;31mNotImplementedError\u001b[0m                       Traceback (most recent call last)",
            "\u001b[1;32m~\\AppData\\Local\\Temp/ipykernel_20708/811516738.py\u001b[0m in \u001b[0;36m<module>\u001b[1;34m\u001b[0m\n\u001b[0;32m      1\u001b[0m \u001b[1;32mfrom\u001b[0m \u001b[0mstatsmodels\u001b[0m\u001b[1;33m.\u001b[0m\u001b[0mtsa\u001b[0m\u001b[1;33m.\u001b[0m\u001b[0mar_model\u001b[0m \u001b[1;32mimport\u001b[0m \u001b[0mAR\u001b[0m\u001b[1;33m\u001b[0m\u001b[1;33m\u001b[0m\u001b[0m\n\u001b[1;32m----> 2\u001b[1;33m \u001b[0mar_2\u001b[0m\u001b[1;33m=\u001b[0m \u001b[0mAR\u001b[0m\u001b[1;33m(\u001b[0m\u001b[0mLD\u001b[0m\u001b[1;33m.\u001b[0m\u001b[0mindex\u001b[0m\u001b[1;33m,\u001b[0m \u001b[0mfreq\u001b[0m\u001b[1;33m=\u001b[0m\u001b[1;34m'MS'\u001b[0m\u001b[1;33m)\u001b[0m\u001b[1;33m.\u001b[0m\u001b[0mfit\u001b[0m\u001b[1;33m(\u001b[0m\u001b[1;36m1\u001b[0m\u001b[1;33m)\u001b[0m\u001b[1;33m\u001b[0m\u001b[1;33m\u001b[0m\u001b[0m\n\u001b[0m",
            "\u001b[1;32mc:\\Users\\arthu\\anaconda3\\lib\\site-packages\\statsmodels\\tsa\\ar_model.py\u001b[0m in \u001b[0;36m__init__\u001b[1;34m(self, *args, **kwargs)\u001b[0m\n\u001b[0;32m    815\u001b[0m \u001b[1;33m\u001b[0m\u001b[0m\n\u001b[0;32m    816\u001b[0m     \u001b[1;32mdef\u001b[0m \u001b[0m__init__\u001b[0m\u001b[1;33m(\u001b[0m\u001b[0mself\u001b[0m\u001b[1;33m,\u001b[0m \u001b[1;33m*\u001b[0m\u001b[0margs\u001b[0m\u001b[1;33m,\u001b[0m \u001b[1;33m**\u001b[0m\u001b[0mkwargs\u001b[0m\u001b[1;33m)\u001b[0m\u001b[1;33m:\u001b[0m\u001b[1;33m\u001b[0m\u001b[1;33m\u001b[0m\u001b[0m\n\u001b[1;32m--> 817\u001b[1;33m         raise NotImplementedError(\n\u001b[0m\u001b[0;32m    818\u001b[0m             \u001b[1;34m\"AR has been removed from statsmodels and replaced with \"\u001b[0m\u001b[1;33m\u001b[0m\u001b[1;33m\u001b[0m\u001b[0m\n\u001b[0;32m    819\u001b[0m             \u001b[1;34m\"statsmodels.tsa.ar_model.AutoReg.\"\u001b[0m\u001b[1;33m\u001b[0m\u001b[1;33m\u001b[0m\u001b[0m\n",
            "\u001b[1;31mNotImplementedError\u001b[0m: AR has been removed from statsmodels and replaced with statsmodels.tsa.ar_model.AutoReg."
          ]
        }
      ],
      "source": [
        "from statsmodels.tsa.ar_model import AR\n",
        "ar_2= AR(LD.index, freq='MS').fit(1)"
      ]
    },
    {
      "cell_type": "code",
      "execution_count": null,
      "metadata": {
        "colab": {
          "base_uri": "https://localhost:8080/",
          "height": 172
        },
        "id": "rM2jGpvZW6z_",
        "outputId": "b6b6167b-11f9-4ebc-cd00-f4d94dc60b7e"
      },
      "outputs": [
        {
          "ename": "NameError",
          "evalue": "ignored",
          "output_type": "error",
          "traceback": [
            "\u001b[0;31m---------------------------------------------------------------------------\u001b[0m",
            "\u001b[0;31mNameError\u001b[0m                                 Traceback (most recent call last)",
            "\u001b[0;32m<ipython-input-38-02d3576cb406>\u001b[0m in \u001b[0;36m<module>\u001b[0;34m()\u001b[0m\n\u001b[0;32m----> 1\u001b[0;31m \u001b[0mar_2\u001b[0m\u001b[0;34m.\u001b[0m\u001b[0mresid\u001b[0m\u001b[0;34m\u001b[0m\u001b[0;34m\u001b[0m\u001b[0m\n\u001b[0m",
            "\u001b[0;31mNameError\u001b[0m: name 'ar_2' is not defined"
          ]
        }
      ],
      "source": [
        "ar_2.resid"
      ]
    }
  ],
  "metadata": {
    "colab": {
      "collapsed_sections": [],
      "name": "NAIVExAUTOREGRESSIVO_1_.ipynb",
      "provenance": []
    },
    "interpreter": {
      "hash": "e38bdacfe1d6e2b7e20a64d2eef782d7715e4314dc541be72f500d3c69b94a4f"
    },
    "kernelspec": {
      "display_name": "Python 3.8.8 ('base')",
      "language": "python",
      "name": "python3"
    },
    "language_info": {
      "codemirror_mode": {
        "name": "ipython",
        "version": 3
      },
      "file_extension": ".py",
      "mimetype": "text/x-python",
      "name": "python",
      "nbconvert_exporter": "python",
      "pygments_lexer": "ipython3",
      "version": "3.8.8"
    }
  },
  "nbformat": 4,
  "nbformat_minor": 0
}
