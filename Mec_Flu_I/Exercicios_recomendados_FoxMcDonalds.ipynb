{
 "cells": [
  {
   "cell_type": "code",
   "execution_count": 9,
   "metadata": {},
   "outputs": [],
   "source": [
    "from sympy import * \n",
    "from sympy.abc import *\n",
    "import numpy as np\n",
    "import matplotlib.pyplot as plt\n",
    "init_printing()\n",
    "\n",
    "import warnings\n",
    "warnings.filterwarnings('ignore')\n",
    "warnings.simplefilter('ignore')"
   ]
  },
  {
   "cell_type": "code",
   "execution_count": 15,
   "metadata": {},
   "outputs": [
    {
     "data": {
      "image/png": "[encoded data removed]",
      "text/latex": [
       "$\\displaystyle g - \\frac{k \\frac{d}{d t} x{\\left(t \\right)}}{w} + \\frac{d^{2}}{d t^{2}} x{\\left(t \\right)} = 0$"
      ],
      "text/plain": [
       "      d                       \n",
       "    k⋅──(x(t))     2          \n",
       "      dt          d           \n",
       "g - ────────── + ───(x(t)) = 0\n",
       "        w          2          \n",
       "                 dt           "
      ]
     },
     "execution_count": 15,
     "metadata": {},
     "output_type": "execute_result"
    }
   ],
   "source": [
    "x = Function('x')\n",
    "\n",
    "dxdt = Derivative(x(t), t)\n",
    "dxxdtt = Derivative(x(t), t, t)\n",
    "\n",
    "edo = Eq(dxxdtt - (k/w*dxdt) + g, 0)\n",
    "edo"
   ]
  },
  {
   "cell_type": "code",
   "execution_count": 16,
   "metadata": {},
   "outputs": [
    {
     "data": {
      "text/plain": [
       "('nth_linear_constant_coeff_undetermined_coefficients',\n",
       " 'nth_linear_constant_coeff_variation_of_parameters',\n",
       " 'nth_order_reducible',\n",
       " 'nth_linear_constant_coeff_variation_of_parameters_Integral')"
      ]
     },
     "execution_count": 16,
     "metadata": {},
     "output_type": "execute_result"
    }
   ],
   "source": [
    "classify_ode(edo)\n"
   ]
  },
  {
   "cell_type": "code",
   "execution_count": 17,
   "metadata": {},
   "outputs": [
    {
     "data": {
      "image/png": "[encoded data removed]",
      "text/latex": [
       "$\\displaystyle x{\\left(t \\right)} = C_{1} + C_{2} e^{\\frac{k t}{w}} + \\frac{g t w}{k}$"
      ],
      "text/plain": [
       "                k⋅t        \n",
       "                ───        \n",
       "                 w    g⋅t⋅w\n",
       "x(t) = C₁ + C₂⋅ℯ    + ─────\n",
       "                        k  "
      ]
     },
     "execution_count": 17,
     "metadata": {},
     "output_type": "execute_result"
    }
   ],
   "source": [
    "#solução da edo\n",
    "sol = dsolve(edo)\n",
    "sol"
   ]
  },
  {
   "cell_type": "code",
   "execution_count": 18,
   "metadata": {},
   "outputs": [
    {
     "data": {
      "image/png": "[encoded data removed]",
      "text/latex": [
       "$\\displaystyle x{\\left(\\frac{3 w}{g k} \\right)} = C_{1} + C_{2} e^{\\frac{3}{g}} + \\frac{3 w^{2}}{k^{2}}$"
      ],
      "text/plain": [
       "                  3       \n",
       "                  ─      2\n",
       " ⎛3⋅w⎞            g   3⋅w \n",
       "x⎜───⎟ = C₁ + C₂⋅ℯ  + ────\n",
       " ⎝g⋅k⎠                  2 \n",
       "                       k  "
      ]
     },
     "execution_count": 18,
     "metadata": {},
     "output_type": "execute_result"
    }
   ],
   "source": [
    "sol.subs({t:3*w/(g*k)})"
   ]
  },
  {
   "cell_type": "code",
   "execution_count": 19,
   "metadata": {},
   "outputs": [
    {
     "data": {
      "image/png": "[encoded data removed]",
      "text/latex": [
       "$\\displaystyle 0.166666666666667$"
      ],
      "text/plain": [
       "0.16666666666666666"
      ]
     },
     "execution_count": 19,
     "metadata": {},
     "output_type": "execute_result"
    }
   ],
   "source": [
    "0.5/3\n"
   ]
  },
  {
   "cell_type": "code",
   "execution_count": 20,
   "metadata": {},
   "outputs": [
    {
     "data": {
      "image/png": "[encoded data removed]",
      "text/latex": [
       "$\\displaystyle 0.166666666666667$"
      ],
      "text/plain": [
       "0.16666666666666666"
      ]
     },
     "execution_count": 20,
     "metadata": {},
     "output_type": "execute_result"
    }
   ],
   "source": [
    "1/6"
   ]
  },
  {
   "cell_type": "code",
   "execution_count": null,
   "metadata": {},
   "outputs": [],
   "source": []
  }
 ],
 "metadata": {
  "interpreter": {
   "hash": "894588d70223105318f3a6143f469ff55b12e3d45628534b2f37efc006a33ec3"
  },
  "kernelspec": {
   "display_name": "Python 3.8.8 ('base')",
   "language": "python",
   "name": "python3"
  },
  "language_info": {
   "codemirror_mode": {
    "name": "ipython",
    "version": 3
   },
   "file_extension": ".py",
   "mimetype": "text/x-python",
   "name": "python",
   "nbconvert_exporter": "python",
   "pygments_lexer": "ipython3",
   "version": "3.8.8"
  },
  "orig_nbformat": 4
 },
 "nbformat": 4,
 "nbformat_minor": 2
}
