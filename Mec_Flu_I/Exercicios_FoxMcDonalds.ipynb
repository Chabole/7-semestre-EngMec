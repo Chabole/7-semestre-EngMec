{
 "cells": [
  {
   "cell_type": "code",
   "execution_count": 1,
   "metadata": {},
   "outputs": [],
   "source": [
    "from sympy import * \n",
    "from sympy.abc import *\n",
    "import numpy as np\n",
    "import matplotlib.pyplot as plt\n",
    "init_printing()"
   ]
  },
  {
   "cell_type": "markdown",
   "metadata": {},
   "source": [
    "#### Example 4.11 pag 131"
   ]
  },
  {
   "cell_type": "markdown",
   "metadata": {},
   "source": []
  },
  {
   "cell_type": "code",
   "execution_count": 71,
   "metadata": {},
   "outputs": [
    {
     "data": {
      "image/png": "[encoded data removed]",
      "text/latex": [
       "$\\displaystyle \\frac{d}{d t} U{\\left(t \\right)} = \\rho \\left(V - U{\\left(t \\right)}\\right)^{2} \\left(A_{1} \\cos{\\left(\\theta \\right)} - A_{1}\\right)$"
      ],
      "text/plain": [
       "d                      2                 \n",
       "──(U(t)) = ρ⋅(V - U(t)) ⋅(A₁⋅cos(θ) - A₁)\n",
       "dt                                       "
      ]
     },
     "execution_count": 71,
     "metadata": {},
     "output_type": "execute_result"
    }
   ],
   "source": [
    "a1, a2, C1 = symbols(\"A_1 A_2 C1\") \n",
    "U = Function(\"U\")(t) # f is a function of x\n",
    "du = Derivative(U, t)\n",
    "\n",
    "e = Eq(du, rho*((V-U)**2)*(-a1 + a1*cos(theta)))\n",
    "e"
   ]
  },
  {
   "cell_type": "code",
   "execution_count": 72,
   "metadata": {},
   "outputs": [
    {
     "data": {
      "image/png": "[encoded data removed]",
      "text/latex": [
       "$\\displaystyle \\frac{d}{d t} U{\\left(t \\right)} = - 1.4985 \\left(35 - U{\\left(t \\right)}\\right)^{2}$"
      ],
      "text/plain": [
       "d                             2\n",
       "──(U(t)) = -1.4985⋅(35 - U(t)) \n",
       "dt                             "
      ]
     },
     "execution_count": 72,
     "metadata": {},
     "output_type": "execute_result"
    }
   ],
   "source": [
    "#e = Eq(du, rho*((V-U)**2)*(-a1 + a2*cos(theta)))\n",
    "en = e.subs({rho:999, a1:0.003, theta:np.radians(60), V:35})\n",
    "en"
   ]
  },
  {
   "cell_type": "code",
   "execution_count": 73,
   "metadata": {},
   "outputs": [
    {
     "data": {
      "image/png": "[encoded data removed]",
      "text/latex": [
       "$\\displaystyle 0 = C_{1} - t$"
      ],
      "text/plain": [
       "0 = C₁ - t"
      ]
     },
     "execution_count": 73,
     "metadata": {},
     "output_type": "execute_result"
    }
   ],
   "source": [
    "dsolve(en)"
   ]
  },
  {
   "cell_type": "code",
   "execution_count": 77,
   "metadata": {},
   "outputs": [
    {
     "name": "stderr",
     "output_type": "stream",
     "text": [
      "C:\\Users\\arthu\\anaconda3\\lib\\site-packages\\IPython\\lib\\latextools.py:126: MatplotlibDeprecationWarning: \n",
      "The to_png function was deprecated in Matplotlib 3.4 and will be removed two minor releases later. Use mathtext.math_to_image instead.\n",
      "  mt.to_png(f, s, fontsize=12, dpi=dpi, color=color)\n",
      "C:\\Users\\arthu\\anaconda3\\lib\\site-packages\\IPython\\lib\\latextools.py:126: MatplotlibDeprecationWarning: \n",
      "The to_rgba function was deprecated in Matplotlib 3.4 and will be removed two minor releases later. Use mathtext.math_to_image instead.\n",
      "  mt.to_png(f, s, fontsize=12, dpi=dpi, color=color)\n",
      "C:\\Users\\arthu\\anaconda3\\lib\\site-packages\\IPython\\lib\\latextools.py:126: MatplotlibDeprecationWarning: \n",
      "The to_mask function was deprecated in Matplotlib 3.4 and will be removed two minor releases later. Use mathtext.math_to_image instead.\n",
      "  mt.to_png(f, s, fontsize=12, dpi=dpi, color=color)\n",
      "C:\\Users\\arthu\\anaconda3\\lib\\site-packages\\IPython\\lib\\latextools.py:126: MatplotlibDeprecationWarning: \n",
      "The MathtextBackendBitmap class was deprecated in Matplotlib 3.4 and will be removed two minor releases later. Use mathtext.math_to_image instead.\n",
      "  mt.to_png(f, s, fontsize=12, dpi=dpi, color=color)\n"
     ]
    },
    {
     "data": {
      "image/png": "[encoded data removed]",
      "text/latex": [
       "$\\displaystyle U{\\left(t \\right)} = 35.0 + \\frac{0.667334000667334}{t}$"
      ],
      "text/plain": [
       "              0.667334000667334\n",
       "U(t) = 35.0 + ─────────────────\n",
       "                      t        "
      ]
     },
     "execution_count": 77,
     "metadata": {},
     "output_type": "execute_result"
    }
   ],
   "source": [
    "s = dsolve(e)\n",
    "s.subs({rho:999, a1:0.003, theta:np.radians(60), V:35, C1:0}).simplify()"
   ]
  },
  {
   "cell_type": "markdown",
   "metadata": {},
   "source": [
    "#### Relatório de Lab de mec flu I: Tubo de pitot - 14/01/2022"
   ]
  },
  {
   "cell_type": "code",
   "execution_count": 31,
   "metadata": {},
   "outputs": [
    {
     "data": {
      "text/html": [
       "<div>\n",
       "<style scoped>\n",
       "    .dataframe tbody tr th:only-of-type {\n",
       "        vertical-align: middle;\n",
       "    }\n",
       "\n",
       "    .dataframe tbody tr th {\n",
       "        vertical-align: top;\n",
       "    }\n",
       "\n",
       "    .dataframe thead th {\n",
       "        text-align: right;\n",
       "    }\n",
       "</style>\n",
       "<table border=\"1\" class=\"dataframe\">\n",
       "  <thead>\n",
       "    <tr style=\"text-align: right;\">\n",
       "      <th></th>\n",
       "      <th>RPM</th>\n",
       "      <th>L</th>\n",
       "    </tr>\n",
       "  </thead>\n",
       "  <tbody>\n",
       "    <tr>\n",
       "      <th>0</th>\n",
       "      <td>2000</td>\n",
       "      <td>13</td>\n",
       "    </tr>\n",
       "    <tr>\n",
       "      <th>1</th>\n",
       "      <td>2200</td>\n",
       "      <td>23</td>\n",
       "    </tr>\n",
       "    <tr>\n",
       "      <th>2</th>\n",
       "      <td>2400</td>\n",
       "      <td>31</td>\n",
       "    </tr>\n",
       "    <tr>\n",
       "      <th>3</th>\n",
       "      <td>2600</td>\n",
       "      <td>41</td>\n",
       "    </tr>\n",
       "    <tr>\n",
       "      <th>4</th>\n",
       "      <td>2800</td>\n",
       "      <td>54</td>\n",
       "    </tr>\n",
       "    <tr>\n",
       "      <th>5</th>\n",
       "      <td>3000</td>\n",
       "      <td>67</td>\n",
       "    </tr>\n",
       "  </tbody>\n",
       "</table>\n",
       "</div>"
      ],
      "text/plain": [
       "    RPM   L\n",
       "0  2000  13\n",
       "1  2200  23\n",
       "2  2400  31\n",
       "3  2600  41\n",
       "4  2800  54\n",
       "5  3000  67"
      ]
     },
     "execution_count": 31,
     "metadata": {},
     "output_type": "execute_result"
    }
   ],
   "source": [
    "import pandas as pd\n",
    "import numpy as np\n",
    "import matplotlib.pyplot as plt\n",
    "import ZebraLib as zb\n",
    "\n",
    "data = np.array([[2000, 13], \n",
    "                [2200, 23], \n",
    "                [2400, 31], \n",
    "                [2600, 41], \n",
    "                [2800, 54], \n",
    "                [3000, 67]])\n",
    "\n",
    "df = pd.DataFrame(data, columns=['RPM', 'L'])\n",
    "\n",
    "df"
   ]
  },
  {
   "cell_type": "code",
   "execution_count": 41,
   "metadata": {},
   "outputs": [
    {
     "data": {
      "text/html": [
       "<div>\n",
       "<style scoped>\n",
       "    .dataframe tbody tr th:only-of-type {\n",
       "        vertical-align: middle;\n",
       "    }\n",
       "\n",
       "    .dataframe tbody tr th {\n",
       "        vertical-align: top;\n",
       "    }\n",
       "\n",
       "    .dataframe thead th {\n",
       "        text-align: right;\n",
       "    }\n",
       "</style>\n",
       "<table border=\"1\" class=\"dataframe\">\n",
       "  <thead>\n",
       "    <tr style=\"text-align: right;\">\n",
       "      <th></th>\n",
       "      <th>RPM</th>\n",
       "      <th>L</th>\n",
       "      <th>Del P</th>\n",
       "      <th>V</th>\n",
       "      <th>Lsen(theta)</th>\n",
       "    </tr>\n",
       "  </thead>\n",
       "  <tbody>\n",
       "    <tr>\n",
       "      <th>0</th>\n",
       "      <td>2000</td>\n",
       "      <td>13</td>\n",
       "      <td>22.145352</td>\n",
       "      <td>6.116183</td>\n",
       "      <td>0.002257</td>\n",
       "    </tr>\n",
       "    <tr>\n",
       "      <th>1</th>\n",
       "      <td>2200</td>\n",
       "      <td>23</td>\n",
       "      <td>39.180238</td>\n",
       "      <td>8.135283</td>\n",
       "      <td>0.003994</td>\n",
       "    </tr>\n",
       "    <tr>\n",
       "      <th>2</th>\n",
       "      <td>2400</td>\n",
       "      <td>31</td>\n",
       "      <td>52.808147</td>\n",
       "      <td>9.444731</td>\n",
       "      <td>0.005383</td>\n",
       "    </tr>\n",
       "    <tr>\n",
       "      <th>3</th>\n",
       "      <td>2600</td>\n",
       "      <td>41</td>\n",
       "      <td>69.843034</td>\n",
       "      <td>10.861772</td>\n",
       "      <td>0.007120</td>\n",
       "    </tr>\n",
       "    <tr>\n",
       "      <th>4</th>\n",
       "      <td>2800</td>\n",
       "      <td>54</td>\n",
       "      <td>91.988386</td>\n",
       "      <td>12.465384</td>\n",
       "      <td>0.009377</td>\n",
       "    </tr>\n",
       "    <tr>\n",
       "      <th>5</th>\n",
       "      <td>3000</td>\n",
       "      <td>67</td>\n",
       "      <td>114.133738</td>\n",
       "      <td>13.885009</td>\n",
       "      <td>0.011634</td>\n",
       "    </tr>\n",
       "  </tbody>\n",
       "</table>\n",
       "</div>"
      ],
      "text/plain": [
       "    RPM   L       Del P          V  Lsen(theta)\n",
       "0  2000  13   22.145352   6.116183     0.002257\n",
       "1  2200  23   39.180238   8.135283     0.003994\n",
       "2  2400  31   52.808147   9.444731     0.005383\n",
       "3  2600  41   69.843034  10.861772     0.007120\n",
       "4  2800  54   91.988386  12.465384     0.009377\n",
       "5  3000  67  114.133738  13.885009     0.011634"
      ]
     },
     "execution_count": 41,
     "metadata": {},
     "output_type": "execute_result"
    }
   ],
   "source": [
    "def dif_P(del_h):\n",
    "    return 1E3*9.81*del_h\n",
    "\n",
    "def Veloc(P):\n",
    "    return ((2*P)/(1.184))**(1/2)\n",
    "\n",
    "df['Lsen(theta)'] = df['L']*np.sin(np.radians(10))*1E-3\n",
    "df['Del P'] = dif_P(df['Lsen(theta)'] )\n",
    "df['V'] = Veloc(df['Del P'])\n",
    "\n",
    "df"
   ]
  },
  {
   "cell_type": "code",
   "execution_count": 43,
   "metadata": {},
   "outputs": [
    {
     "data": {
      "image/png": "[encoded data removed]",
      "text/plain": [
       "<Figure size 432x288 with 1 Axes>"
      ]
     },
     "metadata": {
      "needs_background": "light"
     },
     "output_type": "display_data"
    }
   ],
   "source": [
    "poly = zb.fit(df['RPM'], df['V'], 1)\n",
    "\n",
    "fig, ax = plt.subplots()\n",
    "ax.set(xlabel='Rotação (RPM)', ylabel='Velocidade (m/s)')\n",
    "\n",
    "ax.scatter(df['RPM'], df['V'], label='dados')\n",
    "ax.plot(df['RPM'], poly(df['RPM']), ls='--', c='red', label=r'$p(x)=2.038x + 0.547$')\n",
    "\n",
    "ax.grid(linestyle='dotted')\n",
    "ax.legend()\n",
    "fig.savefig('D:/fig.pdf', bbox_inches='tight')"
   ]
  },
  {
   "cell_type": "markdown",
   "metadata": {},
   "source": [
    "## Exercício 5.5 - p. 189 FoxMcDonalds"
   ]
  },
  {
   "cell_type": "code",
   "execution_count": 4,
   "metadata": {},
   "outputs": [],
   "source": [
    "from sympy import * \n",
    "from sympy.abc import *\n",
    "import numpy as np\n",
    "import matplotlib.pyplot as plt\n",
    "init_printing()\n",
    "\n",
    "import warnings\n",
    "warnings.filterwarnings('ignore')\n",
    "warnings.simplefilter('ignore')"
   ]
  },
  {
   "cell_type": "code",
   "execution_count": 12,
   "metadata": {},
   "outputs": [
    {
     "data": {
      "image/png": "[encoded data removed]",
      "text/latex": [
       "$\\displaystyle \\left( V_{1} \\left(1 + \\frac{x}{L}\\right), \\  \\frac{\\partial}{\\partial x} V_{1} \\left(1 + \\frac{x}{L}\\right)\\right)$"
      ],
      "text/plain": [
       "⎛   ⎛    x⎞  ∂ ⎛   ⎛    x⎞⎞⎞\n",
       "⎜V₁⋅⎜1 + ─⎟, ──⎜V₁⋅⎜1 + ─⎟⎟⎟\n",
       "⎝   ⎝    L⎠  ∂x⎝   ⎝    L⎠⎠⎠"
      ]
     },
     "execution_count": 12,
     "metadata": {},
     "output_type": "execute_result"
    }
   ],
   "source": [
    "v1 = symbols('V_1')\n",
    "u = v1*(1 + (x/L))\n",
    "dudx = Derivative(u, x, evaluate=False)\n",
    "u, dudx"
   ]
  },
  {
   "cell_type": "code",
   "execution_count": 20,
   "metadata": {},
   "outputs": [
    {
     "data": {
      "image/png": "[encoded data removed]",
      "text/latex": [
       "$\\displaystyle V_{1} \\left(1 + \\frac{x}{L}\\right) \\frac{\\partial}{\\partial x} V_{1} \\left(1 + \\frac{x}{L}\\right)$"
      ],
      "text/plain": [
       "   ⎛    x⎞ ∂ ⎛   ⎛    x⎞⎞\n",
       "V₁⋅⎜1 + ─⎟⋅──⎜V₁⋅⎜1 + ─⎟⎟\n",
       "   ⎝    L⎠ ∂x⎝   ⎝    L⎠⎠"
      ]
     },
     "execution_count": 20,
     "metadata": {},
     "output_type": "execute_result"
    }
   ],
   "source": [
    "a = u*dudx\n",
    "a"
   ]
  },
  {
   "cell_type": "code",
   "execution_count": 21,
   "metadata": {},
   "outputs": [
    {
     "data": {
      "image/png": "[encoded data removed]",
      "text/latex": [
       "$\\displaystyle \\frac{V_{1}^{2} \\left(L + x\\right)}{L^{2}}$"
      ],
      "text/plain": [
       "  2        \n",
       "V₁ ⋅(L + x)\n",
       "───────────\n",
       "      2    \n",
       "     L     "
      ]
     },
     "execution_count": 21,
     "metadata": {},
     "output_type": "execute_result"
    }
   ],
   "source": [
    "a.simplify()"
   ]
  },
  {
   "cell_type": "code",
   "execution_count": 22,
   "metadata": {},
   "outputs": [
    {
     "data": {
      "image/png": "[encoded data removed]",
      "text/latex": [
       "$\\displaystyle \\left[ \\left( L, \\  0, \\  x\\right), \\  \\left( - x, \\  V_{1}, \\  x\\right)\\right]$"
      ],
      "text/plain": [
       "[(L, 0, x), (-x, V₁, x)]"
      ]
     },
     "execution_count": 22,
     "metadata": {},
     "output_type": "execute_result"
    }
   ],
   "source": [
    "solve(a)"
   ]
  },
  {
   "cell_type": "code",
   "execution_count": 37,
   "metadata": {},
   "outputs": [
    {
     "data": {
      "image/png": "[encoded data removed]",
      "text/latex": [
       "$\\displaystyle \\log{\\left(x - x_{0} \\right)} = A \\tau$"
      ],
      "text/plain": [
       "log(x - x₀) = A⋅τ"
      ]
     },
     "execution_count": 37,
     "metadata": {},
     "output_type": "execute_result"
    }
   ],
   "source": [
    "x0 = symbols('x_0')\n",
    "a = Eq(log(x - x0), A*tau)\n",
    "a"
   ]
  },
  {
   "cell_type": "code",
   "execution_count": 38,
   "metadata": {},
   "outputs": [
    {
     "data": {
      "image/png": "[encoded data removed]",
      "text/latex": [
       "$\\displaystyle \\left[ x_{0} + e^{A \\tau}\\right]$"
      ],
      "text/plain": [
       "⎡      A⋅τ⎤\n",
       "⎣x₀ + ℯ   ⎦"
      ]
     },
     "execution_count": 38,
     "metadata": {},
     "output_type": "execute_result"
    }
   ],
   "source": [
    "solve(a, x)"
   ]
  },
  {
   "cell_type": "code",
   "execution_count": 34,
   "metadata": {},
   "outputs": [
    {
     "data": {
      "image/png": "[encoded data removed]",
      "text/latex": [
       "$\\displaystyle e^{\\log{\\left(x - x_{0} \\right)}}$"
      ],
      "text/plain": [
       " log(x - x₀)\n",
       "e           "
      ]
     },
     "execution_count": 34,
     "metadata": {},
     "output_type": "execute_result"
    }
   ],
   "source": [
    "e**(a).simplify()"
   ]
  },
  {
   "cell_type": "code",
   "execution_count": 49,
   "metadata": {},
   "outputs": [
    {
     "data": {
      "image/png": "[encoded data removed]",
      "text/latex": [
       "$\\displaystyle \\log{\\left(x \\right)} - \\log{\\left(x_{0} \\right)}$"
      ],
      "text/plain": [
       "log(x) - log(x₀)"
      ]
     },
     "execution_count": 49,
     "metadata": {},
     "output_type": "execute_result"
    }
   ],
   "source": [
    "g = integrate(1/x, (x, x0, x))\n",
    "h = integrate(A, (t, 0, tau))\n",
    "g"
   ]
  },
  {
   "cell_type": "code",
   "execution_count": 50,
   "metadata": {},
   "outputs": [
    {
     "data": {
      "image/png": "[encoded data removed]",
      "text/latex": [
       "$\\displaystyle A \\tau$"
      ],
      "text/plain": [
       "A⋅τ"
      ]
     },
     "execution_count": 50,
     "metadata": {},
     "output_type": "execute_result"
    }
   ],
   "source": [
    "h"
   ]
  },
  {
   "cell_type": "code",
   "execution_count": 52,
   "metadata": {},
   "outputs": [
    {
     "data": {
      "image/png": "[encoded data removed]",
      "text/latex": [
       "$\\displaystyle \\log{\\left(x \\right)} - \\log{\\left(x_{0} \\right)} = A \\tau$"
      ],
      "text/plain": [
       "log(x) - log(x₀) = A⋅τ"
      ]
     },
     "execution_count": 52,
     "metadata": {},
     "output_type": "execute_result"
    }
   ],
   "source": [
    "ss = Eq(g, h)\n",
    "ss"
   ]
  }
 ],
 "metadata": {
  "interpreter": {
   "hash": "894588d70223105318f3a6143f469ff55b12e3d45628534b2f37efc006a33ec3"
  },
  "kernelspec": {
   "display_name": "Python 3.8.8 64-bit ('base': conda)",
   "language": "python",
   "name": "python3"
  },
  "language_info": {
   "codemirror_mode": {
    "name": "ipython",
    "version": 3
   },
   "file_extension": ".py",
   "mimetype": "text/x-python",
   "name": "python",
   "nbconvert_exporter": "python",
   "pygments_lexer": "ipython3",
   "version": "3.8.8"
  },
  "orig_nbformat": 4
 },
 "nbformat": 4,
 "nbformat_minor": 2
}
